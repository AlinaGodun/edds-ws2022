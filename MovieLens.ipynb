{
 "cells": [
  {
   "cell_type": "code",
   "execution_count": 1,
   "metadata": {},
   "outputs": [],
   "source": [
    "import pandas as pd\n",
    "import numpy as np\n",
    "import matplotlib.pyplot as plt\n",
    "import seaborn as sns\n",
    "import implicit"
   ]
  },
  {
   "cell_type": "code",
   "execution_count": 2,
   "metadata": {},
   "outputs": [],
   "source": [
    "from implicit.datasets.movielens import get_movielens\n",
    "from implicit.evaluation import leave_k_out_split"
   ]
  },
  {
   "cell_type": "markdown",
   "metadata": {},
   "source": [
    "### CV"
   ]
  },
  {
   "cell_type": "code",
   "execution_count": 3,
   "metadata": {},
   "outputs": [],
   "source": [
    "variant = \"1m\""
   ]
  },
  {
   "cell_type": "code",
   "execution_count": 4,
   "metadata": {},
   "outputs": [],
   "source": [
    "titles, ratings = get_movielens(variant)\n",
    "ratings = ratings.T"
   ]
  },
  {
   "cell_type": "code",
   "execution_count": 7,
   "metadata": {},
   "outputs": [],
   "source": [
    "col_names = [\"user_id\", \"movie_id\", \"rating\", \"matrix_position\"]\n",
    "ratings_df = pd.read_csv('./ml-1m/ratings.dat', delimiter='::', names=col_names, engine='python')"
   ]
  },
  {
   "cell_type": "code",
   "execution_count": 72,
   "metadata": {},
   "outputs": [
    {
     "data": {
      "text/plain": [
       "user_id\n",
       "1        53\n",
       "2       129\n",
       "3        51\n",
       "4        21\n",
       "5       198\n",
       "       ... \n",
       "6036    888\n",
       "6037    202\n",
       "6038     20\n",
       "6039    123\n",
       "6040    341\n",
       "Name: movie_id, Length: 6040, dtype: int64"
      ]
     },
     "execution_count": 72,
     "metadata": {},
     "output_type": "execute_result"
    }
   ],
   "source": [
    "ratings_df.groupby('user_id').movie_id.nunique()"
   ]
  },
  {
   "cell_type": "code",
   "execution_count": 90,
   "metadata": {},
   "outputs": [
    {
     "name": "stderr",
     "output_type": "stream",
     "text": [
      "/var/folders/tc/kb5gq8ms7xv2tdf3j0y_5yzh0000gn/T/ipykernel_17928/643428778.py:3: FutureWarning: The `inplace` parameter in pandas.Categorical.rename_categories is deprecated and will be removed in a future version. Removing unused categories will always return a new Categorical object.\n",
      "  popularity_cut.cat.rename_categories(labels, inplace=True)\n"
     ]
    },
    {
     "data": {
      "text/html": [
       "<div>\n",
       "<style scoped>\n",
       "    .dataframe tbody tr th:only-of-type {\n",
       "        vertical-align: middle;\n",
       "    }\n",
       "\n",
       "    .dataframe tbody tr th {\n",
       "        vertical-align: top;\n",
       "    }\n",
       "\n",
       "    .dataframe thead th {\n",
       "        text-align: right;\n",
       "    }\n",
       "</style>\n",
       "<table border=\"1\" class=\"dataframe\">\n",
       "  <thead>\n",
       "    <tr style=\"text-align: right;\">\n",
       "      <th></th>\n",
       "      <th>user_id</th>\n",
       "      <th>usage</th>\n",
       "    </tr>\n",
       "  </thead>\n",
       "  <tbody>\n",
       "    <tr>\n",
       "      <th>0</th>\n",
       "      <td>1</td>\n",
       "      <td>3</td>\n",
       "    </tr>\n",
       "    <tr>\n",
       "      <th>1</th>\n",
       "      <td>2</td>\n",
       "      <td>5</td>\n",
       "    </tr>\n",
       "    <tr>\n",
       "      <th>2</th>\n",
       "      <td>3</td>\n",
       "      <td>3</td>\n",
       "    </tr>\n",
       "    <tr>\n",
       "      <th>3</th>\n",
       "      <td>4</td>\n",
       "      <td>1</td>\n",
       "    </tr>\n",
       "    <tr>\n",
       "      <th>4</th>\n",
       "      <td>5</td>\n",
       "      <td>6</td>\n",
       "    </tr>\n",
       "    <tr>\n",
       "      <th>...</th>\n",
       "      <td>...</td>\n",
       "      <td>...</td>\n",
       "    </tr>\n",
       "    <tr>\n",
       "      <th>6035</th>\n",
       "      <td>6036</td>\n",
       "      <td>7</td>\n",
       "    </tr>\n",
       "    <tr>\n",
       "      <th>6036</th>\n",
       "      <td>6037</td>\n",
       "      <td>6</td>\n",
       "    </tr>\n",
       "    <tr>\n",
       "      <th>6037</th>\n",
       "      <td>6038</td>\n",
       "      <td>1</td>\n",
       "    </tr>\n",
       "    <tr>\n",
       "      <th>6038</th>\n",
       "      <td>6039</td>\n",
       "      <td>5</td>\n",
       "    </tr>\n",
       "    <tr>\n",
       "      <th>6039</th>\n",
       "      <td>6040</td>\n",
       "      <td>7</td>\n",
       "    </tr>\n",
       "  </tbody>\n",
       "</table>\n",
       "<p>6040 rows × 2 columns</p>\n",
       "</div>"
      ],
      "text/plain": [
       "      user_id usage\n",
       "0           1     3\n",
       "1           2     5\n",
       "2           3     3\n",
       "3           4     1\n",
       "4           5     6\n",
       "...       ...   ...\n",
       "6035     6036     7\n",
       "6036     6037     6\n",
       "6037     6038     1\n",
       "6038     6039     5\n",
       "6039     6040     7\n",
       "\n",
       "[6040 rows x 2 columns]"
      ]
     },
     "execution_count": 90,
     "metadata": {},
     "output_type": "execute_result"
    }
   ],
   "source": [
    "labels = list(range(1, 8))\n",
    "popularity_cut = pd.qcut(ratings_df.groupby('user_id').movie_id.nunique(), 7)\n",
    "popularity_cut.cat.rename_categories(labels, inplace=True)\n",
    "popularity_cut = pd.DataFrame(popularity_cut)\n",
    "popularity_cut = popularity_cut.reset_index(drop=False)\n",
    "popularity_cut.columns = ['user_id', 'usage']\n",
    "popularity_cut"
   ]
  },
  {
   "cell_type": "code",
   "execution_count": 97,
   "metadata": {},
   "outputs": [
    {
     "data": {
      "text/html": [
       "<div>\n",
       "<style scoped>\n",
       "    .dataframe tbody tr th:only-of-type {\n",
       "        vertical-align: middle;\n",
       "    }\n",
       "\n",
       "    .dataframe tbody tr th {\n",
       "        vertical-align: top;\n",
       "    }\n",
       "\n",
       "    .dataframe thead th {\n",
       "        text-align: right;\n",
       "    }\n",
       "</style>\n",
       "<table border=\"1\" class=\"dataframe\">\n",
       "  <thead>\n",
       "    <tr style=\"text-align: right;\">\n",
       "      <th></th>\n",
       "      <th>usage</th>\n",
       "      <th>user_id</th>\n",
       "    </tr>\n",
       "  </thead>\n",
       "  <tbody>\n",
       "    <tr>\n",
       "      <th>0</th>\n",
       "      <td>1</td>\n",
       "      <td>915</td>\n",
       "    </tr>\n",
       "    <tr>\n",
       "      <th>1</th>\n",
       "      <td>2</td>\n",
       "      <td>828</td>\n",
       "    </tr>\n",
       "    <tr>\n",
       "      <th>2</th>\n",
       "      <td>3</td>\n",
       "      <td>861</td>\n",
       "    </tr>\n",
       "    <tr>\n",
       "      <th>3</th>\n",
       "      <td>4</td>\n",
       "      <td>859</td>\n",
       "    </tr>\n",
       "    <tr>\n",
       "      <th>4</th>\n",
       "      <td>5</td>\n",
       "      <td>852</td>\n",
       "    </tr>\n",
       "    <tr>\n",
       "      <th>5</th>\n",
       "      <td>6</td>\n",
       "      <td>865</td>\n",
       "    </tr>\n",
       "    <tr>\n",
       "      <th>6</th>\n",
       "      <td>7</td>\n",
       "      <td>860</td>\n",
       "    </tr>\n",
       "  </tbody>\n",
       "</table>\n",
       "</div>"
      ],
      "text/plain": [
       "  usage  user_id\n",
       "0     1      915\n",
       "1     2      828\n",
       "2     3      861\n",
       "3     4      859\n",
       "4     5      852\n",
       "5     6      865\n",
       "6     7      860"
      ]
     },
     "execution_count": 97,
     "metadata": {},
     "output_type": "execute_result"
    }
   ],
   "source": [
    "popularity_cut_counts = pd.DataFrame(popularity_cut.groupby('usage').count())\n",
    "popularity_cut_counts = popularity_cut_counts.reset_index(drop=False)"
   ]
  },
  {
   "cell_type": "code",
   "execution_count": 5,
   "metadata": {},
   "outputs": [],
   "source": [
    "def get_divided_test_fold(ratings_df, test_index, sampling_rate=.2):\n",
    "    test_fold_df = ratings_df[ratings_df.user_id.isin(test_index)].copy()\n",
    "    test_df = test_fold_df.groupby('user_id').sample(frac=.2)\n",
    "    test_fold_df.loc[test_fold_df.matrix_position.isin(test_df.matrix_position), 'rating'] = 0\n",
    "    \n",
    "    return test_fold_df, test_df"
   ]
  },
  {
   "cell_type": "code",
   "execution_count": 123,
   "metadata": {},
   "outputs": [
    {
     "data": {
      "text/html": [
       "<div>\n",
       "<style scoped>\n",
       "    .dataframe tbody tr th:only-of-type {\n",
       "        vertical-align: middle;\n",
       "    }\n",
       "\n",
       "    .dataframe tbody tr th {\n",
       "        vertical-align: top;\n",
       "    }\n",
       "\n",
       "    .dataframe thead th {\n",
       "        text-align: right;\n",
       "    }\n",
       "</style>\n",
       "<table border=\"1\" class=\"dataframe\">\n",
       "  <thead>\n",
       "    <tr style=\"text-align: right;\">\n",
       "      <th></th>\n",
       "      <th>user_id</th>\n",
       "      <th>movie_id</th>\n",
       "      <th>rating</th>\n",
       "      <th>matrix_position</th>\n",
       "    </tr>\n",
       "  </thead>\n",
       "  <tbody>\n",
       "    <tr>\n",
       "      <th>0</th>\n",
       "      <td>1</td>\n",
       "      <td>1193</td>\n",
       "      <td>5</td>\n",
       "      <td>978300760</td>\n",
       "    </tr>\n",
       "    <tr>\n",
       "      <th>1</th>\n",
       "      <td>1</td>\n",
       "      <td>661</td>\n",
       "      <td>3</td>\n",
       "      <td>978302109</td>\n",
       "    </tr>\n",
       "    <tr>\n",
       "      <th>2</th>\n",
       "      <td>1</td>\n",
       "      <td>914</td>\n",
       "      <td>3</td>\n",
       "      <td>978301968</td>\n",
       "    </tr>\n",
       "    <tr>\n",
       "      <th>3</th>\n",
       "      <td>1</td>\n",
       "      <td>3408</td>\n",
       "      <td>4</td>\n",
       "      <td>978300275</td>\n",
       "    </tr>\n",
       "    <tr>\n",
       "      <th>4</th>\n",
       "      <td>1</td>\n",
       "      <td>2355</td>\n",
       "      <td>5</td>\n",
       "      <td>978824291</td>\n",
       "    </tr>\n",
       "    <tr>\n",
       "      <th>...</th>\n",
       "      <td>...</td>\n",
       "      <td>...</td>\n",
       "      <td>...</td>\n",
       "      <td>...</td>\n",
       "    </tr>\n",
       "    <tr>\n",
       "      <th>1000204</th>\n",
       "      <td>6040</td>\n",
       "      <td>1091</td>\n",
       "      <td>1</td>\n",
       "      <td>956716541</td>\n",
       "    </tr>\n",
       "    <tr>\n",
       "      <th>1000205</th>\n",
       "      <td>6040</td>\n",
       "      <td>1094</td>\n",
       "      <td>5</td>\n",
       "      <td>956704887</td>\n",
       "    </tr>\n",
       "    <tr>\n",
       "      <th>1000206</th>\n",
       "      <td>6040</td>\n",
       "      <td>562</td>\n",
       "      <td>5</td>\n",
       "      <td>956704746</td>\n",
       "    </tr>\n",
       "    <tr>\n",
       "      <th>1000207</th>\n",
       "      <td>6040</td>\n",
       "      <td>1096</td>\n",
       "      <td>4</td>\n",
       "      <td>956715648</td>\n",
       "    </tr>\n",
       "    <tr>\n",
       "      <th>1000208</th>\n",
       "      <td>6040</td>\n",
       "      <td>1097</td>\n",
       "      <td>4</td>\n",
       "      <td>956715569</td>\n",
       "    </tr>\n",
       "  </tbody>\n",
       "</table>\n",
       "<p>1000209 rows × 4 columns</p>\n",
       "</div>"
      ],
      "text/plain": [
       "         user_id  movie_id  rating  matrix_position\n",
       "0              1      1193       5        978300760\n",
       "1              1       661       3        978302109\n",
       "2              1       914       3        978301968\n",
       "3              1      3408       4        978300275\n",
       "4              1      2355       5        978824291\n",
       "...          ...       ...     ...              ...\n",
       "1000204     6040      1091       1        956716541\n",
       "1000205     6040      1094       5        956704887\n",
       "1000206     6040       562       5        956704746\n",
       "1000207     6040      1096       4        956715648\n",
       "1000208     6040      1097       4        956715569\n",
       "\n",
       "[1000209 rows x 4 columns]"
      ]
     },
     "execution_count": 123,
     "metadata": {},
     "output_type": "execute_result"
    }
   ],
   "source": [
    "ratings_df"
   ]
  },
  {
   "cell_type": "code",
   "execution_count": 52,
   "metadata": {},
   "outputs": [],
   "source": [
    "ndcg_dict_age = {}\n",
    "for a in users_reduced.age.unique():\n",
    "    ndcg_dict_age[a] = []\n",
    "\n",
    "ndcg_dict_gender = {}\n",
    "for g in users_reduced.gender.unique():\n",
    "    ndcg_dict_gender[g] = []\n",
    "\n",
    "ndcg_dict_usage = {}\n",
    "for g in range(1, 8):\n",
    "    ndcg_dict_usage[g] = []"
   ]
  },
  {
   "cell_type": "code",
   "execution_count": 91,
   "metadata": {},
   "outputs": [
    {
     "name": "stdout",
     "output_type": "stream",
     "text": [
      "Fold 0:\n",
      "  Train: index=(4832,)\n",
      "  Test:  index=(1209,)\n"
     ]
    },
    {
     "data": {
      "application/vnd.jupyter.widget-view+json": {
       "model_id": "c29907ce9b284ee7a602a99c27754fbe",
       "version_major": 2,
       "version_minor": 0
      },
      "text/plain": [
       "  0%|          | 0/15 [00:00<?, ?it/s]"
      ]
     },
     "metadata": {},
     "output_type": "display_data"
    },
    {
     "data": {
      "application/vnd.jupyter.widget-view+json": {
       "model_id": "1b1256cca41d47b089074e354c9e9b58",
       "version_major": 2,
       "version_minor": 0
      },
      "text/plain": [
       "  0%|          | 0/183 [00:00<?, ?it/s]"
      ]
     },
     "metadata": {},
     "output_type": "display_data"
    },
    {
     "data": {
      "application/vnd.jupyter.widget-view+json": {
       "model_id": "dda3a7cf54104001adcbeadddd21713f",
       "version_major": 2,
       "version_minor": 0
      },
      "text/plain": [
       "  0%|          | 0/170 [00:00<?, ?it/s]"
      ]
     },
     "metadata": {},
     "output_type": "display_data"
    },
    {
     "data": {
      "application/vnd.jupyter.widget-view+json": {
       "model_id": "d1349d3c8a7543f2a0d15547b2c571c4",
       "version_major": 2,
       "version_minor": 0
      },
      "text/plain": [
       "  0%|          | 0/182 [00:00<?, ?it/s]"
      ]
     },
     "metadata": {},
     "output_type": "display_data"
    },
    {
     "data": {
      "application/vnd.jupyter.widget-view+json": {
       "model_id": "c5477f282d4647acb54222b54b473894",
       "version_major": 2,
       "version_minor": 0
      },
      "text/plain": [
       "  0%|          | 0/177 [00:00<?, ?it/s]"
      ]
     },
     "metadata": {},
     "output_type": "display_data"
    },
    {
     "data": {
      "application/vnd.jupyter.widget-view+json": {
       "model_id": "9f1d5e56f55243a2b7770881263f61af",
       "version_major": 2,
       "version_minor": 0
      },
      "text/plain": [
       "  0%|          | 0/164 [00:00<?, ?it/s]"
      ]
     },
     "metadata": {},
     "output_type": "display_data"
    },
    {
     "data": {
      "application/vnd.jupyter.widget-view+json": {
       "model_id": "631316256f904e27887b963513df9c3f",
       "version_major": 2,
       "version_minor": 0
      },
      "text/plain": [
       "  0%|          | 0/171 [00:00<?, ?it/s]"
      ]
     },
     "metadata": {},
     "output_type": "display_data"
    },
    {
     "data": {
      "application/vnd.jupyter.widget-view+json": {
       "model_id": "803eb0196e5147d7945a70199b8c205c",
       "version_major": 2,
       "version_minor": 0
      },
      "text/plain": [
       "  0%|          | 0/162 [00:00<?, ?it/s]"
      ]
     },
     "metadata": {},
     "output_type": "display_data"
    },
    {
     "name": "stdout",
     "output_type": "stream",
     "text": [
      "Fold 1:\n",
      "  Train: index=(4833,)\n",
      "  Test:  index=(1208,)\n"
     ]
    },
    {
     "data": {
      "application/vnd.jupyter.widget-view+json": {
       "model_id": "0080ac026a4c46539fda513b9a17bbd3",
       "version_major": 2,
       "version_minor": 0
      },
      "text/plain": [
       "  0%|          | 0/15 [00:00<?, ?it/s]"
      ]
     },
     "metadata": {},
     "output_type": "display_data"
    },
    {
     "data": {
      "application/vnd.jupyter.widget-view+json": {
       "model_id": "1df58f0e8acd480f9d80e00497e81643",
       "version_major": 2,
       "version_minor": 0
      },
      "text/plain": [
       "  0%|          | 0/182 [00:00<?, ?it/s]"
      ]
     },
     "metadata": {},
     "output_type": "display_data"
    },
    {
     "data": {
      "application/vnd.jupyter.widget-view+json": {
       "model_id": "b190c951b1874464ac3272f1d6356523",
       "version_major": 2,
       "version_minor": 0
      },
      "text/plain": [
       "  0%|          | 0/157 [00:00<?, ?it/s]"
      ]
     },
     "metadata": {},
     "output_type": "display_data"
    },
    {
     "data": {
      "application/vnd.jupyter.widget-view+json": {
       "model_id": "6c266fa3597e4873b9279b9453af88cb",
       "version_major": 2,
       "version_minor": 0
      },
      "text/plain": [
       "  0%|          | 0/185 [00:00<?, ?it/s]"
      ]
     },
     "metadata": {},
     "output_type": "display_data"
    },
    {
     "data": {
      "application/vnd.jupyter.widget-view+json": {
       "model_id": "93ae30c9338f45f98f8df15f821b9770",
       "version_major": 2,
       "version_minor": 0
      },
      "text/plain": [
       "  0%|          | 0/180 [00:00<?, ?it/s]"
      ]
     },
     "metadata": {},
     "output_type": "display_data"
    },
    {
     "data": {
      "application/vnd.jupyter.widget-view+json": {
       "model_id": "b6e7fc16dd8b4c2c8d873625dc66fcba",
       "version_major": 2,
       "version_minor": 0
      },
      "text/plain": [
       "  0%|          | 0/164 [00:00<?, ?it/s]"
      ]
     },
     "metadata": {},
     "output_type": "display_data"
    },
    {
     "data": {
      "application/vnd.jupyter.widget-view+json": {
       "model_id": "a8741d9da01440a0a9dbfbd708bfb02f",
       "version_major": 2,
       "version_minor": 0
      },
      "text/plain": [
       "  0%|          | 0/165 [00:00<?, ?it/s]"
      ]
     },
     "metadata": {},
     "output_type": "display_data"
    },
    {
     "data": {
      "application/vnd.jupyter.widget-view+json": {
       "model_id": "86a2cff48a11438198e153134616d42f",
       "version_major": 2,
       "version_minor": 0
      },
      "text/plain": [
       "  0%|          | 0/175 [00:00<?, ?it/s]"
      ]
     },
     "metadata": {},
     "output_type": "display_data"
    },
    {
     "name": "stdout",
     "output_type": "stream",
     "text": [
      "Fold 2:\n",
      "  Train: index=(4833,)\n",
      "  Test:  index=(1208,)\n"
     ]
    },
    {
     "data": {
      "application/vnd.jupyter.widget-view+json": {
       "model_id": "016ae36c9a6a47dd95d6d90d019e2974",
       "version_major": 2,
       "version_minor": 0
      },
      "text/plain": [
       "  0%|          | 0/15 [00:00<?, ?it/s]"
      ]
     },
     "metadata": {},
     "output_type": "display_data"
    },
    {
     "data": {
      "application/vnd.jupyter.widget-view+json": {
       "model_id": "4b45e95ef2e94635bcb221ba73dc1e1c",
       "version_major": 2,
       "version_minor": 0
      },
      "text/plain": [
       "  0%|          | 0/196 [00:00<?, ?it/s]"
      ]
     },
     "metadata": {},
     "output_type": "display_data"
    },
    {
     "data": {
      "application/vnd.jupyter.widget-view+json": {
       "model_id": "82cf5c447edc46cf86e1f67f40f9c280",
       "version_major": 2,
       "version_minor": 0
      },
      "text/plain": [
       "  0%|          | 0/171 [00:00<?, ?it/s]"
      ]
     },
     "metadata": {},
     "output_type": "display_data"
    },
    {
     "data": {
      "application/vnd.jupyter.widget-view+json": {
       "model_id": "ee0fd9facc7c434ba0c0c2b52b787060",
       "version_major": 2,
       "version_minor": 0
      },
      "text/plain": [
       "  0%|          | 0/154 [00:00<?, ?it/s]"
      ]
     },
     "metadata": {},
     "output_type": "display_data"
    },
    {
     "data": {
      "application/vnd.jupyter.widget-view+json": {
       "model_id": "b2f11546374149ca9c37beaf31d7eebc",
       "version_major": 2,
       "version_minor": 0
      },
      "text/plain": [
       "  0%|          | 0/168 [00:00<?, ?it/s]"
      ]
     },
     "metadata": {},
     "output_type": "display_data"
    },
    {
     "data": {
      "application/vnd.jupyter.widget-view+json": {
       "model_id": "86dea0889e08479c9cecd48241ab6b56",
       "version_major": 2,
       "version_minor": 0
      },
      "text/plain": [
       "  0%|          | 0/174 [00:00<?, ?it/s]"
      ]
     },
     "metadata": {},
     "output_type": "display_data"
    },
    {
     "data": {
      "application/vnd.jupyter.widget-view+json": {
       "model_id": "82a4f3a26e28434586791802a1edf7b9",
       "version_major": 2,
       "version_minor": 0
      },
      "text/plain": [
       "  0%|          | 0/168 [00:00<?, ?it/s]"
      ]
     },
     "metadata": {},
     "output_type": "display_data"
    },
    {
     "data": {
      "application/vnd.jupyter.widget-view+json": {
       "model_id": "a5b22744ed6b48bc83e8bba59620b2dc",
       "version_major": 2,
       "version_minor": 0
      },
      "text/plain": [
       "  0%|          | 0/177 [00:00<?, ?it/s]"
      ]
     },
     "metadata": {},
     "output_type": "display_data"
    },
    {
     "name": "stdout",
     "output_type": "stream",
     "text": [
      "Fold 3:\n",
      "  Train: index=(4833,)\n",
      "  Test:  index=(1208,)\n"
     ]
    },
    {
     "data": {
      "application/vnd.jupyter.widget-view+json": {
       "model_id": "a7822f754ec94998861a5427604ea5a3",
       "version_major": 2,
       "version_minor": 0
      },
      "text/plain": [
       "  0%|          | 0/15 [00:00<?, ?it/s]"
      ]
     },
     "metadata": {},
     "output_type": "display_data"
    },
    {
     "data": {
      "application/vnd.jupyter.widget-view+json": {
       "model_id": "94b1a4e7558548a2b77ef4160d35674c",
       "version_major": 2,
       "version_minor": 0
      },
      "text/plain": [
       "  0%|          | 0/190 [00:00<?, ?it/s]"
      ]
     },
     "metadata": {},
     "output_type": "display_data"
    },
    {
     "data": {
      "application/vnd.jupyter.widget-view+json": {
       "model_id": "fbe9639a44924a8fbe4cf4cff990cb19",
       "version_major": 2,
       "version_minor": 0
      },
      "text/plain": [
       "  0%|          | 0/161 [00:00<?, ?it/s]"
      ]
     },
     "metadata": {},
     "output_type": "display_data"
    },
    {
     "data": {
      "application/vnd.jupyter.widget-view+json": {
       "model_id": "24868d8c7bc74f28af4ca380dfe847df",
       "version_major": 2,
       "version_minor": 0
      },
      "text/plain": [
       "  0%|          | 0/180 [00:00<?, ?it/s]"
      ]
     },
     "metadata": {},
     "output_type": "display_data"
    },
    {
     "data": {
      "application/vnd.jupyter.widget-view+json": {
       "model_id": "71136251fd9b467387ef40f27c8b508d",
       "version_major": 2,
       "version_minor": 0
      },
      "text/plain": [
       "  0%|          | 0/168 [00:00<?, ?it/s]"
      ]
     },
     "metadata": {},
     "output_type": "display_data"
    },
    {
     "data": {
      "application/vnd.jupyter.widget-view+json": {
       "model_id": "2e3fc6e768d54236bca635aea7cf75b1",
       "version_major": 2,
       "version_minor": 0
      },
      "text/plain": [
       "  0%|          | 0/169 [00:00<?, ?it/s]"
      ]
     },
     "metadata": {},
     "output_type": "display_data"
    },
    {
     "data": {
      "application/vnd.jupyter.widget-view+json": {
       "model_id": "e3b058f757df48e09ef3c46d7c56db4a",
       "version_major": 2,
       "version_minor": 0
      },
      "text/plain": [
       "  0%|          | 0/171 [00:00<?, ?it/s]"
      ]
     },
     "metadata": {},
     "output_type": "display_data"
    },
    {
     "data": {
      "application/vnd.jupyter.widget-view+json": {
       "model_id": "7826ceca92234abf85e901db1ed5b930",
       "version_major": 2,
       "version_minor": 0
      },
      "text/plain": [
       "  0%|          | 0/168 [00:00<?, ?it/s]"
      ]
     },
     "metadata": {},
     "output_type": "display_data"
    },
    {
     "name": "stdout",
     "output_type": "stream",
     "text": [
      "Fold 4:\n",
      "  Train: index=(4833,)\n",
      "  Test:  index=(1208,)\n"
     ]
    },
    {
     "data": {
      "application/vnd.jupyter.widget-view+json": {
       "model_id": "65496ba7935e485b8a38316803e496cb",
       "version_major": 2,
       "version_minor": 0
      },
      "text/plain": [
       "  0%|          | 0/15 [00:00<?, ?it/s]"
      ]
     },
     "metadata": {},
     "output_type": "display_data"
    },
    {
     "data": {
      "application/vnd.jupyter.widget-view+json": {
       "model_id": "c03b7fce04014a9ab46a49600bbe360e",
       "version_major": 2,
       "version_minor": 0
      },
      "text/plain": [
       "  0%|          | 0/164 [00:00<?, ?it/s]"
      ]
     },
     "metadata": {},
     "output_type": "display_data"
    },
    {
     "data": {
      "application/vnd.jupyter.widget-view+json": {
       "model_id": "1e4358881c35497f855bd06a610e563c",
       "version_major": 2,
       "version_minor": 0
      },
      "text/plain": [
       "  0%|          | 0/169 [00:00<?, ?it/s]"
      ]
     },
     "metadata": {},
     "output_type": "display_data"
    },
    {
     "data": {
      "application/vnd.jupyter.widget-view+json": {
       "model_id": "cab0686885564733a45217f38ed6f7ab",
       "version_major": 2,
       "version_minor": 0
      },
      "text/plain": [
       "  0%|          | 0/160 [00:00<?, ?it/s]"
      ]
     },
     "metadata": {},
     "output_type": "display_data"
    },
    {
     "data": {
      "application/vnd.jupyter.widget-view+json": {
       "model_id": "cd5269887ab9497c8060c6713ab71b3b",
       "version_major": 2,
       "version_minor": 0
      },
      "text/plain": [
       "  0%|          | 0/166 [00:00<?, ?it/s]"
      ]
     },
     "metadata": {},
     "output_type": "display_data"
    },
    {
     "data": {
      "application/vnd.jupyter.widget-view+json": {
       "model_id": "70f90643644f493facb8ef55179370de",
       "version_major": 2,
       "version_minor": 0
      },
      "text/plain": [
       "  0%|          | 0/181 [00:00<?, ?it/s]"
      ]
     },
     "metadata": {},
     "output_type": "display_data"
    },
    {
     "data": {
      "application/vnd.jupyter.widget-view+json": {
       "model_id": "a438094e6b2c482081907122ca18e880",
       "version_major": 2,
       "version_minor": 0
      },
      "text/plain": [
       "  0%|          | 0/190 [00:00<?, ?it/s]"
      ]
     },
     "metadata": {},
     "output_type": "display_data"
    },
    {
     "data": {
      "application/vnd.jupyter.widget-view+json": {
       "model_id": "6369108a9ace4cd3b4168978a17080d6",
       "version_major": 2,
       "version_minor": 0
      },
      "text/plain": [
       "  0%|          | 0/178 [00:00<?, ?it/s]"
      ]
     },
     "metadata": {},
     "output_type": "display_data"
    }
   ],
   "source": [
    "# divide ratings into 5 CV\n",
    "# 0th column is 0, since user ids start with 1\n",
    "from sklearn.model_selection import KFold\n",
    "from implicit.evaluation import ndcg_at_k\n",
    "from implicit.als import AlternatingLeastSquares\n",
    "\n",
    "kf = KFold(n_splits=5, random_state=12345, shuffle=True)\n",
    "\n",
    "for i, (train_index, test_index) in enumerate(kf.split(ratings)):\n",
    "    print(f\"Fold {i}:\")\n",
    "    print(f\"  Train: index={train_index.shape}\")\n",
    "    print(f\"  Test:  index={test_index.shape}\")\n",
    "    \n",
    "    # train data is divided into two parts\n",
    "    # in train_index, full user data is used for training\n",
    "    # in test_index, 80% of user data is used for training and the rest 20% is used for testing\n",
    "    test_train_df, test_test_df = get_divided_test_fold(ratings_df, test_index)\n",
    "\n",
    "    train_data = ratings.copy()\n",
    "    # blend out the 20% of test users data for testing\n",
    "    train_data[test_test_df.user_id, test_test_df.movie_id] = 0\n",
    "\n",
    "    # test data contains data used for training + 20% blended in train data\n",
    "    # test_data = ratings[test_index,]\n",
    "\n",
    "    model = AlternatingLeastSquares(factors=50, regularization=0.01)\n",
    "    model.fit(train_data)\n",
    "\n",
    "    test_test_df = test_test_df.merge(users_reduced, how='left', on='user_id')\n",
    "    test_test_df = test_test_df.merge(popularity_cut, how='left', on='user_id')\n",
    "\n",
    "    # for a in users_reduced.age.unique():\n",
    "    #     test_data = ratings[test_test_df[test_test_df.age == a].user_id.unique()]\n",
    "    #     ndcg_dict_age[a].append(ndcg_at_k(model, train_data, test_data, K=10))\n",
    "\n",
    "    # for g in users_reduced.gender.unique():\n",
    "    #     test_data = ratings[test_test_df[test_test_df.gender == g].user_id.unique()]\n",
    "    #     ndcg_dict_gender[g].append(ndcg_at_k(model, train_data, test_data, K=10))\n",
    "\n",
    "    for g in range(1, 8):\n",
    "        test_data = ratings[test_test_df[test_test_df.usage == g].user_id.unique()]\n",
    "        ndcg_dict_usage[g].append(ndcg_at_k(model, train_data, test_data, K=10))\n",
    "\n",
    "    # ndcg = ndcg_at_k(model, train_data, test_data, K=10)\n",
    "    # print(f'ndcg: {ndcg}')\n",
    "\n",
    "\n"
   ]
  },
  {
   "cell_type": "code",
   "execution_count": 122,
   "metadata": {},
   "outputs": [
    {
     "data": {
      "text/plain": [
       "{1: [0.15380258466102842,\n",
       "  0.2072596099210468,\n",
       "  0.18594233470577334,\n",
       "  0.18096749907453802,\n",
       "  0.2431262387432107],\n",
       " 56: [0.1321470627605913,\n",
       "  0.13490025899757124,\n",
       "  0.14375697931640335,\n",
       "  0.10414046384655128,\n",
       "  0.19905685793925623],\n",
       " 25: [0.2601875014391819,\n",
       "  0.27913542950378356,\n",
       "  0.2718297913508741,\n",
       "  0.2535803955152815,\n",
       "  0.2779942046778636],\n",
       " 45: [0.19847964943257262,\n",
       "  0.20087776927064188,\n",
       "  0.17849244164921607,\n",
       "  0.24295278670376574,\n",
       "  0.2386205692245304],\n",
       " 50: [0.1859684331250786,\n",
       "  0.14914221277402406,\n",
       "  0.1953803519937174,\n",
       "  0.23165901934003852,\n",
       "  0.23251831845902798],\n",
       " 35: [0.2175680591541483,\n",
       "  0.2230571368707836,\n",
       "  0.2181128134629776,\n",
       "  0.26028513864251057,\n",
       "  0.23005872481717643],\n",
       " 18: [0.26965477412154815,\n",
       "  0.23677332457729147,\n",
       "  0.26539902718217073,\n",
       "  0.2395874943317941,\n",
       "  0.2086602061162775]}"
      ]
     },
     "execution_count": 122,
     "metadata": {},
     "output_type": "execute_result"
    }
   ],
   "source": [
    "ndcg_dict_age"
   ]
  },
  {
   "cell_type": "code",
   "execution_count": 109,
   "metadata": {},
   "outputs": [],
   "source": [
    "from scipy import stats"
   ]
  },
  {
   "cell_type": "code",
   "execution_count": 105,
   "metadata": {},
   "outputs": [
    {
     "data": {
      "text/html": [
       "<div>\n",
       "<style scoped>\n",
       "    .dataframe tbody tr th:only-of-type {\n",
       "        vertical-align: middle;\n",
       "    }\n",
       "\n",
       "    .dataframe tbody tr th {\n",
       "        vertical-align: top;\n",
       "    }\n",
       "\n",
       "    .dataframe thead th {\n",
       "        text-align: right;\n",
       "    }\n",
       "</style>\n",
       "<table border=\"1\" class=\"dataframe\">\n",
       "  <thead>\n",
       "    <tr style=\"text-align: right;\">\n",
       "      <th></th>\n",
       "      <th>1</th>\n",
       "      <th>56</th>\n",
       "      <th>25</th>\n",
       "      <th>45</th>\n",
       "      <th>50</th>\n",
       "      <th>35</th>\n",
       "      <th>18</th>\n",
       "    </tr>\n",
       "  </thead>\n",
       "  <tbody>\n",
       "    <tr>\n",
       "      <th>0</th>\n",
       "      <td>0.153803</td>\n",
       "      <td>0.132147</td>\n",
       "      <td>0.260188</td>\n",
       "      <td>0.198480</td>\n",
       "      <td>0.185968</td>\n",
       "      <td>0.217568</td>\n",
       "      <td>0.269655</td>\n",
       "    </tr>\n",
       "    <tr>\n",
       "      <th>1</th>\n",
       "      <td>0.207260</td>\n",
       "      <td>0.134900</td>\n",
       "      <td>0.279135</td>\n",
       "      <td>0.200878</td>\n",
       "      <td>0.149142</td>\n",
       "      <td>0.223057</td>\n",
       "      <td>0.236773</td>\n",
       "    </tr>\n",
       "    <tr>\n",
       "      <th>2</th>\n",
       "      <td>0.185942</td>\n",
       "      <td>0.143757</td>\n",
       "      <td>0.271830</td>\n",
       "      <td>0.178492</td>\n",
       "      <td>0.195380</td>\n",
       "      <td>0.218113</td>\n",
       "      <td>0.265399</td>\n",
       "    </tr>\n",
       "    <tr>\n",
       "      <th>3</th>\n",
       "      <td>0.180967</td>\n",
       "      <td>0.104140</td>\n",
       "      <td>0.253580</td>\n",
       "      <td>0.242953</td>\n",
       "      <td>0.231659</td>\n",
       "      <td>0.260285</td>\n",
       "      <td>0.239587</td>\n",
       "    </tr>\n",
       "    <tr>\n",
       "      <th>4</th>\n",
       "      <td>0.243126</td>\n",
       "      <td>0.199057</td>\n",
       "      <td>0.277994</td>\n",
       "      <td>0.238621</td>\n",
       "      <td>0.232518</td>\n",
       "      <td>0.230059</td>\n",
       "      <td>0.208660</td>\n",
       "    </tr>\n",
       "  </tbody>\n",
       "</table>\n",
       "</div>"
      ],
      "text/plain": [
       "         1         56        25        45        50        35        18\n",
       "0  0.153803  0.132147  0.260188  0.198480  0.185968  0.217568  0.269655\n",
       "1  0.207260  0.134900  0.279135  0.200878  0.149142  0.223057  0.236773\n",
       "2  0.185942  0.143757  0.271830  0.178492  0.195380  0.218113  0.265399\n",
       "3  0.180967  0.104140  0.253580  0.242953  0.231659  0.260285  0.239587\n",
       "4  0.243126  0.199057  0.277994  0.238621  0.232518  0.230059  0.208660"
      ]
     },
     "execution_count": 105,
     "metadata": {},
     "output_type": "execute_result"
    }
   ],
   "source": [
    "df_ndcg_age = pd.DataFrame(ndcg_dict_age)\n",
    "df_ndcg_age = pd.DataFrame(df_ndcg_age.mean())\n",
    "df_ndcg_age = df_ndcg_age.reset_index(drop=False)\n",
    "df_ndcg_age.columns = ['age', 'ndcg']\n",
    "df_ndcg_age"
   ]
  },
  {
   "cell_type": "code",
   "execution_count": 124,
   "metadata": {},
   "outputs": [
    {
     "data": {
      "text/plain": [
       "KruskalResult(statistic=22.723809523809535, pvalue=0.0008944599961842898)"
      ]
     },
     "execution_count": 124,
     "metadata": {},
     "output_type": "execute_result"
    }
   ],
   "source": [
    "age_list = list(ndcg_dict_age.values())\n",
    "# stats.kruskal(age_list[0], age_list[1], age_list[2], age_list[3], age_list[4], age_list[5],age_list[6])\n",
    "stats.kruskal(*age_list)"
   ]
  },
  {
   "cell_type": "code",
   "execution_count": 56,
   "metadata": {},
   "outputs": [],
   "source": [
    "df_ndcg_gender = pd.DataFrame(ndcg_dict_gender)\n",
    "df_ndcg_gender = pd.DataFrame(df_ndcg_gender.mean())\n",
    "df_ndcg_gender = df_ndcg_gender.reset_index(drop=False)\n",
    "df_ndcg_gender.columns = ['age', 'ndcg']"
   ]
  },
  {
   "cell_type": "code",
   "execution_count": 120,
   "metadata": {},
   "outputs": [
    {
     "data": {
      "text/plain": [
       "KruskalResult(statistic=6.818181818181813, pvalue=0.009023438818080334)"
      ]
     },
     "execution_count": 120,
     "metadata": {},
     "output_type": "execute_result"
    }
   ],
   "source": [
    "gender_list = list(ndcg_dict_gender.values())\n",
    "stats.kruskal(gender_list[0], gender_list[1])"
   ]
  },
  {
   "cell_type": "code",
   "execution_count": 93,
   "metadata": {},
   "outputs": [],
   "source": [
    "df_ndcg_usage = pd.DataFrame(ndcg_dict_usage)\n",
    "df_ndcg_usage = pd.DataFrame(df_ndcg_usage.mean())\n",
    "df_ndcg_usage = df_ndcg_usage.reset_index(drop=False)\n",
    "df_ndcg_usage.columns = ['age', 'ndcg']"
   ]
  },
  {
   "cell_type": "code",
   "execution_count": 121,
   "metadata": {},
   "outputs": [
    {
     "data": {
      "text/plain": [
       "KruskalResult(statistic=33.33333333333334, pvalue=9.045386293179479e-06)"
      ]
     },
     "execution_count": 121,
     "metadata": {},
     "output_type": "execute_result"
    }
   ],
   "source": [
    "usage_list = list(ndcg_dict_usage.values())\n",
    "stats.kruskal(usage_list[0], usage_list[1], usage_list[2], usage_list[3], usage_list[4], usage_list[5],usage_list[6])"
   ]
  },
  {
   "cell_type": "code",
   "execution_count": 48,
   "metadata": {},
   "outputs": [
    {
     "data": {
      "text/html": [
       "<div>\n",
       "<style scoped>\n",
       "    .dataframe tbody tr th:only-of-type {\n",
       "        vertical-align: middle;\n",
       "    }\n",
       "\n",
       "    .dataframe tbody tr th {\n",
       "        vertical-align: top;\n",
       "    }\n",
       "\n",
       "    .dataframe thead th {\n",
       "        text-align: right;\n",
       "    }\n",
       "</style>\n",
       "<table border=\"1\" class=\"dataframe\">\n",
       "  <thead>\n",
       "    <tr style=\"text-align: right;\">\n",
       "      <th></th>\n",
       "      <th>age</th>\n",
       "      <th>ndcg</th>\n",
       "    </tr>\n",
       "  </thead>\n",
       "  <tbody>\n",
       "    <tr>\n",
       "      <th>0</th>\n",
       "      <td>1</td>\n",
       "      <td>0.189213</td>\n",
       "    </tr>\n",
       "    <tr>\n",
       "      <th>1</th>\n",
       "      <td>56</td>\n",
       "      <td>0.142301</td>\n",
       "    </tr>\n",
       "    <tr>\n",
       "      <th>2</th>\n",
       "      <td>25</td>\n",
       "      <td>0.268928</td>\n",
       "    </tr>\n",
       "    <tr>\n",
       "      <th>3</th>\n",
       "      <td>45</td>\n",
       "      <td>0.209240</td>\n",
       "    </tr>\n",
       "    <tr>\n",
       "      <th>4</th>\n",
       "      <td>50</td>\n",
       "      <td>0.194821</td>\n",
       "    </tr>\n",
       "    <tr>\n",
       "      <th>5</th>\n",
       "      <td>35</td>\n",
       "      <td>0.231203</td>\n",
       "    </tr>\n",
       "    <tr>\n",
       "      <th>6</th>\n",
       "      <td>18</td>\n",
       "      <td>0.245899</td>\n",
       "    </tr>\n",
       "  </tbody>\n",
       "</table>\n",
       "</div>"
      ],
      "text/plain": [
       "   age      ndcg\n",
       "0    1  0.189213\n",
       "1   56  0.142301\n",
       "2   25  0.268928\n",
       "3   45  0.209240\n",
       "4   50  0.194821\n",
       "5   35  0.231203\n",
       "6   18  0.245899"
      ]
     },
     "execution_count": 48,
     "metadata": {},
     "output_type": "execute_result"
    }
   ],
   "source": [
    "df_ndcg_age"
   ]
  },
  {
   "cell_type": "code",
   "execution_count": 58,
   "metadata": {},
   "outputs": [
    {
     "data": {
      "text/plain": [
       "<AxesSubplot: title={'center': 'Distribution of ndcg per gender'}, xlabel='age', ylabel='ndcg'>"
      ]
     },
     "execution_count": 58,
     "metadata": {},
     "output_type": "execute_result"
    },
    {
     "data": {
      "image/png": "[encoded data removed]",
      "text/plain": [
       "<Figure size 2000x600 with 2 Axes>"
      ]
     },
     "metadata": {},
     "output_type": "display_data"
    }
   ],
   "source": [
    "_, ax = plt.subplots(1, 2, figsize=(20, 6))\n",
    "sns.despine()\n",
    "\n",
    "ax[0].set_title('Distribution of ndcg per age')\n",
    "ax[0].set_ylim((0, 0.5))\n",
    "sns.barplot(data=df_ndcg_age, x='age', y='ndcg', color='grey', ax=ax[0])\n",
    "ax[0].set_xticks(list(range(0, len(age_bins))), labels=age_labels)\n",
    "\n",
    "ax[1].set_title('Distribution of ndcg per gender')\n",
    "ax[1].set_ylim((0, 0.5))\n",
    "sns.barplot(data=df_ndcg_gender, x='age', y='ndcg', color='grey', ax=ax[1])"
   ]
  },
  {
   "cell_type": "code",
   "execution_count": 103,
   "metadata": {},
   "outputs": [],
   "source": [
    "popularity_cut_counts['percentage'] = popularity_cut_counts.user_id / popularity_cut_counts.user_id.sum()"
   ]
  },
  {
   "cell_type": "code",
   "execution_count": 104,
   "metadata": {},
   "outputs": [
    {
     "data": {
      "text/plain": [
       "<AxesSubplot: title={'center': 'Distribution of ndcg per usage'}, xlabel='age', ylabel='ndcg'>"
      ]
     },
     "execution_count": 104,
     "metadata": {},
     "output_type": "execute_result"
    },
    {
     "data": {
      "image/png": "[encoded data removed]",
      "text/plain": [
       "<Figure size 2000x600 with 2 Axes>"
      ]
     },
     "metadata": {},
     "output_type": "display_data"
    }
   ],
   "source": [
    "_, ax = plt.subplots(1, 2, figsize=(20, 6))\n",
    "sns.despine()\n",
    "\n",
    "ax[0].set_title('Distribution of users per usage group')\n",
    "sns.barplot(data=popularity_cut_counts, x='usage', y='percentage', color='grey', ax=ax[0], )\n",
    "\n",
    "ax[1].set_title('Distribution of ndcg per usage')\n",
    "ax[1].set_ylim((0, 0.5))\n",
    "sns.barplot(data=df_ndcg_usage, x='age', y='ndcg', color='grey', ax=ax[1])"
   ]
  },
  {
   "cell_type": "code",
   "execution_count": 27,
   "metadata": {},
   "outputs": [
    {
     "data": {
      "text/html": [
       "<div>\n",
       "<style scoped>\n",
       "    .dataframe tbody tr th:only-of-type {\n",
       "        vertical-align: middle;\n",
       "    }\n",
       "\n",
       "    .dataframe tbody tr th {\n",
       "        vertical-align: top;\n",
       "    }\n",
       "\n",
       "    .dataframe thead th {\n",
       "        text-align: right;\n",
       "    }\n",
       "</style>\n",
       "<table border=\"1\" class=\"dataframe\">\n",
       "  <thead>\n",
       "    <tr style=\"text-align: right;\">\n",
       "      <th></th>\n",
       "      <th>user_id</th>\n",
       "      <th>movie_id</th>\n",
       "      <th>rating</th>\n",
       "      <th>matrix_position</th>\n",
       "      <th>gender</th>\n",
       "      <th>age</th>\n",
       "    </tr>\n",
       "  </thead>\n",
       "  <tbody>\n",
       "    <tr>\n",
       "      <th>0</th>\n",
       "      <td>4</td>\n",
       "      <td>3468</td>\n",
       "      <td>5</td>\n",
       "      <td>978294008</td>\n",
       "      <td>M</td>\n",
       "      <td>45</td>\n",
       "    </tr>\n",
       "    <tr>\n",
       "      <th>1</th>\n",
       "      <td>4</td>\n",
       "      <td>3418</td>\n",
       "      <td>4</td>\n",
       "      <td>978294260</td>\n",
       "      <td>M</td>\n",
       "      <td>45</td>\n",
       "    </tr>\n",
       "    <tr>\n",
       "      <th>2</th>\n",
       "      <td>4</td>\n",
       "      <td>3702</td>\n",
       "      <td>4</td>\n",
       "      <td>978294260</td>\n",
       "      <td>M</td>\n",
       "      <td>45</td>\n",
       "    </tr>\n",
       "    <tr>\n",
       "      <th>3</th>\n",
       "      <td>4</td>\n",
       "      <td>1036</td>\n",
       "      <td>4</td>\n",
       "      <td>978294282</td>\n",
       "      <td>M</td>\n",
       "      <td>45</td>\n",
       "    </tr>\n",
       "    <tr>\n",
       "      <th>4</th>\n",
       "      <td>5</td>\n",
       "      <td>1429</td>\n",
       "      <td>3</td>\n",
       "      <td>978245829</td>\n",
       "      <td>M</td>\n",
       "      <td>25</td>\n",
       "    </tr>\n",
       "    <tr>\n",
       "      <th>...</th>\n",
       "      <td>...</td>\n",
       "      <td>...</td>\n",
       "      <td>...</td>\n",
       "      <td>...</td>\n",
       "      <td>...</td>\n",
       "      <td>...</td>\n",
       "    </tr>\n",
       "    <tr>\n",
       "      <th>41242</th>\n",
       "      <td>6029</td>\n",
       "      <td>3549</td>\n",
       "      <td>5</td>\n",
       "      <td>956721780</td>\n",
       "      <td>F</td>\n",
       "      <td>25</td>\n",
       "    </tr>\n",
       "    <tr>\n",
       "      <th>41243</th>\n",
       "      <td>6029</td>\n",
       "      <td>3546</td>\n",
       "      <td>5</td>\n",
       "      <td>956721930</td>\n",
       "      <td>F</td>\n",
       "      <td>25</td>\n",
       "    </tr>\n",
       "    <tr>\n",
       "      <th>41244</th>\n",
       "      <td>6029</td>\n",
       "      <td>3499</td>\n",
       "      <td>4</td>\n",
       "      <td>956721880</td>\n",
       "      <td>F</td>\n",
       "      <td>25</td>\n",
       "    </tr>\n",
       "    <tr>\n",
       "      <th>41245</th>\n",
       "      <td>6029</td>\n",
       "      <td>3552</td>\n",
       "      <td>2</td>\n",
       "      <td>956721732</td>\n",
       "      <td>F</td>\n",
       "      <td>25</td>\n",
       "    </tr>\n",
       "    <tr>\n",
       "      <th>41246</th>\n",
       "      <td>6029</td>\n",
       "      <td>899</td>\n",
       "      <td>5</td>\n",
       "      <td>956721639</td>\n",
       "      <td>F</td>\n",
       "      <td>25</td>\n",
       "    </tr>\n",
       "  </tbody>\n",
       "</table>\n",
       "<p>41247 rows × 6 columns</p>\n",
       "</div>"
      ],
      "text/plain": [
       "       user_id  movie_id  rating  matrix_position gender  age\n",
       "0            4      3468       5        978294008      M   45\n",
       "1            4      3418       4        978294260      M   45\n",
       "2            4      3702       4        978294260      M   45\n",
       "3            4      1036       4        978294282      M   45\n",
       "4            5      1429       3        978245829      M   25\n",
       "...        ...       ...     ...              ...    ...  ...\n",
       "41242     6029      3549       5        956721780      F   25\n",
       "41243     6029      3546       5        956721930      F   25\n",
       "41244     6029      3499       4        956721880      F   25\n",
       "41245     6029      3552       2        956721732      F   25\n",
       "41246     6029       899       5        956721639      F   25\n",
       "\n",
       "[41247 rows x 6 columns]"
      ]
     },
     "execution_count": 27,
     "metadata": {},
     "output_type": "execute_result"
    }
   ],
   "source": [
    "test_test_df"
   ]
  },
  {
   "cell_type": "code",
   "execution_count": 30,
   "metadata": {},
   "outputs": [
    {
     "data": {
      "text/plain": [
       "<447x3953 sparse matrix of type '<class 'numpy.float32'>'\n",
       "\twith 86065 stored elements in Compressed Sparse Column format>"
      ]
     },
     "execution_count": 30,
     "metadata": {},
     "output_type": "execute_result"
    }
   ],
   "source": [
    "ratings[test_test_df[test_test_df.age == 25].user_id.unique()]"
   ]
  },
  {
   "cell_type": "code",
   "execution_count": 29,
   "metadata": {},
   "outputs": [
    {
     "data": {
      "text/plain": [
       "<1208x3953 sparse matrix of type '<class 'numpy.float32'>'\n",
       "\twith 206264 stored elements in Compressed Sparse Column format>"
      ]
     },
     "execution_count": 29,
     "metadata": {},
     "output_type": "execute_result"
    }
   ],
   "source": [
    "test_data"
   ]
  },
  {
   "cell_type": "code",
   "execution_count": 21,
   "metadata": {},
   "outputs": [
    {
     "data": {
      "text/html": [
       "<div>\n",
       "<style scoped>\n",
       "    .dataframe tbody tr th:only-of-type {\n",
       "        vertical-align: middle;\n",
       "    }\n",
       "\n",
       "    .dataframe tbody tr th {\n",
       "        vertical-align: top;\n",
       "    }\n",
       "\n",
       "    .dataframe thead th {\n",
       "        text-align: right;\n",
       "    }\n",
       "</style>\n",
       "<table border=\"1\" class=\"dataframe\">\n",
       "  <thead>\n",
       "    <tr style=\"text-align: right;\">\n",
       "      <th></th>\n",
       "      <th>user_id</th>\n",
       "      <th>movie_id</th>\n",
       "      <th>rating</th>\n",
       "      <th>matrix_position</th>\n",
       "    </tr>\n",
       "  </thead>\n",
       "  <tbody>\n",
       "    <tr>\n",
       "      <th>233</th>\n",
       "      <td>4</td>\n",
       "      <td>3468</td>\n",
       "      <td>5</td>\n",
       "      <td>978294008</td>\n",
       "    </tr>\n",
       "    <tr>\n",
       "      <th>245</th>\n",
       "      <td>4</td>\n",
       "      <td>3418</td>\n",
       "      <td>4</td>\n",
       "      <td>978294260</td>\n",
       "    </tr>\n",
       "    <tr>\n",
       "      <th>246</th>\n",
       "      <td>4</td>\n",
       "      <td>3702</td>\n",
       "      <td>4</td>\n",
       "      <td>978294260</td>\n",
       "    </tr>\n",
       "    <tr>\n",
       "      <th>237</th>\n",
       "      <td>4</td>\n",
       "      <td>1036</td>\n",
       "      <td>4</td>\n",
       "      <td>978294282</td>\n",
       "    </tr>\n",
       "    <tr>\n",
       "      <th>354</th>\n",
       "      <td>5</td>\n",
       "      <td>1429</td>\n",
       "      <td>3</td>\n",
       "      <td>978245829</td>\n",
       "    </tr>\n",
       "    <tr>\n",
       "      <th>...</th>\n",
       "      <td>...</td>\n",
       "      <td>...</td>\n",
       "      <td>...</td>\n",
       "      <td>...</td>\n",
       "    </tr>\n",
       "    <tr>\n",
       "      <th>997989</th>\n",
       "      <td>6029</td>\n",
       "      <td>3549</td>\n",
       "      <td>5</td>\n",
       "      <td>956721780</td>\n",
       "    </tr>\n",
       "    <tr>\n",
       "      <th>997987</th>\n",
       "      <td>6029</td>\n",
       "      <td>3546</td>\n",
       "      <td>5</td>\n",
       "      <td>956721930</td>\n",
       "    </tr>\n",
       "    <tr>\n",
       "      <th>997977</th>\n",
       "      <td>6029</td>\n",
       "      <td>3499</td>\n",
       "      <td>4</td>\n",
       "      <td>956721880</td>\n",
       "    </tr>\n",
       "    <tr>\n",
       "      <th>997991</th>\n",
       "      <td>6029</td>\n",
       "      <td>3552</td>\n",
       "      <td>2</td>\n",
       "      <td>956721732</td>\n",
       "    </tr>\n",
       "    <tr>\n",
       "      <th>998002</th>\n",
       "      <td>6029</td>\n",
       "      <td>899</td>\n",
       "      <td>5</td>\n",
       "      <td>956721639</td>\n",
       "    </tr>\n",
       "  </tbody>\n",
       "</table>\n",
       "<p>41247 rows × 4 columns</p>\n",
       "</div>"
      ],
      "text/plain": [
       "        user_id  movie_id  rating  matrix_position\n",
       "233           4      3468       5        978294008\n",
       "245           4      3418       4        978294260\n",
       "246           4      3702       4        978294260\n",
       "237           4      1036       4        978294282\n",
       "354           5      1429       3        978245829\n",
       "...         ...       ...     ...              ...\n",
       "997989     6029      3549       5        956721780\n",
       "997987     6029      3546       5        956721930\n",
       "997977     6029      3499       4        956721880\n",
       "997991     6029      3552       2        956721732\n",
       "998002     6029       899       5        956721639\n",
       "\n",
       "[41247 rows x 4 columns]"
      ]
     },
     "execution_count": 21,
     "metadata": {},
     "output_type": "execute_result"
    }
   ],
   "source": [
    "test_test_df"
   ]
  },
  {
   "cell_type": "markdown",
   "metadata": {},
   "source": [
    "#### Blending data in test fold "
   ]
  },
  {
   "cell_type": "code",
   "execution_count": 163,
   "metadata": {},
   "outputs": [],
   "source": [
    "test_fold_df = ratings_df[ratings_df.user_id.isin(test_index)].copy()\n",
    "test_df = test_fold_df.groupby('user_id').sample(frac=.2)\n",
    "test_fold_df.loc[test_fold_df.matrix_position.isin(test_df.matrix_position), 'rating'] = 0"
   ]
  },
  {
   "cell_type": "code",
   "execution_count": 164,
   "metadata": {},
   "outputs": [
    {
     "data": {
      "text/html": [
       "<div>\n",
       "<style scoped>\n",
       "    .dataframe tbody tr th:only-of-type {\n",
       "        vertical-align: middle;\n",
       "    }\n",
       "\n",
       "    .dataframe tbody tr th {\n",
       "        vertical-align: top;\n",
       "    }\n",
       "\n",
       "    .dataframe thead th {\n",
       "        text-align: right;\n",
       "    }\n",
       "</style>\n",
       "<table border=\"1\" class=\"dataframe\">\n",
       "  <thead>\n",
       "    <tr style=\"text-align: right;\">\n",
       "      <th></th>\n",
       "      <th>user_id</th>\n",
       "      <th>movie_id</th>\n",
       "      <th>rating</th>\n",
       "      <th>matrix_position</th>\n",
       "    </tr>\n",
       "  </thead>\n",
       "  <tbody>\n",
       "    <tr>\n",
       "      <th>236</th>\n",
       "      <td>4</td>\n",
       "      <td>1214</td>\n",
       "      <td>0</td>\n",
       "      <td>978294260</td>\n",
       "    </tr>\n",
       "    <tr>\n",
       "      <th>238</th>\n",
       "      <td>4</td>\n",
       "      <td>260</td>\n",
       "      <td>0</td>\n",
       "      <td>978294199</td>\n",
       "    </tr>\n",
       "    <tr>\n",
       "      <th>239</th>\n",
       "      <td>4</td>\n",
       "      <td>2028</td>\n",
       "      <td>0</td>\n",
       "      <td>978294230</td>\n",
       "    </tr>\n",
       "    <tr>\n",
       "      <th>241</th>\n",
       "      <td>4</td>\n",
       "      <td>1196</td>\n",
       "      <td>0</td>\n",
       "      <td>978294199</td>\n",
       "    </tr>\n",
       "    <tr>\n",
       "      <th>242</th>\n",
       "      <td>4</td>\n",
       "      <td>1198</td>\n",
       "      <td>0</td>\n",
       "      <td>978294199</td>\n",
       "    </tr>\n",
       "    <tr>\n",
       "      <th>...</th>\n",
       "      <td>...</td>\n",
       "      <td>...</td>\n",
       "      <td>...</td>\n",
       "      <td>...</td>\n",
       "    </tr>\n",
       "    <tr>\n",
       "      <th>997991</th>\n",
       "      <td>6029</td>\n",
       "      <td>3552</td>\n",
       "      <td>0</td>\n",
       "      <td>956721732</td>\n",
       "    </tr>\n",
       "    <tr>\n",
       "      <th>997995</th>\n",
       "      <td>6029</td>\n",
       "      <td>3584</td>\n",
       "      <td>0</td>\n",
       "      <td>956721732</td>\n",
       "    </tr>\n",
       "    <tr>\n",
       "      <th>997997</th>\n",
       "      <td>6029</td>\n",
       "      <td>3591</td>\n",
       "      <td>0</td>\n",
       "      <td>956721880</td>\n",
       "    </tr>\n",
       "    <tr>\n",
       "      <th>997998</th>\n",
       "      <td>6029</td>\n",
       "      <td>1210</td>\n",
       "      <td>0</td>\n",
       "      <td>956721594</td>\n",
       "    </tr>\n",
       "    <tr>\n",
       "      <th>998000</th>\n",
       "      <td>6029</td>\n",
       "      <td>2628</td>\n",
       "      <td>0</td>\n",
       "      <td>956722153</td>\n",
       "    </tr>\n",
       "  </tbody>\n",
       "</table>\n",
       "<p>98252 rows × 4 columns</p>\n",
       "</div>"
      ],
      "text/plain": [
       "        user_id  movie_id  rating  matrix_position\n",
       "236           4      1214       0        978294260\n",
       "238           4       260       0        978294199\n",
       "239           4      2028       0        978294230\n",
       "241           4      1196       0        978294199\n",
       "242           4      1198       0        978294199\n",
       "...         ...       ...     ...              ...\n",
       "997991     6029      3552       0        956721732\n",
       "997995     6029      3584       0        956721732\n",
       "997997     6029      3591       0        956721880\n",
       "997998     6029      1210       0        956721594\n",
       "998000     6029      2628       0        956722153\n",
       "\n",
       "[98252 rows x 4 columns]"
      ]
     },
     "execution_count": 164,
     "metadata": {},
     "output_type": "execute_result"
    }
   ],
   "source": [
    "test_fold_df.loc[test_fold_df.matrix_position.isin(test_df.matrix_position), :]"
   ]
  },
  {
   "cell_type": "code",
   "execution_count": 165,
   "metadata": {},
   "outputs": [
    {
     "data": {
      "text/html": [
       "<div>\n",
       "<style scoped>\n",
       "    .dataframe tbody tr th:only-of-type {\n",
       "        vertical-align: middle;\n",
       "    }\n",
       "\n",
       "    .dataframe tbody tr th {\n",
       "        vertical-align: top;\n",
       "    }\n",
       "\n",
       "    .dataframe thead th {\n",
       "        text-align: right;\n",
       "    }\n",
       "</style>\n",
       "<table border=\"1\" class=\"dataframe\">\n",
       "  <thead>\n",
       "    <tr style=\"text-align: right;\">\n",
       "      <th></th>\n",
       "      <th>user_id</th>\n",
       "      <th>movie_id</th>\n",
       "      <th>rating</th>\n",
       "      <th>matrix_position</th>\n",
       "    </tr>\n",
       "  </thead>\n",
       "  <tbody>\n",
       "    <tr>\n",
       "      <th>250</th>\n",
       "      <td>4</td>\n",
       "      <td>1201</td>\n",
       "      <td>5</td>\n",
       "      <td>978294230</td>\n",
       "    </tr>\n",
       "    <tr>\n",
       "      <th>238</th>\n",
       "      <td>4</td>\n",
       "      <td>260</td>\n",
       "      <td>5</td>\n",
       "      <td>978294199</td>\n",
       "    </tr>\n",
       "    <tr>\n",
       "      <th>247</th>\n",
       "      <td>4</td>\n",
       "      <td>2366</td>\n",
       "      <td>4</td>\n",
       "      <td>978294230</td>\n",
       "    </tr>\n",
       "    <tr>\n",
       "      <th>236</th>\n",
       "      <td>4</td>\n",
       "      <td>1214</td>\n",
       "      <td>4</td>\n",
       "      <td>978294260</td>\n",
       "    </tr>\n",
       "    <tr>\n",
       "      <th>317</th>\n",
       "      <td>5</td>\n",
       "      <td>2282</td>\n",
       "      <td>3</td>\n",
       "      <td>978244667</td>\n",
       "    </tr>\n",
       "    <tr>\n",
       "      <th>...</th>\n",
       "      <td>...</td>\n",
       "      <td>...</td>\n",
       "      <td>...</td>\n",
       "      <td>...</td>\n",
       "    </tr>\n",
       "    <tr>\n",
       "      <th>997998</th>\n",
       "      <td>6029</td>\n",
       "      <td>1210</td>\n",
       "      <td>3</td>\n",
       "      <td>956721594</td>\n",
       "    </tr>\n",
       "    <tr>\n",
       "      <th>997987</th>\n",
       "      <td>6029</td>\n",
       "      <td>3546</td>\n",
       "      <td>5</td>\n",
       "      <td>956721930</td>\n",
       "    </tr>\n",
       "    <tr>\n",
       "      <th>997974</th>\n",
       "      <td>6029</td>\n",
       "      <td>2409</td>\n",
       "      <td>2</td>\n",
       "      <td>956721594</td>\n",
       "    </tr>\n",
       "    <tr>\n",
       "      <th>997995</th>\n",
       "      <td>6029</td>\n",
       "      <td>3584</td>\n",
       "      <td>3</td>\n",
       "      <td>956721732</td>\n",
       "    </tr>\n",
       "    <tr>\n",
       "      <th>997976</th>\n",
       "      <td>6029</td>\n",
       "      <td>2829</td>\n",
       "      <td>3</td>\n",
       "      <td>956722153</td>\n",
       "    </tr>\n",
       "  </tbody>\n",
       "</table>\n",
       "<p>41247 rows × 4 columns</p>\n",
       "</div>"
      ],
      "text/plain": [
       "        user_id  movie_id  rating  matrix_position\n",
       "250           4      1201       5        978294230\n",
       "238           4       260       5        978294199\n",
       "247           4      2366       4        978294230\n",
       "236           4      1214       4        978294260\n",
       "317           5      2282       3        978244667\n",
       "...         ...       ...     ...              ...\n",
       "997998     6029      1210       3        956721594\n",
       "997987     6029      3546       5        956721930\n",
       "997974     6029      2409       2        956721594\n",
       "997995     6029      3584       3        956721732\n",
       "997976     6029      2829       3        956722153\n",
       "\n",
       "[41247 rows x 4 columns]"
      ]
     },
     "execution_count": 165,
     "metadata": {},
     "output_type": "execute_result"
    }
   ],
   "source": [
    "test_df"
   ]
  },
  {
   "cell_type": "markdown",
   "metadata": {},
   "source": [
    "## User binnings"
   ]
  },
  {
   "cell_type": "markdown",
   "metadata": {},
   "source": [
    "#### Age and gender"
   ]
  },
  {
   "cell_type": "code",
   "execution_count": 10,
   "metadata": {},
   "outputs": [],
   "source": [
    "col_names = ['user_id', 'gender', 'age', 'occupation', 'zip-code']\n",
    "users = pd.read_csv('./ml-1m/users.dat', delimiter='::', names=col_names, engine='python')"
   ]
  },
  {
   "cell_type": "code",
   "execution_count": 12,
   "metadata": {},
   "outputs": [
    {
     "data": {
      "text/html": [
       "<div>\n",
       "<style scoped>\n",
       "    .dataframe tbody tr th:only-of-type {\n",
       "        vertical-align: middle;\n",
       "    }\n",
       "\n",
       "    .dataframe tbody tr th {\n",
       "        vertical-align: top;\n",
       "    }\n",
       "\n",
       "    .dataframe thead th {\n",
       "        text-align: right;\n",
       "    }\n",
       "</style>\n",
       "<table border=\"1\" class=\"dataframe\">\n",
       "  <thead>\n",
       "    <tr style=\"text-align: right;\">\n",
       "      <th></th>\n",
       "      <th>user_id</th>\n",
       "      <th>gender</th>\n",
       "      <th>age</th>\n",
       "    </tr>\n",
       "  </thead>\n",
       "  <tbody>\n",
       "    <tr>\n",
       "      <th>0</th>\n",
       "      <td>1</td>\n",
       "      <td>F</td>\n",
       "      <td>1</td>\n",
       "    </tr>\n",
       "    <tr>\n",
       "      <th>1</th>\n",
       "      <td>2</td>\n",
       "      <td>M</td>\n",
       "      <td>56</td>\n",
       "    </tr>\n",
       "    <tr>\n",
       "      <th>2</th>\n",
       "      <td>3</td>\n",
       "      <td>M</td>\n",
       "      <td>25</td>\n",
       "    </tr>\n",
       "    <tr>\n",
       "      <th>3</th>\n",
       "      <td>4</td>\n",
       "      <td>M</td>\n",
       "      <td>45</td>\n",
       "    </tr>\n",
       "    <tr>\n",
       "      <th>4</th>\n",
       "      <td>5</td>\n",
       "      <td>M</td>\n",
       "      <td>25</td>\n",
       "    </tr>\n",
       "    <tr>\n",
       "      <th>...</th>\n",
       "      <td>...</td>\n",
       "      <td>...</td>\n",
       "      <td>...</td>\n",
       "    </tr>\n",
       "    <tr>\n",
       "      <th>6035</th>\n",
       "      <td>6036</td>\n",
       "      <td>F</td>\n",
       "      <td>25</td>\n",
       "    </tr>\n",
       "    <tr>\n",
       "      <th>6036</th>\n",
       "      <td>6037</td>\n",
       "      <td>F</td>\n",
       "      <td>45</td>\n",
       "    </tr>\n",
       "    <tr>\n",
       "      <th>6037</th>\n",
       "      <td>6038</td>\n",
       "      <td>F</td>\n",
       "      <td>56</td>\n",
       "    </tr>\n",
       "    <tr>\n",
       "      <th>6038</th>\n",
       "      <td>6039</td>\n",
       "      <td>F</td>\n",
       "      <td>45</td>\n",
       "    </tr>\n",
       "    <tr>\n",
       "      <th>6039</th>\n",
       "      <td>6040</td>\n",
       "      <td>M</td>\n",
       "      <td>25</td>\n",
       "    </tr>\n",
       "  </tbody>\n",
       "</table>\n",
       "<p>6040 rows × 3 columns</p>\n",
       "</div>"
      ],
      "text/plain": [
       "      user_id gender  age\n",
       "0           1      F    1\n",
       "1           2      M   56\n",
       "2           3      M   25\n",
       "3           4      M   45\n",
       "4           5      M   25\n",
       "...       ...    ...  ...\n",
       "6035     6036      F   25\n",
       "6036     6037      F   45\n",
       "6037     6038      F   56\n",
       "6038     6039      F   45\n",
       "6039     6040      M   25\n",
       "\n",
       "[6040 rows x 3 columns]"
      ]
     },
     "execution_count": 12,
     "metadata": {},
     "output_type": "execute_result"
    }
   ],
   "source": [
    "users_reduced = users[['user_id', 'gender', 'age']].copy()\n",
    "users_reduced"
   ]
  },
  {
   "cell_type": "code",
   "execution_count": 22,
   "metadata": {},
   "outputs": [],
   "source": [
    "test_test_df = test_test_df.merge(users_reduced, how='left', on='user_id')"
   ]
  },
  {
   "cell_type": "code",
   "execution_count": 5,
   "metadata": {},
   "outputs": [
    {
     "data": {
      "text/plain": [
       "array([ 1, 56, 25, 45, 50, 35, 18])"
      ]
     },
     "execution_count": 5,
     "metadata": {},
     "output_type": "execute_result"
    }
   ],
   "source": [
    "users.age.unique()"
   ]
  },
  {
   "cell_type": "code",
   "execution_count": 39,
   "metadata": {},
   "outputs": [],
   "source": [
    "age_bins = {}\n",
    "age_bins[1] = '1-17'\n",
    "age_bins[18] = '18-24'\n",
    "age_bins[25] = '25-34'\n",
    "age_bins[35] = '35-44'\n",
    "age_bins[45] = '45-49'\n",
    "age_bins[50] = '50-55'\n",
    "age_bins[56] = '56+'"
   ]
  },
  {
   "cell_type": "code",
   "execution_count": 50,
   "metadata": {},
   "outputs": [],
   "source": [
    "age_labels = list(age_bins.values())"
   ]
  },
  {
   "cell_type": "code",
   "execution_count": 78,
   "metadata": {},
   "outputs": [
    {
     "data": {
      "text/plain": [
       "<AxesSubplot: title={'center': 'Distribution of users per gender'}, xlabel='gender', ylabel='count'>"
      ]
     },
     "execution_count": 78,
     "metadata": {},
     "output_type": "execute_result"
    },
    {
     "data": {
      "image/png": "[encoded data removed]",
      "text/plain": [
       "<Figure size 2000x600 with 2 Axes>"
      ]
     },
     "metadata": {},
     "output_type": "display_data"
    }
   ],
   "source": [
    "_, ax = plt.subplots(1, 2, figsize=(20, 6))\n",
    "sns.despine()\n",
    "\n",
    "ax[0].set_title('Distribution of users per age')\n",
    "sns.countplot(data=users, x='age', color='grey', ax=ax[0])\n",
    "ax[0].set_xticks(list(range(0, len(age_bins))), labels=age_labels)\n",
    "\n",
    "ax[1].set_title('Distribution of users per gender')\n",
    "sns.countplot(data=users, x='gender', color='grey', ax=ax[1])"
   ]
  },
  {
   "cell_type": "code",
   "execution_count": 30,
   "metadata": {},
   "outputs": [
    {
     "name": "stdout",
     "output_type": "stream",
     "text": [
      "1-17 bin\n",
      "ratings shape:  (3953, 222)\n",
      "18-24 bin\n",
      "ratings shape:  (3953, 1103)\n",
      "25-34 bin\n",
      "ratings shape:  (3953, 2096)\n",
      "35-44 bin\n",
      "ratings shape:  (3953, 1193)\n",
      "45-49 bin\n",
      "ratings shape:  (3953, 550)\n",
      "50-55 bin\n",
      "ratings shape:  (3953, 496)\n",
      "56+ bin\n",
      "ratings shape:  (3953, 380)\n"
     ]
    }
   ],
   "source": [
    "for age in age_bins.keys():\n",
    "    print(f'{age_bins[age]} bin')\n",
    "    users_curr_age = users[users.age == age].index.values\n",
    "    ratings_curr_age = ratings[:, users_curr_age]\n",
    "    \n",
    "    print('ratings shape: ', ratings_curr_age.shape)"
   ]
  },
  {
   "cell_type": "markdown",
   "metadata": {},
   "source": [
    "#### Usage and pop-index"
   ]
  },
  {
   "cell_type": "code",
   "execution_count": 98,
   "metadata": {},
   "outputs": [],
   "source": [
    "ratings.data = np.ones(len(ratings.data))\n",
    "usage_vals = np.array(ratings.sum(axis=0)).flatten()[1:]"
   ]
  },
  {
   "cell_type": "code",
   "execution_count": 102,
   "metadata": {},
   "outputs": [
    {
     "data": {
      "text/html": [
       "<div>\n",
       "<style scoped>\n",
       "    .dataframe tbody tr th:only-of-type {\n",
       "        vertical-align: middle;\n",
       "    }\n",
       "\n",
       "    .dataframe tbody tr th {\n",
       "        vertical-align: top;\n",
       "    }\n",
       "\n",
       "    .dataframe thead th {\n",
       "        text-align: right;\n",
       "    }\n",
       "</style>\n",
       "<table border=\"1\" class=\"dataframe\">\n",
       "  <thead>\n",
       "    <tr style=\"text-align: right;\">\n",
       "      <th></th>\n",
       "      <th>user_id</th>\n",
       "      <th>gender</th>\n",
       "      <th>age</th>\n",
       "      <th>occupation</th>\n",
       "      <th>zip-code</th>\n",
       "      <th>usage</th>\n",
       "    </tr>\n",
       "  </thead>\n",
       "  <tbody>\n",
       "    <tr>\n",
       "      <th>0</th>\n",
       "      <td>1</td>\n",
       "      <td>F</td>\n",
       "      <td>1</td>\n",
       "      <td>10</td>\n",
       "      <td>48067</td>\n",
       "      <td>53.0</td>\n",
       "    </tr>\n",
       "    <tr>\n",
       "      <th>1</th>\n",
       "      <td>2</td>\n",
       "      <td>M</td>\n",
       "      <td>56</td>\n",
       "      <td>16</td>\n",
       "      <td>70072</td>\n",
       "      <td>129.0</td>\n",
       "    </tr>\n",
       "    <tr>\n",
       "      <th>2</th>\n",
       "      <td>3</td>\n",
       "      <td>M</td>\n",
       "      <td>25</td>\n",
       "      <td>15</td>\n",
       "      <td>55117</td>\n",
       "      <td>51.0</td>\n",
       "    </tr>\n",
       "    <tr>\n",
       "      <th>3</th>\n",
       "      <td>4</td>\n",
       "      <td>M</td>\n",
       "      <td>45</td>\n",
       "      <td>7</td>\n",
       "      <td>02460</td>\n",
       "      <td>21.0</td>\n",
       "    </tr>\n",
       "    <tr>\n",
       "      <th>4</th>\n",
       "      <td>5</td>\n",
       "      <td>M</td>\n",
       "      <td>25</td>\n",
       "      <td>20</td>\n",
       "      <td>55455</td>\n",
       "      <td>198.0</td>\n",
       "    </tr>\n",
       "    <tr>\n",
       "      <th>...</th>\n",
       "      <td>...</td>\n",
       "      <td>...</td>\n",
       "      <td>...</td>\n",
       "      <td>...</td>\n",
       "      <td>...</td>\n",
       "      <td>...</td>\n",
       "    </tr>\n",
       "    <tr>\n",
       "      <th>6035</th>\n",
       "      <td>6036</td>\n",
       "      <td>F</td>\n",
       "      <td>25</td>\n",
       "      <td>15</td>\n",
       "      <td>32603</td>\n",
       "      <td>888.0</td>\n",
       "    </tr>\n",
       "    <tr>\n",
       "      <th>6036</th>\n",
       "      <td>6037</td>\n",
       "      <td>F</td>\n",
       "      <td>45</td>\n",
       "      <td>1</td>\n",
       "      <td>76006</td>\n",
       "      <td>202.0</td>\n",
       "    </tr>\n",
       "    <tr>\n",
       "      <th>6037</th>\n",
       "      <td>6038</td>\n",
       "      <td>F</td>\n",
       "      <td>56</td>\n",
       "      <td>1</td>\n",
       "      <td>14706</td>\n",
       "      <td>20.0</td>\n",
       "    </tr>\n",
       "    <tr>\n",
       "      <th>6038</th>\n",
       "      <td>6039</td>\n",
       "      <td>F</td>\n",
       "      <td>45</td>\n",
       "      <td>0</td>\n",
       "      <td>01060</td>\n",
       "      <td>123.0</td>\n",
       "    </tr>\n",
       "    <tr>\n",
       "      <th>6039</th>\n",
       "      <td>6040</td>\n",
       "      <td>M</td>\n",
       "      <td>25</td>\n",
       "      <td>6</td>\n",
       "      <td>11106</td>\n",
       "      <td>341.0</td>\n",
       "    </tr>\n",
       "  </tbody>\n",
       "</table>\n",
       "<p>6040 rows × 6 columns</p>\n",
       "</div>"
      ],
      "text/plain": [
       "      user_id gender  age  occupation zip-code  usage\n",
       "0           1      F    1          10    48067   53.0\n",
       "1           2      M   56          16    70072  129.0\n",
       "2           3      M   25          15    55117   51.0\n",
       "3           4      M   45           7    02460   21.0\n",
       "4           5      M   25          20    55455  198.0\n",
       "...       ...    ...  ...         ...      ...    ...\n",
       "6035     6036      F   25          15    32603  888.0\n",
       "6036     6037      F   45           1    76006  202.0\n",
       "6037     6038      F   56           1    14706   20.0\n",
       "6038     6039      F   45           0    01060  123.0\n",
       "6039     6040      M   25           6    11106  341.0\n",
       "\n",
       "[6040 rows x 6 columns]"
      ]
     },
     "execution_count": 102,
     "metadata": {},
     "output_type": "execute_result"
    }
   ],
   "source": [
    "users"
   ]
  },
  {
   "cell_type": "code",
   "execution_count": 99,
   "metadata": {},
   "outputs": [
    {
     "data": {
      "text/plain": [
       "array([ 53., 129.,  51., ...,  20., 123., 341.])"
      ]
     },
     "execution_count": 99,
     "metadata": {},
     "output_type": "execute_result"
    }
   ],
   "source": [
    "usage_vals"
   ]
  },
  {
   "cell_type": "code",
   "execution_count": 101,
   "metadata": {},
   "outputs": [],
   "source": [
    "users['usage'] = usage_vals"
   ]
  },
  {
   "cell_type": "code",
   "execution_count": 105,
   "metadata": {},
   "outputs": [
    {
     "data": {
      "text/plain": [
       "<AxesSubplot: xlabel='usage', ylabel='Count'>"
      ]
     },
     "execution_count": 105,
     "metadata": {},
     "output_type": "execute_result"
    },
    {
     "data": {
      "image/png": "[encoded data removed]",
      "text/plain": [
       "<Figure size 640x480 with 1 Axes>"
      ]
     },
     "metadata": {},
     "output_type": "display_data"
    }
   ],
   "source": [
    "sns.histplot(users, x='usage', bins=7)"
   ]
  },
  {
   "cell_type": "markdown",
   "metadata": {},
   "source": [
    "Questions to discuss:\n",
    "- Binning by usage\n",
    "- Split strategy for ML dataset\n",
    "- WTF is pop-index and how to implement it"
   ]
  },
  {
   "cell_type": "code",
   "execution_count": null,
   "metadata": {},
   "outputs": [],
   "source": []
  }
 ],
 "metadata": {
  "kernelspec": {
   "display_name": "Python 3.10.8 ('edds')",
   "language": "python",
   "name": "python3"
  },
  "language_info": {
   "codemirror_mode": {
    "name": "ipython",
    "version": 3
   },
   "file_extension": ".py",
   "mimetype": "text/x-python",
   "name": "python",
   "nbconvert_exporter": "python",
   "pygments_lexer": "ipython3",
   "version": "3.10.8"
  },
  "vscode": {
   "interpreter": {
    "hash": "0b75d337cea0903403ec14692cc4384eaba5e54498267bae03593c34c5c94718"
   }
  }
 },
 "nbformat": 4,
 "nbformat_minor": 4
}
