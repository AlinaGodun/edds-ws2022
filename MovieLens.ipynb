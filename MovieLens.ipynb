{
 "cells": [
  {
   "cell_type": "code",
   "execution_count": 1,
   "metadata": {},
   "outputs": [],
   "source": [
    "import pandas as pd\n",
    "import numpy as np\n",
    "import matplotlib.pyplot as plt\n",
    "import seaborn as sns\n",
    "import implicit"
   ]
  },
  {
   "cell_type": "code",
   "execution_count": 2,
   "metadata": {},
   "outputs": [],
   "source": [
    "from implicit.datasets.movielens import get_movielens\n",
    "from implicit.evaluation import leave_k_out_split"
   ]
  },
  {
   "cell_type": "markdown",
   "metadata": {},
   "source": [
    "### CV"
   ]
  },
  {
   "cell_type": "code",
   "execution_count": 3,
   "metadata": {},
   "outputs": [],
   "source": [
    "variant = \"1m\""
   ]
  },
  {
   "cell_type": "code",
   "execution_count": 5,
   "metadata": {},
   "outputs": [],
   "source": [
    "titles, ratings = get_movielens(variant)\n",
    "ratings = ratings.T"
   ]
  },
  {
   "cell_type": "code",
   "execution_count": 19,
   "metadata": {},
   "outputs": [],
   "source": [
    "col_names = [\"user_id\", \"movie_id\", \"rating\", \"matrix_position\"]\n",
    "ratings_df = pd.read_csv('./ml-1m/ratings.dat', delimiter='::', names=col_names, engine='python')"
   ]
  },
  {
   "cell_type": "code",
   "execution_count": 17,
   "metadata": {},
   "outputs": [],
   "source": [
    "def get_divided_test_fold(ratings_df, test_index, sampling_rate=.2):\n",
    "    test_fold_df = ratings_df[ratings_df.user_id.isin(test_index)].copy()\n",
    "    test_df = test_fold_df.groupby('user_id').sample(frac=.2)\n",
    "    test_fold_df.loc[test_fold_df.matrix_position.isin(test_df.matrix_position), 'rating'] = 0\n",
    "    \n",
    "    return test_fold_df, test_df"
   ]
  },
  {
   "cell_type": "code",
   "execution_count": 43,
   "metadata": {},
   "outputs": [
    {
     "name": "stdout",
     "output_type": "stream",
     "text": [
      "Fold 0:\n",
      "  Train: index=(4832,)\n",
      "  Test:  index=(1209,)\n"
     ]
    },
    {
     "data": {
      "application/vnd.jupyter.widget-view+json": {
       "model_id": "5d1b646e4ff14c2aab363caadb05fca7",
       "version_major": 2,
       "version_minor": 0
      },
      "text/plain": [
       "  0%|          | 0/15 [00:00<?, ?it/s]"
      ]
     },
     "metadata": {},
     "output_type": "display_data"
    },
    {
     "data": {
      "application/vnd.jupyter.widget-view+json": {
       "model_id": "6fe485206f6140bfa79d346891198382",
       "version_major": 2,
       "version_minor": 0
      },
      "text/plain": [
       "  0%|          | 0/1209 [00:00<?, ?it/s]"
      ]
     },
     "metadata": {},
     "output_type": "display_data"
    },
    {
     "name": "stdout",
     "output_type": "stream",
     "text": [
      "ndcg: 0.21876408181672088\n",
      "Fold 1:\n",
      "  Train: index=(4833,)\n",
      "  Test:  index=(1208,)\n"
     ]
    },
    {
     "data": {
      "application/vnd.jupyter.widget-view+json": {
       "model_id": "7e65b31669b44e8b9bc5d50f5d948464",
       "version_major": 2,
       "version_minor": 0
      },
      "text/plain": [
       "  0%|          | 0/15 [00:00<?, ?it/s]"
      ]
     },
     "metadata": {},
     "output_type": "display_data"
    },
    {
     "data": {
      "application/vnd.jupyter.widget-view+json": {
       "model_id": "1268d1b0c3aa4ee5a3fa4bab300ecbcc",
       "version_major": 2,
       "version_minor": 0
      },
      "text/plain": [
       "  0%|          | 0/1208 [00:00<?, ?it/s]"
      ]
     },
     "metadata": {},
     "output_type": "display_data"
    },
    {
     "name": "stdout",
     "output_type": "stream",
     "text": [
      "ndcg: 0.23386000387795497\n",
      "Fold 2:\n",
      "  Train: index=(4833,)\n",
      "  Test:  index=(1208,)\n"
     ]
    },
    {
     "data": {
      "application/vnd.jupyter.widget-view+json": {
       "model_id": "6ad81cfce2cc496c989ea28a914609f6",
       "version_major": 2,
       "version_minor": 0
      },
      "text/plain": [
       "  0%|          | 0/15 [00:00<?, ?it/s]"
      ]
     },
     "metadata": {},
     "output_type": "display_data"
    },
    {
     "data": {
      "application/vnd.jupyter.widget-view+json": {
       "model_id": "a718c839ade746b690babf0cce038989",
       "version_major": 2,
       "version_minor": 0
      },
      "text/plain": [
       "  0%|          | 0/1208 [00:00<?, ?it/s]"
      ]
     },
     "metadata": {},
     "output_type": "display_data"
    },
    {
     "name": "stdout",
     "output_type": "stream",
     "text": [
      "ndcg: 0.2339759194093315\n",
      "Fold 3:\n",
      "  Train: index=(4833,)\n",
      "  Test:  index=(1208,)\n"
     ]
    },
    {
     "data": {
      "application/vnd.jupyter.widget-view+json": {
       "model_id": "1ae2c2a6ce4a4e95a67088b88996788c",
       "version_major": 2,
       "version_minor": 0
      },
      "text/plain": [
       "  0%|          | 0/15 [00:00<?, ?it/s]"
      ]
     },
     "metadata": {},
     "output_type": "display_data"
    },
    {
     "data": {
      "application/vnd.jupyter.widget-view+json": {
       "model_id": "b124d8215e9641948e8ccca2c9f1c124",
       "version_major": 2,
       "version_minor": 0
      },
      "text/plain": [
       "  0%|          | 0/1207 [00:00<?, ?it/s]"
      ]
     },
     "metadata": {},
     "output_type": "display_data"
    },
    {
     "name": "stdout",
     "output_type": "stream",
     "text": [
      "ndcg: 0.22717859317484185\n",
      "Fold 4:\n",
      "  Train: index=(4833,)\n",
      "  Test:  index=(1208,)\n"
     ]
    },
    {
     "data": {
      "application/vnd.jupyter.widget-view+json": {
       "model_id": "9013b21eb7e946e098ef226bb6905ef9",
       "version_major": 2,
       "version_minor": 0
      },
      "text/plain": [
       "  0%|          | 0/15 [00:00<?, ?it/s]"
      ]
     },
     "metadata": {},
     "output_type": "display_data"
    },
    {
     "data": {
      "application/vnd.jupyter.widget-view+json": {
       "model_id": "e12ad6f2e8d649bda35a1f2e223c3ef3",
       "version_major": 2,
       "version_minor": 0
      },
      "text/plain": [
       "  0%|          | 0/1208 [00:00<?, ?it/s]"
      ]
     },
     "metadata": {},
     "output_type": "display_data"
    },
    {
     "name": "stdout",
     "output_type": "stream",
     "text": [
      "ndcg: 0.22609079030637397\n"
     ]
    }
   ],
   "source": [
    "# divide ratings into 5 CV, still question about test data - see paper\n",
    "# 0th column is 0, since user ids start with 1\n",
    "from sklearn.model_selection import KFold\n",
    "from implicit.evaluation import ndcg_at_k\n",
    "from implicit.als import AlternatingLeastSquares\n",
    "\n",
    "kf = KFold(n_splits=5, random_state=12345, shuffle=True)\n",
    "\n",
    "for i, (train_index, test_index) in enumerate(kf.split(ratings)):\n",
    "    print(f\"Fold {i}:\")\n",
    "    print(f\"  Train: index={train_index.shape}\")\n",
    "    print(f\"  Test:  index={test_index.shape}\")\n",
    "    \n",
    "    # train data is divided into two parts\n",
    "    # in train_index, full user data is used for training\n",
    "    # in test_index, 80% of user data is used for training and the rest 20% is used for testing\n",
    "    test_train_df, test_test_df = get_divided_test_fold(ratings_df, test_index)\n",
    "\n",
    "    train_data = ratings.copy()\n",
    "    # blend out the 20% of test users data for testing\n",
    "    train_data[test_test_df.user_id, test_test_df.movie_id] = 0\n",
    "    train_data = train_data\n",
    "\n",
    "    # test data contains data used for training + blended out 20% \n",
    "    test_data = ratings[test_index,]\n",
    "\n",
    "    model = AlternatingLeastSquares(factors=50, regularization=0.01)\n",
    "    model.fit(train_data)\n",
    "\n",
    "    ndcg = ndcg_at_k(model, train_data, test_data, K=10)\n",
    "    print(f'ndcg: {ndcg}')\n",
    "\n",
    "\n"
   ]
  },
  {
   "cell_type": "code",
   "execution_count": 23,
   "metadata": {},
   "outputs": [
    {
     "data": {
      "text/html": [
       "<div>\n",
       "<style scoped>\n",
       "    .dataframe tbody tr th:only-of-type {\n",
       "        vertical-align: middle;\n",
       "    }\n",
       "\n",
       "    .dataframe tbody tr th {\n",
       "        vertical-align: top;\n",
       "    }\n",
       "\n",
       "    .dataframe thead th {\n",
       "        text-align: right;\n",
       "    }\n",
       "</style>\n",
       "<table border=\"1\" class=\"dataframe\">\n",
       "  <thead>\n",
       "    <tr style=\"text-align: right;\">\n",
       "      <th></th>\n",
       "      <th>user_id</th>\n",
       "      <th>movie_id</th>\n",
       "      <th>rating</th>\n",
       "      <th>matrix_position</th>\n",
       "    </tr>\n",
       "  </thead>\n",
       "  <tbody>\n",
       "    <tr>\n",
       "      <th>1435</th>\n",
       "      <td>13</td>\n",
       "      <td>2002</td>\n",
       "      <td>3</td>\n",
       "      <td>978202104</td>\n",
       "    </tr>\n",
       "    <tr>\n",
       "      <th>1360</th>\n",
       "      <td>13</td>\n",
       "      <td>2987</td>\n",
       "      <td>3</td>\n",
       "      <td>978202328</td>\n",
       "    </tr>\n",
       "    <tr>\n",
       "      <th>1392</th>\n",
       "      <td>13</td>\n",
       "      <td>2094</td>\n",
       "      <td>3</td>\n",
       "      <td>978202089</td>\n",
       "    </tr>\n",
       "    <tr>\n",
       "      <th>1460</th>\n",
       "      <td>13</td>\n",
       "      <td>1097</td>\n",
       "      <td>5</td>\n",
       "      <td>978201368</td>\n",
       "    </tr>\n",
       "    <tr>\n",
       "      <th>1415</th>\n",
       "      <td>13</td>\n",
       "      <td>2916</td>\n",
       "      <td>3</td>\n",
       "      <td>978201927</td>\n",
       "    </tr>\n",
       "    <tr>\n",
       "      <th>...</th>\n",
       "      <td>...</td>\n",
       "      <td>...</td>\n",
       "      <td>...</td>\n",
       "      <td>...</td>\n",
       "    </tr>\n",
       "    <tr>\n",
       "      <th>655590</th>\n",
       "      <td>3949</td>\n",
       "      <td>599</td>\n",
       "      <td>5</td>\n",
       "      <td>966213362</td>\n",
       "    </tr>\n",
       "    <tr>\n",
       "      <th>655630</th>\n",
       "      <td>3949</td>\n",
       "      <td>3508</td>\n",
       "      <td>5</td>\n",
       "      <td>965681579</td>\n",
       "    </tr>\n",
       "    <tr>\n",
       "      <th>655637</th>\n",
       "      <td>3949</td>\n",
       "      <td>2922</td>\n",
       "      <td>4</td>\n",
       "      <td>965681641</td>\n",
       "    </tr>\n",
       "    <tr>\n",
       "      <th>655646</th>\n",
       "      <td>3949</td>\n",
       "      <td>1210</td>\n",
       "      <td>3</td>\n",
       "      <td>965682008</td>\n",
       "    </tr>\n",
       "    <tr>\n",
       "      <th>655653</th>\n",
       "      <td>3949</td>\n",
       "      <td>1091</td>\n",
       "      <td>3</td>\n",
       "      <td>965681341</td>\n",
       "    </tr>\n",
       "  </tbody>\n",
       "</table>\n",
       "<p>26520 rows × 4 columns</p>\n",
       "</div>"
      ],
      "text/plain": [
       "        user_id  movie_id  rating  matrix_position\n",
       "1435         13      2002       3        978202104\n",
       "1360         13      2987       3        978202328\n",
       "1392         13      2094       3        978202089\n",
       "1460         13      1097       5        978201368\n",
       "1415         13      2916       3        978201927\n",
       "...         ...       ...     ...              ...\n",
       "655590     3949       599       5        966213362\n",
       "655630     3949      3508       5        965681579\n",
       "655637     3949      2922       4        965681641\n",
       "655646     3949      1210       3        965682008\n",
       "655653     3949      1091       3        965681341\n",
       "\n",
       "[26520 rows x 4 columns]"
      ]
     },
     "execution_count": 23,
     "metadata": {},
     "output_type": "execute_result"
    }
   ],
   "source": [
    "test_test_df"
   ]
  },
  {
   "cell_type": "markdown",
   "metadata": {},
   "source": [
    "#### Blending data in test fold "
   ]
  },
  {
   "cell_type": "code",
   "execution_count": 163,
   "metadata": {},
   "outputs": [],
   "source": [
    "test_fold_df = ratings_df[ratings_df.user_id.isin(test_index)].copy()\n",
    "test_df = test_fold_df.groupby('user_id').sample(frac=.2)\n",
    "test_fold_df.loc[test_fold_df.matrix_position.isin(test_df.matrix_position), 'rating'] = 0"
   ]
  },
  {
   "cell_type": "code",
   "execution_count": 164,
   "metadata": {},
   "outputs": [
    {
     "data": {
      "text/html": [
       "<div>\n",
       "<style scoped>\n",
       "    .dataframe tbody tr th:only-of-type {\n",
       "        vertical-align: middle;\n",
       "    }\n",
       "\n",
       "    .dataframe tbody tr th {\n",
       "        vertical-align: top;\n",
       "    }\n",
       "\n",
       "    .dataframe thead th {\n",
       "        text-align: right;\n",
       "    }\n",
       "</style>\n",
       "<table border=\"1\" class=\"dataframe\">\n",
       "  <thead>\n",
       "    <tr style=\"text-align: right;\">\n",
       "      <th></th>\n",
       "      <th>user_id</th>\n",
       "      <th>movie_id</th>\n",
       "      <th>rating</th>\n",
       "      <th>matrix_position</th>\n",
       "    </tr>\n",
       "  </thead>\n",
       "  <tbody>\n",
       "    <tr>\n",
       "      <th>236</th>\n",
       "      <td>4</td>\n",
       "      <td>1214</td>\n",
       "      <td>0</td>\n",
       "      <td>978294260</td>\n",
       "    </tr>\n",
       "    <tr>\n",
       "      <th>238</th>\n",
       "      <td>4</td>\n",
       "      <td>260</td>\n",
       "      <td>0</td>\n",
       "      <td>978294199</td>\n",
       "    </tr>\n",
       "    <tr>\n",
       "      <th>239</th>\n",
       "      <td>4</td>\n",
       "      <td>2028</td>\n",
       "      <td>0</td>\n",
       "      <td>978294230</td>\n",
       "    </tr>\n",
       "    <tr>\n",
       "      <th>241</th>\n",
       "      <td>4</td>\n",
       "      <td>1196</td>\n",
       "      <td>0</td>\n",
       "      <td>978294199</td>\n",
       "    </tr>\n",
       "    <tr>\n",
       "      <th>242</th>\n",
       "      <td>4</td>\n",
       "      <td>1198</td>\n",
       "      <td>0</td>\n",
       "      <td>978294199</td>\n",
       "    </tr>\n",
       "    <tr>\n",
       "      <th>...</th>\n",
       "      <td>...</td>\n",
       "      <td>...</td>\n",
       "      <td>...</td>\n",
       "      <td>...</td>\n",
       "    </tr>\n",
       "    <tr>\n",
       "      <th>997991</th>\n",
       "      <td>6029</td>\n",
       "      <td>3552</td>\n",
       "      <td>0</td>\n",
       "      <td>956721732</td>\n",
       "    </tr>\n",
       "    <tr>\n",
       "      <th>997995</th>\n",
       "      <td>6029</td>\n",
       "      <td>3584</td>\n",
       "      <td>0</td>\n",
       "      <td>956721732</td>\n",
       "    </tr>\n",
       "    <tr>\n",
       "      <th>997997</th>\n",
       "      <td>6029</td>\n",
       "      <td>3591</td>\n",
       "      <td>0</td>\n",
       "      <td>956721880</td>\n",
       "    </tr>\n",
       "    <tr>\n",
       "      <th>997998</th>\n",
       "      <td>6029</td>\n",
       "      <td>1210</td>\n",
       "      <td>0</td>\n",
       "      <td>956721594</td>\n",
       "    </tr>\n",
       "    <tr>\n",
       "      <th>998000</th>\n",
       "      <td>6029</td>\n",
       "      <td>2628</td>\n",
       "      <td>0</td>\n",
       "      <td>956722153</td>\n",
       "    </tr>\n",
       "  </tbody>\n",
       "</table>\n",
       "<p>98252 rows × 4 columns</p>\n",
       "</div>"
      ],
      "text/plain": [
       "        user_id  movie_id  rating  matrix_position\n",
       "236           4      1214       0        978294260\n",
       "238           4       260       0        978294199\n",
       "239           4      2028       0        978294230\n",
       "241           4      1196       0        978294199\n",
       "242           4      1198       0        978294199\n",
       "...         ...       ...     ...              ...\n",
       "997991     6029      3552       0        956721732\n",
       "997995     6029      3584       0        956721732\n",
       "997997     6029      3591       0        956721880\n",
       "997998     6029      1210       0        956721594\n",
       "998000     6029      2628       0        956722153\n",
       "\n",
       "[98252 rows x 4 columns]"
      ]
     },
     "execution_count": 164,
     "metadata": {},
     "output_type": "execute_result"
    }
   ],
   "source": [
    "test_fold_df.loc[test_fold_df.matrix_position.isin(test_df.matrix_position), :]"
   ]
  },
  {
   "cell_type": "code",
   "execution_count": 165,
   "metadata": {},
   "outputs": [
    {
     "data": {
      "text/html": [
       "<div>\n",
       "<style scoped>\n",
       "    .dataframe tbody tr th:only-of-type {\n",
       "        vertical-align: middle;\n",
       "    }\n",
       "\n",
       "    .dataframe tbody tr th {\n",
       "        vertical-align: top;\n",
       "    }\n",
       "\n",
       "    .dataframe thead th {\n",
       "        text-align: right;\n",
       "    }\n",
       "</style>\n",
       "<table border=\"1\" class=\"dataframe\">\n",
       "  <thead>\n",
       "    <tr style=\"text-align: right;\">\n",
       "      <th></th>\n",
       "      <th>user_id</th>\n",
       "      <th>movie_id</th>\n",
       "      <th>rating</th>\n",
       "      <th>matrix_position</th>\n",
       "    </tr>\n",
       "  </thead>\n",
       "  <tbody>\n",
       "    <tr>\n",
       "      <th>250</th>\n",
       "      <td>4</td>\n",
       "      <td>1201</td>\n",
       "      <td>5</td>\n",
       "      <td>978294230</td>\n",
       "    </tr>\n",
       "    <tr>\n",
       "      <th>238</th>\n",
       "      <td>4</td>\n",
       "      <td>260</td>\n",
       "      <td>5</td>\n",
       "      <td>978294199</td>\n",
       "    </tr>\n",
       "    <tr>\n",
       "      <th>247</th>\n",
       "      <td>4</td>\n",
       "      <td>2366</td>\n",
       "      <td>4</td>\n",
       "      <td>978294230</td>\n",
       "    </tr>\n",
       "    <tr>\n",
       "      <th>236</th>\n",
       "      <td>4</td>\n",
       "      <td>1214</td>\n",
       "      <td>4</td>\n",
       "      <td>978294260</td>\n",
       "    </tr>\n",
       "    <tr>\n",
       "      <th>317</th>\n",
       "      <td>5</td>\n",
       "      <td>2282</td>\n",
       "      <td>3</td>\n",
       "      <td>978244667</td>\n",
       "    </tr>\n",
       "    <tr>\n",
       "      <th>...</th>\n",
       "      <td>...</td>\n",
       "      <td>...</td>\n",
       "      <td>...</td>\n",
       "      <td>...</td>\n",
       "    </tr>\n",
       "    <tr>\n",
       "      <th>997998</th>\n",
       "      <td>6029</td>\n",
       "      <td>1210</td>\n",
       "      <td>3</td>\n",
       "      <td>956721594</td>\n",
       "    </tr>\n",
       "    <tr>\n",
       "      <th>997987</th>\n",
       "      <td>6029</td>\n",
       "      <td>3546</td>\n",
       "      <td>5</td>\n",
       "      <td>956721930</td>\n",
       "    </tr>\n",
       "    <tr>\n",
       "      <th>997974</th>\n",
       "      <td>6029</td>\n",
       "      <td>2409</td>\n",
       "      <td>2</td>\n",
       "      <td>956721594</td>\n",
       "    </tr>\n",
       "    <tr>\n",
       "      <th>997995</th>\n",
       "      <td>6029</td>\n",
       "      <td>3584</td>\n",
       "      <td>3</td>\n",
       "      <td>956721732</td>\n",
       "    </tr>\n",
       "    <tr>\n",
       "      <th>997976</th>\n",
       "      <td>6029</td>\n",
       "      <td>2829</td>\n",
       "      <td>3</td>\n",
       "      <td>956722153</td>\n",
       "    </tr>\n",
       "  </tbody>\n",
       "</table>\n",
       "<p>41247 rows × 4 columns</p>\n",
       "</div>"
      ],
      "text/plain": [
       "        user_id  movie_id  rating  matrix_position\n",
       "250           4      1201       5        978294230\n",
       "238           4       260       5        978294199\n",
       "247           4      2366       4        978294230\n",
       "236           4      1214       4        978294260\n",
       "317           5      2282       3        978244667\n",
       "...         ...       ...     ...              ...\n",
       "997998     6029      1210       3        956721594\n",
       "997987     6029      3546       5        956721930\n",
       "997974     6029      2409       2        956721594\n",
       "997995     6029      3584       3        956721732\n",
       "997976     6029      2829       3        956722153\n",
       "\n",
       "[41247 rows x 4 columns]"
      ]
     },
     "execution_count": 165,
     "metadata": {},
     "output_type": "execute_result"
    }
   ],
   "source": [
    "test_df"
   ]
  },
  {
   "cell_type": "markdown",
   "metadata": {},
   "source": [
    "## User binnings"
   ]
  },
  {
   "cell_type": "markdown",
   "metadata": {},
   "source": [
    "#### Age and gender"
   ]
  },
  {
   "cell_type": "code",
   "execution_count": 4,
   "metadata": {},
   "outputs": [],
   "source": [
    "col_names = ['user_id', 'gender', 'age', 'occupation', 'zip-code']\n",
    "users = pd.read_csv('./ml-1m/users.dat', delimiter='::', names=col_names, engine='python')"
   ]
  },
  {
   "cell_type": "code",
   "execution_count": 5,
   "metadata": {},
   "outputs": [
    {
     "data": {
      "text/plain": [
       "array([ 1, 56, 25, 45, 50, 35, 18])"
      ]
     },
     "execution_count": 5,
     "metadata": {},
     "output_type": "execute_result"
    }
   ],
   "source": [
    "users.age.unique()"
   ]
  },
  {
   "cell_type": "code",
   "execution_count": 52,
   "metadata": {},
   "outputs": [],
   "source": [
    "age_bins = {}\n",
    "age_bins[1] = '1-17'\n",
    "age_bins[18] = '18-24'\n",
    "age_bins[25] = '25-34'\n",
    "age_bins[35] = '35-44'\n",
    "age_bins[45] = '45-49'\n",
    "age_bins[50] = '50-55'\n",
    "age_bins[56] = '56+'"
   ]
  },
  {
   "cell_type": "code",
   "execution_count": 76,
   "metadata": {},
   "outputs": [],
   "source": [
    "age_labels = list(age_bins.values())"
   ]
  },
  {
   "cell_type": "code",
   "execution_count": 78,
   "metadata": {},
   "outputs": [
    {
     "data": {
      "text/plain": [
       "<AxesSubplot: title={'center': 'Distribution of users per gender'}, xlabel='gender', ylabel='count'>"
      ]
     },
     "execution_count": 78,
     "metadata": {},
     "output_type": "execute_result"
    },
    {
     "data": {
      "image/png": "[encoded data removed]",
      "text/plain": [
       "<Figure size 2000x600 with 2 Axes>"
      ]
     },
     "metadata": {},
     "output_type": "display_data"
    }
   ],
   "source": [
    "_, ax = plt.subplots(1, 2, figsize=(20, 6))\n",
    "sns.despine()\n",
    "\n",
    "ax[0].set_title('Distribution of users per age')\n",
    "sns.countplot(data=users, x='age', color='grey', ax=ax[0])\n",
    "ax[0].set_xticks(list(range(0, len(age_bins))), labels=age_labels)\n",
    "\n",
    "ax[1].set_title('Distribution of users per gender')\n",
    "sns.countplot(data=users, x='gender', color='grey', ax=ax[1])"
   ]
  },
  {
   "cell_type": "code",
   "execution_count": 30,
   "metadata": {},
   "outputs": [
    {
     "name": "stdout",
     "output_type": "stream",
     "text": [
      "1-17 bin\n",
      "ratings shape:  (3953, 222)\n",
      "18-24 bin\n",
      "ratings shape:  (3953, 1103)\n",
      "25-34 bin\n",
      "ratings shape:  (3953, 2096)\n",
      "35-44 bin\n",
      "ratings shape:  (3953, 1193)\n",
      "45-49 bin\n",
      "ratings shape:  (3953, 550)\n",
      "50-55 bin\n",
      "ratings shape:  (3953, 496)\n",
      "56+ bin\n",
      "ratings shape:  (3953, 380)\n"
     ]
    }
   ],
   "source": [
    "for age in age_bins.keys():\n",
    "    print(f'{age_bins[age]} bin')\n",
    "    users_curr_age = users[users.age == age].index.values\n",
    "    ratings_curr_age = ratings[:, users_curr_age]\n",
    "    \n",
    "    print('ratings shape: ', ratings_curr_age.shape)"
   ]
  },
  {
   "cell_type": "markdown",
   "metadata": {},
   "source": [
    "#### Usage and pop-index"
   ]
  },
  {
   "cell_type": "code",
   "execution_count": 98,
   "metadata": {},
   "outputs": [],
   "source": [
    "ratings.data = np.ones(len(ratings.data))\n",
    "usage_vals = np.array(ratings.sum(axis=0)).flatten()[1:]"
   ]
  },
  {
   "cell_type": "code",
   "execution_count": 102,
   "metadata": {},
   "outputs": [
    {
     "data": {
      "text/html": [
       "<div>\n",
       "<style scoped>\n",
       "    .dataframe tbody tr th:only-of-type {\n",
       "        vertical-align: middle;\n",
       "    }\n",
       "\n",
       "    .dataframe tbody tr th {\n",
       "        vertical-align: top;\n",
       "    }\n",
       "\n",
       "    .dataframe thead th {\n",
       "        text-align: right;\n",
       "    }\n",
       "</style>\n",
       "<table border=\"1\" class=\"dataframe\">\n",
       "  <thead>\n",
       "    <tr style=\"text-align: right;\">\n",
       "      <th></th>\n",
       "      <th>user_id</th>\n",
       "      <th>gender</th>\n",
       "      <th>age</th>\n",
       "      <th>occupation</th>\n",
       "      <th>zip-code</th>\n",
       "      <th>usage</th>\n",
       "    </tr>\n",
       "  </thead>\n",
       "  <tbody>\n",
       "    <tr>\n",
       "      <th>0</th>\n",
       "      <td>1</td>\n",
       "      <td>F</td>\n",
       "      <td>1</td>\n",
       "      <td>10</td>\n",
       "      <td>48067</td>\n",
       "      <td>53.0</td>\n",
       "    </tr>\n",
       "    <tr>\n",
       "      <th>1</th>\n",
       "      <td>2</td>\n",
       "      <td>M</td>\n",
       "      <td>56</td>\n",
       "      <td>16</td>\n",
       "      <td>70072</td>\n",
       "      <td>129.0</td>\n",
       "    </tr>\n",
       "    <tr>\n",
       "      <th>2</th>\n",
       "      <td>3</td>\n",
       "      <td>M</td>\n",
       "      <td>25</td>\n",
       "      <td>15</td>\n",
       "      <td>55117</td>\n",
       "      <td>51.0</td>\n",
       "    </tr>\n",
       "    <tr>\n",
       "      <th>3</th>\n",
       "      <td>4</td>\n",
       "      <td>M</td>\n",
       "      <td>45</td>\n",
       "      <td>7</td>\n",
       "      <td>02460</td>\n",
       "      <td>21.0</td>\n",
       "    </tr>\n",
       "    <tr>\n",
       "      <th>4</th>\n",
       "      <td>5</td>\n",
       "      <td>M</td>\n",
       "      <td>25</td>\n",
       "      <td>20</td>\n",
       "      <td>55455</td>\n",
       "      <td>198.0</td>\n",
       "    </tr>\n",
       "    <tr>\n",
       "      <th>...</th>\n",
       "      <td>...</td>\n",
       "      <td>...</td>\n",
       "      <td>...</td>\n",
       "      <td>...</td>\n",
       "      <td>...</td>\n",
       "      <td>...</td>\n",
       "    </tr>\n",
       "    <tr>\n",
       "      <th>6035</th>\n",
       "      <td>6036</td>\n",
       "      <td>F</td>\n",
       "      <td>25</td>\n",
       "      <td>15</td>\n",
       "      <td>32603</td>\n",
       "      <td>888.0</td>\n",
       "    </tr>\n",
       "    <tr>\n",
       "      <th>6036</th>\n",
       "      <td>6037</td>\n",
       "      <td>F</td>\n",
       "      <td>45</td>\n",
       "      <td>1</td>\n",
       "      <td>76006</td>\n",
       "      <td>202.0</td>\n",
       "    </tr>\n",
       "    <tr>\n",
       "      <th>6037</th>\n",
       "      <td>6038</td>\n",
       "      <td>F</td>\n",
       "      <td>56</td>\n",
       "      <td>1</td>\n",
       "      <td>14706</td>\n",
       "      <td>20.0</td>\n",
       "    </tr>\n",
       "    <tr>\n",
       "      <th>6038</th>\n",
       "      <td>6039</td>\n",
       "      <td>F</td>\n",
       "      <td>45</td>\n",
       "      <td>0</td>\n",
       "      <td>01060</td>\n",
       "      <td>123.0</td>\n",
       "    </tr>\n",
       "    <tr>\n",
       "      <th>6039</th>\n",
       "      <td>6040</td>\n",
       "      <td>M</td>\n",
       "      <td>25</td>\n",
       "      <td>6</td>\n",
       "      <td>11106</td>\n",
       "      <td>341.0</td>\n",
       "    </tr>\n",
       "  </tbody>\n",
       "</table>\n",
       "<p>6040 rows × 6 columns</p>\n",
       "</div>"
      ],
      "text/plain": [
       "      user_id gender  age  occupation zip-code  usage\n",
       "0           1      F    1          10    48067   53.0\n",
       "1           2      M   56          16    70072  129.0\n",
       "2           3      M   25          15    55117   51.0\n",
       "3           4      M   45           7    02460   21.0\n",
       "4           5      M   25          20    55455  198.0\n",
       "...       ...    ...  ...         ...      ...    ...\n",
       "6035     6036      F   25          15    32603  888.0\n",
       "6036     6037      F   45           1    76006  202.0\n",
       "6037     6038      F   56           1    14706   20.0\n",
       "6038     6039      F   45           0    01060  123.0\n",
       "6039     6040      M   25           6    11106  341.0\n",
       "\n",
       "[6040 rows x 6 columns]"
      ]
     },
     "execution_count": 102,
     "metadata": {},
     "output_type": "execute_result"
    }
   ],
   "source": [
    "users"
   ]
  },
  {
   "cell_type": "code",
   "execution_count": 99,
   "metadata": {},
   "outputs": [
    {
     "data": {
      "text/plain": [
       "array([ 53., 129.,  51., ...,  20., 123., 341.])"
      ]
     },
     "execution_count": 99,
     "metadata": {},
     "output_type": "execute_result"
    }
   ],
   "source": [
    "usage_vals"
   ]
  },
  {
   "cell_type": "code",
   "execution_count": 101,
   "metadata": {},
   "outputs": [],
   "source": [
    "users['usage'] = usage_vals"
   ]
  },
  {
   "cell_type": "code",
   "execution_count": 105,
   "metadata": {},
   "outputs": [
    {
     "data": {
      "text/plain": [
       "<AxesSubplot: xlabel='usage', ylabel='Count'>"
      ]
     },
     "execution_count": 105,
     "metadata": {},
     "output_type": "execute_result"
    },
    {
     "data": {
      "image/png": "[encoded data removed]",
      "text/plain": [
       "<Figure size 640x480 with 1 Axes>"
      ]
     },
     "metadata": {},
     "output_type": "display_data"
    }
   ],
   "source": [
    "sns.histplot(users, x='usage', bins=7)"
   ]
  },
  {
   "cell_type": "markdown",
   "metadata": {},
   "source": [
    "Questions to discuss:\n",
    "- Binning by usage\n",
    "- Split strategy for ML dataset\n",
    "- WTF is pop-index and how to implement it"
   ]
  },
  {
   "cell_type": "code",
   "execution_count": null,
   "metadata": {},
   "outputs": [],
   "source": []
  }
 ],
 "metadata": {
  "kernelspec": {
   "display_name": "Python 3.10.8 ('edds')",
   "language": "python",
   "name": "python3"
  },
  "language_info": {
   "codemirror_mode": {
    "name": "ipython",
    "version": 3
   },
   "file_extension": ".py",
   "mimetype": "text/x-python",
   "name": "python",
   "nbconvert_exporter": "python",
   "pygments_lexer": "ipython3",
   "version": "3.10.8"
  },
  "vscode": {
   "interpreter": {
    "hash": "0b75d337cea0903403ec14692cc4384eaba5e54498267bae03593c34c5c94718"
   }
  }
 },
 "nbformat": 4,
 "nbformat_minor": 4
}
