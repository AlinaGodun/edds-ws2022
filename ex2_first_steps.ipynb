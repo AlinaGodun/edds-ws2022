{
 "cells": [
  {
   "attachments": {},
   "cell_type": "markdown",
   "metadata": {
    "slideshow": {
     "slide_type": "slide"
    }
   },
   "source": [
    "# Notes for Revisiting Popularity and Demographic Biases in Recommender Evaluation and Effectivness\n",
    "\n",
    "\n",
    "First we start by loading in the data and creating a plan "
   ]
  },
  {
   "attachments": {},
   "cell_type": "markdown",
   "metadata": {},
   "source": [
    "### Plan for MLM1:\n",
    "\n",
    "Prepare dataset:\n",
    "- Age binning\n",
    "- Gender binning\n",
    "- Usage binning\n",
    "- Pop-Index binning \n",
    "- Divide data into train & validate/test\n",
    "    - For ML1M:\n",
    "        - partition whole set of 6, 040 users into five splits containing 1, 208 users, for each iteration of cross-validation. \n",
    "        - hold out 20% of the items each user has interacted with to use as test data.\n",
    "        - All other users and the rest of the test users’ items are used for model training in each iteration. \n",
    "        - The ML1M dataset only includes users who have rated over 20 or more movies, so none are removed.\n"
   ]
  },
  {
   "attachments": {},
   "cell_type": "markdown",
   "metadata": {},
   "source": [
    "### Loading in the Movie Lens Data"
   ]
  },
  {
   "attachments": {},
   "cell_type": "markdown",
   "metadata": {},
   "source": [
    "First off we load the packages we need\n",
    "Notes regareding the data used below\n",
    "I replaced the :: seperator with |, then I copied the data into an excel file in order to circumvent problems loading the data with different number of columns as well as naming the variables"
   ]
  },
  {
   "cell_type": "code",
   "execution_count": 7,
   "metadata": {},
   "outputs": [],
   "source": [
    "import numpy as np\n",
    "import pandas as pd\n",
    "import implicit\n",
    "import scipy"
   ]
  },
  {
   "attachments": {},
   "cell_type": "markdown",
   "metadata": {},
   "source": [
    "## USERS FILE DESCRIPTION\n",
    "\n",
    "\n",
    "User information is in the file \"users.dat\" and is in the following\n",
    "format:\n",
    "\n",
    "UserID::Gender::Age::Occupation::Zip-code\n",
    "\n",
    "All demographic information is provided voluntarily by the users and is\n",
    "not checked for accuracy.  Only users who have provided some demographic\n",
    "information are included in this data set.\n",
    "\n",
    "- Gender is denoted by a \"M\" for male and \"F\" for female\n",
    "- Age is chosen from the following ranges:\n",
    "\n",
    "\t*  1:  \"Under 18\"\n",
    "\t* 18:  \"18-24\"\n",
    "\t* 25:  \"25-34\"\n",
    "\t* 35:  \"35-44\"\n",
    "\t* 45:  \"45-49\"\n",
    "\t* 50:  \"50-55\"\n",
    "\t* 56:  \"56+\"\n",
    "\n",
    "- Occupation is chosen from the following choices:\n",
    "\n",
    "\t*  0:  \"other\" or not specified\n",
    "\t*  1:  \"academic/educator\"\n",
    "\t*  2:  \"artist\"\n",
    "\t*  3:  \"clerical/admin\"\n",
    "\t*  4:  \"college/grad student\"\n",
    "\t*  5:  \"customer service\"\n",
    "\t*  6:  \"doctor/health care\"\n",
    "\t*  7:  \"executive/managerial\"\n",
    "\t*  8:  \"farmer\"\n",
    "\t*  9:  \"homemaker\"\n",
    "\t* 10:  \"K-12 student\"\n",
    "\t* 11:  \"lawyer\"\n",
    "\t* 12:  \"programmer\"\n",
    "\t* 13:  \"retired\"\n",
    "\t* 14:  \"sales/marketing\"\n",
    "\t* 15:  \"scientist\"\n",
    "\t* 16:  \"self-employed\"\n",
    "\t* 17:  \"technician/engineer\"\n",
    "\t* 18:  \"tradesman/craftsman\"\n",
    "\t* 19:  \"unemployed\"\n",
    "\t* 20:  \"writer\""
   ]
  },
  {
   "cell_type": "code",
   "execution_count": 3,
   "metadata": {},
   "outputs": [
    {
     "name": "stdout",
     "output_type": "stream",
     "text": [
      "      UserID Gender  Age  Occupation Zip-Code\n",
      "0          1      F    1          10    48067\n",
      "1          2      M   56          16    70072\n",
      "2          3      M   25          15    55117\n",
      "3          4      M   45           7     2460\n",
      "4          5      M   25          20    55455\n",
      "...      ...    ...  ...         ...      ...\n",
      "6035    6036      F   25          15    32603\n",
      "6036    6037      F   45           1    76006\n",
      "6037    6038      F   56           1    14706\n",
      "6038    6039      F   45           0     1060\n",
      "6039    6040      M   25           6    11106\n",
      "\n",
      "[6040 rows x 5 columns]\n"
     ]
    }
   ],
   "source": [
    "user_data = pd.read_excel(r'C:\\mahmoud uni\\TU\\WS2022_2023\\Experiment Design\\EX2\\users.xlsx')\n",
    "print(user_data)"
   ]
  },
  {
   "cell_type": "code",
   "execution_count": 16,
   "metadata": {},
   "outputs": [
    {
     "name": "stdout",
     "output_type": "stream",
     "text": [
      "         UserID  MovieID  Rating  Timestamp\n",
      "0             1     1193       5  978300760\n",
      "1             1      661       3  978302109\n",
      "2             1      914       3  978301968\n",
      "3             1     3408       4  978300275\n",
      "4             1     2355       5  978824291\n",
      "...         ...      ...     ...        ...\n",
      "1000204    6040     1091       1  956716541\n",
      "1000205    6040     1094       5  956704887\n",
      "1000206    6040      562       5  956704746\n",
      "1000207    6040     1096       4  956715648\n",
      "1000208    6040     1097       4  956715569\n",
      "\n",
      "[1000209 rows x 4 columns]\n"
     ]
    }
   ],
   "source": [
    "# We use the dat file because it loads faster\n",
    "rating_raw = np.genfromtxt('ratings.dat',\n",
    "                     names=True,\n",
    "                     dtype=None,\n",
    "                     encoding=None,\n",
    "                     delimiter='::')\n",
    "\n",
    "rating_data = pd.DataFrame(rating_raw, columns=[\"UserID\", \"MovieID\", \"Rating\", \"Timestamp\"])\n",
    "print(rating_data)"
   ]
  },
  {
   "cell_type": "code",
   "execution_count": 17,
   "metadata": {},
   "outputs": [
    {
     "name": "stdout",
     "output_type": "stream",
     "text": [
      "      MovieID                               Title    Genre 1     Genre 2  \\\n",
      "0           1                    Toy Story (1995)  Animation  Children's   \n",
      "1           2                      Jumanji (1995)  Adventure  Children's   \n",
      "2           3             Grumpier Old Men (1995)     Comedy     Romance   \n",
      "3           4            Waiting to Exhale (1995)     Comedy       Drama   \n",
      "4           5  Father of the Bride Part II (1995)     Comedy         NaN   \n",
      "...       ...                                 ...        ...         ...   \n",
      "3878     3948             Meet the Parents (2000)     Comedy         NaN   \n",
      "3879     3949          Requiem for a Dream (2000)      Drama         NaN   \n",
      "3880     3950                    Tigerland (2000)      Drama         NaN   \n",
      "3881     3951             Two Family House (2000)      Drama         NaN   \n",
      "3882     3952               Contender, The (2000)      Drama    Thriller   \n",
      "\n",
      "      Genre 3 Genre 4 Genre 5 Genre 6  \n",
      "0      Comedy     NaN     NaN     NaN  \n",
      "1     Fantasy     NaN     NaN     NaN  \n",
      "2         NaN     NaN     NaN     NaN  \n",
      "3         NaN     NaN     NaN     NaN  \n",
      "4         NaN     NaN     NaN     NaN  \n",
      "...       ...     ...     ...     ...  \n",
      "3878      NaN     NaN     NaN     NaN  \n",
      "3879      NaN     NaN     NaN     NaN  \n",
      "3880      NaN     NaN     NaN     NaN  \n",
      "3881      NaN     NaN     NaN     NaN  \n",
      "3882      NaN     NaN     NaN     NaN  \n",
      "\n",
      "[3883 rows x 8 columns]\n"
     ]
    }
   ],
   "source": [
    "movies_data = pd.read_excel(r'C:\\mahmoud uni\\TU\\WS2022_2023\\Experiment Design\\EX2\\movies.xlsx')\n",
    "print(movies_data)"
   ]
  },
  {
   "cell_type": "code",
   "execution_count": 18,
   "metadata": {},
   "outputs": [],
   "source": [
    "data = pd.merge(movies_data, rating_data, how='inner', on = \"MovieID\")\n",
    "data = pd.merge(data, user_data, how = \"inner\", on = \"UserID\")"
   ]
  },
  {
   "attachments": {},
   "cell_type": "markdown",
   "metadata": {},
   "source": [
    "## Alternative Approach using Implicit Dataset"
   ]
  },
  {
   "cell_type": "code",
   "execution_count": 9,
   "metadata": {},
   "outputs": [],
   "source": [
    "import numpy as np\n",
    "import pandas as pd\n",
    "import implicit\n",
    "import scipy\n",
    "\n",
    "# Als\n",
    "from implicit.datasets.movielens import get_movielens\n",
    "from implicit.als import AlternatingLeastSquares\n",
    "\n",
    "# NDCG\n",
    "from sklearn.metrics import ndcg_score"
   ]
  },
  {
   "attachments": {},
   "cell_type": "markdown",
   "metadata": {},
   "source": [
    "#### Alternative Least Squares"
   ]
  },
  {
   "attachments": {},
   "cell_type": "markdown",
   "metadata": {},
   "source": [
    "Possible fixes/notes:\n",
    "there is a movielens.py file in the examples folder (https://github.com/benfred/implicit)\n",
    "\n",
    "implicit package documentation (https://benfred.github.io/implicit/)\n",
    "\n",
    "\n"
   ]
  },
  {
   "cell_type": "code",
   "execution_count": 10,
   "metadata": {},
   "outputs": [],
   "source": [
    "# Alternative approach\n",
    "movies, ratings = get_movielens(variant=\"1m\")\n",
    "\n",
    "# get the transpose since the most of the functions in implicit expect (user, item) \n",
    "# sparse matrices instead of (item, user)\n",
    "moviesT = ratings.T.tocsr()"
   ]
  },
  {
   "cell_type": "code",
   "execution_count": 16,
   "metadata": {},
   "outputs": [
    {
     "ename": "AttributeError",
     "evalue": "'numpy.ndarray' object has no attribute 'head'",
     "output_type": "error",
     "traceback": [
      "\u001b[1;31m---------------------------------------------------------------------------\u001b[0m",
      "\u001b[1;31mAttributeError\u001b[0m                            Traceback (most recent call last)",
      "\u001b[1;32mc:\\mahmoud uni\\TU\\WS2022_2023\\Experiment Design\\EX2\\ex2_first_steps.ipynb Cell 16\u001b[0m in \u001b[0;36m<cell line: 1>\u001b[1;34m()\u001b[0m\n\u001b[1;32m----> <a href='vscode-notebook-cell:/c%3A/mahmoud%20uni/TU/WS2022_2023/Experiment%20Design/EX2/ex2_first_steps.ipynb#X36sZmlsZQ%3D%3D?line=0'>1</a>\u001b[0m ratings\u001b[39m.\u001b[39;49mhead\n",
      "\u001b[1;31mAttributeError\u001b[0m: 'numpy.ndarray' object has no attribute 'head'"
     ]
    }
   ],
   "source": [
    "ratings.head"
   ]
  },
  {
   "attachments": {},
   "cell_type": "markdown",
   "metadata": {},
   "source": [
    "Implicit provides implementations of several different algorithms for implicit feedback recommender systems. In the paper they use the AlternatingLeastSquares model. \n",
    "\n",
    " This model aims to learn a binary target of whether each user has interacted with each item - but weights each binary interaction by a confidence value of how confident we are in this user/item interaction. The implementation in implicit uses the values of a sparse matrix to represent the confidences, with the non zero entries representing whether or not the user has interacted with the item."
   ]
  },
  {
   "cell_type": "code",
   "execution_count": 11,
   "metadata": {},
   "outputs": [
    {
     "data": {
      "application/vnd.jupyter.widget-view+json": {
       "model_id": "70742aa39dcb40c0beb8609d50848238",
       "version_major": 2,
       "version_minor": 0
      },
      "text/plain": [
       "  0%|          | 0/15 [00:00<?, ?it/s]"
      ]
     },
     "metadata": {},
     "output_type": "display_data"
    }
   ],
   "source": [
    "# AlternativeLeastSquares\n",
    "model = AlternatingLeastSquares(factors=50, regularization=0.01)\n",
    "temp = model.fit(moviesT)"
   ]
  },
  {
   "attachments": {},
   "cell_type": "markdown",
   "metadata": {},
   "source": [
    "The .recommend call will compute the N best recommendations for each user in the input, and return the itemids in the ids array as well as the computed scores in the scores array. We can see what the musicians are recommended for each user by looking up the ids in the artists array:"
   ]
  },
  {
   "attachments": {},
   "cell_type": "markdown",
   "metadata": {},
   "source": [
    "#### Roadmap\n",
    "- Make 1000 recommendations for every user\n",
    "- measure results (scores?) using NDCG\n",
    "- MRR\n",
    "- RBP\n",
    "- Perform Kruskal-Wallis significance on mean NDCG values between demographic groups"
   ]
  },
  {
   "attachments": {},
   "cell_type": "markdown",
   "metadata": {},
   "source": [
    "#### ALS"
   ]
  },
  {
   "cell_type": "code",
   "execution_count": 12,
   "metadata": {},
   "outputs": [
    {
     "data": {
      "text/html": [
       "<div>\n",
       "<style scoped>\n",
       "    .dataframe tbody tr th:only-of-type {\n",
       "        vertical-align: middle;\n",
       "    }\n",
       "\n",
       "    .dataframe tbody tr th {\n",
       "        vertical-align: top;\n",
       "    }\n",
       "\n",
       "    .dataframe thead th {\n",
       "        text-align: right;\n",
       "    }\n",
       "</style>\n",
       "<table border=\"1\" class=\"dataframe\">\n",
       "  <thead>\n",
       "    <tr style=\"text-align: right;\">\n",
       "      <th></th>\n",
       "      <th>movies</th>\n",
       "      <th>score</th>\n",
       "      <th>already_liked</th>\n",
       "    </tr>\n",
       "  </thead>\n",
       "  <tbody>\n",
       "    <tr>\n",
       "      <th>0</th>\n",
       "      <td>Beauty and the Beast (1991)</td>\n",
       "      <td>1.045676</td>\n",
       "      <td>True</td>\n",
       "    </tr>\n",
       "    <tr>\n",
       "      <th>1</th>\n",
       "      <td>Toy Story (1995)</td>\n",
       "      <td>1.023153</td>\n",
       "      <td>True</td>\n",
       "    </tr>\n",
       "    <tr>\n",
       "      <th>2</th>\n",
       "      <td>Lion King, The (1994)</td>\n",
       "      <td>0.973881</td>\n",
       "      <td>False</td>\n",
       "    </tr>\n",
       "    <tr>\n",
       "      <th>3</th>\n",
       "      <td>Toy Story 2 (1999)</td>\n",
       "      <td>0.971791</td>\n",
       "      <td>True</td>\n",
       "    </tr>\n",
       "    <tr>\n",
       "      <th>4</th>\n",
       "      <td>Wizard of Oz, The (1939)</td>\n",
       "      <td>0.933014</td>\n",
       "      <td>True</td>\n",
       "    </tr>\n",
       "    <tr>\n",
       "      <th>...</th>\n",
       "      <td>...</td>\n",
       "      <td>...</td>\n",
       "      <td>...</td>\n",
       "    </tr>\n",
       "    <tr>\n",
       "      <th>995</th>\n",
       "      <td>Bandits (1997)</td>\n",
       "      <td>0.037338</td>\n",
       "      <td>False</td>\n",
       "    </tr>\n",
       "    <tr>\n",
       "      <th>996</th>\n",
       "      <td>Klute (1971)</td>\n",
       "      <td>0.037207</td>\n",
       "      <td>False</td>\n",
       "    </tr>\n",
       "    <tr>\n",
       "      <th>997</th>\n",
       "      <td>Thing From Another World, The (1951)</td>\n",
       "      <td>0.037140</td>\n",
       "      <td>False</td>\n",
       "    </tr>\n",
       "    <tr>\n",
       "      <th>998</th>\n",
       "      <td>Footloose (1984)</td>\n",
       "      <td>0.037104</td>\n",
       "      <td>False</td>\n",
       "    </tr>\n",
       "    <tr>\n",
       "      <th>999</th>\n",
       "      <td>After Life (1998)</td>\n",
       "      <td>0.036800</td>\n",
       "      <td>False</td>\n",
       "    </tr>\n",
       "  </tbody>\n",
       "</table>\n",
       "<p>1000 rows × 3 columns</p>\n",
       "</div>"
      ],
      "text/plain": [
       "                                   movies     score  already_liked\n",
       "0             Beauty and the Beast (1991)  1.045676           True\n",
       "1                        Toy Story (1995)  1.023153           True\n",
       "2                   Lion King, The (1994)  0.973881          False\n",
       "3                      Toy Story 2 (1999)  0.971791           True\n",
       "4                Wizard of Oz, The (1939)  0.933014           True\n",
       "..                                    ...       ...            ...\n",
       "995                        Bandits (1997)  0.037338          False\n",
       "996                          Klute (1971)  0.037207          False\n",
       "997  Thing From Another World, The (1951)  0.037140          False\n",
       "998                      Footloose (1984)  0.037104          False\n",
       "999                     After Life (1998)  0.036800          False\n",
       "\n",
       "[1000 rows x 3 columns]"
      ]
     },
     "execution_count": 12,
     "metadata": {},
     "output_type": "execute_result"
    }
   ],
   "source": [
    "# TODO make recommendations for all the users\n",
    "# min 1\n",
    "# max 6040\n",
    "\n",
    "userid = 1\n",
    "ids, scores = model.recommend(userid, moviesT[userid], N = 1000, filter_already_liked_items=False)\n",
    "pd.DataFrame({\"movies\": movies[ids], \"score\": scores, \"already_liked\": np.in1d(ids, moviesT[userid].indices)})\n"
   ]
  },
  {
   "cell_type": "code",
   "execution_count": 13,
   "metadata": {},
   "outputs": [],
   "source": [
    "# Calculating 1k Scores for all users\n",
    "df_dict = {}\n",
    "\n",
    "for userid in range(1, 6040):\n",
    "    ids, scores = model.recommend(userid, moviesT[userid], N = 1000, filter_already_liked_items=False)\n",
    "    df_dict[\"userScore{0}\".format(userid)] = pd.DataFrame({\"movies\": movies[ids], \"score\": scores, \"already_liked\": np.in1d(ids, moviesT[userid].indices)})\n"
   ]
  },
  {
   "cell_type": "code",
   "execution_count": 14,
   "metadata": {},
   "outputs": [],
   "source": [
    "# Alternative way of calculacting batch recommendations\n",
    "userids = np.arange(6041)\n",
    "bIds, bScores = model.recommend(userids, moviesT[userids], N = 1000)"
   ]
  },
  {
   "attachments": {},
   "cell_type": "markdown",
   "metadata": {},
   "source": [
    "#### NDCG"
   ]
  },
  {
   "cell_type": "code",
   "execution_count": 17,
   "metadata": {},
   "outputs": [
    {
     "data": {
      "text/html": [
       "<div>\n",
       "<style scoped>\n",
       "    .dataframe tbody tr th:only-of-type {\n",
       "        vertical-align: middle;\n",
       "    }\n",
       "\n",
       "    .dataframe tbody tr th {\n",
       "        vertical-align: top;\n",
       "    }\n",
       "\n",
       "    .dataframe thead th {\n",
       "        text-align: right;\n",
       "    }\n",
       "</style>\n",
       "<table border=\"1\" class=\"dataframe\">\n",
       "  <thead>\n",
       "    <tr style=\"text-align: right;\">\n",
       "      <th></th>\n",
       "      <th>movies</th>\n",
       "      <th>score</th>\n",
       "      <th>already_liked</th>\n",
       "    </tr>\n",
       "  </thead>\n",
       "  <tbody>\n",
       "    <tr>\n",
       "      <th>0</th>\n",
       "      <td>Toy Story (1995)</td>\n",
       "      <td>1.006420</td>\n",
       "      <td>True</td>\n",
       "    </tr>\n",
       "    <tr>\n",
       "      <th>1</th>\n",
       "      <td>Beauty and the Beast (1991)</td>\n",
       "      <td>1.005634</td>\n",
       "      <td>True</td>\n",
       "    </tr>\n",
       "    <tr>\n",
       "      <th>2</th>\n",
       "      <td>Toy Story 2 (1999)</td>\n",
       "      <td>1.005403</td>\n",
       "      <td>True</td>\n",
       "    </tr>\n",
       "    <tr>\n",
       "      <th>3</th>\n",
       "      <td>Aladdin (1992)</td>\n",
       "      <td>0.938332</td>\n",
       "      <td>True</td>\n",
       "    </tr>\n",
       "    <tr>\n",
       "      <th>4</th>\n",
       "      <td>Lion King, The (1994)</td>\n",
       "      <td>0.930784</td>\n",
       "      <td>False</td>\n",
       "    </tr>\n",
       "    <tr>\n",
       "      <th>...</th>\n",
       "      <td>...</td>\n",
       "      <td>...</td>\n",
       "      <td>...</td>\n",
       "    </tr>\n",
       "    <tr>\n",
       "      <th>995</th>\n",
       "      <td>Dick (1999)</td>\n",
       "      <td>0.035864</td>\n",
       "      <td>False</td>\n",
       "    </tr>\n",
       "    <tr>\n",
       "      <th>996</th>\n",
       "      <td>When the Cats Away (Chacun cherche son chat) (...</td>\n",
       "      <td>0.035856</td>\n",
       "      <td>False</td>\n",
       "    </tr>\n",
       "    <tr>\n",
       "      <th>997</th>\n",
       "      <td>Age of Innocence, The (1993)</td>\n",
       "      <td>0.035845</td>\n",
       "      <td>False</td>\n",
       "    </tr>\n",
       "    <tr>\n",
       "      <th>998</th>\n",
       "      <td>Madame Sousatzka (1988)</td>\n",
       "      <td>0.035817</td>\n",
       "      <td>False</td>\n",
       "    </tr>\n",
       "    <tr>\n",
       "      <th>999</th>\n",
       "      <td>Desert Bloom (1986)</td>\n",
       "      <td>0.035798</td>\n",
       "      <td>False</td>\n",
       "    </tr>\n",
       "  </tbody>\n",
       "</table>\n",
       "<p>1000 rows × 3 columns</p>\n",
       "</div>"
      ],
      "text/plain": [
       "                                                movies     score  \\\n",
       "0                                     Toy Story (1995)  1.006420   \n",
       "1                          Beauty and the Beast (1991)  1.005634   \n",
       "2                                   Toy Story 2 (1999)  1.005403   \n",
       "3                                       Aladdin (1992)  0.938332   \n",
       "4                                Lion King, The (1994)  0.930784   \n",
       "..                                                 ...       ...   \n",
       "995                                        Dick (1999)  0.035864   \n",
       "996  When the Cats Away (Chacun cherche son chat) (...  0.035856   \n",
       "997                       Age of Innocence, The (1993)  0.035845   \n",
       "998                            Madame Sousatzka (1988)  0.035817   \n",
       "999                                Desert Bloom (1986)  0.035798   \n",
       "\n",
       "     already_liked  \n",
       "0             True  \n",
       "1             True  \n",
       "2             True  \n",
       "3             True  \n",
       "4            False  \n",
       "..             ...  \n",
       "995          False  \n",
       "996          False  \n",
       "997          False  \n",
       "998          False  \n",
       "999          False  \n",
       "\n",
       "[1000 rows x 3 columns]"
      ]
     },
     "execution_count": 17,
     "metadata": {},
     "output_type": "execute_result"
    }
   ],
   "source": [
    "df_dict[\"userScore1\"]"
   ]
  },
  {
   "cell_type": "code",
   "execution_count": 16,
   "metadata": {},
   "outputs": [
    {
     "ename": "TypeError",
     "evalue": "ndcg_score() missing 1 required positional argument: 'y_score'",
     "output_type": "error",
     "traceback": [
      "\u001b[1;31m---------------------------------------------------------------------------\u001b[0m",
      "\u001b[1;31mTypeError\u001b[0m                                 Traceback (most recent call last)",
      "\u001b[1;32mc:\\mahmoud uni\\TU\\WS2022_2023\\Experiment Design\\EX2\\ex2_first_steps.ipynb Cell 24\u001b[0m in \u001b[0;36m<cell line: 2>\u001b[1;34m()\u001b[0m\n\u001b[0;32m      <a href='vscode-notebook-cell:/c%3A/mahmoud%20uni/TU/WS2022_2023/Experiment%20Design/EX2/ex2_first_steps.ipynb#X31sZmlsZQ%3D%3D?line=0'>1</a>\u001b[0m y_score \u001b[39m=\u001b[39m df_dict[\u001b[39m\"\u001b[39m\u001b[39muserScore1\u001b[39m\u001b[39m\"\u001b[39m]\n\u001b[1;32m----> <a href='vscode-notebook-cell:/c%3A/mahmoud%20uni/TU/WS2022_2023/Experiment%20Design/EX2/ex2_first_steps.ipynb#X31sZmlsZQ%3D%3D?line=1'>2</a>\u001b[0m ndcg_score(y_score[\u001b[39m\"\u001b[39;49m\u001b[39mscore\u001b[39;49m\u001b[39m\"\u001b[39;49m])\n",
      "\u001b[1;31mTypeError\u001b[0m: ndcg_score() missing 1 required positional argument: 'y_score'"
     ]
    }
   ],
   "source": [
    "# TODO: Problem: true relevance scores for all metrics -> vielleicht Bewertungen normieren \n",
    "# und als true relevance nutzen? \n",
    "y_score = df_dict[\"userScore1\"]\n",
    "ndcg_score(y_true, y_score[\"score\"])"
   ]
  }
 ],
 "metadata": {
  "kernelspec": {
   "display_name": "base",
   "language": "python",
   "name": "python3"
  },
  "language_info": {
   "codemirror_mode": {
    "name": "ipython",
    "version": 3
   },
   "file_extension": ".py",
   "mimetype": "text/x-python",
   "name": "python",
   "nbconvert_exporter": "python",
   "pygments_lexer": "ipython3",
   "version": "3.9.12"
  },
  "orig_nbformat": 4,
  "vscode": {
   "interpreter": {
    "hash": "ceeee6dd692a475f692a3bba0b8e621ace64edd96d4c0f3af785f7f98f8d12c7"
   }
  }
 },
 "nbformat": 4,
 "nbformat_minor": 2
}
