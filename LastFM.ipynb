{
 "cells": [
  {
   "cell_type": "code",
   "execution_count": 33,
   "metadata": {
    "collapsed": true
   },
   "outputs": [],
   "source": [
    "import pandas as pd\n",
    "import seaborn as sns\n",
    "import numpy as np\n",
    "from implicit.datasets.lastfm import get_lastfm\n",
    "import h5py\n",
    "from implicit.nearest_neighbours import bm25_weight\n",
    "import scipy\n",
    "import matplotlib.pyplot as plt\n",
    "from scipy import stats\n",
    "\n",
    "from sklearn.model_selection import KFold\n",
    "from implicit.evaluation import ndcg_at_k\n",
    "from implicit.evaluation import train_test_split\n",
    "from implicit.als import AlternatingLeastSquares"
   ]
  },
  {
   "cell_type": "markdown",
   "source": [
    "# LastFM Dataset"
   ],
   "metadata": {
    "collapsed": false
   }
  },
  {
   "cell_type": "code",
   "execution_count": 2,
   "outputs": [],
   "source": [
    "def get_users_by_usage(ratings_df):\n",
    "\n",
    "    labels = list(range(1, 8))\n",
    "    popularity_cut = pd.qcut(ratings_df.groupby('user_id').artist_id.nunique(), 7)\n",
    "    popularity_cut = popularity_cut.cat.rename_categories(labels)\n",
    "    popularity_cut = pd.DataFrame(popularity_cut)\n",
    "    popularity_cut = popularity_cut.reset_index(drop=False)\n",
    "    popularity_cut.columns = ['user_id', 'usage']\n",
    "\n",
    "    popularity_cut_counts = pd.DataFrame(popularity_cut.groupby('usage').count())\n",
    "    popularity_cut_counts = popularity_cut_counts.reset_index(drop=False)\n",
    "    popularity_cut_counts['percentage'] = popularity_cut_counts.user_id / popularity_cut_counts.user_id.sum()\n",
    "\n",
    "    return popularity_cut, popularity_cut_counts"
   ],
   "metadata": {
    "collapsed": false
   }
  },
  {
   "cell_type": "code",
   "execution_count": 3,
   "outputs": [],
   "source": [
    "def get_divided_test_fold(ratings_df, test_index, sampling_rate=.2):\n",
    "    test_fold_df = ratings_df[ratings_df.user_id.isin(test_index)].copy()\n",
    "    test_df = test_fold_df.groupby('user_id').sample(frac=.2)\n",
    "    test_fold_df.loc[test_fold_df.user_id.isin(test_df.user_id), 'plays'] = 0\n",
    "\n",
    "    return test_fold_df, test_df"
   ],
   "metadata": {
    "collapsed": false
   }
  },
  {
   "cell_type": "code",
   "execution_count": 4,
   "outputs": [],
   "source": [
    "def get_age_bins():\n",
    "    age_bins = {}\n",
    "    age_bins[1] = '1-17'\n",
    "    age_bins[18] = '18-24'\n",
    "    age_bins[25] = '25-34'\n",
    "    age_bins[35] = '35-44'\n",
    "    age_bins[45] = '45-49'\n",
    "    age_bins[50] = '50-55'\n",
    "    age_bins[56] = '56+'\n",
    "\n",
    "    age_labels = list(age_bins.values())\n",
    "\n",
    "    return age_bins, age_labels"
   ],
   "metadata": {
    "collapsed": false
   }
  },
  {
   "cell_type": "code",
   "execution_count": 5,
   "outputs": [],
   "source": [
    "def get_metric_dict(users, column, values=None):\n",
    "    metric_dict = {}\n",
    "    if not values:\n",
    "        values = users[column].unique()\n",
    "    for g in values:\n",
    "        metric_dict[g] = []\n",
    "    return metric_dict"
   ],
   "metadata": {
    "collapsed": false
   }
  },
  {
   "cell_type": "markdown",
   "source": [
    "# Preparation"
   ],
   "metadata": {
    "collapsed": false
   }
  },
  {
   "cell_type": "code",
   "execution_count": 6,
   "outputs": [],
   "source": [
    "cols = ['user_id', 'artist_id', 'artist_name', 'plays']\n",
    "data_artists = pd.read_csv(\"lastfm-dataset-360K/usersha1-artmbid-artname-plays.tsv\", sep=\"\\t\", names=cols, header=None)\n",
    "\n",
    "cols = ['user_id', 'gender', 'age', 'country', 'signup']\n",
    "data_users = pd.read_csv(\"lastfm-dataset-360K/usersha1-profile.tsv\", sep=\"\\t\", names=cols, header=None)\n",
    "\n",
    "bins = [0, 18, 25, 35, 45, 50, 56, np.inf]\n",
    "names = ['1', '18','25', '35', '45', '50','55']\n",
    "data_users['AgeRange'] = pd.cut(data_users['age'], bins, labels=names)\n",
    "data_users['AgeRange'] = pd.to_numeric(data_users['AgeRange'])\n",
    "\n",
    "df = pd.merge(data_artists, data_users, on='user_id')\n",
    "\n",
    "artists, users, artist_user_plays = get_lastfm()\n",
    "artist_user_plays = bm25_weight(artist_user_plays, K1=100, B=0.8)\n",
    "\n",
    "# user_plays = artist_user_plays.T.tocsr()\n",
    "user_plays = artist_user_plays.T"
   ],
   "metadata": {
    "collapsed": false
   }
  },
  {
   "cell_type": "code",
   "execution_count": 21,
   "outputs": [
    {
     "data": {
      "text/plain": "0         18.0\n3         18.0\n4         25.0\n5         18.0\n6          1.0\n          ... \n359342    18.0\n359343    18.0\n359344    18.0\n359345    18.0\n359346    18.0\nName: AgeRange, Length: 284390, dtype: float64"
     },
     "execution_count": 21,
     "metadata": {},
     "output_type": "execute_result"
    }
   ],
   "source": [
    "data_users['AgeRange'].dropna()"
   ],
   "metadata": {
    "collapsed": false
   }
  },
  {
   "cell_type": "markdown",
   "source": [
    "# CV"
   ],
   "metadata": {
    "collapsed": false
   }
  },
  {
   "cell_type": "code",
   "execution_count": 8,
   "outputs": [],
   "source": [
    "users_df = pd.DataFrame({'user': users}).reset_index()\n",
    "users_df.rename(columns={\"index\": \"user_id\"}, inplace=True)\n",
    "c = user_plays.tocoo()\n",
    "t_df = pd.DataFrame({'user_id': c.row, 'artist_id': c.col, 'plays': c.data})\n",
    "t_df = pd.merge(t_df, users_df, on='user_id')\n",
    "# t_df = t_df.drop(['index'], axis=1)\n",
    "\n",
    "artists_df = pd.DataFrame({'artist': artists}).reset_index()\n",
    "artists_df.rename(columns={\"index\": \"artist_id\"}, inplace=True)\n",
    "t_df = pd.merge(t_df, artists_df, on='artist_id')\n",
    "# t_df = t_df.drop(['index'], axis=1)\n",
    "\n",
    "\n",
    "counts = t_df['user_id'].value_counts()\n",
    "t_df_40 = t_df[~t_df['user_id'].isin(counts[counts < 41].index)]\n",
    "# t_df_40.reset_index()\n",
    "# counts_5000 = counts.sample(n = 5000, random_state = 12345)\n",
    "# t_df_5000 = t_df_40[t_df_40['users'].isin(counts_5000.index)]\n",
    "\n",
    "list1 = t_df_40['user_id'].tolist()\n",
    "list2 = t_df_40['artist_id'].tolist()\n",
    "list3 = t_df_40['plays'].tolist()\n",
    "# list3 = t_df_40['index'].tolist()\n",
    "\n",
    "c.row = np.array(list1)\n",
    "c.col = np.array(list2)\n",
    "c.data = np.array(list3)\n",
    "\n",
    "new_matrix = scipy.sparse.csr_matrix(c)\n",
    "user_plays = new_matrix"
   ],
   "metadata": {
    "collapsed": false
   }
  },
  {
   "cell_type": "code",
   "execution_count": 9,
   "outputs": [
    {
     "data": {
      "text/plain": "          user_id  artist_id       plays  \\\n1           97856          0  395.425492   \n5          295693       5653   28.194612   \n6          261155       5653   11.727594   \n8            6074       5653    3.704413   \n9           21564       5653    0.384355   \n...           ...        ...         ...   \n17535531    59741     284782  680.761611   \n17535540   336980     159947   79.596436   \n17535557   343771     146186  828.216540   \n17535558   229657     206794  582.441098   \n17535559   229657     255648  520.166824   \n\n                                              user                      artist  \n1         45deffe1bd79b13110971a2c7a0f2d416f2fc974                          2   \n5         d2ff03808cb5b6efbe1c6106a7e854c79005dcf8                   [unknown]  \n6         ba9c29362dbdfd78588df92e5f67d20ec663884a                   [unknown]  \n8         0463e09d869bcbb56e6841f216a5dda6e16b7bf5                   [unknown]  \n9         0f53077431f9edc421b08cf670da40263ad31dff                   [unknown]  \n...                                            ...                         ...  \n17535531  2ab0f8005039faf9f6d50da38c60637096e8d8d6               àåøï øåæï-ãäï  \n17535540  f06c1641a0db1b59a07007ffd26f54efb6aabc32  kevin devine & jesse lacey  \n17535557  f532a419e30b2ba1f90cf3b798872bd9ea8f6b6d                 janice (衛蘭)  \n17535558  a41c605e6449494503ea3c46ab8b1465179e5e0e               painted faces  \n17535559  a41c605e6449494503ea3c46ab8b1465179e5e0e                   the event  \n\n[16431301 rows x 5 columns]",
      "text/html": "<div>\n<style scoped>\n    .dataframe tbody tr th:only-of-type {\n        vertical-align: middle;\n    }\n\n    .dataframe tbody tr th {\n        vertical-align: top;\n    }\n\n    .dataframe thead th {\n        text-align: right;\n    }\n</style>\n<table border=\"1\" class=\"dataframe\">\n  <thead>\n    <tr style=\"text-align: right;\">\n      <th></th>\n      <th>user_id</th>\n      <th>artist_id</th>\n      <th>plays</th>\n      <th>user</th>\n      <th>artist</th>\n    </tr>\n  </thead>\n  <tbody>\n    <tr>\n      <th>1</th>\n      <td>97856</td>\n      <td>0</td>\n      <td>395.425492</td>\n      <td>45deffe1bd79b13110971a2c7a0f2d416f2fc974</td>\n      <td>2</td>\n    </tr>\n    <tr>\n      <th>5</th>\n      <td>295693</td>\n      <td>5653</td>\n      <td>28.194612</td>\n      <td>d2ff03808cb5b6efbe1c6106a7e854c79005dcf8</td>\n      <td>[unknown]</td>\n    </tr>\n    <tr>\n      <th>6</th>\n      <td>261155</td>\n      <td>5653</td>\n      <td>11.727594</td>\n      <td>ba9c29362dbdfd78588df92e5f67d20ec663884a</td>\n      <td>[unknown]</td>\n    </tr>\n    <tr>\n      <th>8</th>\n      <td>6074</td>\n      <td>5653</td>\n      <td>3.704413</td>\n      <td>0463e09d869bcbb56e6841f216a5dda6e16b7bf5</td>\n      <td>[unknown]</td>\n    </tr>\n    <tr>\n      <th>9</th>\n      <td>21564</td>\n      <td>5653</td>\n      <td>0.384355</td>\n      <td>0f53077431f9edc421b08cf670da40263ad31dff</td>\n      <td>[unknown]</td>\n    </tr>\n    <tr>\n      <th>...</th>\n      <td>...</td>\n      <td>...</td>\n      <td>...</td>\n      <td>...</td>\n      <td>...</td>\n    </tr>\n    <tr>\n      <th>17535531</th>\n      <td>59741</td>\n      <td>284782</td>\n      <td>680.761611</td>\n      <td>2ab0f8005039faf9f6d50da38c60637096e8d8d6</td>\n      <td>àåøï øåæï-ãäï</td>\n    </tr>\n    <tr>\n      <th>17535540</th>\n      <td>336980</td>\n      <td>159947</td>\n      <td>79.596436</td>\n      <td>f06c1641a0db1b59a07007ffd26f54efb6aabc32</td>\n      <td>kevin devine &amp; jesse lacey</td>\n    </tr>\n    <tr>\n      <th>17535557</th>\n      <td>343771</td>\n      <td>146186</td>\n      <td>828.216540</td>\n      <td>f532a419e30b2ba1f90cf3b798872bd9ea8f6b6d</td>\n      <td>janice (衛蘭)</td>\n    </tr>\n    <tr>\n      <th>17535558</th>\n      <td>229657</td>\n      <td>206794</td>\n      <td>582.441098</td>\n      <td>a41c605e6449494503ea3c46ab8b1465179e5e0e</td>\n      <td>painted faces</td>\n    </tr>\n    <tr>\n      <th>17535559</th>\n      <td>229657</td>\n      <td>255648</td>\n      <td>520.166824</td>\n      <td>a41c605e6449494503ea3c46ab8b1465179e5e0e</td>\n      <td>the event</td>\n    </tr>\n  </tbody>\n</table>\n<p>16431301 rows × 5 columns</p>\n</div>"
     },
     "execution_count": 9,
     "metadata": {},
     "output_type": "execute_result"
    }
   ],
   "source": [
    "t_df_40['']"
   ],
   "metadata": {
    "collapsed": false
   }
  },
  {
   "cell_type": "code",
   "execution_count": 12,
   "outputs": [],
   "source": [
    "# t_df_40 = pd.merge(t_df_40, df, left_on='user', right_on='user_id')\n",
    "popularity_cut, popularity_cut_counts = get_users_by_usage(df)\n",
    "age_bins, age_labels = get_age_bins()"
   ],
   "metadata": {
    "collapsed": false
   }
  },
  {
   "cell_type": "code",
   "execution_count": 13,
   "outputs": [
    {
     "data": {
      "text/plain": "                                           user_id  \\\n0         00000c289a1829a808ac09c00daf10bc3c4e223b   \n1         00000c289a1829a808ac09c00daf10bc3c4e223b   \n2         00000c289a1829a808ac09c00daf10bc3c4e223b   \n3         00000c289a1829a808ac09c00daf10bc3c4e223b   \n4         00000c289a1829a808ac09c00daf10bc3c4e223b   \n...                                            ...   \n17535564  ffff9ef87a7d9494ada2f9ade4b9ff637c0759ac   \n17535565  ffff9ef87a7d9494ada2f9ade4b9ff637c0759ac   \n17535566  ffff9ef87a7d9494ada2f9ade4b9ff637c0759ac   \n17535567  ffff9ef87a7d9494ada2f9ade4b9ff637c0759ac   \n17535568  ffff9ef87a7d9494ada2f9ade4b9ff637c0759ac   \n\n                                     artist_id           artist_name  plays  \\\n0         3bd73256-3905-4f3a-97e2-8b341527f805       betty blowtorch   2137   \n1         f2fb0ff0-5679-42ec-a55c-15109ce6e320             die Ärzte   1099   \n2         b3ae82c2-e60b-4551-a76d-6620f1b456aa     melissa etheridge    897   \n3         3d6bbeb7-f90e-4d10-b440-e153c0d10b53             elvenking    717   \n4         bbd2ffd7-17f4-4506-8572-c1ea58c3f9a8  juliette & the licks    706   \n...                                        ...                   ...    ...   \n17535564  7e482754-d3f6-49e5-b351-235849754e26             tristania     61   \n17535565  656a0800-3a2b-47ed-a3ff-1e2908fdd2ff               xandria     61   \n17535566  4d7928cd-7ed2-4282-8c29-c0c9f966f1bd          alice cooper     59   \n17535567  298909e4-ebcb-47b8-95e9-cc53b087fc65           lamb of god     58   \n17535568  ef58d4c9-0d40-42ba-bfab-9186c1483edd           dragonforce     57   \n\n         gender   age  country        signup  AgeRange  \n0             f  22.0  Germany   Feb 1, 2007      18.0  \n1             f  22.0  Germany   Feb 1, 2007      18.0  \n2             f  22.0  Germany   Feb 1, 2007      18.0  \n3             f  22.0  Germany   Feb 1, 2007      18.0  \n4             f  22.0  Germany   Feb 1, 2007      18.0  \n...         ...   ...      ...           ...       ...  \n17535564      m  21.0  Belgium  Nov 25, 2008      18.0  \n17535565      m  21.0  Belgium  Nov 25, 2008      18.0  \n17535566      m  21.0  Belgium  Nov 25, 2008      18.0  \n17535567      m  21.0  Belgium  Nov 25, 2008      18.0  \n17535568      m  21.0  Belgium  Nov 25, 2008      18.0  \n\n[17535569 rows x 9 columns]",
      "text/html": "<div>\n<style scoped>\n    .dataframe tbody tr th:only-of-type {\n        vertical-align: middle;\n    }\n\n    .dataframe tbody tr th {\n        vertical-align: top;\n    }\n\n    .dataframe thead th {\n        text-align: right;\n    }\n</style>\n<table border=\"1\" class=\"dataframe\">\n  <thead>\n    <tr style=\"text-align: right;\">\n      <th></th>\n      <th>user_id</th>\n      <th>artist_id</th>\n      <th>artist_name</th>\n      <th>plays</th>\n      <th>gender</th>\n      <th>age</th>\n      <th>country</th>\n      <th>signup</th>\n      <th>AgeRange</th>\n    </tr>\n  </thead>\n  <tbody>\n    <tr>\n      <th>0</th>\n      <td>00000c289a1829a808ac09c00daf10bc3c4e223b</td>\n      <td>3bd73256-3905-4f3a-97e2-8b341527f805</td>\n      <td>betty blowtorch</td>\n      <td>2137</td>\n      <td>f</td>\n      <td>22.0</td>\n      <td>Germany</td>\n      <td>Feb 1, 2007</td>\n      <td>18.0</td>\n    </tr>\n    <tr>\n      <th>1</th>\n      <td>00000c289a1829a808ac09c00daf10bc3c4e223b</td>\n      <td>f2fb0ff0-5679-42ec-a55c-15109ce6e320</td>\n      <td>die Ärzte</td>\n      <td>1099</td>\n      <td>f</td>\n      <td>22.0</td>\n      <td>Germany</td>\n      <td>Feb 1, 2007</td>\n      <td>18.0</td>\n    </tr>\n    <tr>\n      <th>2</th>\n      <td>00000c289a1829a808ac09c00daf10bc3c4e223b</td>\n      <td>b3ae82c2-e60b-4551-a76d-6620f1b456aa</td>\n      <td>melissa etheridge</td>\n      <td>897</td>\n      <td>f</td>\n      <td>22.0</td>\n      <td>Germany</td>\n      <td>Feb 1, 2007</td>\n      <td>18.0</td>\n    </tr>\n    <tr>\n      <th>3</th>\n      <td>00000c289a1829a808ac09c00daf10bc3c4e223b</td>\n      <td>3d6bbeb7-f90e-4d10-b440-e153c0d10b53</td>\n      <td>elvenking</td>\n      <td>717</td>\n      <td>f</td>\n      <td>22.0</td>\n      <td>Germany</td>\n      <td>Feb 1, 2007</td>\n      <td>18.0</td>\n    </tr>\n    <tr>\n      <th>4</th>\n      <td>00000c289a1829a808ac09c00daf10bc3c4e223b</td>\n      <td>bbd2ffd7-17f4-4506-8572-c1ea58c3f9a8</td>\n      <td>juliette &amp; the licks</td>\n      <td>706</td>\n      <td>f</td>\n      <td>22.0</td>\n      <td>Germany</td>\n      <td>Feb 1, 2007</td>\n      <td>18.0</td>\n    </tr>\n    <tr>\n      <th>...</th>\n      <td>...</td>\n      <td>...</td>\n      <td>...</td>\n      <td>...</td>\n      <td>...</td>\n      <td>...</td>\n      <td>...</td>\n      <td>...</td>\n      <td>...</td>\n    </tr>\n    <tr>\n      <th>17535564</th>\n      <td>ffff9ef87a7d9494ada2f9ade4b9ff637c0759ac</td>\n      <td>7e482754-d3f6-49e5-b351-235849754e26</td>\n      <td>tristania</td>\n      <td>61</td>\n      <td>m</td>\n      <td>21.0</td>\n      <td>Belgium</td>\n      <td>Nov 25, 2008</td>\n      <td>18.0</td>\n    </tr>\n    <tr>\n      <th>17535565</th>\n      <td>ffff9ef87a7d9494ada2f9ade4b9ff637c0759ac</td>\n      <td>656a0800-3a2b-47ed-a3ff-1e2908fdd2ff</td>\n      <td>xandria</td>\n      <td>61</td>\n      <td>m</td>\n      <td>21.0</td>\n      <td>Belgium</td>\n      <td>Nov 25, 2008</td>\n      <td>18.0</td>\n    </tr>\n    <tr>\n      <th>17535566</th>\n      <td>ffff9ef87a7d9494ada2f9ade4b9ff637c0759ac</td>\n      <td>4d7928cd-7ed2-4282-8c29-c0c9f966f1bd</td>\n      <td>alice cooper</td>\n      <td>59</td>\n      <td>m</td>\n      <td>21.0</td>\n      <td>Belgium</td>\n      <td>Nov 25, 2008</td>\n      <td>18.0</td>\n    </tr>\n    <tr>\n      <th>17535567</th>\n      <td>ffff9ef87a7d9494ada2f9ade4b9ff637c0759ac</td>\n      <td>298909e4-ebcb-47b8-95e9-cc53b087fc65</td>\n      <td>lamb of god</td>\n      <td>58</td>\n      <td>m</td>\n      <td>21.0</td>\n      <td>Belgium</td>\n      <td>Nov 25, 2008</td>\n      <td>18.0</td>\n    </tr>\n    <tr>\n      <th>17535568</th>\n      <td>ffff9ef87a7d9494ada2f9ade4b9ff637c0759ac</td>\n      <td>ef58d4c9-0d40-42ba-bfab-9186c1483edd</td>\n      <td>dragonforce</td>\n      <td>57</td>\n      <td>m</td>\n      <td>21.0</td>\n      <td>Belgium</td>\n      <td>Nov 25, 2008</td>\n      <td>18.0</td>\n    </tr>\n  </tbody>\n</table>\n<p>17535569 rows × 9 columns</p>\n</div>"
     },
     "execution_count": 13,
     "metadata": {},
     "output_type": "execute_result"
    }
   ],
   "source": [
    "df"
   ],
   "metadata": {
    "collapsed": false
   }
  },
  {
   "cell_type": "code",
   "execution_count": 24,
   "outputs": [
    {
     "data": {
      "text/plain": "          user_id  artist_id       plays  \\\n1           97856          0  395.425492   \n5          295693       5653   28.194612   \n6          261155       5653   11.727594   \n8            6074       5653    3.704413   \n9           21564       5653    0.384355   \n...           ...        ...         ...   \n17535531    59741     284782  680.761611   \n17535540   336980     159947   79.596436   \n17535557   343771     146186  828.216540   \n17535558   229657     206794  582.441098   \n17535559   229657     255648  520.166824   \n\n                                              user                      artist  \n1         45deffe1bd79b13110971a2c7a0f2d416f2fc974                          2   \n5         d2ff03808cb5b6efbe1c6106a7e854c79005dcf8                   [unknown]  \n6         ba9c29362dbdfd78588df92e5f67d20ec663884a                   [unknown]  \n8         0463e09d869bcbb56e6841f216a5dda6e16b7bf5                   [unknown]  \n9         0f53077431f9edc421b08cf670da40263ad31dff                   [unknown]  \n...                                            ...                         ...  \n17535531  2ab0f8005039faf9f6d50da38c60637096e8d8d6               àåøï øåæï-ãäï  \n17535540  f06c1641a0db1b59a07007ffd26f54efb6aabc32  kevin devine & jesse lacey  \n17535557  f532a419e30b2ba1f90cf3b798872bd9ea8f6b6d                 janice (衛蘭)  \n17535558  a41c605e6449494503ea3c46ab8b1465179e5e0e               painted faces  \n17535559  a41c605e6449494503ea3c46ab8b1465179e5e0e                   the event  \n\n[16431301 rows x 5 columns]",
      "text/html": "<div>\n<style scoped>\n    .dataframe tbody tr th:only-of-type {\n        vertical-align: middle;\n    }\n\n    .dataframe tbody tr th {\n        vertical-align: top;\n    }\n\n    .dataframe thead th {\n        text-align: right;\n    }\n</style>\n<table border=\"1\" class=\"dataframe\">\n  <thead>\n    <tr style=\"text-align: right;\">\n      <th></th>\n      <th>user_id</th>\n      <th>artist_id</th>\n      <th>plays</th>\n      <th>user</th>\n      <th>artist</th>\n    </tr>\n  </thead>\n  <tbody>\n    <tr>\n      <th>1</th>\n      <td>97856</td>\n      <td>0</td>\n      <td>395.425492</td>\n      <td>45deffe1bd79b13110971a2c7a0f2d416f2fc974</td>\n      <td>2</td>\n    </tr>\n    <tr>\n      <th>5</th>\n      <td>295693</td>\n      <td>5653</td>\n      <td>28.194612</td>\n      <td>d2ff03808cb5b6efbe1c6106a7e854c79005dcf8</td>\n      <td>[unknown]</td>\n    </tr>\n    <tr>\n      <th>6</th>\n      <td>261155</td>\n      <td>5653</td>\n      <td>11.727594</td>\n      <td>ba9c29362dbdfd78588df92e5f67d20ec663884a</td>\n      <td>[unknown]</td>\n    </tr>\n    <tr>\n      <th>8</th>\n      <td>6074</td>\n      <td>5653</td>\n      <td>3.704413</td>\n      <td>0463e09d869bcbb56e6841f216a5dda6e16b7bf5</td>\n      <td>[unknown]</td>\n    </tr>\n    <tr>\n      <th>9</th>\n      <td>21564</td>\n      <td>5653</td>\n      <td>0.384355</td>\n      <td>0f53077431f9edc421b08cf670da40263ad31dff</td>\n      <td>[unknown]</td>\n    </tr>\n    <tr>\n      <th>...</th>\n      <td>...</td>\n      <td>...</td>\n      <td>...</td>\n      <td>...</td>\n      <td>...</td>\n    </tr>\n    <tr>\n      <th>17535531</th>\n      <td>59741</td>\n      <td>284782</td>\n      <td>680.761611</td>\n      <td>2ab0f8005039faf9f6d50da38c60637096e8d8d6</td>\n      <td>àåøï øåæï-ãäï</td>\n    </tr>\n    <tr>\n      <th>17535540</th>\n      <td>336980</td>\n      <td>159947</td>\n      <td>79.596436</td>\n      <td>f06c1641a0db1b59a07007ffd26f54efb6aabc32</td>\n      <td>kevin devine &amp; jesse lacey</td>\n    </tr>\n    <tr>\n      <th>17535557</th>\n      <td>343771</td>\n      <td>146186</td>\n      <td>828.216540</td>\n      <td>f532a419e30b2ba1f90cf3b798872bd9ea8f6b6d</td>\n      <td>janice (衛蘭)</td>\n    </tr>\n    <tr>\n      <th>17535558</th>\n      <td>229657</td>\n      <td>206794</td>\n      <td>582.441098</td>\n      <td>a41c605e6449494503ea3c46ab8b1465179e5e0e</td>\n      <td>painted faces</td>\n    </tr>\n    <tr>\n      <th>17535559</th>\n      <td>229657</td>\n      <td>255648</td>\n      <td>520.166824</td>\n      <td>a41c605e6449494503ea3c46ab8b1465179e5e0e</td>\n      <td>the event</td>\n    </tr>\n  </tbody>\n</table>\n<p>16431301 rows × 5 columns</p>\n</div>"
     },
     "execution_count": 24,
     "metadata": {},
     "output_type": "execute_result"
    }
   ],
   "source": [
    "t_df_40"
   ],
   "metadata": {
    "collapsed": false
   }
  },
  {
   "cell_type": "code",
   "execution_count": 15,
   "outputs": [
    {
     "data": {
      "text/plain": "(358868, 292385)"
     },
     "execution_count": 15,
     "metadata": {},
     "output_type": "execute_result"
    }
   ],
   "source": [
    "user_plays.shape"
   ],
   "metadata": {
    "collapsed": false
   }
  },
  {
   "cell_type": "code",
   "execution_count": 16,
   "outputs": [],
   "source": [
    "ndcg_dict_age = get_metric_dict(data_users, 'AgeRange')\n",
    "ndcg_dict_gender = get_metric_dict(data_users, 'gender')\n",
    "ndcg_dict_usage = get_metric_dict(data_users, '', values=range(1, 8))"
   ],
   "metadata": {
    "collapsed": false
   }
  },
  {
   "cell_type": "code",
   "execution_count": 17,
   "outputs": [],
   "source": [
    "ndcg_dicts = {}\n",
    "ndcg_dicts['AgeRange'] = get_metric_dict(data_users, 'AgeRange')\n",
    "ndcg_dicts['gender'] = get_metric_dict(data_users, 'gender')\n",
    "ndcg_dicts['usage'] = get_metric_dict(data_users, '', values=range(1, 8))"
   ],
   "metadata": {
    "collapsed": false
   }
  },
  {
   "cell_type": "code",
   "execution_count": 18,
   "outputs": [
    {
     "data": {
      "text/plain": "user_id         object\nartist_id       object\nartist_name     object\nplays            int64\ngender          object\nage            float64\ncountry         object\nsignup          object\nAgeRange       float64\ndtype: object"
     },
     "execution_count": 18,
     "metadata": {},
     "output_type": "execute_result"
    }
   ],
   "source": [
    "df.dtypes"
   ],
   "metadata": {
    "collapsed": false
   }
  },
  {
   "cell_type": "code",
   "execution_count": 26,
   "outputs": [
    {
     "name": "stdout",
     "output_type": "stream",
     "text": [
      "Fold 0:\n",
      "  Train: index=(287094,)\n"
     ]
    },
    {
     "data": {
      "text/plain": "  0%|          | 0/15 [00:00<?, ?it/s]",
      "application/vnd.jupyter.widget-view+json": {
       "version_major": 2,
       "version_minor": 0,
       "model_id": "aafaa773e63b4b85987c075e32ece4e7"
      }
     },
     "metadata": {},
     "output_type": "display_data"
    },
    {
     "name": "stdout",
     "output_type": "stream",
     "text": [
      "Model trained, starting evaluation...\n",
      "  Test:  index=(5000, 16)\n",
      "Starting evaluation by AgeRange groups...\n",
      "35.0\n",
      "[35. 18. 25. 45.  1. 55. 50.]\n"
     ]
    },
    {
     "ename": "TypeError",
     "evalue": "'>=' not supported between instances of 'str' and 'int'",
     "output_type": "error",
     "traceback": [
      "\u001B[0;31m---------------------------------------------------------------------------\u001B[0m",
      "\u001B[0;31mTypeError\u001B[0m                                 Traceback (most recent call last)",
      "Cell \u001B[0;32mIn[26], line 34\u001B[0m\n\u001B[1;32m     32\u001B[0m     \u001B[38;5;28mprint\u001B[39m(a)\n\u001B[1;32m     33\u001B[0m     \u001B[38;5;28mprint\u001B[39m(test_test_df[col]\u001B[38;5;241m.\u001B[39munique())\n\u001B[0;32m---> 34\u001B[0m     test_data \u001B[38;5;241m=\u001B[39m \u001B[43muser_plays\u001B[49m\u001B[43m[\u001B[49m\u001B[43mtest_test_df\u001B[49m\u001B[43m[\u001B[49m\u001B[43mtest_test_df\u001B[49m\u001B[43m[\u001B[49m\u001B[43mcol\u001B[49m\u001B[43m]\u001B[49m\u001B[43m \u001B[49m\u001B[38;5;241;43m==\u001B[39;49m\u001B[43m \u001B[49m\u001B[43ma\u001B[49m\u001B[43m]\u001B[49m\u001B[38;5;241;43m.\u001B[39;49m\u001B[43muser_id\u001B[49m\u001B[38;5;241;43m.\u001B[39;49m\u001B[43munique\u001B[49m\u001B[43m(\u001B[49m\u001B[43m)\u001B[49m\u001B[43m]\u001B[49m\n\u001B[1;32m     35\u001B[0m     ndcg_dict[a]\u001B[38;5;241m.\u001B[39mappend(ndcg_at_k(model, train_data, test_data, K\u001B[38;5;241m=\u001B[39m\u001B[38;5;241m1000\u001B[39m))\n\u001B[1;32m     36\u001B[0m \u001B[38;5;28mprint\u001B[39m(\u001B[38;5;124mf\u001B[39m\u001B[38;5;124m'\u001B[39m\u001B[38;5;124mEvaluation by \u001B[39m\u001B[38;5;132;01m{\u001B[39;00mcol\u001B[38;5;132;01m}\u001B[39;00m\u001B[38;5;124m finished...\u001B[39m\u001B[38;5;124m'\u001B[39m)\n",
      "File \u001B[0;32m~/tuwien/eeds/edds-ws2022/venv/lib/python3.10/site-packages/scipy/sparse/_index.py:47\u001B[0m, in \u001B[0;36mIndexMixin.__getitem__\u001B[0;34m(self, key)\u001B[0m\n\u001B[1;32m     46\u001B[0m \u001B[38;5;28;01mdef\u001B[39;00m \u001B[38;5;21m__getitem__\u001B[39m(\u001B[38;5;28mself\u001B[39m, key):\n\u001B[0;32m---> 47\u001B[0m     row, col \u001B[38;5;241m=\u001B[39m \u001B[38;5;28;43mself\u001B[39;49m\u001B[38;5;241;43m.\u001B[39;49m\u001B[43m_validate_indices\u001B[49m\u001B[43m(\u001B[49m\u001B[43mkey\u001B[49m\u001B[43m)\u001B[49m\n\u001B[1;32m     49\u001B[0m     \u001B[38;5;66;03m# Dispatch to specialized methods.\u001B[39;00m\n\u001B[1;32m     50\u001B[0m     \u001B[38;5;28;01mif\u001B[39;00m \u001B[38;5;28misinstance\u001B[39m(row, INT_TYPES):\n",
      "File \u001B[0;32m~/tuwien/eeds/edds-ws2022/venv/lib/python3.10/site-packages/scipy/sparse/_index.py:159\u001B[0m, in \u001B[0;36mIndexMixin._validate_indices\u001B[0;34m(self, key)\u001B[0m\n\u001B[1;32m    157\u001B[0m         row \u001B[38;5;241m+\u001B[39m\u001B[38;5;241m=\u001B[39m M\n\u001B[1;32m    158\u001B[0m \u001B[38;5;28;01melif\u001B[39;00m \u001B[38;5;129;01mnot\u001B[39;00m \u001B[38;5;28misinstance\u001B[39m(row, \u001B[38;5;28mslice\u001B[39m):\n\u001B[0;32m--> 159\u001B[0m     row \u001B[38;5;241m=\u001B[39m \u001B[38;5;28;43mself\u001B[39;49m\u001B[38;5;241;43m.\u001B[39;49m\u001B[43m_asindices\u001B[49m\u001B[43m(\u001B[49m\u001B[43mrow\u001B[49m\u001B[43m,\u001B[49m\u001B[43m \u001B[49m\u001B[43mM\u001B[49m\u001B[43m)\u001B[49m\n\u001B[1;32m    161\u001B[0m \u001B[38;5;28;01mif\u001B[39;00m isintlike(col):\n\u001B[1;32m    162\u001B[0m     col \u001B[38;5;241m=\u001B[39m \u001B[38;5;28mint\u001B[39m(col)\n",
      "File \u001B[0;32m~/tuwien/eeds/edds-ws2022/venv/lib/python3.10/site-packages/scipy/sparse/_index.py:190\u001B[0m, in \u001B[0;36mIndexMixin._asindices\u001B[0;34m(self, idx, length)\u001B[0m\n\u001B[1;32m    188\u001B[0m \u001B[38;5;66;03m# Check bounds\u001B[39;00m\n\u001B[1;32m    189\u001B[0m max_indx \u001B[38;5;241m=\u001B[39m x\u001B[38;5;241m.\u001B[39mmax()\n\u001B[0;32m--> 190\u001B[0m \u001B[38;5;28;01mif\u001B[39;00m \u001B[43mmax_indx\u001B[49m\u001B[43m \u001B[49m\u001B[38;5;241;43m>\u001B[39;49m\u001B[38;5;241;43m=\u001B[39;49m\u001B[43m \u001B[49m\u001B[43mlength\u001B[49m:\n\u001B[1;32m    191\u001B[0m     \u001B[38;5;28;01mraise\u001B[39;00m \u001B[38;5;167;01mIndexError\u001B[39;00m(\u001B[38;5;124m'\u001B[39m\u001B[38;5;124mindex (\u001B[39m\u001B[38;5;132;01m%d\u001B[39;00m\u001B[38;5;124m) out of range\u001B[39m\u001B[38;5;124m'\u001B[39m \u001B[38;5;241m%\u001B[39m max_indx)\n\u001B[1;32m    193\u001B[0m min_indx \u001B[38;5;241m=\u001B[39m x\u001B[38;5;241m.\u001B[39mmin()\n",
      "\u001B[0;31mTypeError\u001B[0m: '>=' not supported between instances of 'str' and 'int'"
     ]
    }
   ],
   "source": [
    "# divide ratings into 5 CV, still question about test data - see paper\n",
    "# 0th column is 0, since user ids start with 1\n",
    "\n",
    "kf = KFold(n_splits=5, random_state=12345, shuffle=True)\n",
    "\n",
    "for i, (train_index, test_index) in enumerate(kf.split(user_plays)):\n",
    "    print(f\"Fold {i}:\")\n",
    "    print(f\"  Train: index={train_index.shape}\")\n",
    "\n",
    "    # train data is divided into two parts\n",
    "    # in train_index, full user data is used for training\n",
    "    # in test_index, 80% of user data is used for training and the rest 20% is used for testing\n",
    "    test_train_df, test_test_df = get_divided_test_fold(t_df_40, test_index)\n",
    "    train_data = user_plays.copy()\n",
    "    # blend out the 20% of test users data for testing\n",
    "    # test data contains data used for training + 20% blended in train data\n",
    "    train_data[test_test_df.user_id, test_test_df.artist_id] = 0\n",
    "\n",
    "    model = AlternatingLeastSquares(factors=50, regularization=0.01)\n",
    "    model.fit(train_data)\n",
    "    print(f'Model trained, starting evaluation...')\n",
    "    # test_test_df = test_test_df.merge(t_df_40, how='left', left_on='user', right_on='user')\n",
    "    test_test_df = test_test_df.merge(df, how='left', left_on='user', right_on='user_id')\n",
    "    test_test_df = test_test_df.merge(popularity_cut, how='left', left_on='user', right_on='user_id')\n",
    "    test_test_df = test_test_df.dropna()\n",
    "    test_test_df = test_test_df.sample(n = 5000, random_state = 12345)\n",
    "    print(f\"  Test:  index={test_test_df.shape}\")\n",
    "\n",
    "    for col, ndcg_dict in ndcg_dicts.items():\n",
    "        print(f'Starting evaluation by {col} groups...')\n",
    "        for a in test_test_df[col].unique():\n",
    "            print(a)\n",
    "            print(test_test_df[col].unique())\n",
    "            test_data = user_plays[test_test_df[test_test_df[col] == a].user_id.unique()]\n",
    "            ndcg_dict[a].append(ndcg_at_k(model, train_data, test_data, K=1000))\n",
    "        print(f'Evaluation by {col} finished...')"
   ],
   "metadata": {
    "collapsed": false
   }
  },
  {
   "cell_type": "markdown",
   "source": [
    "## Kruskal-Wallis Significance tests"
   ],
   "metadata": {
    "collapsed": false
   }
  },
  {
   "cell_type": "code",
   "execution_count": null,
   "outputs": [],
   "source": [
    "def get_kruskal(ndcg_dicts, key_col):\n",
    "    gender_list = list(ndcg_dicts[key_col].values())\n",
    "    return stats.kruskal(*gender_list)"
   ],
   "metadata": {
    "collapsed": false
   }
  },
  {
   "cell_type": "code",
   "execution_count": null,
   "outputs": [],
   "source": [
    "for c, ndcg_dict in ndcg_dicts.items():\n",
    "    kruskal_val = get_kruskal(ndcg_dicts, c)\n",
    "    print(f'Kruscal-Wallis test for {c}: {kruskal_val}')"
   ],
   "metadata": {
    "collapsed": false
   }
  },
  {
   "cell_type": "code",
   "execution_count": null,
   "outputs": [],
   "source": [
    "def get_df_from_ndcg_dict(ndcg_dicts, key_col):\n",
    "    df_ndcg = pd.DataFrame(ndcg_dicts[key_col])\n",
    "    df_ndcg = df_ndcg.melt()\n",
    "    df_ndcg.columns = [key_col, 'ndcg']\n",
    "    return df_ndcg"
   ],
   "metadata": {
    "collapsed": false
   }
  },
  {
   "cell_type": "code",
   "execution_count": null,
   "outputs": [],
   "source": [
    "df_ndcg_age = get_df_from_ndcg_dict(ndcg_dicts, 'age')\n",
    "df_ndcg_gender = get_df_from_ndcg_dict(ndcg_dicts, 'gender')"
   ],
   "metadata": {
    "collapsed": false
   }
  },
  {
   "cell_type": "code",
   "execution_count": null,
   "outputs": [],
   "source": [
    "_, ax = plt.subplots(1, 2, figsize=(20, 6))\n",
    "sns.despine()\n",
    "\n",
    "ax[0].set_title('NDCG distribution for users grouped by age')\n",
    "ax[0].set_ylim((0, 0.5))\n",
    "sns.barplot(data=df_ndcg_age, x='age', y='ndcg', color='grey', ax=ax[0])\n",
    "ax[0].set_xticks(list(range(0, len(age_bins))), labels=age_labels)\n",
    "\n",
    "ax[1].set_title('NDCG distribution for users grouped by gender')\n",
    "ax[1].set_ylim((0, 0.5))\n",
    "sns.barplot(data=df_ndcg_gender, x='gender', y='ndcg', color='grey', ax=ax[1])"
   ],
   "metadata": {
    "collapsed": false
   }
  },
  {
   "cell_type": "markdown",
   "source": [
    "## User distributions"
   ],
   "metadata": {
    "collapsed": false
   }
  },
  {
   "cell_type": "code",
   "execution_count": null,
   "outputs": [],
   "source": [],
   "metadata": {
    "collapsed": false
   }
  },
  {
   "cell_type": "code",
   "execution_count": 155,
   "outputs": [],
   "source": [
    "userid = 0\n",
    "ids, scores = model.recommend(userid, user_plays[userid], N=10, filter_already_liked_items=False)"
   ],
   "metadata": {
    "collapsed": false
   }
  },
  {
   "cell_type": "code",
   "execution_count": 156,
   "outputs": [
    {
     "data": {
      "text/plain": "                                      artist  score  already_liked\n0                    oliver shanti & friends    0.0          False\n1                             mohamed lamine    0.0          False\n2                             mala rodriguez    0.0          False\n3                                 kanye west    0.0          False\n4                                fatboy slim    0.0          False\n5                          cours de la somme    0.0          False\n6                              amy winehouse    0.0          False\n7   80lİ yillarin tÜrkÇe sÖzlÜ aŞk Şarkilari    0.0          False\n8                                  58725ab=>    0.0          False\n9                                         2     0.0          False",
      "text/html": "<div>\n<style scoped>\n    .dataframe tbody tr th:only-of-type {\n        vertical-align: middle;\n    }\n\n    .dataframe tbody tr th {\n        vertical-align: top;\n    }\n\n    .dataframe thead th {\n        text-align: right;\n    }\n</style>\n<table border=\"1\" class=\"dataframe\">\n  <thead>\n    <tr style=\"text-align: right;\">\n      <th></th>\n      <th>artist</th>\n      <th>score</th>\n      <th>already_liked</th>\n    </tr>\n  </thead>\n  <tbody>\n    <tr>\n      <th>0</th>\n      <td>oliver shanti &amp; friends</td>\n      <td>0.0</td>\n      <td>False</td>\n    </tr>\n    <tr>\n      <th>1</th>\n      <td>mohamed lamine</td>\n      <td>0.0</td>\n      <td>False</td>\n    </tr>\n    <tr>\n      <th>2</th>\n      <td>mala rodriguez</td>\n      <td>0.0</td>\n      <td>False</td>\n    </tr>\n    <tr>\n      <th>3</th>\n      <td>kanye west</td>\n      <td>0.0</td>\n      <td>False</td>\n    </tr>\n    <tr>\n      <th>4</th>\n      <td>fatboy slim</td>\n      <td>0.0</td>\n      <td>False</td>\n    </tr>\n    <tr>\n      <th>5</th>\n      <td>cours de la somme</td>\n      <td>0.0</td>\n      <td>False</td>\n    </tr>\n    <tr>\n      <th>6</th>\n      <td>amy winehouse</td>\n      <td>0.0</td>\n      <td>False</td>\n    </tr>\n    <tr>\n      <th>7</th>\n      <td>80lİ yillarin tÜrkÇe sÖzlÜ aŞk Şarkilari</td>\n      <td>0.0</td>\n      <td>False</td>\n    </tr>\n    <tr>\n      <th>8</th>\n      <td>58725ab=&gt;</td>\n      <td>0.0</td>\n      <td>False</td>\n    </tr>\n    <tr>\n      <th>9</th>\n      <td>2</td>\n      <td>0.0</td>\n      <td>False</td>\n    </tr>\n  </tbody>\n</table>\n</div>"
     },
     "execution_count": 156,
     "metadata": {},
     "output_type": "execute_result"
    }
   ],
   "source": [
    "# Use pandas to display the output in a table, pandas isn't a dependency of implicit otherwise\n",
    "import numpy as np\n",
    "import pandas as pd\n",
    "pd.DataFrame({\n",
    "    \"artist\": artists[ids],\n",
    "    \"score\": scores,\n",
    "    \"already_liked\": np.in1d(ids, user_plays[userid].indices)\n",
    "})"
   ],
   "metadata": {
    "collapsed": false
   }
  },
  {
   "cell_type": "code",
   "execution_count": 157,
   "outputs": [
    {
     "data": {
      "text/plain": "                                      artist  score\n0                    oliver shanti & friends    0.0\n1                             mohamed lamine    0.0\n2                             mala rodriguez    0.0\n3                                 kanye west    0.0\n4                                fatboy slim    0.0\n5                          cours de la somme    0.0\n6                              amy winehouse    0.0\n7   80lİ yillarin tÜrkÇe sÖzlÜ aŞk Şarkilari    0.0\n8                                  58725ab=>    0.0\n9                                         2     0.0",
      "text/html": "<div>\n<style scoped>\n    .dataframe tbody tr th:only-of-type {\n        vertical-align: middle;\n    }\n\n    .dataframe tbody tr th {\n        vertical-align: top;\n    }\n\n    .dataframe thead th {\n        text-align: right;\n    }\n</style>\n<table border=\"1\" class=\"dataframe\">\n  <thead>\n    <tr style=\"text-align: right;\">\n      <th></th>\n      <th>artist</th>\n      <th>score</th>\n    </tr>\n  </thead>\n  <tbody>\n    <tr>\n      <th>0</th>\n      <td>oliver shanti &amp; friends</td>\n      <td>0.0</td>\n    </tr>\n    <tr>\n      <th>1</th>\n      <td>mohamed lamine</td>\n      <td>0.0</td>\n    </tr>\n    <tr>\n      <th>2</th>\n      <td>mala rodriguez</td>\n      <td>0.0</td>\n    </tr>\n    <tr>\n      <th>3</th>\n      <td>kanye west</td>\n      <td>0.0</td>\n    </tr>\n    <tr>\n      <th>4</th>\n      <td>fatboy slim</td>\n      <td>0.0</td>\n    </tr>\n    <tr>\n      <th>5</th>\n      <td>cours de la somme</td>\n      <td>0.0</td>\n    </tr>\n    <tr>\n      <th>6</th>\n      <td>amy winehouse</td>\n      <td>0.0</td>\n    </tr>\n    <tr>\n      <th>7</th>\n      <td>80lİ yillarin tÜrkÇe sÖzlÜ aŞk Şarkilari</td>\n      <td>0.0</td>\n    </tr>\n    <tr>\n      <th>8</th>\n      <td>58725ab=&gt;</td>\n      <td>0.0</td>\n    </tr>\n    <tr>\n      <th>9</th>\n      <td>2</td>\n      <td>0.0</td>\n    </tr>\n  </tbody>\n</table>\n</div>"
     },
     "execution_count": 157,
     "metadata": {},
     "output_type": "execute_result"
    }
   ],
   "source": [
    "# get related items for the beatles (itemid = 25512)\n",
    "ids, scores= model.similar_items(0)\n",
    "\n",
    "# display the results using pandas for nicer formatting\n",
    "pd.DataFrame({\"artist\": artists[ids], \"score\": scores})"
   ],
   "metadata": {
    "collapsed": false
   }
  },
  {
   "cell_type": "code",
   "execution_count": 165,
   "outputs": [
    {
     "ename": "IndexError",
     "evalue": "index 287095 is out of bounds for axis 0 with size 287095",
     "output_type": "error",
     "traceback": [
      "\u001B[0;31m---------------------------------------------------------------------------\u001B[0m",
      "\u001B[0;31mIndexError\u001B[0m                                Traceback (most recent call last)",
      "Cell \u001B[0;32mIn[165], line 3\u001B[0m\n\u001B[1;32m      1\u001B[0m \u001B[38;5;66;03m# Make 1000 recommendations for each user in the dataset\u001B[39;00m\n\u001B[1;32m      2\u001B[0m userids \u001B[38;5;241m=\u001B[39m np\u001B[38;5;241m.\u001B[39marange(\u001B[38;5;28mlen\u001B[39m(users))\n\u001B[0;32m----> 3\u001B[0m ids, scores \u001B[38;5;241m=\u001B[39m \u001B[43mmodel\u001B[49m\u001B[38;5;241;43m.\u001B[39;49m\u001B[43mrecommend\u001B[49m\u001B[43m(\u001B[49m\u001B[43muserids\u001B[49m\u001B[43m,\u001B[49m\u001B[43m \u001B[49m\u001B[43muser_plays\u001B[49m\u001B[43m[\u001B[49m\u001B[43muserids\u001B[49m\u001B[43m]\u001B[49m\u001B[43m,\u001B[49m\u001B[43m \u001B[49m\u001B[43mN\u001B[49m\u001B[38;5;241;43m=\u001B[39;49m\u001B[38;5;241;43m1000\u001B[39;49m\u001B[43m)\u001B[49m\n\u001B[1;32m      4\u001B[0m ids, ids\u001B[38;5;241m.\u001B[39mshape\n",
      "File \u001B[0;32m~/tuwien/eeds/edds-ws2022/venv/lib/python3.10/site-packages/implicit/cpu/matrix_factorization_base.py:51\u001B[0m, in \u001B[0;36mMatrixFactorizationBase.recommend\u001B[0;34m(self, userid, user_items, N, filter_already_liked_items, filter_items, recalculate_user, items)\u001B[0m\n\u001B[1;32m     48\u001B[0m     \u001B[38;5;28;01mif\u001B[39;00m user_items\u001B[38;5;241m.\u001B[39mshape[\u001B[38;5;241m0\u001B[39m] \u001B[38;5;241m!=\u001B[39m user_count:\n\u001B[1;32m     49\u001B[0m         \u001B[38;5;28;01mraise\u001B[39;00m \u001B[38;5;167;01mValueError\u001B[39;00m(\u001B[38;5;124m\"\u001B[39m\u001B[38;5;124muser_items must contain 1 row for every user in userids\u001B[39m\u001B[38;5;124m\"\u001B[39m)\n\u001B[0;32m---> 51\u001B[0m user \u001B[38;5;241m=\u001B[39m \u001B[38;5;28;43mself\u001B[39;49m\u001B[38;5;241;43m.\u001B[39;49m\u001B[43m_user_factor\u001B[49m\u001B[43m(\u001B[49m\u001B[43muserid\u001B[49m\u001B[43m,\u001B[49m\u001B[43m \u001B[49m\u001B[43muser_items\u001B[49m\u001B[43m,\u001B[49m\u001B[43m \u001B[49m\u001B[43mrecalculate_user\u001B[49m\u001B[43m)\u001B[49m\n\u001B[1;32m     53\u001B[0m item_factors \u001B[38;5;241m=\u001B[39m \u001B[38;5;28mself\u001B[39m\u001B[38;5;241m.\u001B[39mitem_factors\n\u001B[1;32m     55\u001B[0m \u001B[38;5;66;03m# if we have an item list to restrict down to, we need to filter the item_factors\u001B[39;00m\n\u001B[1;32m     56\u001B[0m \u001B[38;5;66;03m# and filter_query_items\u001B[39;00m\n",
      "File \u001B[0;32m~/tuwien/eeds/edds-ws2022/venv/lib/python3.10/site-packages/implicit/cpu/matrix_factorization_base.py:135\u001B[0m, in \u001B[0;36mMatrixFactorizationBase._user_factor\u001B[0;34m(self, userid, user_items, recalculate_user)\u001B[0m\n\u001B[1;32m    133\u001B[0m \u001B[38;5;28;01mif\u001B[39;00m recalculate_user:\n\u001B[1;32m    134\u001B[0m     \u001B[38;5;28;01mreturn\u001B[39;00m \u001B[38;5;28mself\u001B[39m\u001B[38;5;241m.\u001B[39mrecalculate_user(userid, user_items)\n\u001B[0;32m--> 135\u001B[0m \u001B[38;5;28;01mreturn\u001B[39;00m \u001B[38;5;28;43mself\u001B[39;49m\u001B[38;5;241;43m.\u001B[39;49m\u001B[43muser_factors\u001B[49m\u001B[43m[\u001B[49m\u001B[43muserid\u001B[49m\u001B[43m]\u001B[49m\n",
      "\u001B[0;31mIndexError\u001B[0m: index 287095 is out of bounds for axis 0 with size 287095"
     ]
    }
   ],
   "source": [
    "# Make 1000 recommendations for each user in the dataset\n",
    "userids = np.arange(len(users))\n",
    "ids, scores = model.recommend(userids, user_plays[userids], N=1000)\n",
    "ids, ids.shape"
   ],
   "metadata": {
    "collapsed": false
   }
  },
  {
   "cell_type": "code",
   "execution_count": null,
   "outputs": [],
   "source": [
    "rec = pd.DataFrame({\"user\": users, \"artist\": artists[ids], \"score\": scores})\n",
    "\n",
    "list1 = rec['users'].tolist()\n",
    "list2 = rec['artists'].tolist()\n",
    "list3 = rec['rel'].tolist()\n",
    "\n",
    "c.row = np.array(list1)\n",
    "c.col = np.array(list2)\n",
    "c.data = np.array(list3)\n",
    "\n",
    "import scipy\n",
    "new_matrix = scipy.sparse.csr_matrix(c)\n",
    "rec_res = new_matrix"
   ],
   "metadata": {
    "collapsed": false
   }
  },
  {
   "cell_type": "code",
   "execution_count": null,
   "outputs": [],
   "source": [
    "rec_users = data_users[data_users['user-mboxsha1'].isin(users)]\n",
    "rec_users"
   ],
   "metadata": {
    "collapsed": false
   }
  },
  {
   "cell_type": "code",
   "execution_count": null,
   "outputs": [],
   "source": [
    "df_id_users = pd.DataFrame(users, columns=['users'])\n",
    "df_id_users[~df_id_users[\"users\"].isin(rec_users['user-mboxsha1'])]"
   ],
   "metadata": {
    "collapsed": false
   }
  },
  {
   "cell_type": "code",
   "execution_count": null,
   "outputs": [],
   "source": [
    "users_clean = np.delete(users, [312192, 358867])\n",
    "scores_clean = np.delete(scores, [312192, 358867], axis=0)\n",
    "ids_clean = np.delete(ids, [312192, 358867], axis=0)\n",
    "scores_clean.shape, users_clean.shape, ids_clean.shape"
   ],
   "metadata": {
    "collapsed": false
   }
  },
  {
   "cell_type": "code",
   "execution_count": null,
   "outputs": [],
   "source": [
    "users_clean"
   ],
   "metadata": {
    "collapsed": false
   }
  },
  {
   "cell_type": "code",
   "execution_count": null,
   "outputs": [],
   "source": [
    "# from numpy import savetxt\n",
    "#\n",
    "# savetxt('data_ids.csv', ids_clean, delimiter=' ')\n",
    "# savetxt('data_scores.csv', scores_clean, delimiter=' ')\n",
    "# savetxt('data_users.csv', users_clean, delimiter=' ')\n",
    "# rec_users.to_csv('users_data.csv')"
   ],
   "metadata": {
    "collapsed": false
   }
  },
  {
   "cell_type": "code",
   "execution_count": null,
   "outputs": [],
   "source": [
    "# from numpy import loadtxt\n",
    "# data_ids = loadtxt('data_ids.csv', delimiter=' ', dtype='int32')\n",
    "# data_scores = loadtxt('data_scores.csv', delimiter=' ', dtype='int32')\n"
   ],
   "metadata": {
    "collapsed": false
   }
  },
  {
   "cell_type": "code",
   "execution_count": null,
   "outputs": [],
   "source": [
    "rec_users"
   ],
   "metadata": {
    "collapsed": false
   }
  },
  {
   "cell_type": "markdown",
   "source": [
    "Age groups"
   ],
   "metadata": {
    "collapsed": false
   }
  },
  {
   "cell_type": "code",
   "execution_count": null,
   "outputs": [],
   "source": [
    "data_users.age.unique()"
   ],
   "metadata": {
    "collapsed": false
   }
  },
  {
   "cell_type": "code",
   "execution_count": null,
   "outputs": [],
   "source": [
    "def age_group(rec_users, min_age, max_age):\n",
    "    return rec_users.iloc[np.where((rec_users['age'] >= min_age) & (rec_users['age'] <= max_age))]"
   ],
   "metadata": {
    "collapsed": false
   }
  },
  {
   "cell_type": "code",
   "execution_count": 31,
   "outputs": [
    {
     "data": {
      "text/plain": "                                         user_id gender   age  \\\n0       00000c289a1829a808ac09c00daf10bc3c4e223b      f  22.0   \n1       00001411dc427966b17297bf4d69e7e193135d89      f   NaN   \n2       00004d2ac9316e22dc007ab2243d6fcb239e707d    NaN   NaN   \n3       000063d3fe1cf2ba248b9e3c3f0334845a27a6bf      m  19.0   \n4       00007a47085b9aab8af55f52ec8846ac479ac4fe      m  28.0   \n...                                          ...    ...   ...   \n359342  fffe7823f67b433b45f22056467db921c1d3d7d0      m  25.0   \n359343  fffe8637bd8234309e871409c7ebef99a720afc1      m  25.0   \n359344  fffe8c7f952d9b960a56ed4dcb40a415d924b224      m  20.0   \n359345  ffff9af9ae04d263dae91cb838b1f3a6725f5ffb      m  20.0   \n359346  ffff9ef87a7d9494ada2f9ade4b9ff637c0759ac      m  21.0   \n\n                   country        signup AgeRange  \n0                  Germany   Feb 1, 2007       18  \n1                   Canada   Dec 4, 2007      NaN  \n2                  Germany   Sep 1, 2006      NaN  \n3                   Mexico  Apr 28, 2008       18  \n4            United States  Jan 27, 2006       25  \n...                    ...           ...      ...  \n359342             Germany  Jun 24, 2006       25  \n359343              Brazil   Sep 9, 2007       25  \n359344       United States   Aug 8, 2007       18  \n359345  Russian Federation   Dec 3, 2005       18  \n359346             Belgium  Nov 25, 2008       18  \n\n[359347 rows x 6 columns]",
      "text/html": "<div>\n<style scoped>\n    .dataframe tbody tr th:only-of-type {\n        vertical-align: middle;\n    }\n\n    .dataframe tbody tr th {\n        vertical-align: top;\n    }\n\n    .dataframe thead th {\n        text-align: right;\n    }\n</style>\n<table border=\"1\" class=\"dataframe\">\n  <thead>\n    <tr style=\"text-align: right;\">\n      <th></th>\n      <th>user_id</th>\n      <th>gender</th>\n      <th>age</th>\n      <th>country</th>\n      <th>signup</th>\n      <th>AgeRange</th>\n    </tr>\n  </thead>\n  <tbody>\n    <tr>\n      <th>0</th>\n      <td>00000c289a1829a808ac09c00daf10bc3c4e223b</td>\n      <td>f</td>\n      <td>22.0</td>\n      <td>Germany</td>\n      <td>Feb 1, 2007</td>\n      <td>18</td>\n    </tr>\n    <tr>\n      <th>1</th>\n      <td>00001411dc427966b17297bf4d69e7e193135d89</td>\n      <td>f</td>\n      <td>NaN</td>\n      <td>Canada</td>\n      <td>Dec 4, 2007</td>\n      <td>NaN</td>\n    </tr>\n    <tr>\n      <th>2</th>\n      <td>00004d2ac9316e22dc007ab2243d6fcb239e707d</td>\n      <td>NaN</td>\n      <td>NaN</td>\n      <td>Germany</td>\n      <td>Sep 1, 2006</td>\n      <td>NaN</td>\n    </tr>\n    <tr>\n      <th>3</th>\n      <td>000063d3fe1cf2ba248b9e3c3f0334845a27a6bf</td>\n      <td>m</td>\n      <td>19.0</td>\n      <td>Mexico</td>\n      <td>Apr 28, 2008</td>\n      <td>18</td>\n    </tr>\n    <tr>\n      <th>4</th>\n      <td>00007a47085b9aab8af55f52ec8846ac479ac4fe</td>\n      <td>m</td>\n      <td>28.0</td>\n      <td>United States</td>\n      <td>Jan 27, 2006</td>\n      <td>25</td>\n    </tr>\n    <tr>\n      <th>...</th>\n      <td>...</td>\n      <td>...</td>\n      <td>...</td>\n      <td>...</td>\n      <td>...</td>\n      <td>...</td>\n    </tr>\n    <tr>\n      <th>359342</th>\n      <td>fffe7823f67b433b45f22056467db921c1d3d7d0</td>\n      <td>m</td>\n      <td>25.0</td>\n      <td>Germany</td>\n      <td>Jun 24, 2006</td>\n      <td>25</td>\n    </tr>\n    <tr>\n      <th>359343</th>\n      <td>fffe8637bd8234309e871409c7ebef99a720afc1</td>\n      <td>m</td>\n      <td>25.0</td>\n      <td>Brazil</td>\n      <td>Sep 9, 2007</td>\n      <td>25</td>\n    </tr>\n    <tr>\n      <th>359344</th>\n      <td>fffe8c7f952d9b960a56ed4dcb40a415d924b224</td>\n      <td>m</td>\n      <td>20.0</td>\n      <td>United States</td>\n      <td>Aug 8, 2007</td>\n      <td>18</td>\n    </tr>\n    <tr>\n      <th>359345</th>\n      <td>ffff9af9ae04d263dae91cb838b1f3a6725f5ffb</td>\n      <td>m</td>\n      <td>20.0</td>\n      <td>Russian Federation</td>\n      <td>Dec 3, 2005</td>\n      <td>18</td>\n    </tr>\n    <tr>\n      <th>359346</th>\n      <td>ffff9ef87a7d9494ada2f9ade4b9ff637c0759ac</td>\n      <td>m</td>\n      <td>21.0</td>\n      <td>Belgium</td>\n      <td>Nov 25, 2008</td>\n      <td>18</td>\n    </tr>\n  </tbody>\n</table>\n<p>359347 rows × 6 columns</p>\n</div>"
     },
     "execution_count": 31,
     "metadata": {},
     "output_type": "execute_result"
    }
   ],
   "source": [
    "plot_data = data_users.copy()\n",
    "bins = [0, 18, 25, 35, 45, 50, 56, np.inf, 'NaN']\n",
    "names = ['1', '18','25', '35', '45', '50','55+', 'NaN']\n",
    "\n",
    "plot_data['AgeRange'] = pd.cut(plot_data['age'], bins, labels=names)\n",
    "plot_data[\"AgeRange\"] = plot_data[\"AgeRange\"].fillna('NaN')\n",
    "plot_data[\"gender\"] = plot_data[\"gender\"].fillna('NaN')\n",
    "\n",
    "plot_data"
   ],
   "metadata": {
    "collapsed": false
   }
  },
  {
   "cell_type": "code",
   "execution_count": 32,
   "outputs": [
    {
     "data": {
      "text/plain": "<AxesSubplot: title={'center': 'Distribution of users per gender'}, xlabel='gender', ylabel='count'>"
     },
     "execution_count": 32,
     "metadata": {},
     "output_type": "execute_result"
    },
    {
     "data": {
      "text/plain": "<Figure size 2000x600 with 2 Axes>",
      "image/png": "[encoded data removed]"
     },
     "metadata": {},
     "output_type": "display_data"
    }
   ],
   "source": [
    "from matplotlib import pyplot as plt\n",
    "\n",
    "_, ax = plt.subplots(1, 2, figsize=(20, 6))\n",
    "sns.despine()\n",
    "\n",
    "ax[0].set_title('Distribution of users per age')\n",
    "sns.countplot(data=plot_data, x='AgeRange', color='grey', ax=ax[0])\n",
    "ax[0].set_xticks(list(range(0, len(age_bins))), labels=age_labels)\n",
    "\n",
    "ax[1].set_title('Distribution of users per gender')\n",
    "sns.countplot(data=plot_data, x='gender', color='grey', ax=ax[1])"
   ],
   "metadata": {
    "collapsed": false
   }
  },
  {
   "cell_type": "code",
   "execution_count": null,
   "outputs": [],
   "source": [
    "from implicit.evaluation import train_test_split\n",
    "\n",
    "# age1 = plot_data[plot_data[\"AgeRange\"] == 18]\n",
    "# # user_plays\n",
    "# train_age1, test_age2 = train_test_split(user_plays, train_percentage=0.8, random_state=12345)\n",
    "# ndcg = ndcg_at_k(model, train_age1, test_age2, K=10)"
   ],
   "metadata": {
    "collapsed": false
   }
  },
  {
   "cell_type": "code",
   "execution_count": null,
   "outputs": [],
   "source": [],
   "metadata": {
    "collapsed": false
   }
  },
  {
   "cell_type": "code",
   "execution_count": null,
   "outputs": [],
   "source": [
    "pd.DataFrame(user_plays)"
   ],
   "metadata": {
    "collapsed": false
   }
  },
  {
   "cell_type": "code",
   "execution_count": null,
   "outputs": [],
   "source": [
    "for age in age_bins.keys():\n",
    "    print(f'{age_bins[age]} bin')\n",
    "    users_curr_age = plot_data[plot_data[\"AgeRange\"] == age]\n",
    "    # ratings_curr_age = plot_data[:, age]\n",
    "\n",
    "    print('ratings shape: ', users_curr_age.shape)"
   ],
   "metadata": {
    "collapsed": false
   }
  },
  {
   "cell_type": "code",
   "execution_count": null,
   "outputs": [],
   "source": [
    "age_plot = pd.concat([data_users[data_users['age'].isna()], data_users[~data_users['age'].isna()]])\n",
    "sns.countplot(x='age', data=age_plot)"
   ],
   "metadata": {
    "collapsed": false
   }
  },
  {
   "cell_type": "code",
   "execution_count": null,
   "outputs": [],
   "source": [
    "def age_group(rec_users, min_age, max_age):\n",
    "    return rec_users.iloc[np.where((rec_users['age'] >= min_age) & (rec_users['age'] <= max_age))]"
   ],
   "metadata": {
    "collapsed": false
   }
  },
  {
   "cell_type": "code",
   "execution_count": null,
   "outputs": [],
   "source": [
    "age_group(data_users, 3, 16)"
   ],
   "metadata": {
    "collapsed": false
   }
  },
  {
   "cell_type": "markdown",
   "source": [
    "Gender binning"
   ],
   "metadata": {
    "collapsed": false
   }
  },
  {
   "cell_type": "code",
   "execution_count": null,
   "outputs": [],
   "source": [
    "rec_users.iloc[np.where(rec_users['gender'] == 'm')]"
   ],
   "metadata": {
    "collapsed": false
   }
  },
  {
   "cell_type": "code",
   "execution_count": null,
   "outputs": [],
   "source": [
    "rec_users.iloc[np.where(rec_users['gender'] == 'f')]"
   ],
   "metadata": {
    "collapsed": false
   }
  },
  {
   "cell_type": "code",
   "execution_count": null,
   "outputs": [],
   "source": [
    "rec_users.iloc[np.where((rec_users['gender'] != 'm') & (rec_users['gender'] != 'f'))]"
   ],
   "metadata": {
    "collapsed": false
   }
  },
  {
   "cell_type": "code",
   "execution_count": null,
   "outputs": [],
   "source": [
    "sns.countplot(x='gender', data=data_users)"
   ],
   "metadata": {
    "collapsed": false
   }
  },
  {
   "cell_type": "code",
   "execution_count": null,
   "outputs": [],
   "source": [],
   "metadata": {
    "collapsed": false
   }
  },
  {
   "cell_type": "code",
   "execution_count": null,
   "outputs": [],
   "source": [],
   "metadata": {
    "collapsed": false
   }
  }
 ],
 "metadata": {
  "kernelspec": {
   "display_name": "Python 3",
   "language": "python",
   "name": "python3"
  },
  "language_info": {
   "codemirror_mode": {
    "name": "ipython",
    "version": 2
   },
   "file_extension": ".py",
   "mimetype": "text/x-python",
   "name": "python",
   "nbconvert_exporter": "python",
   "pygments_lexer": "ipython2",
   "version": "2.7.6"
  }
 },
 "nbformat": 4,
 "nbformat_minor": 0
}
