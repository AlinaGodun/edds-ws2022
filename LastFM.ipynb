{
 "cells": [
  {
   "cell_type": "code",
   "execution_count": 23,
   "metadata": {
    "collapsed": true
   },
   "outputs": [],
   "source": [
    "import pandas as pd\n",
    "import seaborn as sns\n"
   ]
  },
  {
   "cell_type": "code",
   "execution_count": 15,
   "outputs": [
    {
     "data": {
      "text/plain": "                                                         musicbrainz-artist-id  \\\nuser-mboxsha1                                                                    \n00000c289a1829a808ac09c00daf10bc3c4e223b  3bd73256-3905-4f3a-97e2-8b341527f805   \n00000c289a1829a808ac09c00daf10bc3c4e223b  f2fb0ff0-5679-42ec-a55c-15109ce6e320   \n00000c289a1829a808ac09c00daf10bc3c4e223b  b3ae82c2-e60b-4551-a76d-6620f1b456aa   \n00000c289a1829a808ac09c00daf10bc3c4e223b  3d6bbeb7-f90e-4d10-b440-e153c0d10b53   \n00000c289a1829a808ac09c00daf10bc3c4e223b  bbd2ffd7-17f4-4506-8572-c1ea58c3f9a8   \n...                                                                        ...   \nsep 20, 2008                              7ffd711a-b34d-4739-8aab-25e045c246da   \nsep 20, 2008                              9201190d-409f-426b-9339-9bd7492443e2   \nsep 20, 2008                              e7cf7ff9-ed2f-4315-aca8-bcbd3b2bfa71   \nsep 20, 2008                              f6f2326f-6b25-4170-b89d-e235b25508e8   \nsep 20, 2008                              40f5d9e4-2de7-4f2d-ad41-e31a9a9fea27   \n\n                                                   artist-name  plays  \nuser-mboxsha1                                                          \n00000c289a1829a808ac09c00daf10bc3c4e223b       betty blowtorch   2137  \n00000c289a1829a808ac09c00daf10bc3c4e223b             die Ärzte   1099  \n00000c289a1829a808ac09c00daf10bc3c4e223b     melissa etheridge    897  \n00000c289a1829a808ac09c00daf10bc3c4e223b             elvenking    717  \n00000c289a1829a808ac09c00daf10bc3c4e223b  juliette & the licks    706  \n...                                                        ...    ...  \nsep 20, 2008                                        turbostaat     12  \nsep 20, 2008                                     cuba missouri     11  \nsep 20, 2008                                   little man tate     11  \nsep 20, 2008                                         sigur rós     10  \nsep 20, 2008                                        the smiths     10  \n\n[17535655 rows x 3 columns]",
      "text/html": "<div>\n<style scoped>\n    .dataframe tbody tr th:only-of-type {\n        vertical-align: middle;\n    }\n\n    .dataframe tbody tr th {\n        vertical-align: top;\n    }\n\n    .dataframe thead th {\n        text-align: right;\n    }\n</style>\n<table border=\"1\" class=\"dataframe\">\n  <thead>\n    <tr style=\"text-align: right;\">\n      <th></th>\n      <th>musicbrainz-artist-id</th>\n      <th>artist-name</th>\n      <th>plays</th>\n    </tr>\n    <tr>\n      <th>user-mboxsha1</th>\n      <th></th>\n      <th></th>\n      <th></th>\n    </tr>\n  </thead>\n  <tbody>\n    <tr>\n      <th>00000c289a1829a808ac09c00daf10bc3c4e223b</th>\n      <td>3bd73256-3905-4f3a-97e2-8b341527f805</td>\n      <td>betty blowtorch</td>\n      <td>2137</td>\n    </tr>\n    <tr>\n      <th>00000c289a1829a808ac09c00daf10bc3c4e223b</th>\n      <td>f2fb0ff0-5679-42ec-a55c-15109ce6e320</td>\n      <td>die Ärzte</td>\n      <td>1099</td>\n    </tr>\n    <tr>\n      <th>00000c289a1829a808ac09c00daf10bc3c4e223b</th>\n      <td>b3ae82c2-e60b-4551-a76d-6620f1b456aa</td>\n      <td>melissa etheridge</td>\n      <td>897</td>\n    </tr>\n    <tr>\n      <th>00000c289a1829a808ac09c00daf10bc3c4e223b</th>\n      <td>3d6bbeb7-f90e-4d10-b440-e153c0d10b53</td>\n      <td>elvenking</td>\n      <td>717</td>\n    </tr>\n    <tr>\n      <th>00000c289a1829a808ac09c00daf10bc3c4e223b</th>\n      <td>bbd2ffd7-17f4-4506-8572-c1ea58c3f9a8</td>\n      <td>juliette &amp; the licks</td>\n      <td>706</td>\n    </tr>\n    <tr>\n      <th>...</th>\n      <td>...</td>\n      <td>...</td>\n      <td>...</td>\n    </tr>\n    <tr>\n      <th>sep 20, 2008</th>\n      <td>7ffd711a-b34d-4739-8aab-25e045c246da</td>\n      <td>turbostaat</td>\n      <td>12</td>\n    </tr>\n    <tr>\n      <th>sep 20, 2008</th>\n      <td>9201190d-409f-426b-9339-9bd7492443e2</td>\n      <td>cuba missouri</td>\n      <td>11</td>\n    </tr>\n    <tr>\n      <th>sep 20, 2008</th>\n      <td>e7cf7ff9-ed2f-4315-aca8-bcbd3b2bfa71</td>\n      <td>little man tate</td>\n      <td>11</td>\n    </tr>\n    <tr>\n      <th>sep 20, 2008</th>\n      <td>f6f2326f-6b25-4170-b89d-e235b25508e8</td>\n      <td>sigur rós</td>\n      <td>10</td>\n    </tr>\n    <tr>\n      <th>sep 20, 2008</th>\n      <td>40f5d9e4-2de7-4f2d-ad41-e31a9a9fea27</td>\n      <td>the smiths</td>\n      <td>10</td>\n    </tr>\n  </tbody>\n</table>\n<p>17535655 rows × 3 columns</p>\n</div>"
     },
     "execution_count": 15,
     "metadata": {},
     "output_type": "execute_result"
    }
   ],
   "source": [
    "cols = ['user-mboxsha1', 'musicbrainz-artist-id', 'artist-name', 'plays']\n",
    "data_artists = pd.read_csv(\"lastfm-dataset-360K/usersha1-artmbid-artname-plays.tsv\", sep=\"\\t\", names=cols, header=None, index_col='user-mboxsha1')\n",
    "data_artists"
   ],
   "metadata": {
    "collapsed": false
   }
  },
  {
   "cell_type": "code",
   "execution_count": 16,
   "outputs": [
    {
     "data": {
      "text/plain": "                                         gender   age             country  \\\nuser-mboxsha1                                                               \n00000c289a1829a808ac09c00daf10bc3c4e223b      f  22.0             Germany   \n00001411dc427966b17297bf4d69e7e193135d89      f   NaN              Canada   \n00004d2ac9316e22dc007ab2243d6fcb239e707d    NaN   NaN             Germany   \n000063d3fe1cf2ba248b9e3c3f0334845a27a6bf      m  19.0              Mexico   \n00007a47085b9aab8af55f52ec8846ac479ac4fe      m  28.0       United States   \n...                                         ...   ...                 ...   \nfffe7823f67b433b45f22056467db921c1d3d7d0      m  25.0             Germany   \nfffe8637bd8234309e871409c7ebef99a720afc1      m  25.0              Brazil   \nfffe8c7f952d9b960a56ed4dcb40a415d924b224      m  20.0       United States   \nffff9af9ae04d263dae91cb838b1f3a6725f5ffb      m  20.0  Russian Federation   \nffff9ef87a7d9494ada2f9ade4b9ff637c0759ac      m  21.0             Belgium   \n\n                                                signup  \nuser-mboxsha1                                           \n00000c289a1829a808ac09c00daf10bc3c4e223b   Feb 1, 2007  \n00001411dc427966b17297bf4d69e7e193135d89   Dec 4, 2007  \n00004d2ac9316e22dc007ab2243d6fcb239e707d   Sep 1, 2006  \n000063d3fe1cf2ba248b9e3c3f0334845a27a6bf  Apr 28, 2008  \n00007a47085b9aab8af55f52ec8846ac479ac4fe  Jan 27, 2006  \n...                                                ...  \nfffe7823f67b433b45f22056467db921c1d3d7d0  Jun 24, 2006  \nfffe8637bd8234309e871409c7ebef99a720afc1   Sep 9, 2007  \nfffe8c7f952d9b960a56ed4dcb40a415d924b224   Aug 8, 2007  \nffff9af9ae04d263dae91cb838b1f3a6725f5ffb   Dec 3, 2005  \nffff9ef87a7d9494ada2f9ade4b9ff637c0759ac  Nov 25, 2008  \n\n[359347 rows x 4 columns]",
      "text/html": "<div>\n<style scoped>\n    .dataframe tbody tr th:only-of-type {\n        vertical-align: middle;\n    }\n\n    .dataframe tbody tr th {\n        vertical-align: top;\n    }\n\n    .dataframe thead th {\n        text-align: right;\n    }\n</style>\n<table border=\"1\" class=\"dataframe\">\n  <thead>\n    <tr style=\"text-align: right;\">\n      <th></th>\n      <th>gender</th>\n      <th>age</th>\n      <th>country</th>\n      <th>signup</th>\n    </tr>\n    <tr>\n      <th>user-mboxsha1</th>\n      <th></th>\n      <th></th>\n      <th></th>\n      <th></th>\n    </tr>\n  </thead>\n  <tbody>\n    <tr>\n      <th>00000c289a1829a808ac09c00daf10bc3c4e223b</th>\n      <td>f</td>\n      <td>22.0</td>\n      <td>Germany</td>\n      <td>Feb 1, 2007</td>\n    </tr>\n    <tr>\n      <th>00001411dc427966b17297bf4d69e7e193135d89</th>\n      <td>f</td>\n      <td>NaN</td>\n      <td>Canada</td>\n      <td>Dec 4, 2007</td>\n    </tr>\n    <tr>\n      <th>00004d2ac9316e22dc007ab2243d6fcb239e707d</th>\n      <td>NaN</td>\n      <td>NaN</td>\n      <td>Germany</td>\n      <td>Sep 1, 2006</td>\n    </tr>\n    <tr>\n      <th>000063d3fe1cf2ba248b9e3c3f0334845a27a6bf</th>\n      <td>m</td>\n      <td>19.0</td>\n      <td>Mexico</td>\n      <td>Apr 28, 2008</td>\n    </tr>\n    <tr>\n      <th>00007a47085b9aab8af55f52ec8846ac479ac4fe</th>\n      <td>m</td>\n      <td>28.0</td>\n      <td>United States</td>\n      <td>Jan 27, 2006</td>\n    </tr>\n    <tr>\n      <th>...</th>\n      <td>...</td>\n      <td>...</td>\n      <td>...</td>\n      <td>...</td>\n    </tr>\n    <tr>\n      <th>fffe7823f67b433b45f22056467db921c1d3d7d0</th>\n      <td>m</td>\n      <td>25.0</td>\n      <td>Germany</td>\n      <td>Jun 24, 2006</td>\n    </tr>\n    <tr>\n      <th>fffe8637bd8234309e871409c7ebef99a720afc1</th>\n      <td>m</td>\n      <td>25.0</td>\n      <td>Brazil</td>\n      <td>Sep 9, 2007</td>\n    </tr>\n    <tr>\n      <th>fffe8c7f952d9b960a56ed4dcb40a415d924b224</th>\n      <td>m</td>\n      <td>20.0</td>\n      <td>United States</td>\n      <td>Aug 8, 2007</td>\n    </tr>\n    <tr>\n      <th>ffff9af9ae04d263dae91cb838b1f3a6725f5ffb</th>\n      <td>m</td>\n      <td>20.0</td>\n      <td>Russian Federation</td>\n      <td>Dec 3, 2005</td>\n    </tr>\n    <tr>\n      <th>ffff9ef87a7d9494ada2f9ade4b9ff637c0759ac</th>\n      <td>m</td>\n      <td>21.0</td>\n      <td>Belgium</td>\n      <td>Nov 25, 2008</td>\n    </tr>\n  </tbody>\n</table>\n<p>359347 rows × 4 columns</p>\n</div>"
     },
     "execution_count": 16,
     "metadata": {},
     "output_type": "execute_result"
    }
   ],
   "source": [
    "cols = ['user-mboxsha1', 'gender', 'age', 'country', 'signup']\n",
    "data_users = pd.read_csv(\"lastfm-dataset-360K/usersha1-profile.tsv\", sep=\"\\t\", names=cols, header=None, index_col='user-mboxsha1')\n",
    "data_users"
   ],
   "metadata": {
    "collapsed": false
   }
  },
  {
   "cell_type": "code",
   "execution_count": 17,
   "outputs": [
    {
     "data": {
      "text/plain": "                                                         musicbrainz-artist-id  \\\nuser-mboxsha1                                                                    \n00000c289a1829a808ac09c00daf10bc3c4e223b  3bd73256-3905-4f3a-97e2-8b341527f805   \n00000c289a1829a808ac09c00daf10bc3c4e223b  f2fb0ff0-5679-42ec-a55c-15109ce6e320   \n00000c289a1829a808ac09c00daf10bc3c4e223b  b3ae82c2-e60b-4551-a76d-6620f1b456aa   \n00000c289a1829a808ac09c00daf10bc3c4e223b  3d6bbeb7-f90e-4d10-b440-e153c0d10b53   \n00000c289a1829a808ac09c00daf10bc3c4e223b  bbd2ffd7-17f4-4506-8572-c1ea58c3f9a8   \n...                                                                        ...   \nffff9ef87a7d9494ada2f9ade4b9ff637c0759ac  7e482754-d3f6-49e5-b351-235849754e26   \nffff9ef87a7d9494ada2f9ade4b9ff637c0759ac  656a0800-3a2b-47ed-a3ff-1e2908fdd2ff   \nffff9ef87a7d9494ada2f9ade4b9ff637c0759ac  4d7928cd-7ed2-4282-8c29-c0c9f966f1bd   \nffff9ef87a7d9494ada2f9ade4b9ff637c0759ac  298909e4-ebcb-47b8-95e9-cc53b087fc65   \nffff9ef87a7d9494ada2f9ade4b9ff637c0759ac  ef58d4c9-0d40-42ba-bfab-9186c1483edd   \n\n                                                   artist-name  plays gender  \\\nuser-mboxsha1                                                                  \n00000c289a1829a808ac09c00daf10bc3c4e223b       betty blowtorch   2137      f   \n00000c289a1829a808ac09c00daf10bc3c4e223b             die Ärzte   1099      f   \n00000c289a1829a808ac09c00daf10bc3c4e223b     melissa etheridge    897      f   \n00000c289a1829a808ac09c00daf10bc3c4e223b             elvenking    717      f   \n00000c289a1829a808ac09c00daf10bc3c4e223b  juliette & the licks    706      f   \n...                                                        ...    ...    ...   \nffff9ef87a7d9494ada2f9ade4b9ff637c0759ac             tristania     61      m   \nffff9ef87a7d9494ada2f9ade4b9ff637c0759ac               xandria     61      m   \nffff9ef87a7d9494ada2f9ade4b9ff637c0759ac          alice cooper     59      m   \nffff9ef87a7d9494ada2f9ade4b9ff637c0759ac           lamb of god     58      m   \nffff9ef87a7d9494ada2f9ade4b9ff637c0759ac           dragonforce     57      m   \n\n                                           age  country        signup  \nuser-mboxsha1                                                          \n00000c289a1829a808ac09c00daf10bc3c4e223b  22.0  Germany   Feb 1, 2007  \n00000c289a1829a808ac09c00daf10bc3c4e223b  22.0  Germany   Feb 1, 2007  \n00000c289a1829a808ac09c00daf10bc3c4e223b  22.0  Germany   Feb 1, 2007  \n00000c289a1829a808ac09c00daf10bc3c4e223b  22.0  Germany   Feb 1, 2007  \n00000c289a1829a808ac09c00daf10bc3c4e223b  22.0  Germany   Feb 1, 2007  \n...                                        ...      ...           ...  \nffff9ef87a7d9494ada2f9ade4b9ff637c0759ac  21.0  Belgium  Nov 25, 2008  \nffff9ef87a7d9494ada2f9ade4b9ff637c0759ac  21.0  Belgium  Nov 25, 2008  \nffff9ef87a7d9494ada2f9ade4b9ff637c0759ac  21.0  Belgium  Nov 25, 2008  \nffff9ef87a7d9494ada2f9ade4b9ff637c0759ac  21.0  Belgium  Nov 25, 2008  \nffff9ef87a7d9494ada2f9ade4b9ff637c0759ac  21.0  Belgium  Nov 25, 2008  \n\n[17535569 rows x 7 columns]",
      "text/html": "<div>\n<style scoped>\n    .dataframe tbody tr th:only-of-type {\n        vertical-align: middle;\n    }\n\n    .dataframe tbody tr th {\n        vertical-align: top;\n    }\n\n    .dataframe thead th {\n        text-align: right;\n    }\n</style>\n<table border=\"1\" class=\"dataframe\">\n  <thead>\n    <tr style=\"text-align: right;\">\n      <th></th>\n      <th>musicbrainz-artist-id</th>\n      <th>artist-name</th>\n      <th>plays</th>\n      <th>gender</th>\n      <th>age</th>\n      <th>country</th>\n      <th>signup</th>\n    </tr>\n    <tr>\n      <th>user-mboxsha1</th>\n      <th></th>\n      <th></th>\n      <th></th>\n      <th></th>\n      <th></th>\n      <th></th>\n      <th></th>\n    </tr>\n  </thead>\n  <tbody>\n    <tr>\n      <th>00000c289a1829a808ac09c00daf10bc3c4e223b</th>\n      <td>3bd73256-3905-4f3a-97e2-8b341527f805</td>\n      <td>betty blowtorch</td>\n      <td>2137</td>\n      <td>f</td>\n      <td>22.0</td>\n      <td>Germany</td>\n      <td>Feb 1, 2007</td>\n    </tr>\n    <tr>\n      <th>00000c289a1829a808ac09c00daf10bc3c4e223b</th>\n      <td>f2fb0ff0-5679-42ec-a55c-15109ce6e320</td>\n      <td>die Ärzte</td>\n      <td>1099</td>\n      <td>f</td>\n      <td>22.0</td>\n      <td>Germany</td>\n      <td>Feb 1, 2007</td>\n    </tr>\n    <tr>\n      <th>00000c289a1829a808ac09c00daf10bc3c4e223b</th>\n      <td>b3ae82c2-e60b-4551-a76d-6620f1b456aa</td>\n      <td>melissa etheridge</td>\n      <td>897</td>\n      <td>f</td>\n      <td>22.0</td>\n      <td>Germany</td>\n      <td>Feb 1, 2007</td>\n    </tr>\n    <tr>\n      <th>00000c289a1829a808ac09c00daf10bc3c4e223b</th>\n      <td>3d6bbeb7-f90e-4d10-b440-e153c0d10b53</td>\n      <td>elvenking</td>\n      <td>717</td>\n      <td>f</td>\n      <td>22.0</td>\n      <td>Germany</td>\n      <td>Feb 1, 2007</td>\n    </tr>\n    <tr>\n      <th>00000c289a1829a808ac09c00daf10bc3c4e223b</th>\n      <td>bbd2ffd7-17f4-4506-8572-c1ea58c3f9a8</td>\n      <td>juliette &amp; the licks</td>\n      <td>706</td>\n      <td>f</td>\n      <td>22.0</td>\n      <td>Germany</td>\n      <td>Feb 1, 2007</td>\n    </tr>\n    <tr>\n      <th>...</th>\n      <td>...</td>\n      <td>...</td>\n      <td>...</td>\n      <td>...</td>\n      <td>...</td>\n      <td>...</td>\n      <td>...</td>\n    </tr>\n    <tr>\n      <th>ffff9ef87a7d9494ada2f9ade4b9ff637c0759ac</th>\n      <td>7e482754-d3f6-49e5-b351-235849754e26</td>\n      <td>tristania</td>\n      <td>61</td>\n      <td>m</td>\n      <td>21.0</td>\n      <td>Belgium</td>\n      <td>Nov 25, 2008</td>\n    </tr>\n    <tr>\n      <th>ffff9ef87a7d9494ada2f9ade4b9ff637c0759ac</th>\n      <td>656a0800-3a2b-47ed-a3ff-1e2908fdd2ff</td>\n      <td>xandria</td>\n      <td>61</td>\n      <td>m</td>\n      <td>21.0</td>\n      <td>Belgium</td>\n      <td>Nov 25, 2008</td>\n    </tr>\n    <tr>\n      <th>ffff9ef87a7d9494ada2f9ade4b9ff637c0759ac</th>\n      <td>4d7928cd-7ed2-4282-8c29-c0c9f966f1bd</td>\n      <td>alice cooper</td>\n      <td>59</td>\n      <td>m</td>\n      <td>21.0</td>\n      <td>Belgium</td>\n      <td>Nov 25, 2008</td>\n    </tr>\n    <tr>\n      <th>ffff9ef87a7d9494ada2f9ade4b9ff637c0759ac</th>\n      <td>298909e4-ebcb-47b8-95e9-cc53b087fc65</td>\n      <td>lamb of god</td>\n      <td>58</td>\n      <td>m</td>\n      <td>21.0</td>\n      <td>Belgium</td>\n      <td>Nov 25, 2008</td>\n    </tr>\n    <tr>\n      <th>ffff9ef87a7d9494ada2f9ade4b9ff637c0759ac</th>\n      <td>ef58d4c9-0d40-42ba-bfab-9186c1483edd</td>\n      <td>dragonforce</td>\n      <td>57</td>\n      <td>m</td>\n      <td>21.0</td>\n      <td>Belgium</td>\n      <td>Nov 25, 2008</td>\n    </tr>\n  </tbody>\n</table>\n<p>17535569 rows × 7 columns</p>\n</div>"
     },
     "execution_count": 17,
     "metadata": {},
     "output_type": "execute_result"
    }
   ],
   "source": [
    "df = pd.merge(data_artists, data_users, on='user-mboxsha1')\n",
    "df"
   ],
   "metadata": {
    "collapsed": false
   }
  },
  {
   "cell_type": "code",
   "execution_count": 24,
   "outputs": [
    {
     "data": {
      "text/plain": "<AxesSubplot: xlabel='gender', ylabel='count'>"
     },
     "execution_count": 24,
     "metadata": {},
     "output_type": "execute_result"
    },
    {
     "data": {
      "text/plain": "<Figure size 640x480 with 1 Axes>",
      "image/png": "[encoded data removed]"
     },
     "metadata": {},
     "output_type": "display_data"
    }
   ],
   "source": [
    "sns.countplot(x='gender', data=data_users)"
   ],
   "metadata": {
    "collapsed": false
   }
  },
  {
   "cell_type": "code",
   "execution_count": 26,
   "outputs": [
    {
     "data": {
      "text/plain": "0.00B [00:00, ?B/s]",
      "application/vnd.jupyter.widget-view+json": {
       "version_major": 2,
       "version_minor": 0,
       "model_id": "fa6f997685624d0a98c4166d096911d3"
      }
     },
     "metadata": {},
     "output_type": "display_data"
    }
   ],
   "source": [
    "from implicit.datasets.lastfm import get_lastfm\n",
    "import h5py\n",
    "\n",
    "artists, users, artist_user_plays = get_lastfm()"
   ],
   "metadata": {
    "collapsed": false
   }
  },
  {
   "cell_type": "code",
   "execution_count": 35,
   "outputs": [
    {
     "data": {
      "text/plain": "array([' 2 ', ' 58725ab=>', ' 80lİ yillarin tÜrkÇe sÖzlÜ aŞk Şarkilari',\n       ..., '��|', '��疲暎�', '�������'], dtype=object)"
     },
     "execution_count": 35,
     "metadata": {},
     "output_type": "execute_result"
    }
   ],
   "source": [
    "artists"
   ],
   "metadata": {
    "collapsed": false
   }
  },
  {
   "cell_type": "code",
   "execution_count": 29,
   "outputs": [],
   "source": [
    "from implicit.nearest_neighbours import bm25_weight\n",
    "\n",
    "# weight the matrix, both to reduce impact of users that have played the same artist thousands of times\n",
    "# and to reduce the weight given to popular items\n",
    "artist_user_plays = bm25_weight(artist_user_plays, K1=100, B=0.8)\n",
    "\n",
    "# get the transpose since the most of the functions in implicit expect (user, item) sparse matrices instead of (item, user)\n",
    "user_plays = artist_user_plays.T.tocsr()"
   ],
   "metadata": {
    "collapsed": false
   }
  },
  {
   "cell_type": "code",
   "execution_count": 30,
   "outputs": [
    {
     "data": {
      "text/plain": "  0%|          | 0/15 [00:00<?, ?it/s]",
      "application/vnd.jupyter.widget-view+json": {
       "version_major": 2,
       "version_minor": 0,
       "model_id": "613d8eaa107a46e6943323e9609c215e"
      }
     },
     "metadata": {},
     "output_type": "display_data"
    }
   ],
   "source": [
    "from implicit.als import AlternatingLeastSquares\n",
    "# on github it's mentioned to use params: factors=64, regularization=0.05, alpha=2.0\n",
    "model = AlternatingLeastSquares(factors=50, regularization=0.01, alpha=2.0)\n",
    "model.fit(user_plays)"
   ],
   "metadata": {
    "collapsed": false
   }
  },
  {
   "cell_type": "code",
   "execution_count": 31,
   "outputs": [],
   "source": [
    "userid = 12345\n",
    "ids, scores = model.recommend(userid, user_plays[userid], N=10, filter_already_liked_items=False)"
   ],
   "metadata": {
    "collapsed": false
   }
  },
  {
   "cell_type": "code",
   "execution_count": 34,
   "outputs": [
    {
     "data": {
      "text/plain": "              artist     score  already_liked\n0         devil doll  1.042014          False\n1            mortiis  1.020328           True\n2  the coffinshakers  1.019382           True\n3       animal alpha  1.008374          False\n4          puissance  0.987394           True\n5    spiritual front  0.984755          False\n6     von thronstahl  0.974051           True\n7               gåte  0.971778          False\n8            laibach  0.962903          False\n9               rome  0.952618           True",
      "text/html": "<div>\n<style scoped>\n    .dataframe tbody tr th:only-of-type {\n        vertical-align: middle;\n    }\n\n    .dataframe tbody tr th {\n        vertical-align: top;\n    }\n\n    .dataframe thead th {\n        text-align: right;\n    }\n</style>\n<table border=\"1\" class=\"dataframe\">\n  <thead>\n    <tr style=\"text-align: right;\">\n      <th></th>\n      <th>artist</th>\n      <th>score</th>\n      <th>already_liked</th>\n    </tr>\n  </thead>\n  <tbody>\n    <tr>\n      <th>0</th>\n      <td>devil doll</td>\n      <td>1.042014</td>\n      <td>False</td>\n    </tr>\n    <tr>\n      <th>1</th>\n      <td>mortiis</td>\n      <td>1.020328</td>\n      <td>True</td>\n    </tr>\n    <tr>\n      <th>2</th>\n      <td>the coffinshakers</td>\n      <td>1.019382</td>\n      <td>True</td>\n    </tr>\n    <tr>\n      <th>3</th>\n      <td>animal alpha</td>\n      <td>1.008374</td>\n      <td>False</td>\n    </tr>\n    <tr>\n      <th>4</th>\n      <td>puissance</td>\n      <td>0.987394</td>\n      <td>True</td>\n    </tr>\n    <tr>\n      <th>5</th>\n      <td>spiritual front</td>\n      <td>0.984755</td>\n      <td>False</td>\n    </tr>\n    <tr>\n      <th>6</th>\n      <td>von thronstahl</td>\n      <td>0.974051</td>\n      <td>True</td>\n    </tr>\n    <tr>\n      <th>7</th>\n      <td>gåte</td>\n      <td>0.971778</td>\n      <td>False</td>\n    </tr>\n    <tr>\n      <th>8</th>\n      <td>laibach</td>\n      <td>0.962903</td>\n      <td>False</td>\n    </tr>\n    <tr>\n      <th>9</th>\n      <td>rome</td>\n      <td>0.952618</td>\n      <td>True</td>\n    </tr>\n  </tbody>\n</table>\n</div>"
     },
     "execution_count": 34,
     "metadata": {},
     "output_type": "execute_result"
    }
   ],
   "source": [
    "# Use pandas to display the output in a table, pandas isn't a dependency of implicit otherwise\n",
    "import numpy as np\n",
    "import pandas as pd\n",
    "pd.DataFrame({\n",
    "    \"artist\": artists[ids],\n",
    "    \"score\": scores,\n",
    "    \"already_liked\": np.in1d(ids, user_plays[userid].indices)\n",
    "})"
   ],
   "metadata": {
    "collapsed": false
   }
  },
  {
   "cell_type": "code",
   "execution_count": 36,
   "outputs": [
    {
     "data": {
      "text/plain": "               artist     score\n0         the beatles  1.000000\n1      the beach boys  0.994228\n2  the rolling stones  0.994202\n3         john lennon  0.994082\n4           bob dylan  0.993112\n5             the who  0.992982\n6         david bowie  0.992710\n7   simon & garfunkel  0.992701\n8        led zeppelin  0.991906\n9       frank sinatra  0.991290",
      "text/html": "<div>\n<style scoped>\n    .dataframe tbody tr th:only-of-type {\n        vertical-align: middle;\n    }\n\n    .dataframe tbody tr th {\n        vertical-align: top;\n    }\n\n    .dataframe thead th {\n        text-align: right;\n    }\n</style>\n<table border=\"1\" class=\"dataframe\">\n  <thead>\n    <tr style=\"text-align: right;\">\n      <th></th>\n      <th>artist</th>\n      <th>score</th>\n    </tr>\n  </thead>\n  <tbody>\n    <tr>\n      <th>0</th>\n      <td>the beatles</td>\n      <td>1.000000</td>\n    </tr>\n    <tr>\n      <th>1</th>\n      <td>the beach boys</td>\n      <td>0.994228</td>\n    </tr>\n    <tr>\n      <th>2</th>\n      <td>the rolling stones</td>\n      <td>0.994202</td>\n    </tr>\n    <tr>\n      <th>3</th>\n      <td>john lennon</td>\n      <td>0.994082</td>\n    </tr>\n    <tr>\n      <th>4</th>\n      <td>bob dylan</td>\n      <td>0.993112</td>\n    </tr>\n    <tr>\n      <th>5</th>\n      <td>the who</td>\n      <td>0.992982</td>\n    </tr>\n    <tr>\n      <th>6</th>\n      <td>david bowie</td>\n      <td>0.992710</td>\n    </tr>\n    <tr>\n      <th>7</th>\n      <td>simon &amp; garfunkel</td>\n      <td>0.992701</td>\n    </tr>\n    <tr>\n      <th>8</th>\n      <td>led zeppelin</td>\n      <td>0.991906</td>\n    </tr>\n    <tr>\n      <th>9</th>\n      <td>frank sinatra</td>\n      <td>0.991290</td>\n    </tr>\n  </tbody>\n</table>\n</div>"
     },
     "execution_count": 36,
     "metadata": {},
     "output_type": "execute_result"
    }
   ],
   "source": [
    "# get related items for the beatles (itemid = 25512)\n",
    "ids, scores= model.similar_items(252512)\n",
    "\n",
    "# display the results using pandas for nicer formatting\n",
    "pd.DataFrame({\"artist\": artists[ids], \"score\": scores})"
   ],
   "metadata": {
    "collapsed": false
   }
  },
  {
   "cell_type": "code",
   "execution_count": 45,
   "outputs": [
    {
     "data": {
      "text/plain": "(array([[161850, 107119, 165938, ..., 149578, 182106, 165906],\n        [128505, 252956, 111764, ..., 100014,  34533,  24304],\n        [186835, 142885, 235650, ..., 114672,  76563, 105351],\n        ...,\n        [116857, 196777, 116871, ..., 261557, 186440, 195787],\n        [179187,  50180, 108361, ..., 197857,  45513, 278891],\n        [102288,  50561, 261820, ..., 192885,  56308, 122099]], dtype=int32),\n (358868, 1000))"
     },
     "execution_count": 45,
     "metadata": {},
     "output_type": "execute_result"
    }
   ],
   "source": [
    "# Make recommendations for the first 1000 users in the dataset\n",
    "userids = np.arange(len(users))\n",
    "ids, scores = model.recommend(userids, user_plays[userids], N=1000)\n",
    "ids, ids.shape"
   ],
   "metadata": {
    "collapsed": false
   }
  },
  {
   "cell_type": "code",
   "execution_count": 57,
   "outputs": [
    {
     "data": {
      "text/plain": "array([[1.3008671 , 1.2339562 , 1.1471146 , ..., 0.54707396, 0.5468922 ,\n        0.54669535],\n       [1.3660398 , 1.3616371 , 1.3332883 , ..., 0.66177243, 0.66163826,\n        0.66152585],\n       [1.2719643 , 1.179096  , 1.1754359 , ..., 0.6244972 , 0.62441045,\n        0.6242906 ],\n       ...,\n       [1.0711653 , 1.0507048 , 1.0150871 , ..., 0.48246986, 0.48227397,\n        0.48226118],\n       [0.95225227, 0.94966465, 0.91752833, ..., 0.4593962 , 0.45932674,\n        0.45923552],\n       [0.9167378 , 0.83920467, 0.81019574, ..., 0.32530764, 0.3251007 ,\n        0.32507792]], dtype=float32)"
     },
     "execution_count": 57,
     "metadata": {},
     "output_type": "execute_result"
    }
   ],
   "source": [
    "scores"
   ],
   "metadata": {
    "collapsed": false
   }
  },
  {
   "cell_type": "code",
   "execution_count": 58,
   "outputs": [
    {
     "data": {
      "text/plain": "array([     0,      1,      2, ..., 358865, 358866, 358867])"
     },
     "execution_count": 58,
     "metadata": {},
     "output_type": "execute_result"
    }
   ],
   "source": [
    "userids"
   ],
   "metadata": {
    "collapsed": false
   }
  },
  {
   "cell_type": "code",
   "execution_count": 51,
   "outputs": [],
   "source": [
    "from numpy import savetxt\n",
    "\n",
    "savetxt('data_ids.csv', ids, delimiter=' ')\n",
    "savetxt('data_scores.csv', scores, delimiter=' ')"
   ],
   "metadata": {
    "collapsed": false
   }
  },
  {
   "cell_type": "code",
   "execution_count": 50,
   "outputs": [],
   "source": [],
   "metadata": {
    "collapsed": false
   }
  },
  {
   "cell_type": "code",
   "execution_count": 55,
   "outputs": [
    {
     "name": "stderr",
     "output_type": "stream",
     "text": [
      "/tmp/ipykernel_31589/3649712338.py:2: DeprecationWarning: loadtxt(): Parsing an integer via a float is deprecated.  To avoid this warning, you can:\n",
      "    * make sure the original data is stored as integers.\n",
      "    * use the `converters=` keyword argument.  If you only use\n",
      "      NumPy 1.23 or later, `converters=float` will normally work.\n",
      "    * Use `np.loadtxt(...).astype(np.int64)` parsing the file as\n",
      "      floating point and then convert it.  (On all NumPy versions.)\n",
      "  (Deprecated NumPy 1.23)\n",
      "  data = loadtxt('data_ids.csv', delimiter=' ', dtype='int32')\n"
     ]
    },
    {
     "data": {
      "text/plain": "array([[161850, 107119, 165938, ..., 149578, 182106, 165906],\n       [128505, 252956, 111764, ..., 100014,  34533,  24304],\n       [186835, 142885, 235650, ..., 114672,  76563, 105351],\n       ...,\n       [116857, 196777, 116871, ..., 261557, 186440, 195787],\n       [179187,  50180, 108361, ..., 197857,  45513, 278891],\n       [102288,  50561, 261820, ..., 192885,  56308, 122099]], dtype=int32)"
     },
     "execution_count": 55,
     "metadata": {},
     "output_type": "execute_result"
    }
   ],
   "source": [
    "from numpy import loadtxt\n",
    "data = loadtxt('data_ids.csv', delimiter=' ', dtype='int32')\n",
    "# print the array\n",
    "data"
   ],
   "metadata": {
    "collapsed": false
   }
  },
  {
   "cell_type": "code",
   "execution_count": 43,
   "outputs": [
    {
     "data": {
      "text/plain": "array([' 2 ', ' 58725ab=>', ' 80lİ yillarin tÜrkÇe sÖzlÜ aŞk Şarkilari',\n       ..., '��|', '��疲暎�', '�������'], dtype=object)"
     },
     "execution_count": 43,
     "metadata": {},
     "output_type": "execute_result"
    }
   ],
   "source": [
    "artists"
   ],
   "metadata": {
    "collapsed": false
   }
  },
  {
   "cell_type": "code",
   "execution_count": null,
   "outputs": [],
   "source": [],
   "metadata": {
    "collapsed": false
   }
  }
 ],
 "metadata": {
  "kernelspec": {
   "display_name": "Python 3",
   "language": "python",
   "name": "python3"
  },
  "language_info": {
   "codemirror_mode": {
    "name": "ipython",
    "version": 2
   },
   "file_extension": ".py",
   "mimetype": "text/x-python",
   "name": "python",
   "nbconvert_exporter": "python",
   "pygments_lexer": "ipython2",
   "version": "2.7.6"
  }
 },
 "nbformat": 4,
 "nbformat_minor": 0
}
