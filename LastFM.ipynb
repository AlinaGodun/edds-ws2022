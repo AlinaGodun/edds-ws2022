{
 "cells": [
  {
   "cell_type": "code",
   "execution_count": 1,
   "metadata": {
    "collapsed": true
   },
   "outputs": [],
   "source": [
    "import pandas as pd\n",
    "import seaborn as sns\n",
    "import numpy as np\n",
    "from implicit.datasets.lastfm import get_lastfm\n",
    "import h5py\n",
    "from implicit.nearest_neighbours import bm25_weight\n",
    "import scipy\n",
    "import matplotlib.pyplot as plt\n",
    "from scipy import stats\n",
    "\n",
    "from sklearn.model_selection import KFold\n",
    "from implicit.evaluation import ndcg_at_k\n",
    "from implicit.evaluation import train_test_split\n",
    "from implicit.als import AlternatingLeastSquares"
   ]
  },
  {
   "cell_type": "markdown",
   "source": [
    "# LastFM Dataset"
   ],
   "metadata": {
    "collapsed": false
   }
  },
  {
   "cell_type": "code",
   "execution_count": 2,
   "outputs": [],
   "source": [
    "def get_users_by_usage(ratings_df):\n",
    "\n",
    "    labels = list(range(1, 8))\n",
    "    popularity_cut = pd.qcut(ratings_df.groupby('user_id').artist_id.nunique(), 7)\n",
    "    popularity_cut = popularity_cut.cat.rename_categories(labels)\n",
    "    popularity_cut = pd.DataFrame(popularity_cut)\n",
    "    popularity_cut = popularity_cut.reset_index(drop=False)\n",
    "    popularity_cut.columns = ['user_id', 'usage']\n",
    "\n",
    "    popularity_cut_counts = pd.DataFrame(popularity_cut.groupby('usage').count())\n",
    "    popularity_cut_counts = popularity_cut_counts.reset_index(drop=False)\n",
    "    popularity_cut_counts['percentage'] = popularity_cut_counts.user_id / popularity_cut_counts.user_id.sum()\n",
    "\n",
    "    return popularity_cut, popularity_cut_counts"
   ],
   "metadata": {
    "collapsed": false
   }
  },
  {
   "cell_type": "code",
   "execution_count": 3,
   "outputs": [],
   "source": [
    "def get_divided_test_fold(ratings_df, test_index, sampling_rate=.2):\n",
    "    test_fold_df = ratings_df[ratings_df.user_id.isin(test_index)].copy()\n",
    "    test_df = test_fold_df.groupby('user_id').sample(frac=.2)\n",
    "    test_fold_df.loc[test_fold_df.user_id.isin(test_df.user_id), 'plays'] = 0\n",
    "\n",
    "    return test_fold_df, test_df"
   ],
   "metadata": {
    "collapsed": false
   }
  },
  {
   "cell_type": "code",
   "execution_count": 4,
   "outputs": [],
   "source": [
    "def get_age_bins():\n",
    "    age_bins = {}\n",
    "    age_bins[1] = '1-17'\n",
    "    age_bins[18] = '18-24'\n",
    "    age_bins[25] = '25-34'\n",
    "    age_bins[35] = '35-44'\n",
    "    age_bins[45] = '45-49'\n",
    "    age_bins[50] = '50-55'\n",
    "    age_bins[56] = '56+',\n",
    "    age_bins['NaN'] = 'NaN'\n",
    "\n",
    "    age_labels = list(age_bins.values())\n",
    "\n",
    "    return age_bins, age_labels"
   ],
   "metadata": {
    "collapsed": false
   }
  },
  {
   "cell_type": "code",
   "execution_count": 5,
   "outputs": [],
   "source": [
    "def get_metric_dict(users, column, values=None):\n",
    "    metric_dict = {}\n",
    "    if not values:\n",
    "        values = users[column].unique()\n",
    "    for g in values:\n",
    "        metric_dict[g] = []\n",
    "    return metric_dict"
   ],
   "metadata": {
    "collapsed": false
   }
  },
  {
   "cell_type": "markdown",
   "source": [
    "# Preparation"
   ],
   "metadata": {
    "collapsed": false
   }
  },
  {
   "cell_type": "code",
   "execution_count": 6,
   "outputs": [],
   "source": [
    "cols = ['user_id', 'artist_id', 'artist_name', 'plays']\n",
    "data_artists = pd.read_csv(\"lastfm-dataset-360K/usersha1-artmbid-artname-plays.tsv\", sep=\"\\t\", names=cols, header=None)\n",
    "\n",
    "cols = ['user_id', 'gender', 'age', 'country', 'signup']\n",
    "data_users = pd.read_csv(\"lastfm-dataset-360K/usersha1-profile.tsv\", sep=\"\\t\", names=cols, header=None)\n",
    "\n",
    "bins = [0, 18, 25, 35, 45, 50, 56, np.inf]\n",
    "names = ['1', '18','25', '35', '45', '50','55']\n",
    "data_users['AgeRange'] = pd.cut(data_users['age'], bins, labels=names)\n",
    "data_users['AgeRange'] = pd.to_numeric(data_users['AgeRange'])\n",
    "\n",
    "df = pd.merge(data_artists, data_users, on='user_id')\n",
    "\n",
    "artists, users, artist_user_plays = get_lastfm()\n",
    "artist_user_plays = bm25_weight(artist_user_plays, K1=100, B=0.8)\n",
    "\n",
    "# user_plays = artist_user_plays.T.tocsr()\n",
    "user_plays = artist_user_plays.T"
   ],
   "metadata": {
    "collapsed": false
   }
  },
  {
   "cell_type": "markdown",
   "source": [
    "# CV"
   ],
   "metadata": {
    "collapsed": false
   }
  },
  {
   "cell_type": "code",
   "execution_count": 7,
   "outputs": [],
   "source": [
    "users_df = pd.DataFrame({'user': users}).reset_index()\n",
    "users_df.rename(columns={\"index\": \"user_id\"}, inplace=True)\n",
    "c = user_plays.tocoo()\n",
    "t_df = pd.DataFrame({'user_id': c.row, 'artist_id': c.col, 'plays': c.data})\n",
    "t_df = pd.merge(t_df, users_df, on='user_id')\n",
    "# t_df = t_df.drop(['index'], axis=1)\n",
    "\n",
    "artists_df = pd.DataFrame({'artist': artists}).reset_index()\n",
    "artists_df.rename(columns={\"index\": \"artist_id\"}, inplace=True)\n",
    "t_df = pd.merge(t_df, artists_df, on='artist_id')\n",
    "# t_df = t_df.drop(['index'], axis=1)\n",
    "\n",
    "\n",
    "counts = t_df['user_id'].value_counts()\n",
    "t_df_40 = t_df[~t_df['user_id'].isin(counts[counts < 41].index)]\n",
    "# t_df_40.reset_index()\n",
    "# counts_5000 = counts.sample(n = 5000, random_state = 12345)\n",
    "# t_df_5000 = t_df_40[t_df_40['users'].isin(counts_5000.index)]\n",
    "\n",
    "list1 = t_df_40['user_id'].tolist()\n",
    "list2 = t_df_40['artist_id'].tolist()\n",
    "list3 = t_df_40['plays'].tolist()\n",
    "# list3 = t_df_40['index'].tolist()\n",
    "\n",
    "c.row = np.array(list1)\n",
    "c.col = np.array(list2)\n",
    "c.data = np.array(list3)\n",
    "\n",
    "new_matrix = scipy.sparse.csr_matrix(c)\n",
    "user_plays = new_matrix"
   ],
   "metadata": {
    "collapsed": false
   }
  },
  {
   "cell_type": "code",
   "execution_count": 8,
   "outputs": [],
   "source": [
    "# t_df_40 = pd.merge(t_df_40, df, left_on='user', right_on='user_id')\n",
    "popularity_cut, popularity_cut_counts = get_users_by_usage(df)\n",
    "age_bins, age_labels = get_age_bins()"
   ],
   "metadata": {
    "collapsed": false
   }
  },
  {
   "cell_type": "code",
   "execution_count": 9,
   "outputs": [
    {
     "data": {
      "text/plain": "                                           user_id  \\\n0         00000c289a1829a808ac09c00daf10bc3c4e223b   \n1         00000c289a1829a808ac09c00daf10bc3c4e223b   \n2         00000c289a1829a808ac09c00daf10bc3c4e223b   \n3         00000c289a1829a808ac09c00daf10bc3c4e223b   \n4         00000c289a1829a808ac09c00daf10bc3c4e223b   \n...                                            ...   \n17535564  ffff9ef87a7d9494ada2f9ade4b9ff637c0759ac   \n17535565  ffff9ef87a7d9494ada2f9ade4b9ff637c0759ac   \n17535566  ffff9ef87a7d9494ada2f9ade4b9ff637c0759ac   \n17535567  ffff9ef87a7d9494ada2f9ade4b9ff637c0759ac   \n17535568  ffff9ef87a7d9494ada2f9ade4b9ff637c0759ac   \n\n                                     artist_id           artist_name  plays  \\\n0         3bd73256-3905-4f3a-97e2-8b341527f805       betty blowtorch   2137   \n1         f2fb0ff0-5679-42ec-a55c-15109ce6e320             die Ärzte   1099   \n2         b3ae82c2-e60b-4551-a76d-6620f1b456aa     melissa etheridge    897   \n3         3d6bbeb7-f90e-4d10-b440-e153c0d10b53             elvenking    717   \n4         bbd2ffd7-17f4-4506-8572-c1ea58c3f9a8  juliette & the licks    706   \n...                                        ...                   ...    ...   \n17535564  7e482754-d3f6-49e5-b351-235849754e26             tristania     61   \n17535565  656a0800-3a2b-47ed-a3ff-1e2908fdd2ff               xandria     61   \n17535566  4d7928cd-7ed2-4282-8c29-c0c9f966f1bd          alice cooper     59   \n17535567  298909e4-ebcb-47b8-95e9-cc53b087fc65           lamb of god     58   \n17535568  ef58d4c9-0d40-42ba-bfab-9186c1483edd           dragonforce     57   \n\n         gender   age  country        signup  AgeRange  \n0             f  22.0  Germany   Feb 1, 2007      18.0  \n1             f  22.0  Germany   Feb 1, 2007      18.0  \n2             f  22.0  Germany   Feb 1, 2007      18.0  \n3             f  22.0  Germany   Feb 1, 2007      18.0  \n4             f  22.0  Germany   Feb 1, 2007      18.0  \n...         ...   ...      ...           ...       ...  \n17535564      m  21.0  Belgium  Nov 25, 2008      18.0  \n17535565      m  21.0  Belgium  Nov 25, 2008      18.0  \n17535566      m  21.0  Belgium  Nov 25, 2008      18.0  \n17535567      m  21.0  Belgium  Nov 25, 2008      18.0  \n17535568      m  21.0  Belgium  Nov 25, 2008      18.0  \n\n[17535569 rows x 9 columns]",
      "text/html": "<div>\n<style scoped>\n    .dataframe tbody tr th:only-of-type {\n        vertical-align: middle;\n    }\n\n    .dataframe tbody tr th {\n        vertical-align: top;\n    }\n\n    .dataframe thead th {\n        text-align: right;\n    }\n</style>\n<table border=\"1\" class=\"dataframe\">\n  <thead>\n    <tr style=\"text-align: right;\">\n      <th></th>\n      <th>user_id</th>\n      <th>artist_id</th>\n      <th>artist_name</th>\n      <th>plays</th>\n      <th>gender</th>\n      <th>age</th>\n      <th>country</th>\n      <th>signup</th>\n      <th>AgeRange</th>\n    </tr>\n  </thead>\n  <tbody>\n    <tr>\n      <th>0</th>\n      <td>00000c289a1829a808ac09c00daf10bc3c4e223b</td>\n      <td>3bd73256-3905-4f3a-97e2-8b341527f805</td>\n      <td>betty blowtorch</td>\n      <td>2137</td>\n      <td>f</td>\n      <td>22.0</td>\n      <td>Germany</td>\n      <td>Feb 1, 2007</td>\n      <td>18.0</td>\n    </tr>\n    <tr>\n      <th>1</th>\n      <td>00000c289a1829a808ac09c00daf10bc3c4e223b</td>\n      <td>f2fb0ff0-5679-42ec-a55c-15109ce6e320</td>\n      <td>die Ärzte</td>\n      <td>1099</td>\n      <td>f</td>\n      <td>22.0</td>\n      <td>Germany</td>\n      <td>Feb 1, 2007</td>\n      <td>18.0</td>\n    </tr>\n    <tr>\n      <th>2</th>\n      <td>00000c289a1829a808ac09c00daf10bc3c4e223b</td>\n      <td>b3ae82c2-e60b-4551-a76d-6620f1b456aa</td>\n      <td>melissa etheridge</td>\n      <td>897</td>\n      <td>f</td>\n      <td>22.0</td>\n      <td>Germany</td>\n      <td>Feb 1, 2007</td>\n      <td>18.0</td>\n    </tr>\n    <tr>\n      <th>3</th>\n      <td>00000c289a1829a808ac09c00daf10bc3c4e223b</td>\n      <td>3d6bbeb7-f90e-4d10-b440-e153c0d10b53</td>\n      <td>elvenking</td>\n      <td>717</td>\n      <td>f</td>\n      <td>22.0</td>\n      <td>Germany</td>\n      <td>Feb 1, 2007</td>\n      <td>18.0</td>\n    </tr>\n    <tr>\n      <th>4</th>\n      <td>00000c289a1829a808ac09c00daf10bc3c4e223b</td>\n      <td>bbd2ffd7-17f4-4506-8572-c1ea58c3f9a8</td>\n      <td>juliette &amp; the licks</td>\n      <td>706</td>\n      <td>f</td>\n      <td>22.0</td>\n      <td>Germany</td>\n      <td>Feb 1, 2007</td>\n      <td>18.0</td>\n    </tr>\n    <tr>\n      <th>...</th>\n      <td>...</td>\n      <td>...</td>\n      <td>...</td>\n      <td>...</td>\n      <td>...</td>\n      <td>...</td>\n      <td>...</td>\n      <td>...</td>\n      <td>...</td>\n    </tr>\n    <tr>\n      <th>17535564</th>\n      <td>ffff9ef87a7d9494ada2f9ade4b9ff637c0759ac</td>\n      <td>7e482754-d3f6-49e5-b351-235849754e26</td>\n      <td>tristania</td>\n      <td>61</td>\n      <td>m</td>\n      <td>21.0</td>\n      <td>Belgium</td>\n      <td>Nov 25, 2008</td>\n      <td>18.0</td>\n    </tr>\n    <tr>\n      <th>17535565</th>\n      <td>ffff9ef87a7d9494ada2f9ade4b9ff637c0759ac</td>\n      <td>656a0800-3a2b-47ed-a3ff-1e2908fdd2ff</td>\n      <td>xandria</td>\n      <td>61</td>\n      <td>m</td>\n      <td>21.0</td>\n      <td>Belgium</td>\n      <td>Nov 25, 2008</td>\n      <td>18.0</td>\n    </tr>\n    <tr>\n      <th>17535566</th>\n      <td>ffff9ef87a7d9494ada2f9ade4b9ff637c0759ac</td>\n      <td>4d7928cd-7ed2-4282-8c29-c0c9f966f1bd</td>\n      <td>alice cooper</td>\n      <td>59</td>\n      <td>m</td>\n      <td>21.0</td>\n      <td>Belgium</td>\n      <td>Nov 25, 2008</td>\n      <td>18.0</td>\n    </tr>\n    <tr>\n      <th>17535567</th>\n      <td>ffff9ef87a7d9494ada2f9ade4b9ff637c0759ac</td>\n      <td>298909e4-ebcb-47b8-95e9-cc53b087fc65</td>\n      <td>lamb of god</td>\n      <td>58</td>\n      <td>m</td>\n      <td>21.0</td>\n      <td>Belgium</td>\n      <td>Nov 25, 2008</td>\n      <td>18.0</td>\n    </tr>\n    <tr>\n      <th>17535568</th>\n      <td>ffff9ef87a7d9494ada2f9ade4b9ff637c0759ac</td>\n      <td>ef58d4c9-0d40-42ba-bfab-9186c1483edd</td>\n      <td>dragonforce</td>\n      <td>57</td>\n      <td>m</td>\n      <td>21.0</td>\n      <td>Belgium</td>\n      <td>Nov 25, 2008</td>\n      <td>18.0</td>\n    </tr>\n  </tbody>\n</table>\n<p>17535569 rows × 9 columns</p>\n</div>"
     },
     "execution_count": 9,
     "metadata": {},
     "output_type": "execute_result"
    }
   ],
   "source": [
    "df"
   ],
   "metadata": {
    "collapsed": false
   }
  },
  {
   "cell_type": "code",
   "execution_count": 10,
   "outputs": [
    {
     "data": {
      "text/plain": "          user_id  artist_id       plays  \\\n1           97856          0  395.425492   \n5          295693       5653   28.194612   \n6          261155       5653   11.727594   \n8            6074       5653    3.704413   \n9           21564       5653    0.384355   \n...           ...        ...         ...   \n17535531    59741     284782  680.761611   \n17535540   336980     159947   79.596436   \n17535557   343771     146186  828.216540   \n17535558   229657     206794  582.441098   \n17535559   229657     255648  520.166824   \n\n                                              user                      artist  \n1         45deffe1bd79b13110971a2c7a0f2d416f2fc974                          2   \n5         d2ff03808cb5b6efbe1c6106a7e854c79005dcf8                   [unknown]  \n6         ba9c29362dbdfd78588df92e5f67d20ec663884a                   [unknown]  \n8         0463e09d869bcbb56e6841f216a5dda6e16b7bf5                   [unknown]  \n9         0f53077431f9edc421b08cf670da40263ad31dff                   [unknown]  \n...                                            ...                         ...  \n17535531  2ab0f8005039faf9f6d50da38c60637096e8d8d6               àåøï øåæï-ãäï  \n17535540  f06c1641a0db1b59a07007ffd26f54efb6aabc32  kevin devine & jesse lacey  \n17535557  f532a419e30b2ba1f90cf3b798872bd9ea8f6b6d                 janice (衛蘭)  \n17535558  a41c605e6449494503ea3c46ab8b1465179e5e0e               painted faces  \n17535559  a41c605e6449494503ea3c46ab8b1465179e5e0e                   the event  \n\n[16431301 rows x 5 columns]",
      "text/html": "<div>\n<style scoped>\n    .dataframe tbody tr th:only-of-type {\n        vertical-align: middle;\n    }\n\n    .dataframe tbody tr th {\n        vertical-align: top;\n    }\n\n    .dataframe thead th {\n        text-align: right;\n    }\n</style>\n<table border=\"1\" class=\"dataframe\">\n  <thead>\n    <tr style=\"text-align: right;\">\n      <th></th>\n      <th>user_id</th>\n      <th>artist_id</th>\n      <th>plays</th>\n      <th>user</th>\n      <th>artist</th>\n    </tr>\n  </thead>\n  <tbody>\n    <tr>\n      <th>1</th>\n      <td>97856</td>\n      <td>0</td>\n      <td>395.425492</td>\n      <td>45deffe1bd79b13110971a2c7a0f2d416f2fc974</td>\n      <td>2</td>\n    </tr>\n    <tr>\n      <th>5</th>\n      <td>295693</td>\n      <td>5653</td>\n      <td>28.194612</td>\n      <td>d2ff03808cb5b6efbe1c6106a7e854c79005dcf8</td>\n      <td>[unknown]</td>\n    </tr>\n    <tr>\n      <th>6</th>\n      <td>261155</td>\n      <td>5653</td>\n      <td>11.727594</td>\n      <td>ba9c29362dbdfd78588df92e5f67d20ec663884a</td>\n      <td>[unknown]</td>\n    </tr>\n    <tr>\n      <th>8</th>\n      <td>6074</td>\n      <td>5653</td>\n      <td>3.704413</td>\n      <td>0463e09d869bcbb56e6841f216a5dda6e16b7bf5</td>\n      <td>[unknown]</td>\n    </tr>\n    <tr>\n      <th>9</th>\n      <td>21564</td>\n      <td>5653</td>\n      <td>0.384355</td>\n      <td>0f53077431f9edc421b08cf670da40263ad31dff</td>\n      <td>[unknown]</td>\n    </tr>\n    <tr>\n      <th>...</th>\n      <td>...</td>\n      <td>...</td>\n      <td>...</td>\n      <td>...</td>\n      <td>...</td>\n    </tr>\n    <tr>\n      <th>17535531</th>\n      <td>59741</td>\n      <td>284782</td>\n      <td>680.761611</td>\n      <td>2ab0f8005039faf9f6d50da38c60637096e8d8d6</td>\n      <td>àåøï øåæï-ãäï</td>\n    </tr>\n    <tr>\n      <th>17535540</th>\n      <td>336980</td>\n      <td>159947</td>\n      <td>79.596436</td>\n      <td>f06c1641a0db1b59a07007ffd26f54efb6aabc32</td>\n      <td>kevin devine &amp; jesse lacey</td>\n    </tr>\n    <tr>\n      <th>17535557</th>\n      <td>343771</td>\n      <td>146186</td>\n      <td>828.216540</td>\n      <td>f532a419e30b2ba1f90cf3b798872bd9ea8f6b6d</td>\n      <td>janice (衛蘭)</td>\n    </tr>\n    <tr>\n      <th>17535558</th>\n      <td>229657</td>\n      <td>206794</td>\n      <td>582.441098</td>\n      <td>a41c605e6449494503ea3c46ab8b1465179e5e0e</td>\n      <td>painted faces</td>\n    </tr>\n    <tr>\n      <th>17535559</th>\n      <td>229657</td>\n      <td>255648</td>\n      <td>520.166824</td>\n      <td>a41c605e6449494503ea3c46ab8b1465179e5e0e</td>\n      <td>the event</td>\n    </tr>\n  </tbody>\n</table>\n<p>16431301 rows × 5 columns</p>\n</div>"
     },
     "execution_count": 10,
     "metadata": {},
     "output_type": "execute_result"
    }
   ],
   "source": [
    "t_df_40"
   ],
   "metadata": {
    "collapsed": false
   }
  },
  {
   "cell_type": "code",
   "execution_count": 11,
   "outputs": [
    {
     "data": {
      "text/plain": "(358868, 292385)"
     },
     "execution_count": 11,
     "metadata": {},
     "output_type": "execute_result"
    }
   ],
   "source": [
    "user_plays.shape"
   ],
   "metadata": {
    "collapsed": false
   }
  },
  {
   "cell_type": "code",
   "execution_count": 12,
   "outputs": [],
   "source": [
    "ndcg_dict_age = get_metric_dict(data_users, 'AgeRange')\n",
    "ndcg_dict_gender = get_metric_dict(data_users, 'gender')\n",
    "ndcg_dict_usage = get_metric_dict(data_users, '', values=range(1, 8))"
   ],
   "metadata": {
    "collapsed": false
   }
  },
  {
   "cell_type": "code",
   "execution_count": 13,
   "outputs": [],
   "source": [
    "ndcg_dicts = {}\n",
    "ndcg_dicts['AgeRange'] = get_metric_dict(data_users, 'AgeRange')\n",
    "ndcg_dicts['gender'] = get_metric_dict(data_users, 'gender')\n",
    "ndcg_dicts['usage'] = get_metric_dict(data_users, '', values=range(1, 8))"
   ],
   "metadata": {
    "collapsed": false
   }
  },
  {
   "cell_type": "code",
   "execution_count": 14,
   "outputs": [
    {
     "data": {
      "text/plain": "          user_id  artist_id       plays  \\\n1           97856          0  395.425492   \n5          295693       5653   28.194612   \n6          261155       5653   11.727594   \n8            6074       5653    3.704413   \n9           21564       5653    0.384355   \n...           ...        ...         ...   \n17535531    59741     284782  680.761611   \n17535540   336980     159947   79.596436   \n17535557   343771     146186  828.216540   \n17535558   229657     206794  582.441098   \n17535559   229657     255648  520.166824   \n\n                                              user                      artist  \n1         45deffe1bd79b13110971a2c7a0f2d416f2fc974                          2   \n5         d2ff03808cb5b6efbe1c6106a7e854c79005dcf8                   [unknown]  \n6         ba9c29362dbdfd78588df92e5f67d20ec663884a                   [unknown]  \n8         0463e09d869bcbb56e6841f216a5dda6e16b7bf5                   [unknown]  \n9         0f53077431f9edc421b08cf670da40263ad31dff                   [unknown]  \n...                                            ...                         ...  \n17535531  2ab0f8005039faf9f6d50da38c60637096e8d8d6               àåøï øåæï-ãäï  \n17535540  f06c1641a0db1b59a07007ffd26f54efb6aabc32  kevin devine & jesse lacey  \n17535557  f532a419e30b2ba1f90cf3b798872bd9ea8f6b6d                 janice (衛蘭)  \n17535558  a41c605e6449494503ea3c46ab8b1465179e5e0e               painted faces  \n17535559  a41c605e6449494503ea3c46ab8b1465179e5e0e                   the event  \n\n[16431301 rows x 5 columns]",
      "text/html": "<div>\n<style scoped>\n    .dataframe tbody tr th:only-of-type {\n        vertical-align: middle;\n    }\n\n    .dataframe tbody tr th {\n        vertical-align: top;\n    }\n\n    .dataframe thead th {\n        text-align: right;\n    }\n</style>\n<table border=\"1\" class=\"dataframe\">\n  <thead>\n    <tr style=\"text-align: right;\">\n      <th></th>\n      <th>user_id</th>\n      <th>artist_id</th>\n      <th>plays</th>\n      <th>user</th>\n      <th>artist</th>\n    </tr>\n  </thead>\n  <tbody>\n    <tr>\n      <th>1</th>\n      <td>97856</td>\n      <td>0</td>\n      <td>395.425492</td>\n      <td>45deffe1bd79b13110971a2c7a0f2d416f2fc974</td>\n      <td>2</td>\n    </tr>\n    <tr>\n      <th>5</th>\n      <td>295693</td>\n      <td>5653</td>\n      <td>28.194612</td>\n      <td>d2ff03808cb5b6efbe1c6106a7e854c79005dcf8</td>\n      <td>[unknown]</td>\n    </tr>\n    <tr>\n      <th>6</th>\n      <td>261155</td>\n      <td>5653</td>\n      <td>11.727594</td>\n      <td>ba9c29362dbdfd78588df92e5f67d20ec663884a</td>\n      <td>[unknown]</td>\n    </tr>\n    <tr>\n      <th>8</th>\n      <td>6074</td>\n      <td>5653</td>\n      <td>3.704413</td>\n      <td>0463e09d869bcbb56e6841f216a5dda6e16b7bf5</td>\n      <td>[unknown]</td>\n    </tr>\n    <tr>\n      <th>9</th>\n      <td>21564</td>\n      <td>5653</td>\n      <td>0.384355</td>\n      <td>0f53077431f9edc421b08cf670da40263ad31dff</td>\n      <td>[unknown]</td>\n    </tr>\n    <tr>\n      <th>...</th>\n      <td>...</td>\n      <td>...</td>\n      <td>...</td>\n      <td>...</td>\n      <td>...</td>\n    </tr>\n    <tr>\n      <th>17535531</th>\n      <td>59741</td>\n      <td>284782</td>\n      <td>680.761611</td>\n      <td>2ab0f8005039faf9f6d50da38c60637096e8d8d6</td>\n      <td>àåøï øåæï-ãäï</td>\n    </tr>\n    <tr>\n      <th>17535540</th>\n      <td>336980</td>\n      <td>159947</td>\n      <td>79.596436</td>\n      <td>f06c1641a0db1b59a07007ffd26f54efb6aabc32</td>\n      <td>kevin devine &amp; jesse lacey</td>\n    </tr>\n    <tr>\n      <th>17535557</th>\n      <td>343771</td>\n      <td>146186</td>\n      <td>828.216540</td>\n      <td>f532a419e30b2ba1f90cf3b798872bd9ea8f6b6d</td>\n      <td>janice (衛蘭)</td>\n    </tr>\n    <tr>\n      <th>17535558</th>\n      <td>229657</td>\n      <td>206794</td>\n      <td>582.441098</td>\n      <td>a41c605e6449494503ea3c46ab8b1465179e5e0e</td>\n      <td>painted faces</td>\n    </tr>\n    <tr>\n      <th>17535559</th>\n      <td>229657</td>\n      <td>255648</td>\n      <td>520.166824</td>\n      <td>a41c605e6449494503ea3c46ab8b1465179e5e0e</td>\n      <td>the event</td>\n    </tr>\n  </tbody>\n</table>\n<p>16431301 rows × 5 columns</p>\n</div>"
     },
     "execution_count": 14,
     "metadata": {},
     "output_type": "execute_result"
    }
   ],
   "source": [
    "t_df_40"
   ],
   "metadata": {
    "collapsed": false
   }
  },
  {
   "cell_type": "code",
   "execution_count": 15,
   "outputs": [
    {
     "data": {
      "text/plain": "array([18., nan, 25.,  1., 45., 50., 55., 35.])"
     },
     "execution_count": 15,
     "metadata": {},
     "output_type": "execute_result"
    }
   ],
   "source": [
    "df['AgeRange'].unique()"
   ],
   "metadata": {
    "collapsed": false
   }
  },
  {
   "cell_type": "code",
   "execution_count": 16,
   "outputs": [
    {
     "data": {
      "text/plain": "array(['00000c289a1829a808ac09c00daf10bc3c4e223b',\n       '000063d3fe1cf2ba248b9e3c3f0334845a27a6bf',\n       '0000c176103e538d5c9828e695fed4f7ae42dd01', ...,\n       'fffe8c7f952d9b960a56ed4dcb40a415d924b224',\n       'ffff9af9ae04d263dae91cb838b1f3a6725f5ffb',\n       'ffff9ef87a7d9494ada2f9ade4b9ff637c0759ac'], dtype=object)"
     },
     "execution_count": 16,
     "metadata": {},
     "output_type": "execute_result"
    }
   ],
   "source": [
    "df[df['AgeRange'] == 18.0].user_id.unique()"
   ],
   "metadata": {
    "collapsed": false
   }
  },
  {
   "cell_type": "code",
   "execution_count": 17,
   "outputs": [],
   "source": [
    "# user_plays[df[df['AgeRange'] == 18.0].user_id.unique()]"
   ],
   "metadata": {
    "collapsed": false
   }
  },
  {
   "cell_type": "code",
   "execution_count": 20,
   "outputs": [
    {
     "name": "stdout",
     "output_type": "stream",
     "text": [
      "Fold 0:\n",
      "  Train: index=(287094,)\n"
     ]
    },
    {
     "data": {
      "text/plain": "  0%|          | 0/15 [00:00<?, ?it/s]",
      "application/vnd.jupyter.widget-view+json": {
       "version_major": 2,
       "version_minor": 0,
       "model_id": "8b6bc5b8c2164cef90098d6bb18bc3fb"
      }
     },
     "metadata": {},
     "output_type": "display_data"
    },
    {
     "name": "stdout",
     "output_type": "stream",
     "text": [
      "Model trained, starting evaluation...\n",
      "  Test:  index=(5000, 16)\n",
      "Starting evaluation by AgeRange groups...\n"
     ]
    },
    {
     "data": {
      "text/plain": "  0%|          | 0/297 [00:00<?, ?it/s]",
      "application/vnd.jupyter.widget-view+json": {
       "version_major": 2,
       "version_minor": 0,
       "model_id": "ea2c08905a584fd68af0001863e134bd"
      }
     },
     "metadata": {},
     "output_type": "display_data"
    },
    {
     "data": {
      "text/plain": "  0%|          | 0/2485 [00:00<?, ?it/s]",
      "application/vnd.jupyter.widget-view+json": {
       "version_major": 2,
       "version_minor": 0,
       "model_id": "3868308fd89348058dbccdbbd79ee017"
      }
     },
     "metadata": {},
     "output_type": "display_data"
    },
    {
     "data": {
      "text/plain": "  0%|          | 0/1210 [00:00<?, ?it/s]",
      "application/vnd.jupyter.widget-view+json": {
       "version_major": 2,
       "version_minor": 0,
       "model_id": "9df6b68670e1480a9ab5a138a2c0dbbe"
      }
     },
     "metadata": {},
     "output_type": "display_data"
    },
    {
     "data": {
      "text/plain": "  0%|          | 0/71 [00:00<?, ?it/s]",
      "application/vnd.jupyter.widget-view+json": {
       "version_major": 2,
       "version_minor": 0,
       "model_id": "d66c84bc87ac49599ad7cb44a2d91e81"
      }
     },
     "metadata": {},
     "output_type": "display_data"
    },
    {
     "data": {
      "text/plain": "  0%|          | 0/583 [00:00<?, ?it/s]",
      "application/vnd.jupyter.widget-view+json": {
       "version_major": 2,
       "version_minor": 0,
       "model_id": "ce82fa53ef334e548bc70785b0ae778b"
      }
     },
     "metadata": {},
     "output_type": "display_data"
    },
    {
     "data": {
      "text/plain": "  0%|          | 0/62 [00:00<?, ?it/s]",
      "application/vnd.jupyter.widget-view+json": {
       "version_major": 2,
       "version_minor": 0,
       "model_id": "3066900edbd84f72963c6c1c16a23105"
      }
     },
     "metadata": {},
     "output_type": "display_data"
    },
    {
     "data": {
      "text/plain": "  0%|          | 0/34 [00:00<?, ?it/s]",
      "application/vnd.jupyter.widget-view+json": {
       "version_major": 2,
       "version_minor": 0,
       "model_id": "5c028a51500c47f4add6930901169a4f"
      }
     },
     "metadata": {},
     "output_type": "display_data"
    },
    {
     "name": "stdout",
     "output_type": "stream",
     "text": [
      "Evaluation by AgeRange finished...\n",
      "Starting evaluation by gender groups...\n"
     ]
    },
    {
     "data": {
      "text/plain": "  0%|          | 0/3550 [00:00<?, ?it/s]",
      "application/vnd.jupyter.widget-view+json": {
       "version_major": 2,
       "version_minor": 0,
       "model_id": "5ad10f29253e48008d393fcc9f3ce162"
      }
     },
     "metadata": {},
     "output_type": "display_data"
    },
    {
     "data": {
      "text/plain": "  0%|          | 0/1192 [00:00<?, ?it/s]",
      "application/vnd.jupyter.widget-view+json": {
       "version_major": 2,
       "version_minor": 0,
       "model_id": "d25281bbe38b4b90a784b170184d2875"
      }
     },
     "metadata": {},
     "output_type": "display_data"
    },
    {
     "name": "stdout",
     "output_type": "stream",
     "text": [
      "Evaluation by gender finished...\n",
      "Starting evaluation by usage groups...\n"
     ]
    },
    {
     "data": {
      "text/plain": "  0%|          | 0/790 [00:00<?, ?it/s]",
      "application/vnd.jupyter.widget-view+json": {
       "version_major": 2,
       "version_minor": 0,
       "model_id": "a00b628854c6452fbfc6a1faef5bb2a0"
      }
     },
     "metadata": {},
     "output_type": "display_data"
    },
    {
     "data": {
      "text/plain": "  0%|          | 0/440 [00:00<?, ?it/s]",
      "application/vnd.jupyter.widget-view+json": {
       "version_major": 2,
       "version_minor": 0,
       "model_id": "bda764aae8f344dc93c5ceb53a679576"
      }
     },
     "metadata": {},
     "output_type": "display_data"
    },
    {
     "data": {
      "text/plain": "  0%|          | 0/503 [00:00<?, ?it/s]",
      "application/vnd.jupyter.widget-view+json": {
       "version_major": 2,
       "version_minor": 0,
       "model_id": "806248b9b92e4f00bbadf7d491f6b102"
      }
     },
     "metadata": {},
     "output_type": "display_data"
    },
    {
     "data": {
      "text/plain": "  0%|          | 0/1069 [00:00<?, ?it/s]",
      "application/vnd.jupyter.widget-view+json": {
       "version_major": 2,
       "version_minor": 0,
       "model_id": "5314a128ca0346d99cd9d20c266a96a1"
      }
     },
     "metadata": {},
     "output_type": "display_data"
    },
    {
     "data": {
      "text/plain": "  0%|          | 0/690 [00:00<?, ?it/s]",
      "application/vnd.jupyter.widget-view+json": {
       "version_major": 2,
       "version_minor": 0,
       "model_id": "9ce20a4253574f3bb1f72d95d7e76740"
      }
     },
     "metadata": {},
     "output_type": "display_data"
    },
    {
     "data": {
      "text/plain": "  0%|          | 0/1079 [00:00<?, ?it/s]",
      "application/vnd.jupyter.widget-view+json": {
       "version_major": 2,
       "version_minor": 0,
       "model_id": "737e959bc712436e8a6e3d0658acc2e0"
      }
     },
     "metadata": {},
     "output_type": "display_data"
    },
    {
     "data": {
      "text/plain": "  0%|          | 0/171 [00:00<?, ?it/s]",
      "application/vnd.jupyter.widget-view+json": {
       "version_major": 2,
       "version_minor": 0,
       "model_id": "79e3ab6d863f4289a9e46cb72ffee2db"
      }
     },
     "metadata": {},
     "output_type": "display_data"
    },
    {
     "name": "stdout",
     "output_type": "stream",
     "text": [
      "Evaluation by usage finished...\n",
      "Fold 1:\n",
      "  Train: index=(287094,)\n"
     ]
    },
    {
     "data": {
      "text/plain": "  0%|          | 0/15 [00:00<?, ?it/s]",
      "application/vnd.jupyter.widget-view+json": {
       "version_major": 2,
       "version_minor": 0,
       "model_id": "c15fdc7bd06c4ab08543be4e543209b9"
      }
     },
     "metadata": {},
     "output_type": "display_data"
    },
    {
     "name": "stdout",
     "output_type": "stream",
     "text": [
      "Model trained, starting evaluation...\n",
      "  Test:  index=(5000, 16)\n",
      "Starting evaluation by AgeRange groups...\n"
     ]
    },
    {
     "data": {
      "text/plain": "  0%|          | 0/60 [00:00<?, ?it/s]",
      "application/vnd.jupyter.widget-view+json": {
       "version_major": 2,
       "version_minor": 0,
       "model_id": "dede2e98cde140f398f7db110f63ad1a"
      }
     },
     "metadata": {},
     "output_type": "display_data"
    },
    {
     "data": {
      "text/plain": "  0%|          | 0/2371 [00:00<?, ?it/s]",
      "application/vnd.jupyter.widget-view+json": {
       "version_major": 2,
       "version_minor": 0,
       "model_id": "073b7cc4121b431d86eb470c3ed71071"
      }
     },
     "metadata": {},
     "output_type": "display_data"
    },
    {
     "data": {
      "text/plain": "  0%|          | 0/1358 [00:00<?, ?it/s]",
      "application/vnd.jupyter.widget-view+json": {
       "version_major": 2,
       "version_minor": 0,
       "model_id": "93970924ecaf49b4ab61090ba7cb52ae"
      }
     },
     "metadata": {},
     "output_type": "display_data"
    },
    {
     "data": {
      "text/plain": "  0%|          | 0/275 [00:00<?, ?it/s]",
      "application/vnd.jupyter.widget-view+json": {
       "version_major": 2,
       "version_minor": 0,
       "model_id": "0190192eda144c0fa3cb10586fb10f73"
      }
     },
     "metadata": {},
     "output_type": "display_data"
    },
    {
     "data": {
      "text/plain": "  0%|          | 0/560 [00:00<?, ?it/s]",
      "application/vnd.jupyter.widget-view+json": {
       "version_major": 2,
       "version_minor": 0,
       "model_id": "bb0c17f9f8404aca88067a65c34eb1e1"
      }
     },
     "metadata": {},
     "output_type": "display_data"
    },
    {
     "data": {
      "text/plain": "  0%|          | 0/71 [00:00<?, ?it/s]",
      "application/vnd.jupyter.widget-view+json": {
       "version_major": 2,
       "version_minor": 0,
       "model_id": "26ba4604d74f4d3287531713acc9f9ec"
      }
     },
     "metadata": {},
     "output_type": "display_data"
    },
    {
     "data": {
      "text/plain": "  0%|          | 0/36 [00:00<?, ?it/s]",
      "application/vnd.jupyter.widget-view+json": {
       "version_major": 2,
       "version_minor": 0,
       "model_id": "485b22e9a6864a86bf1e26ca43627f10"
      }
     },
     "metadata": {},
     "output_type": "display_data"
    },
    {
     "name": "stdout",
     "output_type": "stream",
     "text": [
      "Evaluation by AgeRange finished...\n",
      "Starting evaluation by gender groups...\n"
     ]
    },
    {
     "data": {
      "text/plain": "  0%|          | 0/1191 [00:00<?, ?it/s]",
      "application/vnd.jupyter.widget-view+json": {
       "version_major": 2,
       "version_minor": 0,
       "model_id": "d09ba131125b4e86ba9bf64a7a6b72a5"
      }
     },
     "metadata": {},
     "output_type": "display_data"
    },
    {
     "data": {
      "text/plain": "  0%|          | 0/3540 [00:00<?, ?it/s]",
      "application/vnd.jupyter.widget-view+json": {
       "version_major": 2,
       "version_minor": 0,
       "model_id": "8deb992d1ea14c21981afc8b9496c5c7"
      }
     },
     "metadata": {},
     "output_type": "display_data"
    },
    {
     "name": "stdout",
     "output_type": "stream",
     "text": [
      "Evaluation by gender finished...\n",
      "Starting evaluation by usage groups...\n"
     ]
    },
    {
     "data": {
      "text/plain": "  0%|          | 0/781 [00:00<?, ?it/s]",
      "application/vnd.jupyter.widget-view+json": {
       "version_major": 2,
       "version_minor": 0,
       "model_id": "b3437531a72d424fa317aa40b0498966"
      }
     },
     "metadata": {},
     "output_type": "display_data"
    },
    {
     "data": {
      "text/plain": "  0%|          | 0/1084 [00:00<?, ?it/s]",
      "application/vnd.jupyter.widget-view+json": {
       "version_major": 2,
       "version_minor": 0,
       "model_id": "08ed6a7bcc6547e182843b9799458925"
      }
     },
     "metadata": {},
     "output_type": "display_data"
    },
    {
     "data": {
      "text/plain": "  0%|          | 0/1066 [00:00<?, ?it/s]",
      "application/vnd.jupyter.widget-view+json": {
       "version_major": 2,
       "version_minor": 0,
       "model_id": "07ba0d96861c4fe8ad53ddc752358122"
      }
     },
     "metadata": {},
     "output_type": "display_data"
    },
    {
     "data": {
      "text/plain": "  0%|          | 0/728 [00:00<?, ?it/s]",
      "application/vnd.jupyter.widget-view+json": {
       "version_major": 2,
       "version_minor": 0,
       "model_id": "b27fd6dd0785420fbb3f4b8588f2c0d8"
      }
     },
     "metadata": {},
     "output_type": "display_data"
    },
    {
     "data": {
      "text/plain": "  0%|          | 0/522 [00:00<?, ?it/s]",
      "application/vnd.jupyter.widget-view+json": {
       "version_major": 2,
       "version_minor": 0,
       "model_id": "f3566d4a79584d028ddeac06c8666dde"
      }
     },
     "metadata": {},
     "output_type": "display_data"
    },
    {
     "data": {
      "text/plain": "  0%|          | 0/379 [00:00<?, ?it/s]",
      "application/vnd.jupyter.widget-view+json": {
       "version_major": 2,
       "version_minor": 0,
       "model_id": "46367e07ccf84c5f90c0867669748e13"
      }
     },
     "metadata": {},
     "output_type": "display_data"
    },
    {
     "data": {
      "text/plain": "  0%|          | 0/171 [00:00<?, ?it/s]",
      "application/vnd.jupyter.widget-view+json": {
       "version_major": 2,
       "version_minor": 0,
       "model_id": "8ebde9bfcf1c4240a3517b06a3ec5c43"
      }
     },
     "metadata": {},
     "output_type": "display_data"
    },
    {
     "name": "stdout",
     "output_type": "stream",
     "text": [
      "Evaluation by usage finished...\n",
      "Fold 2:\n",
      "  Train: index=(287094,)\n"
     ]
    },
    {
     "data": {
      "text/plain": "  0%|          | 0/15 [00:00<?, ?it/s]",
      "application/vnd.jupyter.widget-view+json": {
       "version_major": 2,
       "version_minor": 0,
       "model_id": "7b41472b62a84323adcdd3fa09e785e3"
      }
     },
     "metadata": {},
     "output_type": "display_data"
    },
    {
     "name": "stdout",
     "output_type": "stream",
     "text": [
      "Model trained, starting evaluation...\n",
      "  Test:  index=(5000, 16)\n",
      "Starting evaluation by AgeRange groups...\n"
     ]
    },
    {
     "data": {
      "text/plain": "  0%|          | 0/2431 [00:00<?, ?it/s]",
      "application/vnd.jupyter.widget-view+json": {
       "version_major": 2,
       "version_minor": 0,
       "model_id": "fb87b0ae8e6447b1b3101b685a48742f"
      }
     },
     "metadata": {},
     "output_type": "display_data"
    },
    {
     "data": {
      "text/plain": "  0%|          | 0/1264 [00:00<?, ?it/s]",
      "application/vnd.jupyter.widget-view+json": {
       "version_major": 2,
       "version_minor": 0,
       "model_id": "8a3658687349485dbb9dd20b8e8b6360"
      }
     },
     "metadata": {},
     "output_type": "display_data"
    },
    {
     "data": {
      "text/plain": "  0%|          | 0/605 [00:00<?, ?it/s]",
      "application/vnd.jupyter.widget-view+json": {
       "version_major": 2,
       "version_minor": 0,
       "model_id": "f11e63ded94342cb95427c9868146146"
      }
     },
     "metadata": {},
     "output_type": "display_data"
    },
    {
     "data": {
      "text/plain": "  0%|          | 0/297 [00:00<?, ?it/s]",
      "application/vnd.jupyter.widget-view+json": {
       "version_major": 2,
       "version_minor": 0,
       "model_id": "6597ff6fdb3e4935aa19df490623d99f"
      }
     },
     "metadata": {},
     "output_type": "display_data"
    },
    {
     "data": {
      "text/plain": "  0%|          | 0/48 [00:00<?, ?it/s]",
      "application/vnd.jupyter.widget-view+json": {
       "version_major": 2,
       "version_minor": 0,
       "model_id": "c02bc88a71324e52983b3ff51844b16b"
      }
     },
     "metadata": {},
     "output_type": "display_data"
    },
    {
     "data": {
      "text/plain": "  0%|          | 0/35 [00:00<?, ?it/s]",
      "application/vnd.jupyter.widget-view+json": {
       "version_major": 2,
       "version_minor": 0,
       "model_id": "ad5e102108e84c279bf96532938b17be"
      }
     },
     "metadata": {},
     "output_type": "display_data"
    },
    {
     "data": {
      "text/plain": "  0%|          | 0/50 [00:00<?, ?it/s]",
      "application/vnd.jupyter.widget-view+json": {
       "version_major": 2,
       "version_minor": 0,
       "model_id": "4c1ed939844546bbb680ebe9f39b07bc"
      }
     },
     "metadata": {},
     "output_type": "display_data"
    },
    {
     "name": "stdout",
     "output_type": "stream",
     "text": [
      "Evaluation by AgeRange finished...\n",
      "Starting evaluation by gender groups...\n"
     ]
    },
    {
     "data": {
      "text/plain": "  0%|          | 0/3557 [00:00<?, ?it/s]",
      "application/vnd.jupyter.widget-view+json": {
       "version_major": 2,
       "version_minor": 0,
       "model_id": "1c03bd2d8dd544f88edc8995ec4b7446"
      }
     },
     "metadata": {},
     "output_type": "display_data"
    },
    {
     "data": {
      "text/plain": "  0%|          | 0/1173 [00:00<?, ?it/s]",
      "application/vnd.jupyter.widget-view+json": {
       "version_major": 2,
       "version_minor": 0,
       "model_id": "d8331786c299451db6c1bc7ed82563b1"
      }
     },
     "metadata": {},
     "output_type": "display_data"
    },
    {
     "name": "stdout",
     "output_type": "stream",
     "text": [
      "Evaluation by gender finished...\n",
      "Starting evaluation by usage groups...\n"
     ]
    },
    {
     "data": {
      "text/plain": "  0%|          | 0/1028 [00:00<?, ?it/s]",
      "application/vnd.jupyter.widget-view+json": {
       "version_major": 2,
       "version_minor": 0,
       "model_id": "27615a7683b34496a410ca55f8f258f6"
      }
     },
     "metadata": {},
     "output_type": "display_data"
    },
    {
     "data": {
      "text/plain": "  0%|          | 0/1057 [00:00<?, ?it/s]",
      "application/vnd.jupyter.widget-view+json": {
       "version_major": 2,
       "version_minor": 0,
       "model_id": "0bf5c2ffdf734614a731f949100bd21f"
      }
     },
     "metadata": {},
     "output_type": "display_data"
    },
    {
     "data": {
      "text/plain": "  0%|          | 0/190 [00:00<?, ?it/s]",
      "application/vnd.jupyter.widget-view+json": {
       "version_major": 2,
       "version_minor": 0,
       "model_id": "2cf50ea7666a48caa34684c495758a5f"
      }
     },
     "metadata": {},
     "output_type": "display_data"
    },
    {
     "data": {
      "text/plain": "  0%|          | 0/463 [00:00<?, ?it/s]",
      "application/vnd.jupyter.widget-view+json": {
       "version_major": 2,
       "version_minor": 0,
       "model_id": "d6396b4c701c447fbc3065250b24216c"
      }
     },
     "metadata": {},
     "output_type": "display_data"
    },
    {
     "data": {
      "text/plain": "  0%|          | 0/770 [00:00<?, ?it/s]",
      "application/vnd.jupyter.widget-view+json": {
       "version_major": 2,
       "version_minor": 0,
       "model_id": "248977e7fa124de98d6d64717e5c22ca"
      }
     },
     "metadata": {},
     "output_type": "display_data"
    },
    {
     "data": {
      "text/plain": "  0%|          | 0/776 [00:00<?, ?it/s]",
      "application/vnd.jupyter.widget-view+json": {
       "version_major": 2,
       "version_minor": 0,
       "model_id": "cb9cd341a5ba47c3ba7a93bb9ceba954"
      }
     },
     "metadata": {},
     "output_type": "display_data"
    },
    {
     "data": {
      "text/plain": "  0%|          | 0/446 [00:00<?, ?it/s]",
      "application/vnd.jupyter.widget-view+json": {
       "version_major": 2,
       "version_minor": 0,
       "model_id": "5ff0dddbc70545c085a33f15afd16416"
      }
     },
     "metadata": {},
     "output_type": "display_data"
    },
    {
     "name": "stdout",
     "output_type": "stream",
     "text": [
      "Evaluation by usage finished...\n",
      "Fold 3:\n",
      "  Train: index=(287095,)\n"
     ]
    },
    {
     "data": {
      "text/plain": "  0%|          | 0/15 [00:00<?, ?it/s]",
      "application/vnd.jupyter.widget-view+json": {
       "version_major": 2,
       "version_minor": 0,
       "model_id": "f88daf43c3e44275b2bb944ade990015"
      }
     },
     "metadata": {},
     "output_type": "display_data"
    },
    {
     "name": "stdout",
     "output_type": "stream",
     "text": [
      "Model trained, starting evaluation...\n",
      "  Test:  index=(5000, 16)\n",
      "Starting evaluation by AgeRange groups...\n"
     ]
    },
    {
     "data": {
      "text/plain": "  0%|          | 0/2414 [00:00<?, ?it/s]",
      "application/vnd.jupyter.widget-view+json": {
       "version_major": 2,
       "version_minor": 0,
       "model_id": "a4a9bbca0e994570af1414635917548b"
      }
     },
     "metadata": {},
     "output_type": "display_data"
    },
    {
     "data": {
      "text/plain": "  0%|          | 0/327 [00:00<?, ?it/s]",
      "application/vnd.jupyter.widget-view+json": {
       "version_major": 2,
       "version_minor": 0,
       "model_id": "d90885b7c2654dedb0d541775bc09a09"
      }
     },
     "metadata": {},
     "output_type": "display_data"
    },
    {
     "data": {
      "text/plain": "  0%|          | 0/1226 [00:00<?, ?it/s]",
      "application/vnd.jupyter.widget-view+json": {
       "version_major": 2,
       "version_minor": 0,
       "model_id": "a67a2f6138c24b3a91002b3f6ac79acf"
      }
     },
     "metadata": {},
     "output_type": "display_data"
    },
    {
     "data": {
      "text/plain": "  0%|          | 0/598 [00:00<?, ?it/s]",
      "application/vnd.jupyter.widget-view+json": {
       "version_major": 2,
       "version_minor": 0,
       "model_id": "d793db5a6ed7401eaade0863f5502a2d"
      }
     },
     "metadata": {},
     "output_type": "display_data"
    },
    {
     "data": {
      "text/plain": "  0%|          | 0/60 [00:00<?, ?it/s]",
      "application/vnd.jupyter.widget-view+json": {
       "version_major": 2,
       "version_minor": 0,
       "model_id": "af9be790fa4848f1a25122a9fce4b3fb"
      }
     },
     "metadata": {},
     "output_type": "display_data"
    },
    {
     "data": {
      "text/plain": "  0%|          | 0/37 [00:00<?, ?it/s]",
      "application/vnd.jupyter.widget-view+json": {
       "version_major": 2,
       "version_minor": 0,
       "model_id": "66c434ca71f9461c82094a2ffaaf2c07"
      }
     },
     "metadata": {},
     "output_type": "display_data"
    },
    {
     "data": {
      "text/plain": "  0%|          | 0/57 [00:00<?, ?it/s]",
      "application/vnd.jupyter.widget-view+json": {
       "version_major": 2,
       "version_minor": 0,
       "model_id": "d61a4fed06454a008f71a11278eeec96"
      }
     },
     "metadata": {},
     "output_type": "display_data"
    },
    {
     "name": "stdout",
     "output_type": "stream",
     "text": [
      "Evaluation by AgeRange finished...\n",
      "Starting evaluation by gender groups...\n"
     ]
    },
    {
     "data": {
      "text/plain": "  0%|          | 0/3553 [00:00<?, ?it/s]",
      "application/vnd.jupyter.widget-view+json": {
       "version_major": 2,
       "version_minor": 0,
       "model_id": "4a17ef9725e542f9a56d839c8959c5d7"
      }
     },
     "metadata": {},
     "output_type": "display_data"
    },
    {
     "data": {
      "text/plain": "  0%|          | 0/1166 [00:00<?, ?it/s]",
      "application/vnd.jupyter.widget-view+json": {
       "version_major": 2,
       "version_minor": 0,
       "model_id": "e4bba31f669843c490158fcea3517950"
      }
     },
     "metadata": {},
     "output_type": "display_data"
    },
    {
     "name": "stdout",
     "output_type": "stream",
     "text": [
      "Evaluation by gender finished...\n",
      "Starting evaluation by usage groups...\n"
     ]
    },
    {
     "data": {
      "text/plain": "  0%|          | 0/749 [00:00<?, ?it/s]",
      "application/vnd.jupyter.widget-view+json": {
       "version_major": 2,
       "version_minor": 0,
       "model_id": "b17b78b8905847e8b74697261092ef80"
      }
     },
     "metadata": {},
     "output_type": "display_data"
    },
    {
     "data": {
      "text/plain": "  0%|          | 0/1039 [00:00<?, ?it/s]",
      "application/vnd.jupyter.widget-view+json": {
       "version_major": 2,
       "version_minor": 0,
       "model_id": "34e828eae911414b82d3db91667b5159"
      }
     },
     "metadata": {},
     "output_type": "display_data"
    },
    {
     "data": {
      "text/plain": "  0%|          | 0/191 [00:00<?, ?it/s]",
      "application/vnd.jupyter.widget-view+json": {
       "version_major": 2,
       "version_minor": 0,
       "model_id": "9ec3e4c1c81f4413a4893470ec545a15"
      }
     },
     "metadata": {},
     "output_type": "display_data"
    },
    {
     "data": {
      "text/plain": "  0%|          | 0/427 [00:00<?, ?it/s]",
      "application/vnd.jupyter.widget-view+json": {
       "version_major": 2,
       "version_minor": 0,
       "model_id": "09b8764adc924d199d412698aa86f9d3"
      }
     },
     "metadata": {},
     "output_type": "display_data"
    },
    {
     "data": {
      "text/plain": "  0%|          | 0/1025 [00:00<?, ?it/s]",
      "application/vnd.jupyter.widget-view+json": {
       "version_major": 2,
       "version_minor": 0,
       "model_id": "0272a32e3a03495e91467900b5851649"
      }
     },
     "metadata": {},
     "output_type": "display_data"
    },
    {
     "data": {
      "text/plain": "  0%|          | 0/798 [00:00<?, ?it/s]",
      "application/vnd.jupyter.widget-view+json": {
       "version_major": 2,
       "version_minor": 0,
       "model_id": "df76dcf33fa745ad9d93b90d9a5bbac5"
      }
     },
     "metadata": {},
     "output_type": "display_data"
    },
    {
     "data": {
      "text/plain": "  0%|          | 0/490 [00:00<?, ?it/s]",
      "application/vnd.jupyter.widget-view+json": {
       "version_major": 2,
       "version_minor": 0,
       "model_id": "7e09bef5c2da44cd9655cdbba8e8553b"
      }
     },
     "metadata": {},
     "output_type": "display_data"
    },
    {
     "name": "stdout",
     "output_type": "stream",
     "text": [
      "Evaluation by usage finished...\n",
      "Fold 4:\n",
      "  Train: index=(287095,)\n"
     ]
    },
    {
     "data": {
      "text/plain": "  0%|          | 0/15 [00:00<?, ?it/s]",
      "application/vnd.jupyter.widget-view+json": {
       "version_major": 2,
       "version_minor": 0,
       "model_id": "ca38f3dd6a8d476fa75966c28f1d8d08"
      }
     },
     "metadata": {},
     "output_type": "display_data"
    },
    {
     "name": "stdout",
     "output_type": "stream",
     "text": [
      "Model trained, starting evaluation...\n",
      "  Test:  index=(5000, 16)\n",
      "Starting evaluation by AgeRange groups...\n"
     ]
    },
    {
     "data": {
      "text/plain": "  0%|          | 0/593 [00:00<?, ?it/s]",
      "application/vnd.jupyter.widget-view+json": {
       "version_major": 2,
       "version_minor": 0,
       "model_id": "b347e8cf78ae4876bb74a9c04e0da686"
      }
     },
     "metadata": {},
     "output_type": "display_data"
    },
    {
     "data": {
      "text/plain": "  0%|          | 0/2364 [00:00<?, ?it/s]",
      "application/vnd.jupyter.widget-view+json": {
       "version_major": 2,
       "version_minor": 0,
       "model_id": "b1603a6d789f4d878c6a6e927d7d3734"
      }
     },
     "metadata": {},
     "output_type": "display_data"
    },
    {
     "data": {
      "text/plain": "  0%|          | 0/1311 [00:00<?, ?it/s]",
      "application/vnd.jupyter.widget-view+json": {
       "version_major": 2,
       "version_minor": 0,
       "model_id": "4fd7828ed0e04c13bf04916e794e199d"
      }
     },
     "metadata": {},
     "output_type": "display_data"
    },
    {
     "data": {
      "text/plain": "  0%|          | 0/58 [00:00<?, ?it/s]",
      "application/vnd.jupyter.widget-view+json": {
       "version_major": 2,
       "version_minor": 0,
       "model_id": "0a007c063d744ac18ff624e2db129f65"
      }
     },
     "metadata": {},
     "output_type": "display_data"
    },
    {
     "data": {
      "text/plain": "  0%|          | 0/56 [00:00<?, ?it/s]",
      "application/vnd.jupyter.widget-view+json": {
       "version_major": 2,
       "version_minor": 0,
       "model_id": "e620d430358344069a9d11662eb5f946"
      }
     },
     "metadata": {},
     "output_type": "display_data"
    },
    {
     "data": {
      "text/plain": "  0%|          | 0/289 [00:00<?, ?it/s]",
      "application/vnd.jupyter.widget-view+json": {
       "version_major": 2,
       "version_minor": 0,
       "model_id": "f38ca8e30a9a41a6889a59fec4d85a81"
      }
     },
     "metadata": {},
     "output_type": "display_data"
    },
    {
     "data": {
      "text/plain": "  0%|          | 0/29 [00:00<?, ?it/s]",
      "application/vnd.jupyter.widget-view+json": {
       "version_major": 2,
       "version_minor": 0,
       "model_id": "9d924067eabc4e2b8d747623f16bfff8"
      }
     },
     "metadata": {},
     "output_type": "display_data"
    },
    {
     "name": "stdout",
     "output_type": "stream",
     "text": [
      "Evaluation by AgeRange finished...\n",
      "Starting evaluation by gender groups...\n"
     ]
    },
    {
     "data": {
      "text/plain": "  0%|          | 0/1164 [00:00<?, ?it/s]",
      "application/vnd.jupyter.widget-view+json": {
       "version_major": 2,
       "version_minor": 0,
       "model_id": "856548f2f35946a6a86f5af9dca525a2"
      }
     },
     "metadata": {},
     "output_type": "display_data"
    },
    {
     "data": {
      "text/plain": "  0%|          | 0/3536 [00:00<?, ?it/s]",
      "application/vnd.jupyter.widget-view+json": {
       "version_major": 2,
       "version_minor": 0,
       "model_id": "fccd0156addb4e68ad77187bb09c508e"
      }
     },
     "metadata": {},
     "output_type": "display_data"
    },
    {
     "name": "stdout",
     "output_type": "stream",
     "text": [
      "Evaluation by gender finished...\n",
      "Starting evaluation by usage groups...\n"
     ]
    },
    {
     "data": {
      "text/plain": "  0%|          | 0/414 [00:00<?, ?it/s]",
      "application/vnd.jupyter.widget-view+json": {
       "version_major": 2,
       "version_minor": 0,
       "model_id": "2d2b86ef37c34bea96e682e5be90516b"
      }
     },
     "metadata": {},
     "output_type": "display_data"
    },
    {
     "data": {
      "text/plain": "  0%|          | 0/1047 [00:00<?, ?it/s]",
      "application/vnd.jupyter.widget-view+json": {
       "version_major": 2,
       "version_minor": 0,
       "model_id": "dc10e11b88e748c7bee92e87178f201b"
      }
     },
     "metadata": {},
     "output_type": "display_data"
    },
    {
     "data": {
      "text/plain": "  0%|          | 0/1040 [00:00<?, ?it/s]",
      "application/vnd.jupyter.widget-view+json": {
       "version_major": 2,
       "version_minor": 0,
       "model_id": "91722b12397e4d9c8ff5f9ec5026f4d2"
      }
     },
     "metadata": {},
     "output_type": "display_data"
    },
    {
     "data": {
      "text/plain": "  0%|          | 0/209 [00:00<?, ?it/s]",
      "application/vnd.jupyter.widget-view+json": {
       "version_major": 2,
       "version_minor": 0,
       "model_id": "9fa6740a4b1945a68cd262fc9684595e"
      }
     },
     "metadata": {},
     "output_type": "display_data"
    },
    {
     "data": {
      "text/plain": "  0%|          | 0/782 [00:00<?, ?it/s]",
      "application/vnd.jupyter.widget-view+json": {
       "version_major": 2,
       "version_minor": 0,
       "model_id": "a924a17bd6f44475b7da9bcd8831e9e8"
      }
     },
     "metadata": {},
     "output_type": "display_data"
    },
    {
     "data": {
      "text/plain": "  0%|          | 0/740 [00:00<?, ?it/s]",
      "application/vnd.jupyter.widget-view+json": {
       "version_major": 2,
       "version_minor": 0,
       "model_id": "c5842d9164a54a26aa4b9417409cdb1e"
      }
     },
     "metadata": {},
     "output_type": "display_data"
    },
    {
     "data": {
      "text/plain": "  0%|          | 0/468 [00:00<?, ?it/s]",
      "application/vnd.jupyter.widget-view+json": {
       "version_major": 2,
       "version_minor": 0,
       "model_id": "feebf11f68494f079cac8a89a4c99252"
      }
     },
     "metadata": {},
     "output_type": "display_data"
    },
    {
     "name": "stdout",
     "output_type": "stream",
     "text": [
      "Evaluation by usage finished...\n"
     ]
    }
   ],
   "source": [
    "# divide ratings into 5 CV, still question about test data - see paper\n",
    "# 0th column is 0, since user ids start with 1\n",
    "\n",
    "kf = KFold(n_splits=5, random_state=12345, shuffle=True)\n",
    "\n",
    "for i, (train_index, test_index) in enumerate(kf.split(user_plays)):\n",
    "    print(f\"Fold {i}:\")\n",
    "    print(f\"  Train: index={train_index.shape}\")\n",
    "\n",
    "    # train data is divided into two parts\n",
    "    # in train_index, full user data is used for training\n",
    "    # in test_index, 80% of user data is used for training and the rest 20% is used for testing\n",
    "    test_train_df, test_test_df = get_divided_test_fold(t_df_40, test_index)\n",
    "    train_data = user_plays.copy()\n",
    "    # blend out the 20% of test users data for testing\n",
    "    # test data contains data used for training + 20% blended in train data\n",
    "    train_data[test_test_df.user_id, test_test_df.artist_id] = 0\n",
    "\n",
    "    model = AlternatingLeastSquares(factors=50, regularization=0.01)\n",
    "    model.fit(train_data)\n",
    "    print(f'Model trained, starting evaluation...')\n",
    "    # test_test_df = test_test_df.merge(t_df_40, how='left', left_on='user', right_on='user')\n",
    "    test_test_df = test_test_df.merge(df, how='left', left_on='user', right_on='user_id')\n",
    "    test_test_df = test_test_df.merge(popularity_cut, how='left', left_on='user', right_on='user_id')\n",
    "    test_test_df = test_test_df.dropna()\n",
    "    test_test_df = test_test_df.sample(n = 5000, random_state = 12345)\n",
    "\n",
    "    print(f\"  Test:  index={test_test_df.shape}\")\n",
    "\n",
    "    for col, ndcg_dict in ndcg_dicts.items():\n",
    "        print(f'Starting evaluation by {col} groups...')\n",
    "        for a in test_test_df[col].unique():\n",
    "            test_data = user_plays[test_test_df[test_test_df[col] == a].user_id_x.unique()]\n",
    "            ndcg_dict[a].append(ndcg_at_k(model, train_data, test_data, K=1000))\n",
    "        print(f'Evaluation by {col} finished...')"
   ],
   "metadata": {
    "collapsed": false
   }
  },
  {
   "cell_type": "markdown",
   "source": [
    "## Kruskal-Wallis Significance tests"
   ],
   "metadata": {
    "collapsed": false
   }
  },
  {
   "cell_type": "code",
   "execution_count": 21,
   "outputs": [],
   "source": [
    "def get_kruskal(ndcg_dicts, key_col):\n",
    "    gender_list = list(ndcg_dicts[key_col].values())\n",
    "    return stats.kruskal(*gender_list)"
   ],
   "metadata": {
    "collapsed": false
   }
  },
  {
   "cell_type": "code",
   "execution_count": 22,
   "outputs": [
    {
     "name": "stdout",
     "output_type": "stream",
     "text": [
      "Kruscal-Wallis test for AgeRange: KruskalResult(statistic=nan, pvalue=nan)\n",
      "Kruscal-Wallis test for gender: KruskalResult(statistic=nan, pvalue=nan)\n",
      "Kruscal-Wallis test for usage: KruskalResult(statistic=28.004429678848282, pvalue=9.378242961925642e-05)\n"
     ]
    }
   ],
   "source": [
    "for c, ndcg_dict in ndcg_dicts.items():\n",
    "    kruskal_val = get_kruskal(ndcg_dicts, c)\n",
    "    print(f'Kruscal-Wallis test for {c}: {kruskal_val}')"
   ],
   "metadata": {
    "collapsed": false
   }
  },
  {
   "cell_type": "markdown",
   "source": [
    "## By age and gender"
   ],
   "metadata": {
    "collapsed": false
   }
  },
  {
   "cell_type": "code",
   "execution_count": 78,
   "outputs": [],
   "source": [
    "def get_df_from_eval_dict(ndcg_dicts, key_col, eval_col='ndcg'):\n",
    "    df_ndcg = pd.DataFrame(ndcg_dicts[key_col])\n",
    "    df_ndcg = df_ndcg.melt()\n",
    "    df_ndcg.columns = [key_col, eval_col]\n",
    "    return df_ndcg"
   ],
   "metadata": {
    "collapsed": false
   }
  },
  {
   "cell_type": "code",
   "execution_count": 75,
   "outputs": [
    {
     "data": {
      "text/plain": "{'age': {18.0: [0.04377068121207497,\n   0.04368852735481002,\n   0.04394828593818349,\n   0.04388760507243471,\n   0.04235899894604574,\n   0.043620727899903525],\n  25.0: [0.04075961099767428,\n   0.04096696393744451,\n   0.04279046218259572,\n   0.045998207489415285,\n   0.043414448299732546,\n   0.04113747027108284],\n  1.0: [0.039976507118216376,\n   0.04051756248672235,\n   0.041542205376522,\n   0.03699046314504719,\n   0.04024466378750398,\n   0.03868488660487386],\n  45.0: [0.0419037422733159,\n   0.042719714223126856,\n   0.042696701224453314,\n   0.051499466708849376,\n   0.041165663842241386,\n   0.04255875907752511],\n  50.0: [0.06534092437068029,\n   0.06462789395318633,\n   0.029651594121944784,\n   0.04577637967944153,\n   0.05553780274560496,\n   0.022857550587151772],\n  55.0: [0.04712852719826065,\n   0.050325337372750495,\n   0.04053395900036292,\n   0.03792137375168051,\n   0.025393704066867192,\n   0.030519592590328326],\n  35.0: [0.035843251923810826,\n   0.035646822803533824,\n   0.03471902587106203,\n   0.04217061352002246,\n   0.03921797878417939,\n   0.042832484245321836]},\n 'gender': {'f': [0.04479715730556568,\n   0.04512653436960028,\n   0.044030453313294665,\n   0.04440062128220754,\n   0.045326380855175576,\n   0.04486074206887937],\n  'm': [0.04311131110438058,\n   0.04272056295891898,\n   0.04052136225541683,\n   0.04038661206230796,\n   0.04328286306111421,\n   0.04275640950347947]}}"
     },
     "execution_count": 75,
     "metadata": {},
     "output_type": "execute_result"
    }
   ],
   "source": [
    "from math import isnan\n",
    "\n",
    "clean_ndcg = {}\n",
    "clean_ndcg['age'] = {k: ndcg_dicts['AgeRange'][k] for k in ndcg_dicts['AgeRange'] if not isnan(k)}\n",
    "clean_ndcg['gender'] = {'f': ndcg_dicts['gender']['f'], 'm': ndcg_dicts['gender']['m']}\n",
    "clean_ndcg"
   ],
   "metadata": {
    "collapsed": false
   }
  },
  {
   "cell_type": "code",
   "execution_count": 79,
   "outputs": [],
   "source": [
    "df_ndcg_age = get_df_from_eval_dict(clean_ndcg, 'age')\n",
    "df_ndcg_gender = get_df_from_eval_dict(clean_ndcg, 'gender')"
   ],
   "metadata": {
    "collapsed": false
   }
  },
  {
   "cell_type": "code",
   "execution_count": 80,
   "outputs": [
    {
     "data": {
      "text/plain": "<AxesSubplot: title={'center': 'NDCG distribution for users grouped by gender'}, xlabel='gender', ylabel='ndcg'>"
     },
     "execution_count": 80,
     "metadata": {},
     "output_type": "execute_result"
    },
    {
     "data": {
      "text/plain": "<Figure size 2000x600 with 2 Axes>",
      "image/png": "[encoded data removed]"
     },
     "metadata": {},
     "output_type": "display_data"
    }
   ],
   "source": [
    "_, ax = plt.subplots(1, 2, figsize=(20, 6))\n",
    "sns.despine()\n",
    "\n",
    "ax[0].set_title('NDCG distribution for users grouped by age')\n",
    "ax[0].set_ylim((0, 0.5))\n",
    "sns.barplot(data=df_ndcg_age, x='age', y='ndcg', color='grey', ax=ax[0])\n",
    "ax[0].set_xticks(list(range(0, len(age_bins))), labels=age_labels)\n",
    "\n",
    "ax[1].set_title('NDCG distribution for users grouped by gender')\n",
    "ax[1].set_ylim((0, 0.5))\n",
    "sns.barplot(data=df_ndcg_gender, x='gender', y='ndcg', color='grey', ax=ax[1])"
   ],
   "metadata": {
    "collapsed": false
   }
  },
  {
   "cell_type": "code",
   "execution_count": null,
   "outputs": [],
   "source": [],
   "metadata": {
    "collapsed": false
   }
  },
  {
   "cell_type": "markdown",
   "source": [
    "## By usage"
   ],
   "metadata": {
    "collapsed": false
   }
  },
  {
   "cell_type": "code",
   "execution_count": 81,
   "outputs": [
    {
     "data": {
      "text/plain": "<AxesSubplot: title={'center': 'NDCG distribution for users grouped by usage'}, xlabel='usage', ylabel='ndcg'>"
     },
     "execution_count": 81,
     "metadata": {},
     "output_type": "execute_result"
    },
    {
     "data": {
      "text/plain": "<Figure size 2000x600 with 2 Axes>",
      "image/png": "[encoded data removed]"
     },
     "metadata": {},
     "output_type": "display_data"
    }
   ],
   "source": [
    "df_ndcg_usage = get_df_from_eval_dict(ndcg_dicts, 'usage')\n",
    "\n",
    "_, ax = plt.subplots(1, 2, figsize=(20, 6))\n",
    "sns.despine()\n",
    "\n",
    "ax[0].set_title('Distribution of users per usage group')\n",
    "sns.barplot(data=popularity_cut_counts, x='usage', y='percentage', color='grey', ax=ax[0], )\n",
    "\n",
    "ax[1].set_title('NDCG distribution for users grouped by usage')\n",
    "sns.barplot(data=df_ndcg_usage, x='usage', y='ndcg', color='grey', ax=ax[1])"
   ],
   "metadata": {
    "collapsed": false
   }
  },
  {
   "cell_type": "markdown",
   "source": [
    "## User distributions"
   ],
   "metadata": {
    "collapsed": false
   }
  },
  {
   "cell_type": "code",
   "execution_count": null,
   "outputs": [],
   "source": [],
   "metadata": {
    "collapsed": false
   }
  },
  {
   "cell_type": "code",
   "execution_count": 155,
   "outputs": [],
   "source": [
    "userid = 0\n",
    "ids, scores = model.recommend(userid, user_plays[userid], N=10, filter_already_liked_items=False)"
   ],
   "metadata": {
    "collapsed": false
   }
  },
  {
   "cell_type": "code",
   "execution_count": 156,
   "outputs": [
    {
     "data": {
      "text/plain": "                                      artist  score  already_liked\n0                    oliver shanti & friends    0.0          False\n1                             mohamed lamine    0.0          False\n2                             mala rodriguez    0.0          False\n3                                 kanye west    0.0          False\n4                                fatboy slim    0.0          False\n5                          cours de la somme    0.0          False\n6                              amy winehouse    0.0          False\n7   80lİ yillarin tÜrkÇe sÖzlÜ aŞk Şarkilari    0.0          False\n8                                  58725ab=>    0.0          False\n9                                         2     0.0          False",
      "text/html": "<div>\n<style scoped>\n    .dataframe tbody tr th:only-of-type {\n        vertical-align: middle;\n    }\n\n    .dataframe tbody tr th {\n        vertical-align: top;\n    }\n\n    .dataframe thead th {\n        text-align: right;\n    }\n</style>\n<table border=\"1\" class=\"dataframe\">\n  <thead>\n    <tr style=\"text-align: right;\">\n      <th></th>\n      <th>artist</th>\n      <th>score</th>\n      <th>already_liked</th>\n    </tr>\n  </thead>\n  <tbody>\n    <tr>\n      <th>0</th>\n      <td>oliver shanti &amp; friends</td>\n      <td>0.0</td>\n      <td>False</td>\n    </tr>\n    <tr>\n      <th>1</th>\n      <td>mohamed lamine</td>\n      <td>0.0</td>\n      <td>False</td>\n    </tr>\n    <tr>\n      <th>2</th>\n      <td>mala rodriguez</td>\n      <td>0.0</td>\n      <td>False</td>\n    </tr>\n    <tr>\n      <th>3</th>\n      <td>kanye west</td>\n      <td>0.0</td>\n      <td>False</td>\n    </tr>\n    <tr>\n      <th>4</th>\n      <td>fatboy slim</td>\n      <td>0.0</td>\n      <td>False</td>\n    </tr>\n    <tr>\n      <th>5</th>\n      <td>cours de la somme</td>\n      <td>0.0</td>\n      <td>False</td>\n    </tr>\n    <tr>\n      <th>6</th>\n      <td>amy winehouse</td>\n      <td>0.0</td>\n      <td>False</td>\n    </tr>\n    <tr>\n      <th>7</th>\n      <td>80lİ yillarin tÜrkÇe sÖzlÜ aŞk Şarkilari</td>\n      <td>0.0</td>\n      <td>False</td>\n    </tr>\n    <tr>\n      <th>8</th>\n      <td>58725ab=&gt;</td>\n      <td>0.0</td>\n      <td>False</td>\n    </tr>\n    <tr>\n      <th>9</th>\n      <td>2</td>\n      <td>0.0</td>\n      <td>False</td>\n    </tr>\n  </tbody>\n</table>\n</div>"
     },
     "execution_count": 156,
     "metadata": {},
     "output_type": "execute_result"
    }
   ],
   "source": [
    "# Use pandas to display the output in a table, pandas isn't a dependency of implicit otherwise\n",
    "import numpy as np\n",
    "import pandas as pd\n",
    "pd.DataFrame({\n",
    "    \"artist\": artists[ids],\n",
    "    \"score\": scores,\n",
    "    \"already_liked\": np.in1d(ids, user_plays[userid].indices)\n",
    "})"
   ],
   "metadata": {
    "collapsed": false
   }
  },
  {
   "cell_type": "code",
   "execution_count": 157,
   "outputs": [
    {
     "data": {
      "text/plain": "                                      artist  score\n0                    oliver shanti & friends    0.0\n1                             mohamed lamine    0.0\n2                             mala rodriguez    0.0\n3                                 kanye west    0.0\n4                                fatboy slim    0.0\n5                          cours de la somme    0.0\n6                              amy winehouse    0.0\n7   80lİ yillarin tÜrkÇe sÖzlÜ aŞk Şarkilari    0.0\n8                                  58725ab=>    0.0\n9                                         2     0.0",
      "text/html": "<div>\n<style scoped>\n    .dataframe tbody tr th:only-of-type {\n        vertical-align: middle;\n    }\n\n    .dataframe tbody tr th {\n        vertical-align: top;\n    }\n\n    .dataframe thead th {\n        text-align: right;\n    }\n</style>\n<table border=\"1\" class=\"dataframe\">\n  <thead>\n    <tr style=\"text-align: right;\">\n      <th></th>\n      <th>artist</th>\n      <th>score</th>\n    </tr>\n  </thead>\n  <tbody>\n    <tr>\n      <th>0</th>\n      <td>oliver shanti &amp; friends</td>\n      <td>0.0</td>\n    </tr>\n    <tr>\n      <th>1</th>\n      <td>mohamed lamine</td>\n      <td>0.0</td>\n    </tr>\n    <tr>\n      <th>2</th>\n      <td>mala rodriguez</td>\n      <td>0.0</td>\n    </tr>\n    <tr>\n      <th>3</th>\n      <td>kanye west</td>\n      <td>0.0</td>\n    </tr>\n    <tr>\n      <th>4</th>\n      <td>fatboy slim</td>\n      <td>0.0</td>\n    </tr>\n    <tr>\n      <th>5</th>\n      <td>cours de la somme</td>\n      <td>0.0</td>\n    </tr>\n    <tr>\n      <th>6</th>\n      <td>amy winehouse</td>\n      <td>0.0</td>\n    </tr>\n    <tr>\n      <th>7</th>\n      <td>80lİ yillarin tÜrkÇe sÖzlÜ aŞk Şarkilari</td>\n      <td>0.0</td>\n    </tr>\n    <tr>\n      <th>8</th>\n      <td>58725ab=&gt;</td>\n      <td>0.0</td>\n    </tr>\n    <tr>\n      <th>9</th>\n      <td>2</td>\n      <td>0.0</td>\n    </tr>\n  </tbody>\n</table>\n</div>"
     },
     "execution_count": 157,
     "metadata": {},
     "output_type": "execute_result"
    }
   ],
   "source": [
    "# get related items for the beatles (itemid = 25512)\n",
    "ids, scores= model.similar_items(0)\n",
    "\n",
    "# display the results using pandas for nicer formatting\n",
    "pd.DataFrame({\"artist\": artists[ids], \"score\": scores})"
   ],
   "metadata": {
    "collapsed": false
   }
  },
  {
   "cell_type": "code",
   "execution_count": 165,
   "outputs": [
    {
     "ename": "IndexError",
     "evalue": "index 287095 is out of bounds for axis 0 with size 287095",
     "output_type": "error",
     "traceback": [
      "\u001B[0;31m---------------------------------------------------------------------------\u001B[0m",
      "\u001B[0;31mIndexError\u001B[0m                                Traceback (most recent call last)",
      "Cell \u001B[0;32mIn[165], line 3\u001B[0m\n\u001B[1;32m      1\u001B[0m \u001B[38;5;66;03m# Make 1000 recommendations for each user in the dataset\u001B[39;00m\n\u001B[1;32m      2\u001B[0m userids \u001B[38;5;241m=\u001B[39m np\u001B[38;5;241m.\u001B[39marange(\u001B[38;5;28mlen\u001B[39m(users))\n\u001B[0;32m----> 3\u001B[0m ids, scores \u001B[38;5;241m=\u001B[39m \u001B[43mmodel\u001B[49m\u001B[38;5;241;43m.\u001B[39;49m\u001B[43mrecommend\u001B[49m\u001B[43m(\u001B[49m\u001B[43muserids\u001B[49m\u001B[43m,\u001B[49m\u001B[43m \u001B[49m\u001B[43muser_plays\u001B[49m\u001B[43m[\u001B[49m\u001B[43muserids\u001B[49m\u001B[43m]\u001B[49m\u001B[43m,\u001B[49m\u001B[43m \u001B[49m\u001B[43mN\u001B[49m\u001B[38;5;241;43m=\u001B[39;49m\u001B[38;5;241;43m1000\u001B[39;49m\u001B[43m)\u001B[49m\n\u001B[1;32m      4\u001B[0m ids, ids\u001B[38;5;241m.\u001B[39mshape\n",
      "File \u001B[0;32m~/tuwien/eeds/edds-ws2022/venv/lib/python3.10/site-packages/implicit/cpu/matrix_factorization_base.py:51\u001B[0m, in \u001B[0;36mMatrixFactorizationBase.recommend\u001B[0;34m(self, userid, user_items, N, filter_already_liked_items, filter_items, recalculate_user, items)\u001B[0m\n\u001B[1;32m     48\u001B[0m     \u001B[38;5;28;01mif\u001B[39;00m user_items\u001B[38;5;241m.\u001B[39mshape[\u001B[38;5;241m0\u001B[39m] \u001B[38;5;241m!=\u001B[39m user_count:\n\u001B[1;32m     49\u001B[0m         \u001B[38;5;28;01mraise\u001B[39;00m \u001B[38;5;167;01mValueError\u001B[39;00m(\u001B[38;5;124m\"\u001B[39m\u001B[38;5;124muser_items must contain 1 row for every user in userids\u001B[39m\u001B[38;5;124m\"\u001B[39m)\n\u001B[0;32m---> 51\u001B[0m user \u001B[38;5;241m=\u001B[39m \u001B[38;5;28;43mself\u001B[39;49m\u001B[38;5;241;43m.\u001B[39;49m\u001B[43m_user_factor\u001B[49m\u001B[43m(\u001B[49m\u001B[43muserid\u001B[49m\u001B[43m,\u001B[49m\u001B[43m \u001B[49m\u001B[43muser_items\u001B[49m\u001B[43m,\u001B[49m\u001B[43m \u001B[49m\u001B[43mrecalculate_user\u001B[49m\u001B[43m)\u001B[49m\n\u001B[1;32m     53\u001B[0m item_factors \u001B[38;5;241m=\u001B[39m \u001B[38;5;28mself\u001B[39m\u001B[38;5;241m.\u001B[39mitem_factors\n\u001B[1;32m     55\u001B[0m \u001B[38;5;66;03m# if we have an item list to restrict down to, we need to filter the item_factors\u001B[39;00m\n\u001B[1;32m     56\u001B[0m \u001B[38;5;66;03m# and filter_query_items\u001B[39;00m\n",
      "File \u001B[0;32m~/tuwien/eeds/edds-ws2022/venv/lib/python3.10/site-packages/implicit/cpu/matrix_factorization_base.py:135\u001B[0m, in \u001B[0;36mMatrixFactorizationBase._user_factor\u001B[0;34m(self, userid, user_items, recalculate_user)\u001B[0m\n\u001B[1;32m    133\u001B[0m \u001B[38;5;28;01mif\u001B[39;00m recalculate_user:\n\u001B[1;32m    134\u001B[0m     \u001B[38;5;28;01mreturn\u001B[39;00m \u001B[38;5;28mself\u001B[39m\u001B[38;5;241m.\u001B[39mrecalculate_user(userid, user_items)\n\u001B[0;32m--> 135\u001B[0m \u001B[38;5;28;01mreturn\u001B[39;00m \u001B[38;5;28;43mself\u001B[39;49m\u001B[38;5;241;43m.\u001B[39;49m\u001B[43muser_factors\u001B[49m\u001B[43m[\u001B[49m\u001B[43muserid\u001B[49m\u001B[43m]\u001B[49m\n",
      "\u001B[0;31mIndexError\u001B[0m: index 287095 is out of bounds for axis 0 with size 287095"
     ]
    }
   ],
   "source": [
    "# Make 1000 recommendations for each user in the dataset\n",
    "userids = np.arange(len(users))\n",
    "ids, scores = model.recommend(userids, user_plays[userids], N=1000)\n",
    "ids, ids.shape"
   ],
   "metadata": {
    "collapsed": false
   }
  },
  {
   "cell_type": "code",
   "execution_count": null,
   "outputs": [],
   "source": [
    "rec = pd.DataFrame({\"user\": users, \"artist\": artists[ids], \"score\": scores})\n",
    "\n",
    "list1 = rec['users'].tolist()\n",
    "list2 = rec['artists'].tolist()\n",
    "list3 = rec['rel'].tolist()\n",
    "\n",
    "c.row = np.array(list1)\n",
    "c.col = np.array(list2)\n",
    "c.data = np.array(list3)\n",
    "\n",
    "import scipy\n",
    "new_matrix = scipy.sparse.csr_matrix(c)\n",
    "rec_res = new_matrix"
   ],
   "metadata": {
    "collapsed": false
   }
  },
  {
   "cell_type": "code",
   "execution_count": null,
   "outputs": [],
   "source": [
    "rec_users = data_users[data_users['user-mboxsha1'].isin(users)]\n",
    "rec_users"
   ],
   "metadata": {
    "collapsed": false
   }
  },
  {
   "cell_type": "code",
   "execution_count": null,
   "outputs": [],
   "source": [
    "df_id_users = pd.DataFrame(users, columns=['users'])\n",
    "df_id_users[~df_id_users[\"users\"].isin(rec_users['user-mboxsha1'])]"
   ],
   "metadata": {
    "collapsed": false
   }
  },
  {
   "cell_type": "code",
   "execution_count": null,
   "outputs": [],
   "source": [
    "users_clean = np.delete(users, [312192, 358867])\n",
    "scores_clean = np.delete(scores, [312192, 358867], axis=0)\n",
    "ids_clean = np.delete(ids, [312192, 358867], axis=0)\n",
    "scores_clean.shape, users_clean.shape, ids_clean.shape"
   ],
   "metadata": {
    "collapsed": false
   }
  },
  {
   "cell_type": "code",
   "execution_count": null,
   "outputs": [],
   "source": [
    "users_clean"
   ],
   "metadata": {
    "collapsed": false
   }
  },
  {
   "cell_type": "code",
   "execution_count": null,
   "outputs": [],
   "source": [
    "# from numpy import savetxt\n",
    "#\n",
    "# savetxt('data_ids.csv', ids_clean, delimiter=' ')\n",
    "# savetxt('data_scores.csv', scores_clean, delimiter=' ')\n",
    "# savetxt('data_users.csv', users_clean, delimiter=' ')\n",
    "# rec_users.to_csv('users_data.csv')"
   ],
   "metadata": {
    "collapsed": false
   }
  },
  {
   "cell_type": "code",
   "execution_count": null,
   "outputs": [],
   "source": [
    "# from numpy import loadtxt\n",
    "# data_ids = loadtxt('data_ids.csv', delimiter=' ', dtype='int32')\n",
    "# data_scores = loadtxt('data_scores.csv', delimiter=' ', dtype='int32')\n"
   ],
   "metadata": {
    "collapsed": false
   }
  },
  {
   "cell_type": "code",
   "execution_count": null,
   "outputs": [],
   "source": [
    "rec_users"
   ],
   "metadata": {
    "collapsed": false
   }
  },
  {
   "cell_type": "markdown",
   "source": [
    "Age groups"
   ],
   "metadata": {
    "collapsed": false
   }
  },
  {
   "cell_type": "code",
   "execution_count": null,
   "outputs": [],
   "source": [
    "data_users.age.unique()"
   ],
   "metadata": {
    "collapsed": false
   }
  },
  {
   "cell_type": "code",
   "execution_count": null,
   "outputs": [],
   "source": [
    "def age_group(rec_users, min_age, max_age):\n",
    "    return rec_users.iloc[np.where((rec_users['age'] >= min_age) & (rec_users['age'] <= max_age))]"
   ],
   "metadata": {
    "collapsed": false
   }
  },
  {
   "cell_type": "code",
   "execution_count": 31,
   "outputs": [
    {
     "data": {
      "text/plain": "                                         user_id gender   age  \\\n0       00000c289a1829a808ac09c00daf10bc3c4e223b      f  22.0   \n1       00001411dc427966b17297bf4d69e7e193135d89      f   NaN   \n2       00004d2ac9316e22dc007ab2243d6fcb239e707d    NaN   NaN   \n3       000063d3fe1cf2ba248b9e3c3f0334845a27a6bf      m  19.0   \n4       00007a47085b9aab8af55f52ec8846ac479ac4fe      m  28.0   \n...                                          ...    ...   ...   \n359342  fffe7823f67b433b45f22056467db921c1d3d7d0      m  25.0   \n359343  fffe8637bd8234309e871409c7ebef99a720afc1      m  25.0   \n359344  fffe8c7f952d9b960a56ed4dcb40a415d924b224      m  20.0   \n359345  ffff9af9ae04d263dae91cb838b1f3a6725f5ffb      m  20.0   \n359346  ffff9ef87a7d9494ada2f9ade4b9ff637c0759ac      m  21.0   \n\n                   country        signup AgeRange  \n0                  Germany   Feb 1, 2007       18  \n1                   Canada   Dec 4, 2007      NaN  \n2                  Germany   Sep 1, 2006      NaN  \n3                   Mexico  Apr 28, 2008       18  \n4            United States  Jan 27, 2006       25  \n...                    ...           ...      ...  \n359342             Germany  Jun 24, 2006       25  \n359343              Brazil   Sep 9, 2007       25  \n359344       United States   Aug 8, 2007       18  \n359345  Russian Federation   Dec 3, 2005       18  \n359346             Belgium  Nov 25, 2008       18  \n\n[359347 rows x 6 columns]",
      "text/html": "<div>\n<style scoped>\n    .dataframe tbody tr th:only-of-type {\n        vertical-align: middle;\n    }\n\n    .dataframe tbody tr th {\n        vertical-align: top;\n    }\n\n    .dataframe thead th {\n        text-align: right;\n    }\n</style>\n<table border=\"1\" class=\"dataframe\">\n  <thead>\n    <tr style=\"text-align: right;\">\n      <th></th>\n      <th>user_id</th>\n      <th>gender</th>\n      <th>age</th>\n      <th>country</th>\n      <th>signup</th>\n      <th>AgeRange</th>\n    </tr>\n  </thead>\n  <tbody>\n    <tr>\n      <th>0</th>\n      <td>00000c289a1829a808ac09c00daf10bc3c4e223b</td>\n      <td>f</td>\n      <td>22.0</td>\n      <td>Germany</td>\n      <td>Feb 1, 2007</td>\n      <td>18</td>\n    </tr>\n    <tr>\n      <th>1</th>\n      <td>00001411dc427966b17297bf4d69e7e193135d89</td>\n      <td>f</td>\n      <td>NaN</td>\n      <td>Canada</td>\n      <td>Dec 4, 2007</td>\n      <td>NaN</td>\n    </tr>\n    <tr>\n      <th>2</th>\n      <td>00004d2ac9316e22dc007ab2243d6fcb239e707d</td>\n      <td>NaN</td>\n      <td>NaN</td>\n      <td>Germany</td>\n      <td>Sep 1, 2006</td>\n      <td>NaN</td>\n    </tr>\n    <tr>\n      <th>3</th>\n      <td>000063d3fe1cf2ba248b9e3c3f0334845a27a6bf</td>\n      <td>m</td>\n      <td>19.0</td>\n      <td>Mexico</td>\n      <td>Apr 28, 2008</td>\n      <td>18</td>\n    </tr>\n    <tr>\n      <th>4</th>\n      <td>00007a47085b9aab8af55f52ec8846ac479ac4fe</td>\n      <td>m</td>\n      <td>28.0</td>\n      <td>United States</td>\n      <td>Jan 27, 2006</td>\n      <td>25</td>\n    </tr>\n    <tr>\n      <th>...</th>\n      <td>...</td>\n      <td>...</td>\n      <td>...</td>\n      <td>...</td>\n      <td>...</td>\n      <td>...</td>\n    </tr>\n    <tr>\n      <th>359342</th>\n      <td>fffe7823f67b433b45f22056467db921c1d3d7d0</td>\n      <td>m</td>\n      <td>25.0</td>\n      <td>Germany</td>\n      <td>Jun 24, 2006</td>\n      <td>25</td>\n    </tr>\n    <tr>\n      <th>359343</th>\n      <td>fffe8637bd8234309e871409c7ebef99a720afc1</td>\n      <td>m</td>\n      <td>25.0</td>\n      <td>Brazil</td>\n      <td>Sep 9, 2007</td>\n      <td>25</td>\n    </tr>\n    <tr>\n      <th>359344</th>\n      <td>fffe8c7f952d9b960a56ed4dcb40a415d924b224</td>\n      <td>m</td>\n      <td>20.0</td>\n      <td>United States</td>\n      <td>Aug 8, 2007</td>\n      <td>18</td>\n    </tr>\n    <tr>\n      <th>359345</th>\n      <td>ffff9af9ae04d263dae91cb838b1f3a6725f5ffb</td>\n      <td>m</td>\n      <td>20.0</td>\n      <td>Russian Federation</td>\n      <td>Dec 3, 2005</td>\n      <td>18</td>\n    </tr>\n    <tr>\n      <th>359346</th>\n      <td>ffff9ef87a7d9494ada2f9ade4b9ff637c0759ac</td>\n      <td>m</td>\n      <td>21.0</td>\n      <td>Belgium</td>\n      <td>Nov 25, 2008</td>\n      <td>18</td>\n    </tr>\n  </tbody>\n</table>\n<p>359347 rows × 6 columns</p>\n</div>"
     },
     "execution_count": 31,
     "metadata": {},
     "output_type": "execute_result"
    }
   ],
   "source": [
    "plot_data = data_users.copy()\n",
    "bins = [0, 18, 25, 35, 45, 50, 56, np.inf, 'NaN']\n",
    "names = ['1', '18','25', '35', '45', '50','55+', 'NaN']\n",
    "\n",
    "plot_data['AgeRange'] = pd.cut(plot_data['age'], bins, labels=names)\n",
    "plot_data[\"AgeRange\"] = plot_data[\"AgeRange\"].fillna('NaN')\n",
    "plot_data[\"gender\"] = plot_data[\"gender\"].fillna('NaN')\n",
    "\n",
    "plot_data"
   ],
   "metadata": {
    "collapsed": false
   }
  },
  {
   "cell_type": "code",
   "execution_count": 66,
   "outputs": [
    {
     "data": {
      "text/plain": "<AxesSubplot: title={'center': 'Distribution of users per gender'}, xlabel='gender', ylabel='count'>"
     },
     "execution_count": 66,
     "metadata": {},
     "output_type": "execute_result"
    },
    {
     "data": {
      "text/plain": "<Figure size 2000x600 with 2 Axes>",
      "image/png": "[encoded data removed]"
     },
     "metadata": {},
     "output_type": "display_data"
    }
   ],
   "source": [
    "from matplotlib import pyplot as plt\n",
    "\n",
    "_, ax = plt.subplots(1, 2, figsize=(20, 6))\n",
    "sns.despine()\n",
    "\n",
    "ax[0].set_title('Distribution of users per age')\n",
    "sns.countplot(data=plot_data, x='AgeRange', color='grey', ax=ax[0])\n",
    "ax[0].set_xticks(list(range(0, len(age_bins))), labels=age_labels)\n",
    "\n",
    "ax[1].set_title('Distribution of users per gender')\n",
    "sns.countplot(data=plot_data, x='gender', color='grey', ax=ax[1])"
   ],
   "metadata": {
    "collapsed": false
   }
  },
  {
   "cell_type": "code",
   "execution_count": null,
   "outputs": [],
   "source": [
    "from implicit.evaluation import train_test_split\n",
    "\n",
    "# age1 = plot_data[plot_data[\"AgeRange\"] == 18]\n",
    "# # user_plays\n",
    "# train_age1, test_age2 = train_test_split(user_plays, train_percentage=0.8, random_state=12345)\n",
    "# ndcg = ndcg_at_k(model, train_age1, test_age2, K=10)"
   ],
   "metadata": {
    "collapsed": false
   }
  },
  {
   "cell_type": "code",
   "execution_count": null,
   "outputs": [],
   "source": [],
   "metadata": {
    "collapsed": false
   }
  },
  {
   "cell_type": "code",
   "execution_count": null,
   "outputs": [],
   "source": [
    "pd.DataFrame(user_plays)"
   ],
   "metadata": {
    "collapsed": false
   }
  },
  {
   "cell_type": "code",
   "execution_count": null,
   "outputs": [],
   "source": [
    "for age in age_bins.keys():\n",
    "    print(f'{age_bins[age]} bin')\n",
    "    users_curr_age = plot_data[plot_data[\"AgeRange\"] == age]\n",
    "    # ratings_curr_age = plot_data[:, age]\n",
    "\n",
    "    print('ratings shape: ', users_curr_age.shape)"
   ],
   "metadata": {
    "collapsed": false
   }
  },
  {
   "cell_type": "code",
   "execution_count": null,
   "outputs": [],
   "source": [
    "age_plot = pd.concat([data_users[data_users['age'].isna()], data_users[~data_users['age'].isna()]])\n",
    "sns.countplot(x='age', data=age_plot)"
   ],
   "metadata": {
    "collapsed": false
   }
  },
  {
   "cell_type": "code",
   "execution_count": null,
   "outputs": [],
   "source": [
    "def age_group(rec_users, min_age, max_age):\n",
    "    return rec_users.iloc[np.where((rec_users['age'] >= min_age) & (rec_users['age'] <= max_age))]"
   ],
   "metadata": {
    "collapsed": false
   }
  },
  {
   "cell_type": "code",
   "execution_count": null,
   "outputs": [],
   "source": [
    "age_group(data_users, 3, 16)"
   ],
   "metadata": {
    "collapsed": false
   }
  },
  {
   "cell_type": "markdown",
   "source": [
    "Gender binning"
   ],
   "metadata": {
    "collapsed": false
   }
  },
  {
   "cell_type": "code",
   "execution_count": null,
   "outputs": [],
   "source": [
    "rec_users.iloc[np.where(rec_users['gender'] == 'm')]"
   ],
   "metadata": {
    "collapsed": false
   }
  },
  {
   "cell_type": "code",
   "execution_count": null,
   "outputs": [],
   "source": [
    "rec_users.iloc[np.where(rec_users['gender'] == 'f')]"
   ],
   "metadata": {
    "collapsed": false
   }
  },
  {
   "cell_type": "code",
   "execution_count": null,
   "outputs": [],
   "source": [
    "rec_users.iloc[np.where((rec_users['gender'] != 'm') & (rec_users['gender'] != 'f'))]"
   ],
   "metadata": {
    "collapsed": false
   }
  },
  {
   "cell_type": "code",
   "execution_count": null,
   "outputs": [],
   "source": [
    "sns.countplot(x='gender', data=data_users)"
   ],
   "metadata": {
    "collapsed": false
   }
  },
  {
   "cell_type": "code",
   "execution_count": null,
   "outputs": [],
   "source": [],
   "metadata": {
    "collapsed": false
   }
  },
  {
   "cell_type": "code",
   "execution_count": null,
   "outputs": [],
   "source": [],
   "metadata": {
    "collapsed": false
   }
  }
 ],
 "metadata": {
  "kernelspec": {
   "display_name": "Python 3",
   "language": "python",
   "name": "python3"
  },
  "language_info": {
   "codemirror_mode": {
    "name": "ipython",
    "version": 2
   },
   "file_extension": ".py",
   "mimetype": "text/x-python",
   "name": "python",
   "nbconvert_exporter": "python",
   "pygments_lexer": "ipython2",
   "version": "2.7.6"
  }
 },
 "nbformat": 4,
 "nbformat_minor": 0
}
