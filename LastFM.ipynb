{
 "cells": [
  {
   "cell_type": "code",
   "execution_count": 145,
   "metadata": {
    "collapsed": true
   },
   "outputs": [],
   "source": [
    "import pandas as pd\n",
    "import seaborn as sns\n",
    "import numpy as np\n",
    "from implicit.datasets.lastfm import get_lastfm\n",
    "import h5py\n",
    "from implicit.nearest_neighbours import bm25_weight\n",
    "import scipy\n",
    "import matplotlib.pyplot as plt\n",
    "from scipy import stats\n",
    "\n",
    "from sklearn.model_selection import KFold\n",
    "from implicit.evaluation import ndcg_at_k\n",
    "from implicit.evaluation import train_test_split\n",
    "from implicit.als import AlternatingLeastSquares"
   ]
  },
  {
   "cell_type": "markdown",
   "source": [
    "# LastFM Dataset"
   ],
   "metadata": {
    "collapsed": false
   }
  },
  {
   "cell_type": "code",
   "execution_count": 146,
   "outputs": [],
   "source": [
    "def get_users_by_usage(ratings_df):\n",
    "\n",
    "    labels = list(range(1, 8))\n",
    "    popularity_cut = pd.qcut(ratings_df.groupby('user_id').artist_id.nunique().rank(method = 'first'), 7)\n",
    "    popularity_cut = popularity_cut.cat.rename_categories(labels)\n",
    "    popularity_cut = pd.DataFrame(popularity_cut)\n",
    "    popularity_cut = popularity_cut.reset_index(drop=False)\n",
    "    popularity_cut.columns = ['user_id', 'usage']\n",
    "\n",
    "    popularity_cut_counts = pd.DataFrame(popularity_cut.groupby('usage').count())\n",
    "    popularity_cut_counts = popularity_cut_counts.reset_index(drop=False)\n",
    "    popularity_cut_counts['percentage'] = popularity_cut_counts.user_id / popularity_cut_counts.user_id.sum()\n",
    "\n",
    "    return popularity_cut, popularity_cut_counts"
   ],
   "metadata": {
    "collapsed": false
   }
  },
  {
   "cell_type": "code",
   "execution_count": 147,
   "outputs": [],
   "source": [
    "def get_divided_test_fold(ratings_df, test_index, sampling_rate=.2):\n",
    "    test_fold_df = ratings_df[ratings_df.user_id.isin(test_index)].copy()\n",
    "    test_df = test_fold_df.groupby('user_id').sample(frac=.2)\n",
    "    test_fold_df.loc[test_fold_df.user_id.isin(test_df.user_id), 'plays'] = 0\n",
    "\n",
    "    return test_fold_df, test_df"
   ],
   "metadata": {
    "collapsed": false
   }
  },
  {
   "cell_type": "code",
   "execution_count": 148,
   "outputs": [],
   "source": [
    "def get_age_bins():\n",
    "    age_bins = {}\n",
    "    age_bins[1] = '1-17'\n",
    "    age_bins[18] = '18-24'\n",
    "    age_bins[25] = '25-34'\n",
    "    age_bins[35] = '35-44'\n",
    "    age_bins[45] = '45-49'\n",
    "    age_bins[50] = '50-55'\n",
    "    age_bins[56] = '56+',\n",
    "    age_bins['NaN'] = 'NaN'\n",
    "\n",
    "    age_labels = list(age_bins.values())\n",
    "\n",
    "    return age_bins, age_labels"
   ],
   "metadata": {
    "collapsed": false
   }
  },
  {
   "cell_type": "code",
   "execution_count": 149,
   "outputs": [],
   "source": [
    "def get_metric_dict(users, column, values=None):\n",
    "    metric_dict = {}\n",
    "    if not values:\n",
    "        values = users[column].unique()\n",
    "    for g in values:\n",
    "        metric_dict[g] = []\n",
    "    return metric_dict"
   ],
   "metadata": {
    "collapsed": false
   }
  },
  {
   "cell_type": "markdown",
   "source": [
    "# Preparation"
   ],
   "metadata": {
    "collapsed": false
   }
  },
  {
   "cell_type": "code",
   "execution_count": 150,
   "outputs": [],
   "source": [
    "cols = ['user_id', 'artist_id', 'artist_name', 'plays']\n",
    "data_artists = pd.read_csv(\"lastfm-dataset-360K/usersha1-artmbid-artname-plays.tsv\", sep=\"\\t\", names=cols, header=None)\n",
    "\n",
    "cols = ['user_id', 'gender', 'age', 'country', 'signup']\n",
    "data_users = pd.read_csv(\"lastfm-dataset-360K/usersha1-profile.tsv\", sep=\"\\t\", names=cols, header=None)\n",
    "\n",
    "bins = [0, 18, 25, 35, 45, 50, 56, np.inf]\n",
    "names = ['1', '18','25', '35', '45', '50','55']\n",
    "data_users['AgeRange'] = pd.cut(data_users['age'], bins, labels=names)\n",
    "data_users['AgeRange'] = pd.to_numeric(data_users['AgeRange'])\n",
    "\n",
    "df = pd.merge(data_artists, data_users, on='user_id')\n",
    "\n",
    "artists, users, artist_user_plays = get_lastfm()\n",
    "# artist_user_plays = bm25_weight(artist_user_plays, K1=100, B=0.8)\n",
    "\n",
    "# user_plays = artist_user_plays.T.tocsr()\n",
    "user_plays = artist_user_plays.T"
   ],
   "metadata": {
    "collapsed": false
   }
  },
  {
   "cell_type": "markdown",
   "source": [
    "# CV"
   ],
   "metadata": {
    "collapsed": false
   }
  },
  {
   "cell_type": "code",
   "execution_count": 151,
   "outputs": [],
   "source": [
    "users_df = pd.DataFrame({'user': users}).reset_index()\n",
    "users_df.rename(columns={\"index\": \"user_id\"}, inplace=True)\n",
    "c = user_plays.tocoo()\n",
    "t_df = pd.DataFrame({'user_id': c.row, 'artist_id': c.col, 'plays': c.data})\n",
    "t_df = pd.merge(t_df, users_df, on='user_id')\n",
    "# t_df = t_df.drop(['index'], axis=1)\n",
    "\n",
    "artists_df = pd.DataFrame({'artist': artists}).reset_index()\n",
    "artists_df.rename(columns={\"index\": \"artist_id\"}, inplace=True)\n",
    "t_df = pd.merge(t_df, artists_df, on='artist_id')\n",
    "\n",
    "counts = t_df['user_id'].value_counts()\n",
    "t_df_40 = t_df[~t_df['user_id'].isin(counts[counts < 41].index)]\n",
    "\n",
    "list1 = t_df_40['user_id'].tolist()\n",
    "list2 = t_df_40['artist_id'].tolist()\n",
    "list3 = t_df_40['plays'].tolist()\n",
    "\n",
    "c.row = np.array(list1)\n",
    "c.col = np.array(list2)\n",
    "c.data = np.array(list3)\n",
    "\n",
    "new_matrix = scipy.sparse.csr_matrix(c)\n",
    "user_plays = new_matrix"
   ],
   "metadata": {
    "collapsed": false
   }
  },
  {
   "cell_type": "code",
   "execution_count": 152,
   "outputs": [],
   "source": [
    "# t_df_40 = pd.merge(t_df_40, df, left_on='user', right_on='user_id')\n",
    "popularity_cut, popularity_cut_counts = get_users_by_usage(df)\n",
    "age_bins, age_labels = get_age_bins()"
   ],
   "metadata": {
    "collapsed": false
   }
  },
  {
   "cell_type": "code",
   "execution_count": 154,
   "outputs": [],
   "source": [
    "ndcg_dict_age = get_metric_dict(data_users, 'AgeRange')\n",
    "ndcg_dict_gender = get_metric_dict(data_users, 'gender')\n",
    "ndcg_dict_usage = get_metric_dict(data_users, '', values=range(1, 8))"
   ],
   "metadata": {
    "collapsed": false
   }
  },
  {
   "cell_type": "code",
   "execution_count": 155,
   "outputs": [],
   "source": [
    "ndcg_dicts = {}\n",
    "ndcg_dicts['AgeRange'] = get_metric_dict(data_users, 'AgeRange')\n",
    "ndcg_dicts['gender'] = get_metric_dict(data_users, 'gender')\n",
    "ndcg_dicts['usage'] = get_metric_dict(data_users, '', values=range(1, 8))"
   ],
   "metadata": {
    "collapsed": false
   }
  },
  {
   "cell_type": "code",
   "execution_count": 156,
   "outputs": [
    {
     "name": "stdout",
     "output_type": "stream",
     "text": [
      "Fold 0:\n",
      "  Train: index=(287094,)\n"
     ]
    },
    {
     "data": {
      "text/plain": "  0%|          | 0/15 [00:00<?, ?it/s]",
      "application/vnd.jupyter.widget-view+json": {
       "version_major": 2,
       "version_minor": 0,
       "model_id": "d09b95bd5fea474e9ee851de41769b57"
      }
     },
     "metadata": {},
     "output_type": "display_data"
    },
    {
     "name": "stdout",
     "output_type": "stream",
     "text": [
      "Model trained, starting evaluation...\n",
      "  Test:  index=(5000, 16)\n",
      "Starting evaluation by AgeRange groups...\n"
     ]
    },
    {
     "data": {
      "text/plain": "  0%|          | 0/297 [00:00<?, ?it/s]",
      "application/vnd.jupyter.widget-view+json": {
       "version_major": 2,
       "version_minor": 0,
       "model_id": "9e194e14df8d4daeb20019a3ed5c4b74"
      }
     },
     "metadata": {},
     "output_type": "display_data"
    },
    {
     "data": {
      "text/plain": "  0%|          | 0/2485 [00:00<?, ?it/s]",
      "application/vnd.jupyter.widget-view+json": {
       "version_major": 2,
       "version_minor": 0,
       "model_id": "c17abed51e22498d9766e7d343082d44"
      }
     },
     "metadata": {},
     "output_type": "display_data"
    },
    {
     "data": {
      "text/plain": "  0%|          | 0/1210 [00:00<?, ?it/s]",
      "application/vnd.jupyter.widget-view+json": {
       "version_major": 2,
       "version_minor": 0,
       "model_id": "69c5043f09d24acbb2dec1266c8106f5"
      }
     },
     "metadata": {},
     "output_type": "display_data"
    },
    {
     "data": {
      "text/plain": "  0%|          | 0/71 [00:00<?, ?it/s]",
      "application/vnd.jupyter.widget-view+json": {
       "version_major": 2,
       "version_minor": 0,
       "model_id": "76db5c5787404c8bbf7a7570cda4388e"
      }
     },
     "metadata": {},
     "output_type": "display_data"
    },
    {
     "data": {
      "text/plain": "  0%|          | 0/583 [00:00<?, ?it/s]",
      "application/vnd.jupyter.widget-view+json": {
       "version_major": 2,
       "version_minor": 0,
       "model_id": "f5034e0ade4f4fb99e40f61e31c347a2"
      }
     },
     "metadata": {},
     "output_type": "display_data"
    },
    {
     "data": {
      "text/plain": "  0%|          | 0/62 [00:00<?, ?it/s]",
      "application/vnd.jupyter.widget-view+json": {
       "version_major": 2,
       "version_minor": 0,
       "model_id": "dd711119046a4244a32a9c82097fe813"
      }
     },
     "metadata": {},
     "output_type": "display_data"
    },
    {
     "data": {
      "text/plain": "  0%|          | 0/34 [00:00<?, ?it/s]",
      "application/vnd.jupyter.widget-view+json": {
       "version_major": 2,
       "version_minor": 0,
       "model_id": "75abf8ba443a4b0e891bf08fca14bfd5"
      }
     },
     "metadata": {},
     "output_type": "display_data"
    },
    {
     "name": "stdout",
     "output_type": "stream",
     "text": [
      "Evaluation by AgeRange finished...\n",
      "Starting evaluation by gender groups...\n"
     ]
    },
    {
     "data": {
      "text/plain": "  0%|          | 0/3550 [00:00<?, ?it/s]",
      "application/vnd.jupyter.widget-view+json": {
       "version_major": 2,
       "version_minor": 0,
       "model_id": "9e70afea7c714f0c89e7cb0d4a47ee6e"
      }
     },
     "metadata": {},
     "output_type": "display_data"
    },
    {
     "data": {
      "text/plain": "  0%|          | 0/1192 [00:00<?, ?it/s]",
      "application/vnd.jupyter.widget-view+json": {
       "version_major": 2,
       "version_minor": 0,
       "model_id": "8c7b2ab6942649b9820c2d6cd38ea282"
      }
     },
     "metadata": {},
     "output_type": "display_data"
    },
    {
     "name": "stdout",
     "output_type": "stream",
     "text": [
      "Evaluation by gender finished...\n",
      "Starting evaluation by usage groups...\n"
     ]
    },
    {
     "data": {
      "text/plain": "  0%|          | 0/591 [00:00<?, ?it/s]",
      "application/vnd.jupyter.widget-view+json": {
       "version_major": 2,
       "version_minor": 0,
       "model_id": "b8d947023ae54f178d0caa75a403e3be"
      }
     },
     "metadata": {},
     "output_type": "display_data"
    },
    {
     "data": {
      "text/plain": "  0%|          | 0/645 [00:00<?, ?it/s]",
      "application/vnd.jupyter.widget-view+json": {
       "version_major": 2,
       "version_minor": 0,
       "model_id": "b935238cad8e4b359f0f7acee9d15d27"
      }
     },
     "metadata": {},
     "output_type": "display_data"
    },
    {
     "data": {
      "text/plain": "  0%|          | 0/783 [00:00<?, ?it/s]",
      "application/vnd.jupyter.widget-view+json": {
       "version_major": 2,
       "version_minor": 0,
       "model_id": "6133946143f444c1a903ce9f3ab1af81"
      }
     },
     "metadata": {},
     "output_type": "display_data"
    },
    {
     "data": {
      "text/plain": "  0%|          | 0/741 [00:00<?, ?it/s]",
      "application/vnd.jupyter.widget-view+json": {
       "version_major": 2,
       "version_minor": 0,
       "model_id": "46e4a58bc4a444e49f78a31ec155a5ca"
      }
     },
     "metadata": {},
     "output_type": "display_data"
    },
    {
     "data": {
      "text/plain": "  0%|          | 0/1122 [00:00<?, ?it/s]",
      "application/vnd.jupyter.widget-view+json": {
       "version_major": 2,
       "version_minor": 0,
       "model_id": "ec1584857ae547d495776e0a246f72d7"
      }
     },
     "metadata": {},
     "output_type": "display_data"
    },
    {
     "data": {
      "text/plain": "  0%|          | 0/711 [00:00<?, ?it/s]",
      "application/vnd.jupyter.widget-view+json": {
       "version_major": 2,
       "version_minor": 0,
       "model_id": "72fd8f93cd3b4501a31b5493eec9f22c"
      }
     },
     "metadata": {},
     "output_type": "display_data"
    },
    {
     "data": {
      "text/plain": "  0%|          | 0/149 [00:00<?, ?it/s]",
      "application/vnd.jupyter.widget-view+json": {
       "version_major": 2,
       "version_minor": 0,
       "model_id": "2fef6292093a44f7b52902781e841bcd"
      }
     },
     "metadata": {},
     "output_type": "display_data"
    },
    {
     "name": "stdout",
     "output_type": "stream",
     "text": [
      "Evaluation by usage finished...\n",
      "Fold 1:\n",
      "  Train: index=(287094,)\n"
     ]
    },
    {
     "data": {
      "text/plain": "  0%|          | 0/15 [00:00<?, ?it/s]",
      "application/vnd.jupyter.widget-view+json": {
       "version_major": 2,
       "version_minor": 0,
       "model_id": "f5273c77cb9b494b94dad35b7fa595c9"
      }
     },
     "metadata": {},
     "output_type": "display_data"
    },
    {
     "name": "stdout",
     "output_type": "stream",
     "text": [
      "Model trained, starting evaluation...\n",
      "  Test:  index=(5000, 16)\n",
      "Starting evaluation by AgeRange groups...\n"
     ]
    },
    {
     "data": {
      "text/plain": "  0%|          | 0/60 [00:00<?, ?it/s]",
      "application/vnd.jupyter.widget-view+json": {
       "version_major": 2,
       "version_minor": 0,
       "model_id": "4019fa3ce8104a83ad3437ef8b083f5a"
      }
     },
     "metadata": {},
     "output_type": "display_data"
    },
    {
     "data": {
      "text/plain": "  0%|          | 0/2371 [00:00<?, ?it/s]",
      "application/vnd.jupyter.widget-view+json": {
       "version_major": 2,
       "version_minor": 0,
       "model_id": "46e78935a046494abaaa8536bc3c11fa"
      }
     },
     "metadata": {},
     "output_type": "display_data"
    },
    {
     "data": {
      "text/plain": "  0%|          | 0/1358 [00:00<?, ?it/s]",
      "application/vnd.jupyter.widget-view+json": {
       "version_major": 2,
       "version_minor": 0,
       "model_id": "2380e421eccc497ca17420a3b61953d1"
      }
     },
     "metadata": {},
     "output_type": "display_data"
    },
    {
     "data": {
      "text/plain": "  0%|          | 0/275 [00:00<?, ?it/s]",
      "application/vnd.jupyter.widget-view+json": {
       "version_major": 2,
       "version_minor": 0,
       "model_id": "1e054152c1f14c3caaa6c235346d5599"
      }
     },
     "metadata": {},
     "output_type": "display_data"
    },
    {
     "data": {
      "text/plain": "  0%|          | 0/560 [00:00<?, ?it/s]",
      "application/vnd.jupyter.widget-view+json": {
       "version_major": 2,
       "version_minor": 0,
       "model_id": "7225921b642546a48303250ec4b59c30"
      }
     },
     "metadata": {},
     "output_type": "display_data"
    },
    {
     "data": {
      "text/plain": "  0%|          | 0/71 [00:00<?, ?it/s]",
      "application/vnd.jupyter.widget-view+json": {
       "version_major": 2,
       "version_minor": 0,
       "model_id": "a594f9abc116433a878f47a095f1f084"
      }
     },
     "metadata": {},
     "output_type": "display_data"
    },
    {
     "data": {
      "text/plain": "  0%|          | 0/36 [00:00<?, ?it/s]",
      "application/vnd.jupyter.widget-view+json": {
       "version_major": 2,
       "version_minor": 0,
       "model_id": "93462318a76b461cae9fef7c96564d0f"
      }
     },
     "metadata": {},
     "output_type": "display_data"
    },
    {
     "name": "stdout",
     "output_type": "stream",
     "text": [
      "Evaluation by AgeRange finished...\n",
      "Starting evaluation by gender groups...\n"
     ]
    },
    {
     "data": {
      "text/plain": "  0%|          | 0/1191 [00:00<?, ?it/s]",
      "application/vnd.jupyter.widget-view+json": {
       "version_major": 2,
       "version_minor": 0,
       "model_id": "52a6c7ecdff44a2f915c4d8760fc5652"
      }
     },
     "metadata": {},
     "output_type": "display_data"
    },
    {
     "data": {
      "text/plain": "  0%|          | 0/3540 [00:00<?, ?it/s]",
      "application/vnd.jupyter.widget-view+json": {
       "version_major": 2,
       "version_minor": 0,
       "model_id": "38c1bc122aa847699ca1af41b5f16070"
      }
     },
     "metadata": {},
     "output_type": "display_data"
    },
    {
     "name": "stdout",
     "output_type": "stream",
     "text": [
      "Evaluation by gender finished...\n",
      "Starting evaluation by usage groups...\n"
     ]
    },
    {
     "data": {
      "text/plain": "  0%|          | 0/603 [00:00<?, ?it/s]",
      "application/vnd.jupyter.widget-view+json": {
       "version_major": 2,
       "version_minor": 0,
       "model_id": "c7d3b0264b0e49739b3b09083d0b581c"
      }
     },
     "metadata": {},
     "output_type": "display_data"
    },
    {
     "data": {
      "text/plain": "  0%|          | 0/1142 [00:00<?, ?it/s]",
      "application/vnd.jupyter.widget-view+json": {
       "version_major": 2,
       "version_minor": 0,
       "model_id": "4bd35c8d952145588081321e7930a429"
      }
     },
     "metadata": {},
     "output_type": "display_data"
    },
    {
     "data": {
      "text/plain": "  0%|          | 0/718 [00:00<?, ?it/s]",
      "application/vnd.jupyter.widget-view+json": {
       "version_major": 2,
       "version_minor": 0,
       "model_id": "2b02a8ad30fe4ec5b523a7e38397cfa4"
      }
     },
     "metadata": {},
     "output_type": "display_data"
    },
    {
     "data": {
      "text/plain": "  0%|          | 0/707 [00:00<?, ?it/s]",
      "application/vnd.jupyter.widget-view+json": {
       "version_major": 2,
       "version_minor": 0,
       "model_id": "03427b4af0f048bf8136f785a8c5ae6b"
      }
     },
     "metadata": {},
     "output_type": "display_data"
    },
    {
     "data": {
      "text/plain": "  0%|          | 0/576 [00:00<?, ?it/s]",
      "application/vnd.jupyter.widget-view+json": {
       "version_major": 2,
       "version_minor": 0,
       "model_id": "12ceecee40af4ade88150f49ed201c30"
      }
     },
     "metadata": {},
     "output_type": "display_data"
    },
    {
     "data": {
      "text/plain": "  0%|          | 0/845 [00:00<?, ?it/s]",
      "application/vnd.jupyter.widget-view+json": {
       "version_major": 2,
       "version_minor": 0,
       "model_id": "26b7cdacdf79414ab75256728e61b66d"
      }
     },
     "metadata": {},
     "output_type": "display_data"
    },
    {
     "data": {
      "text/plain": "  0%|          | 0/140 [00:00<?, ?it/s]",
      "application/vnd.jupyter.widget-view+json": {
       "version_major": 2,
       "version_minor": 0,
       "model_id": "cbe60dda72b44ec088e78e2e7ab85068"
      }
     },
     "metadata": {},
     "output_type": "display_data"
    },
    {
     "name": "stdout",
     "output_type": "stream",
     "text": [
      "Evaluation by usage finished...\n",
      "Fold 2:\n",
      "  Train: index=(287094,)\n"
     ]
    },
    {
     "data": {
      "text/plain": "  0%|          | 0/15 [00:00<?, ?it/s]",
      "application/vnd.jupyter.widget-view+json": {
       "version_major": 2,
       "version_minor": 0,
       "model_id": "24b4d01722d04a83ba20bb99dd190a47"
      }
     },
     "metadata": {},
     "output_type": "display_data"
    },
    {
     "name": "stdout",
     "output_type": "stream",
     "text": [
      "Model trained, starting evaluation...\n",
      "  Test:  index=(5000, 16)\n",
      "Starting evaluation by AgeRange groups...\n"
     ]
    },
    {
     "data": {
      "text/plain": "  0%|          | 0/2431 [00:00<?, ?it/s]",
      "application/vnd.jupyter.widget-view+json": {
       "version_major": 2,
       "version_minor": 0,
       "model_id": "557b0291f02e40efb4ab121b0a861964"
      }
     },
     "metadata": {},
     "output_type": "display_data"
    },
    {
     "data": {
      "text/plain": "  0%|          | 0/1264 [00:00<?, ?it/s]",
      "application/vnd.jupyter.widget-view+json": {
       "version_major": 2,
       "version_minor": 0,
       "model_id": "9e11c909caef408eb0e7cc80e10cc226"
      }
     },
     "metadata": {},
     "output_type": "display_data"
    },
    {
     "data": {
      "text/plain": "  0%|          | 0/605 [00:00<?, ?it/s]",
      "application/vnd.jupyter.widget-view+json": {
       "version_major": 2,
       "version_minor": 0,
       "model_id": "024ad63dd3fa486293b57205a3dba4bf"
      }
     },
     "metadata": {},
     "output_type": "display_data"
    },
    {
     "data": {
      "text/plain": "  0%|          | 0/297 [00:00<?, ?it/s]",
      "application/vnd.jupyter.widget-view+json": {
       "version_major": 2,
       "version_minor": 0,
       "model_id": "28f8ae753b3e4ba2984bcc96e5b5a263"
      }
     },
     "metadata": {},
     "output_type": "display_data"
    },
    {
     "data": {
      "text/plain": "  0%|          | 0/48 [00:00<?, ?it/s]",
      "application/vnd.jupyter.widget-view+json": {
       "version_major": 2,
       "version_minor": 0,
       "model_id": "3db6ec1ca66147cca5d3de669fa29a4f"
      }
     },
     "metadata": {},
     "output_type": "display_data"
    },
    {
     "data": {
      "text/plain": "  0%|          | 0/35 [00:00<?, ?it/s]",
      "application/vnd.jupyter.widget-view+json": {
       "version_major": 2,
       "version_minor": 0,
       "model_id": "e5fc1c24ddeb4e2095a010d6aec527ba"
      }
     },
     "metadata": {},
     "output_type": "display_data"
    },
    {
     "data": {
      "text/plain": "  0%|          | 0/50 [00:00<?, ?it/s]",
      "application/vnd.jupyter.widget-view+json": {
       "version_major": 2,
       "version_minor": 0,
       "model_id": "ced8dc764c944bd284692635f4b5954c"
      }
     },
     "metadata": {},
     "output_type": "display_data"
    },
    {
     "name": "stdout",
     "output_type": "stream",
     "text": [
      "Evaluation by AgeRange finished...\n",
      "Starting evaluation by gender groups...\n"
     ]
    },
    {
     "data": {
      "text/plain": "  0%|          | 0/3557 [00:00<?, ?it/s]",
      "application/vnd.jupyter.widget-view+json": {
       "version_major": 2,
       "version_minor": 0,
       "model_id": "286d0671a25e456c962dd7226557d70b"
      }
     },
     "metadata": {},
     "output_type": "display_data"
    },
    {
     "data": {
      "text/plain": "  0%|          | 0/1173 [00:00<?, ?it/s]",
      "application/vnd.jupyter.widget-view+json": {
       "version_major": 2,
       "version_minor": 0,
       "model_id": "4e197f090e514002a7c4911513113578"
      }
     },
     "metadata": {},
     "output_type": "display_data"
    },
    {
     "name": "stdout",
     "output_type": "stream",
     "text": [
      "Evaluation by gender finished...\n",
      "Starting evaluation by usage groups...\n"
     ]
    },
    {
     "data": {
      "text/plain": "  0%|          | 0/1085 [00:00<?, ?it/s]",
      "application/vnd.jupyter.widget-view+json": {
       "version_major": 2,
       "version_minor": 0,
       "model_id": "564b9e4bc32f43968191512240c11678"
      }
     },
     "metadata": {},
     "output_type": "display_data"
    },
    {
     "data": {
      "text/plain": "  0%|          | 0/695 [00:00<?, ?it/s]",
      "application/vnd.jupyter.widget-view+json": {
       "version_major": 2,
       "version_minor": 0,
       "model_id": "b8ba74d6ea8e42a096d29c6e1fcac1ae"
      }
     },
     "metadata": {},
     "output_type": "display_data"
    },
    {
     "data": {
      "text/plain": "  0%|          | 0/697 [00:00<?, ?it/s]",
      "application/vnd.jupyter.widget-view+json": {
       "version_major": 2,
       "version_minor": 0,
       "model_id": "01c1be4e49a94523877b677dbc22e2c3"
      }
     },
     "metadata": {},
     "output_type": "display_data"
    },
    {
     "data": {
      "text/plain": "  0%|          | 0/172 [00:00<?, ?it/s]",
      "application/vnd.jupyter.widget-view+json": {
       "version_major": 2,
       "version_minor": 0,
       "model_id": "74977fae81704867b5bf8b800831a059"
      }
     },
     "metadata": {},
     "output_type": "display_data"
    },
    {
     "data": {
      "text/plain": "  0%|          | 0/853 [00:00<?, ?it/s]",
      "application/vnd.jupyter.widget-view+json": {
       "version_major": 2,
       "version_minor": 0,
       "model_id": "4e3e919b754d48299bd05d76b7d1f615"
      }
     },
     "metadata": {},
     "output_type": "display_data"
    },
    {
     "data": {
      "text/plain": "  0%|          | 0/559 [00:00<?, ?it/s]",
      "application/vnd.jupyter.widget-view+json": {
       "version_major": 2,
       "version_minor": 0,
       "model_id": "a5284b9c45b648d48a6ad953d8225512"
      }
     },
     "metadata": {},
     "output_type": "display_data"
    },
    {
     "data": {
      "text/plain": "  0%|          | 0/669 [00:00<?, ?it/s]",
      "application/vnd.jupyter.widget-view+json": {
       "version_major": 2,
       "version_minor": 0,
       "model_id": "e7a98f3cddc14164bb75804b9c266f7c"
      }
     },
     "metadata": {},
     "output_type": "display_data"
    },
    {
     "name": "stdout",
     "output_type": "stream",
     "text": [
      "Evaluation by usage finished...\n",
      "Fold 3:\n",
      "  Train: index=(287095,)\n"
     ]
    },
    {
     "data": {
      "text/plain": "  0%|          | 0/15 [00:00<?, ?it/s]",
      "application/vnd.jupyter.widget-view+json": {
       "version_major": 2,
       "version_minor": 0,
       "model_id": "f947e7f8e58045f5ac2ae1948366d2f2"
      }
     },
     "metadata": {},
     "output_type": "display_data"
    },
    {
     "name": "stdout",
     "output_type": "stream",
     "text": [
      "Model trained, starting evaluation...\n",
      "  Test:  index=(5000, 16)\n",
      "Starting evaluation by AgeRange groups...\n"
     ]
    },
    {
     "data": {
      "text/plain": "  0%|          | 0/2414 [00:00<?, ?it/s]",
      "application/vnd.jupyter.widget-view+json": {
       "version_major": 2,
       "version_minor": 0,
       "model_id": "86e1c6a86c2741ca992ba9236dfd92b1"
      }
     },
     "metadata": {},
     "output_type": "display_data"
    },
    {
     "data": {
      "text/plain": "  0%|          | 0/327 [00:00<?, ?it/s]",
      "application/vnd.jupyter.widget-view+json": {
       "version_major": 2,
       "version_minor": 0,
       "model_id": "7be13adb49964c1ca81f1295eb8d1952"
      }
     },
     "metadata": {},
     "output_type": "display_data"
    },
    {
     "data": {
      "text/plain": "  0%|          | 0/1226 [00:00<?, ?it/s]",
      "application/vnd.jupyter.widget-view+json": {
       "version_major": 2,
       "version_minor": 0,
       "model_id": "b78fd804190f4dce8aeb55281f1219e7"
      }
     },
     "metadata": {},
     "output_type": "display_data"
    },
    {
     "data": {
      "text/plain": "  0%|          | 0/598 [00:00<?, ?it/s]",
      "application/vnd.jupyter.widget-view+json": {
       "version_major": 2,
       "version_minor": 0,
       "model_id": "bd59ca501ca8496eaa35f776e60dd082"
      }
     },
     "metadata": {},
     "output_type": "display_data"
    },
    {
     "data": {
      "text/plain": "  0%|          | 0/60 [00:00<?, ?it/s]",
      "application/vnd.jupyter.widget-view+json": {
       "version_major": 2,
       "version_minor": 0,
       "model_id": "4bac1de2270a4ea2afd1be3f15b7e47f"
      }
     },
     "metadata": {},
     "output_type": "display_data"
    },
    {
     "data": {
      "text/plain": "  0%|          | 0/37 [00:00<?, ?it/s]",
      "application/vnd.jupyter.widget-view+json": {
       "version_major": 2,
       "version_minor": 0,
       "model_id": "6dc7cb0e43aa42c8b71edf409f301785"
      }
     },
     "metadata": {},
     "output_type": "display_data"
    },
    {
     "data": {
      "text/plain": "  0%|          | 0/57 [00:00<?, ?it/s]",
      "application/vnd.jupyter.widget-view+json": {
       "version_major": 2,
       "version_minor": 0,
       "model_id": "5a94ce14d6bb4818acdf04a67afa1e51"
      }
     },
     "metadata": {},
     "output_type": "display_data"
    },
    {
     "name": "stdout",
     "output_type": "stream",
     "text": [
      "Evaluation by AgeRange finished...\n",
      "Starting evaluation by gender groups...\n"
     ]
    },
    {
     "data": {
      "text/plain": "  0%|          | 0/3553 [00:00<?, ?it/s]",
      "application/vnd.jupyter.widget-view+json": {
       "version_major": 2,
       "version_minor": 0,
       "model_id": "029e4654f1c745a5abe7ebc2dd03b9ba"
      }
     },
     "metadata": {},
     "output_type": "display_data"
    },
    {
     "data": {
      "text/plain": "  0%|          | 0/1166 [00:00<?, ?it/s]",
      "application/vnd.jupyter.widget-view+json": {
       "version_major": 2,
       "version_minor": 0,
       "model_id": "4bccabf34f9b41a981f64958c3ee991b"
      }
     },
     "metadata": {},
     "output_type": "display_data"
    },
    {
     "name": "stdout",
     "output_type": "stream",
     "text": [
      "Evaluation by gender finished...\n",
      "Starting evaluation by usage groups...\n"
     ]
    },
    {
     "data": {
      "text/plain": "  0%|          | 0/836 [00:00<?, ?it/s]",
      "application/vnd.jupyter.widget-view+json": {
       "version_major": 2,
       "version_minor": 0,
       "model_id": "4f7e67b376aa469c91937ae06adb3918"
      }
     },
     "metadata": {},
     "output_type": "display_data"
    },
    {
     "data": {
      "text/plain": "  0%|          | 0/735 [00:00<?, ?it/s]",
      "application/vnd.jupyter.widget-view+json": {
       "version_major": 2,
       "version_minor": 0,
       "model_id": "80677ae963454b2a8de1de71f616a90a"
      }
     },
     "metadata": {},
     "output_type": "display_data"
    },
    {
     "data": {
      "text/plain": "  0%|          | 0/672 [00:00<?, ?it/s]",
      "application/vnd.jupyter.widget-view+json": {
       "version_major": 2,
       "version_minor": 0,
       "model_id": "c71ad38456c3447694fe39ada70ae442"
      }
     },
     "metadata": {},
     "output_type": "display_data"
    },
    {
     "data": {
      "text/plain": "  0%|          | 0/564 [00:00<?, ?it/s]",
      "application/vnd.jupyter.widget-view+json": {
       "version_major": 2,
       "version_minor": 0,
       "model_id": "b278e6b0fa20448ab6df76d1312ed33a"
      }
     },
     "metadata": {},
     "output_type": "display_data"
    },
    {
     "data": {
      "text/plain": "  0%|          | 0/670 [00:00<?, ?it/s]",
      "application/vnd.jupyter.widget-view+json": {
       "version_major": 2,
       "version_minor": 0,
       "model_id": "e91edfac3f214cc58190e67d79449b92"
      }
     },
     "metadata": {},
     "output_type": "display_data"
    },
    {
     "data": {
      "text/plain": "  0%|          | 0/1070 [00:00<?, ?it/s]",
      "application/vnd.jupyter.widget-view+json": {
       "version_major": 2,
       "version_minor": 0,
       "model_id": "7051226a8dfa4144bbed6dad8f20f827"
      }
     },
     "metadata": {},
     "output_type": "display_data"
    },
    {
     "data": {
      "text/plain": "  0%|          | 0/172 [00:00<?, ?it/s]",
      "application/vnd.jupyter.widget-view+json": {
       "version_major": 2,
       "version_minor": 0,
       "model_id": "0ec159ded2b04c54857f688f9c1305cf"
      }
     },
     "metadata": {},
     "output_type": "display_data"
    },
    {
     "name": "stdout",
     "output_type": "stream",
     "text": [
      "Evaluation by usage finished...\n",
      "Fold 4:\n",
      "  Train: index=(287095,)\n"
     ]
    },
    {
     "data": {
      "text/plain": "  0%|          | 0/15 [00:00<?, ?it/s]",
      "application/vnd.jupyter.widget-view+json": {
       "version_major": 2,
       "version_minor": 0,
       "model_id": "c4dd3e3b197f43ec80d68d763567e6f7"
      }
     },
     "metadata": {},
     "output_type": "display_data"
    },
    {
     "name": "stdout",
     "output_type": "stream",
     "text": [
      "Model trained, starting evaluation...\n",
      "  Test:  index=(5000, 16)\n",
      "Starting evaluation by AgeRange groups...\n"
     ]
    },
    {
     "data": {
      "text/plain": "  0%|          | 0/593 [00:00<?, ?it/s]",
      "application/vnd.jupyter.widget-view+json": {
       "version_major": 2,
       "version_minor": 0,
       "model_id": "079f03a5da4b4917af55674a99296e39"
      }
     },
     "metadata": {},
     "output_type": "display_data"
    },
    {
     "data": {
      "text/plain": "  0%|          | 0/2364 [00:00<?, ?it/s]",
      "application/vnd.jupyter.widget-view+json": {
       "version_major": 2,
       "version_minor": 0,
       "model_id": "08be45667c5e4880a63ffdaab7a898e9"
      }
     },
     "metadata": {},
     "output_type": "display_data"
    },
    {
     "data": {
      "text/plain": "  0%|          | 0/1311 [00:00<?, ?it/s]",
      "application/vnd.jupyter.widget-view+json": {
       "version_major": 2,
       "version_minor": 0,
       "model_id": "e9ebf12907d14deab37808cfc02b4653"
      }
     },
     "metadata": {},
     "output_type": "display_data"
    },
    {
     "data": {
      "text/plain": "  0%|          | 0/58 [00:00<?, ?it/s]",
      "application/vnd.jupyter.widget-view+json": {
       "version_major": 2,
       "version_minor": 0,
       "model_id": "14babc9b2949421a9d088204cc66b31d"
      }
     },
     "metadata": {},
     "output_type": "display_data"
    },
    {
     "data": {
      "text/plain": "  0%|          | 0/56 [00:00<?, ?it/s]",
      "application/vnd.jupyter.widget-view+json": {
       "version_major": 2,
       "version_minor": 0,
       "model_id": "4ca54950225c407aa476a4b0268f25f4"
      }
     },
     "metadata": {},
     "output_type": "display_data"
    },
    {
     "data": {
      "text/plain": "  0%|          | 0/289 [00:00<?, ?it/s]",
      "application/vnd.jupyter.widget-view+json": {
       "version_major": 2,
       "version_minor": 0,
       "model_id": "77f788625aac465ba4ed30ad6b7929c1"
      }
     },
     "metadata": {},
     "output_type": "display_data"
    },
    {
     "data": {
      "text/plain": "  0%|          | 0/29 [00:00<?, ?it/s]",
      "application/vnd.jupyter.widget-view+json": {
       "version_major": 2,
       "version_minor": 0,
       "model_id": "f86b8cd9200a42edbe2dc49c7e37b0a1"
      }
     },
     "metadata": {},
     "output_type": "display_data"
    },
    {
     "name": "stdout",
     "output_type": "stream",
     "text": [
      "Evaluation by AgeRange finished...\n",
      "Starting evaluation by gender groups...\n"
     ]
    },
    {
     "data": {
      "text/plain": "  0%|          | 0/1164 [00:00<?, ?it/s]",
      "application/vnd.jupyter.widget-view+json": {
       "version_major": 2,
       "version_minor": 0,
       "model_id": "a8919cefe4784e0e814d508999ba1176"
      }
     },
     "metadata": {},
     "output_type": "display_data"
    },
    {
     "data": {
      "text/plain": "  0%|          | 0/3536 [00:00<?, ?it/s]",
      "application/vnd.jupyter.widget-view+json": {
       "version_major": 2,
       "version_minor": 0,
       "model_id": "7b159e6cbcfc4e94913907f54e42a79b"
      }
     },
     "metadata": {},
     "output_type": "display_data"
    },
    {
     "name": "stdout",
     "output_type": "stream",
     "text": [
      "Evaluation by gender finished...\n",
      "Starting evaluation by usage groups...\n"
     ]
    },
    {
     "data": {
      "text/plain": "  0%|          | 0/637 [00:00<?, ?it/s]",
      "application/vnd.jupyter.widget-view+json": {
       "version_major": 2,
       "version_minor": 0,
       "model_id": "dcc9f749ad7d49269a298f967fe32810"
      }
     },
     "metadata": {},
     "output_type": "display_data"
    },
    {
     "data": {
      "text/plain": "  0%|          | 0/1102 [00:00<?, ?it/s]",
      "application/vnd.jupyter.widget-view+json": {
       "version_major": 2,
       "version_minor": 0,
       "model_id": "5f601b7dbdcf44c99c2d3e79937fc73a"
      }
     },
     "metadata": {},
     "output_type": "display_data"
    },
    {
     "data": {
      "text/plain": "  0%|          | 0/667 [00:00<?, ?it/s]",
      "application/vnd.jupyter.widget-view+json": {
       "version_major": 2,
       "version_minor": 0,
       "model_id": "be525a86cd1a4b638d04cdd74612e521"
      }
     },
     "metadata": {},
     "output_type": "display_data"
    },
    {
     "data": {
      "text/plain": "  0%|          | 0/181 [00:00<?, ?it/s]",
      "application/vnd.jupyter.widget-view+json": {
       "version_major": 2,
       "version_minor": 0,
       "model_id": "55ba85800bac4204b5c9f648962fba93"
      }
     },
     "metadata": {},
     "output_type": "display_data"
    },
    {
     "data": {
      "text/plain": "  0%|          | 0/823 [00:00<?, ?it/s]",
      "application/vnd.jupyter.widget-view+json": {
       "version_major": 2,
       "version_minor": 0,
       "model_id": "bce852a79a164247b63ec101c18583fe"
      }
     },
     "metadata": {},
     "output_type": "display_data"
    },
    {
     "data": {
      "text/plain": "  0%|          | 0/713 [00:00<?, ?it/s]",
      "application/vnd.jupyter.widget-view+json": {
       "version_major": 2,
       "version_minor": 0,
       "model_id": "b23beb79c86d47789254a4e25e5dd7cb"
      }
     },
     "metadata": {},
     "output_type": "display_data"
    },
    {
     "data": {
      "text/plain": "  0%|          | 0/577 [00:00<?, ?it/s]",
      "application/vnd.jupyter.widget-view+json": {
       "version_major": 2,
       "version_minor": 0,
       "model_id": "a40039de4cca46d19e22891f8f0155e4"
      }
     },
     "metadata": {},
     "output_type": "display_data"
    },
    {
     "name": "stdout",
     "output_type": "stream",
     "text": [
      "Evaluation by usage finished...\n"
     ]
    }
   ],
   "source": [
    "# divide ratings into 5 CV, still question about test data - see paper\n",
    "# 0th column is 0, since user ids start with 1\n",
    "\n",
    "kf = KFold(n_splits=5, random_state=12345, shuffle=True)\n",
    "\n",
    "for i, (train_index, test_index) in enumerate(kf.split(user_plays)):\n",
    "    print(f\"Fold {i}:\")\n",
    "    print(f\"  Train: index={train_index.shape}\")\n",
    "\n",
    "    # train data is divided into two parts\n",
    "    # in train_index, full user data is used for training\n",
    "    # in test_index, 80% of user data is used for training and the rest 20% is used for testing\n",
    "    test_train_df, test_test_df = get_divided_test_fold(t_df_40, test_index)\n",
    "    train_data = user_plays.copy()\n",
    "    # blend out the 20% of test users data for testing\n",
    "    # test data contains data used for training + 20% blended in train data\n",
    "    train_data[test_test_df.user_id, test_test_df.artist_id] = 0\n",
    "\n",
    "    model = AlternatingLeastSquares(factors=50, regularization=0.01)\n",
    "    model.fit(train_data)\n",
    "    print(f'Model trained, starting evaluation...')\n",
    "    test_test_df = test_test_df.merge(df, how='left', left_on='user', right_on='user_id')\n",
    "    test_test_df = test_test_df.merge(popularity_cut, how='left', left_on='user', right_on='user_id')\n",
    "    test_test_df = test_test_df.dropna()\n",
    "    test_test_df = test_test_df.sample(n = 5000, random_state = 12345)\n",
    "\n",
    "    print(f\"  Test:  index={test_test_df.shape}\")\n",
    "\n",
    "    for col, ndcg_dict in ndcg_dicts.items():\n",
    "        print(f'Starting evaluation by {col} groups...')\n",
    "        for a in test_test_df[col].unique():\n",
    "            test_data = user_plays[test_test_df[test_test_df[col] == a].user_id_x.unique()]\n",
    "            ndcg_dict[a].append(ndcg_at_k(model, train_data, test_data, K=1000))\n",
    "        print(f'Evaluation by {col} finished...')"
   ],
   "metadata": {
    "collapsed": false
   }
  },
  {
   "cell_type": "markdown",
   "source": [
    "## Kruskal-Wallis Significance tests"
   ],
   "metadata": {
    "collapsed": false
   }
  },
  {
   "cell_type": "code",
   "execution_count": 157,
   "outputs": [
    {
     "data": {
      "text/plain": "{'age': {18.0: [0.13949935916379017,\n   0.13859101352938033,\n   0.13898812962399484,\n   0.13514941115753606,\n   0.13917207561003417],\n  25.0: [0.13389333871725922,\n   0.13324743067617212,\n   0.13855418061496055,\n   0.1377768990752564,\n   0.13285067860559474],\n  1.0: [0.1425146315062367,\n   0.13861451054582602,\n   0.1333468130410829,\n   0.13605092536179086,\n   0.1300378413841675],\n  45.0: [0.11724680289607725,\n   0.11191650578133822,\n   0.11259389411403849,\n   0.10485819102125864,\n   0.12197673877843157],\n  50.0: [0.14053338726952613,\n   0.09677072217048892,\n   0.10154911862096927,\n   0.11556247499552641,\n   0.07171508946569759],\n  55.0: [0.10653869986491146,\n   0.1089144633607877,\n   0.10788873254751276,\n   0.09307754457526138,\n   0.08200901618061372],\n  35.0: [0.12266547970663715,\n   0.117520406338883,\n   0.1272317832011244,\n   0.12790207276630097,\n   0.1268089129748221]},\n 'gender': {'f': [0.14587805980970614,\n   0.14101901129911587,\n   0.13756070653545294,\n   0.14101168631856484,\n   0.14398265576654443],\n  'm': [0.1359330057738199,\n   0.13281978177640286,\n   0.13229716925685228,\n   0.13316805346577382,\n   0.13500155058089122]},\n 'usage': {1: [0.0978906099390728,\n   0.1023976597024548,\n   0.08874899641588076,\n   0.10448593675938558,\n   0.10330594408367584],\n  2: [0.12312677862712919,\n   0.11955790548430192,\n   0.12487440762405859,\n   0.11753122173253565,\n   0.11393767587826382],\n  3: [0.1336053153434169,\n   0.13291056004403787,\n   0.13156110654531544,\n   0.13447999450016504,\n   0.13646787130007756],\n  4: [0.15445340640733124,\n   0.1441242884481359,\n   0.14518173819393757,\n   0.14280690567002635,\n   0.1471664640425522],\n  5: [0.14866358783626452,\n   0.15554381558694536,\n   0.14955092114498808,\n   0.14917796960218568,\n   0.15227757312870735],\n  6: [0.1355156611636644,\n   0.1341602110796479,\n   0.13390838766261712,\n   0.1332336233457212,\n   0.1332666908984124],\n  7: [0.1305539830363416,\n   0.12547267128479772,\n   0.12608647819241597,\n   0.12825905350758168,\n   0.12680900465512246]}}"
     },
     "execution_count": 157,
     "metadata": {},
     "output_type": "execute_result"
    }
   ],
   "source": [
    "from math import isnan\n",
    "\n",
    "clean_ndcg = {}\n",
    "clean_ndcg['age'] = {k: ndcg_dicts['AgeRange'][k] for k in ndcg_dicts['AgeRange'] if not isnan(k)}\n",
    "clean_ndcg['gender'] = {'f': ndcg_dicts['gender']['f'], 'm': ndcg_dicts['gender']['m']}\n",
    "clean_ndcg['usage'] = {}\n",
    "clean_ndcg['usage'].update(ndcg_dicts['usage'])\n",
    "clean_ndcg"
   ],
   "metadata": {
    "collapsed": false
   }
  },
  {
   "cell_type": "code",
   "execution_count": 158,
   "outputs": [],
   "source": [
    "def get_kruskal(clean_ndcg, key_col):\n",
    "    gender_list = clean_ndcg[key_col].values()\n",
    "    return stats.kruskal(*gender_list)"
   ],
   "metadata": {
    "collapsed": false
   }
  },
  {
   "cell_type": "code",
   "execution_count": 159,
   "outputs": [
    {
     "name": "stdout",
     "output_type": "stream",
     "text": [
      "Kruscal-Wallis test for age: KruskalResult(statistic=24.186666666666696, pvalue=0.000482534581047746)\n",
      "Kruscal-Wallis test for gender: KruskalResult(statistic=6.818181818181813, pvalue=0.009023438818080334)\n",
      "Kruscal-Wallis test for usage: KruskalResult(statistic=32.42666666666668, pvalue=1.351456357398656e-05)\n"
     ]
    }
   ],
   "source": [
    "for c, ndcg_dict in clean_ndcg.items():\n",
    "    kruskal_val = get_kruskal(clean_ndcg, c)\n",
    "    print(f'Kruscal-Wallis test for {c}: {kruskal_val}')"
   ],
   "metadata": {
    "collapsed": false
   }
  },
  {
   "cell_type": "markdown",
   "source": [
    "## By age and gender"
   ],
   "metadata": {
    "collapsed": false
   }
  },
  {
   "cell_type": "code",
   "execution_count": 161,
   "outputs": [],
   "source": [
    "def get_df_from_eval_dict(ndcg_dicts, key_col, eval_col='ndcg'):\n",
    "    df_ndcg = pd.DataFrame(ndcg_dicts[key_col])\n",
    "    df_ndcg = df_ndcg.melt()\n",
    "    df_ndcg.columns = [key_col, eval_col]\n",
    "    return df_ndcg"
   ],
   "metadata": {
    "collapsed": false
   }
  },
  {
   "cell_type": "code",
   "execution_count": 162,
   "outputs": [],
   "source": [
    "df_ndcg_age = get_df_from_eval_dict(clean_ndcg, 'age')\n",
    "df_ndcg_gender = get_df_from_eval_dict(clean_ndcg, 'gender')"
   ],
   "metadata": {
    "collapsed": false
   }
  },
  {
   "cell_type": "code",
   "execution_count": 163,
   "outputs": [
    {
     "data": {
      "text/plain": "<AxesSubplot: title={'center': 'NDCG distribution for users grouped by gender'}, xlabel='gender', ylabel='ndcg'>"
     },
     "execution_count": 163,
     "metadata": {},
     "output_type": "execute_result"
    },
    {
     "data": {
      "text/plain": "<Figure size 2000x600 with 2 Axes>",
      "image/png": "[encoded data removed]"
     },
     "metadata": {},
     "output_type": "display_data"
    }
   ],
   "source": [
    "_, ax = plt.subplots(1, 2, figsize=(20, 6))\n",
    "sns.despine()\n",
    "\n",
    "ax[0].set_title('NDCG distribution for users grouped by age')\n",
    "sns.barplot(data=df_ndcg_age, x='age', y='ndcg', color='grey', ax=ax[0])\n",
    "ax[0].set_xticks(list(range(0, len(age_bins))), labels=age_labels)\n",
    "\n",
    "ax[1].set_title('NDCG distribution for users grouped by gender')\n",
    "sns.barplot(data=df_ndcg_gender, x='gender', y='ndcg', color='grey', ax=ax[1])"
   ],
   "metadata": {
    "collapsed": false
   }
  },
  {
   "cell_type": "markdown",
   "source": [
    "## By usage"
   ],
   "metadata": {
    "collapsed": false
   }
  },
  {
   "cell_type": "code",
   "execution_count": 164,
   "outputs": [
    {
     "data": {
      "text/plain": "<AxesSubplot: title={'center': 'NDCG distribution for users grouped by usage'}, xlabel='usage', ylabel='ndcg'>"
     },
     "execution_count": 164,
     "metadata": {},
     "output_type": "execute_result"
    },
    {
     "data": {
      "text/plain": "<Figure size 2000x600 with 2 Axes>",
      "image/png": "[encoded data removed]"
     },
     "metadata": {},
     "output_type": "display_data"
    }
   ],
   "source": [
    "df_ndcg_usage = get_df_from_eval_dict(ndcg_dicts, 'usage')\n",
    "\n",
    "_, ax = plt.subplots(1, 2, figsize=(20, 6))\n",
    "sns.despine()\n",
    "\n",
    "ax[0].set_title('Distribution of users per usage group')\n",
    "sns.barplot(data=popularity_cut_counts, x='usage', y='percentage', color='grey', ax=ax[0], )\n",
    "\n",
    "ax[1].set_title('NDCG distribution for users grouped by usage')\n",
    "sns.barplot(data=df_ndcg_usage, x='usage', y='ndcg', color='grey', ax=ax[1])"
   ],
   "metadata": {
    "collapsed": false
   }
  },
  {
   "cell_type": "markdown",
   "source": [
    "## User distributions"
   ],
   "metadata": {
    "collapsed": false
   }
  },
  {
   "cell_type": "code",
   "execution_count": 165,
   "outputs": [
    {
     "data": {
      "text/plain": "<AxesSubplot: title={'center': 'Distribution of users per gender'}, xlabel='gender', ylabel='count'>"
     },
     "execution_count": 165,
     "metadata": {},
     "output_type": "execute_result"
    },
    {
     "data": {
      "text/plain": "<Figure size 2000x600 with 2 Axes>",
      "image/png": "[encoded data removed]"
     },
     "metadata": {},
     "output_type": "display_data"
    }
   ],
   "source": [
    "plot_data = data_users.copy()\n",
    "bins = [0, 18, 25, 35, 45, 50, 56, np.inf, 'NaN']\n",
    "names = ['1', '18','25', '35', '45', '50','55+', 'NaN']\n",
    "\n",
    "plot_data['AgeRange'] = pd.cut(plot_data['age'], bins, labels=names)\n",
    "plot_data[\"AgeRange\"] = plot_data[\"AgeRange\"].fillna('NaN')\n",
    "plot_data[\"gender\"] = plot_data[\"gender\"].fillna('NaN')\n",
    "\n",
    "from matplotlib import pyplot as plt\n",
    "\n",
    "_, ax = plt.subplots(1, 2, figsize=(20, 6))\n",
    "sns.despine()\n",
    "\n",
    "ax[0].set_title('Distribution of users per age')\n",
    "sns.countplot(data=plot_data, x='AgeRange', color='grey', ax=ax[0])\n",
    "ax[0].set_xticks(list(range(0, len(age_bins))), labels=age_labels)\n",
    "\n",
    "ax[1].set_title('Distribution of users per gender')\n",
    "sns.countplot(data=plot_data, x='gender', color='grey', ax=ax[1])"
   ],
   "metadata": {
    "collapsed": false
   }
  },
  {
   "cell_type": "markdown",
   "source": [
    "## Recommendations"
   ],
   "metadata": {
    "collapsed": false
   }
  },
  {
   "cell_type": "code",
   "execution_count": 166,
   "outputs": [],
   "source": [
    "userid = 0\n",
    "ids, scores = model.recommend(userid, user_plays[userid], N=10, filter_already_liked_items=False)"
   ],
   "metadata": {
    "collapsed": false
   }
  },
  {
   "cell_type": "code",
   "execution_count": 167,
   "outputs": [
    {
     "data": {
      "text/plain": "                          artist     score  already_liked\n0                  emilie autumn  1.441814          False\n1              the dresden dolls  1.409224          False\n2                   janis joplin  1.377258          False\n3                         kittie  1.366762          False\n4                     the donnas  1.200308          False\n5                 in this moment  1.181318          False\n6                          heart  1.175802          False\n7          the birthday massacre  1.173764          False\n8  joan jett and the blackhearts  1.157717          False\n9                           otep  1.147248          False",
      "text/html": "<div>\n<style scoped>\n    .dataframe tbody tr th:only-of-type {\n        vertical-align: middle;\n    }\n\n    .dataframe tbody tr th {\n        vertical-align: top;\n    }\n\n    .dataframe thead th {\n        text-align: right;\n    }\n</style>\n<table border=\"1\" class=\"dataframe\">\n  <thead>\n    <tr style=\"text-align: right;\">\n      <th></th>\n      <th>artist</th>\n      <th>score</th>\n      <th>already_liked</th>\n    </tr>\n  </thead>\n  <tbody>\n    <tr>\n      <th>0</th>\n      <td>emilie autumn</td>\n      <td>1.441814</td>\n      <td>False</td>\n    </tr>\n    <tr>\n      <th>1</th>\n      <td>the dresden dolls</td>\n      <td>1.409224</td>\n      <td>False</td>\n    </tr>\n    <tr>\n      <th>2</th>\n      <td>janis joplin</td>\n      <td>1.377258</td>\n      <td>False</td>\n    </tr>\n    <tr>\n      <th>3</th>\n      <td>kittie</td>\n      <td>1.366762</td>\n      <td>False</td>\n    </tr>\n    <tr>\n      <th>4</th>\n      <td>the donnas</td>\n      <td>1.200308</td>\n      <td>False</td>\n    </tr>\n    <tr>\n      <th>5</th>\n      <td>in this moment</td>\n      <td>1.181318</td>\n      <td>False</td>\n    </tr>\n    <tr>\n      <th>6</th>\n      <td>heart</td>\n      <td>1.175802</td>\n      <td>False</td>\n    </tr>\n    <tr>\n      <th>7</th>\n      <td>the birthday massacre</td>\n      <td>1.173764</td>\n      <td>False</td>\n    </tr>\n    <tr>\n      <th>8</th>\n      <td>joan jett and the blackhearts</td>\n      <td>1.157717</td>\n      <td>False</td>\n    </tr>\n    <tr>\n      <th>9</th>\n      <td>otep</td>\n      <td>1.147248</td>\n      <td>False</td>\n    </tr>\n  </tbody>\n</table>\n</div>"
     },
     "execution_count": 167,
     "metadata": {},
     "output_type": "execute_result"
    }
   ],
   "source": [
    "# Use pandas to display the output in a table, pandas isn't a dependency of implicit otherwise\n",
    "import numpy as np\n",
    "import pandas as pd\n",
    "pd.DataFrame({\n",
    "    \"artist\": artists[ids],\n",
    "    \"score\": scores,\n",
    "    \"already_liked\": np.in1d(ids, user_plays[userid].indices)\n",
    "})"
   ],
   "metadata": {
    "collapsed": false
   }
  },
  {
   "cell_type": "code",
   "execution_count": 168,
   "outputs": [
    {
     "data": {
      "text/plain": "                                    artist     score\n0                                       2   1.000000\n1                          commander yablo  0.999984\n2         breeze & squad-e @ raver baby 11  0.999971\n3                     dj tatana feat. jaël  0.999970\n4  armin van buuren ft. jacqueline govaert  0.999969\n5                     sharkey & marc smith  0.999969\n6                                  arney s  0.999969\n7                            dj marc smith  0.999968\n8                robbie long & stomtrooper  0.999968\n9                                    keemo  0.999968",
      "text/html": "<div>\n<style scoped>\n    .dataframe tbody tr th:only-of-type {\n        vertical-align: middle;\n    }\n\n    .dataframe tbody tr th {\n        vertical-align: top;\n    }\n\n    .dataframe thead th {\n        text-align: right;\n    }\n</style>\n<table border=\"1\" class=\"dataframe\">\n  <thead>\n    <tr style=\"text-align: right;\">\n      <th></th>\n      <th>artist</th>\n      <th>score</th>\n    </tr>\n  </thead>\n  <tbody>\n    <tr>\n      <th>0</th>\n      <td>2</td>\n      <td>1.000000</td>\n    </tr>\n    <tr>\n      <th>1</th>\n      <td>commander yablo</td>\n      <td>0.999984</td>\n    </tr>\n    <tr>\n      <th>2</th>\n      <td>breeze &amp; squad-e @ raver baby 11</td>\n      <td>0.999971</td>\n    </tr>\n    <tr>\n      <th>3</th>\n      <td>dj tatana feat. jaël</td>\n      <td>0.999970</td>\n    </tr>\n    <tr>\n      <th>4</th>\n      <td>armin van buuren ft. jacqueline govaert</td>\n      <td>0.999969</td>\n    </tr>\n    <tr>\n      <th>5</th>\n      <td>sharkey &amp; marc smith</td>\n      <td>0.999969</td>\n    </tr>\n    <tr>\n      <th>6</th>\n      <td>arney s</td>\n      <td>0.999969</td>\n    </tr>\n    <tr>\n      <th>7</th>\n      <td>dj marc smith</td>\n      <td>0.999968</td>\n    </tr>\n    <tr>\n      <th>8</th>\n      <td>robbie long &amp; stomtrooper</td>\n      <td>0.999968</td>\n    </tr>\n    <tr>\n      <th>9</th>\n      <td>keemo</td>\n      <td>0.999968</td>\n    </tr>\n  </tbody>\n</table>\n</div>"
     },
     "execution_count": 168,
     "metadata": {},
     "output_type": "execute_result"
    }
   ],
   "source": [
    "# get related items for the beatles (itemid = 25512)\n",
    "ids, scores= model.similar_items(0)\n",
    "\n",
    "# display the results using pandas for nicer formatting\n",
    "pd.DataFrame({\"artist\": artists[ids], \"score\": scores})"
   ],
   "metadata": {
    "collapsed": false
   }
  }
 ],
 "metadata": {
  "kernelspec": {
   "display_name": "Python 3",
   "language": "python",
   "name": "python3"
  },
  "language_info": {
   "codemirror_mode": {
    "name": "ipython",
    "version": 2
   },
   "file_extension": ".py",
   "mimetype": "text/x-python",
   "name": "python",
   "nbconvert_exporter": "python",
   "pygments_lexer": "ipython2",
   "version": "2.7.6"
  }
 },
 "nbformat": 4,
 "nbformat_minor": 0
}
