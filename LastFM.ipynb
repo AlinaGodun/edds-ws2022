{
 "cells": [
  {
   "cell_type": "code",
   "execution_count": 4,
   "metadata": {
    "collapsed": true
   },
   "outputs": [],
   "source": [
    "import pandas as pd\n",
    "import seaborn as sns\n"
   ]
  },
  {
   "cell_type": "code",
   "execution_count": 114,
   "outputs": [
    {
     "data": {
      "text/plain": "                                     user-mboxsha1  \\\n0         00000c289a1829a808ac09c00daf10bc3c4e223b   \n1         00000c289a1829a808ac09c00daf10bc3c4e223b   \n2         00000c289a1829a808ac09c00daf10bc3c4e223b   \n3         00000c289a1829a808ac09c00daf10bc3c4e223b   \n4         00000c289a1829a808ac09c00daf10bc3c4e223b   \n...                                            ...   \n17535650                              sep 20, 2008   \n17535651                              sep 20, 2008   \n17535652                              sep 20, 2008   \n17535653                              sep 20, 2008   \n17535654                              sep 20, 2008   \n\n                         musicbrainz-artist-id           artist-name  plays  \n0         3bd73256-3905-4f3a-97e2-8b341527f805       betty blowtorch   2137  \n1         f2fb0ff0-5679-42ec-a55c-15109ce6e320             die Ärzte   1099  \n2         b3ae82c2-e60b-4551-a76d-6620f1b456aa     melissa etheridge    897  \n3         3d6bbeb7-f90e-4d10-b440-e153c0d10b53             elvenking    717  \n4         bbd2ffd7-17f4-4506-8572-c1ea58c3f9a8  juliette & the licks    706  \n...                                        ...                   ...    ...  \n17535650  7ffd711a-b34d-4739-8aab-25e045c246da            turbostaat     12  \n17535651  9201190d-409f-426b-9339-9bd7492443e2         cuba missouri     11  \n17535652  e7cf7ff9-ed2f-4315-aca8-bcbd3b2bfa71       little man tate     11  \n17535653  f6f2326f-6b25-4170-b89d-e235b25508e8             sigur rós     10  \n17535654  40f5d9e4-2de7-4f2d-ad41-e31a9a9fea27            the smiths     10  \n\n[17535655 rows x 4 columns]",
      "text/html": "<div>\n<style scoped>\n    .dataframe tbody tr th:only-of-type {\n        vertical-align: middle;\n    }\n\n    .dataframe tbody tr th {\n        vertical-align: top;\n    }\n\n    .dataframe thead th {\n        text-align: right;\n    }\n</style>\n<table border=\"1\" class=\"dataframe\">\n  <thead>\n    <tr style=\"text-align: right;\">\n      <th></th>\n      <th>user-mboxsha1</th>\n      <th>musicbrainz-artist-id</th>\n      <th>artist-name</th>\n      <th>plays</th>\n    </tr>\n  </thead>\n  <tbody>\n    <tr>\n      <th>0</th>\n      <td>00000c289a1829a808ac09c00daf10bc3c4e223b</td>\n      <td>3bd73256-3905-4f3a-97e2-8b341527f805</td>\n      <td>betty blowtorch</td>\n      <td>2137</td>\n    </tr>\n    <tr>\n      <th>1</th>\n      <td>00000c289a1829a808ac09c00daf10bc3c4e223b</td>\n      <td>f2fb0ff0-5679-42ec-a55c-15109ce6e320</td>\n      <td>die Ärzte</td>\n      <td>1099</td>\n    </tr>\n    <tr>\n      <th>2</th>\n      <td>00000c289a1829a808ac09c00daf10bc3c4e223b</td>\n      <td>b3ae82c2-e60b-4551-a76d-6620f1b456aa</td>\n      <td>melissa etheridge</td>\n      <td>897</td>\n    </tr>\n    <tr>\n      <th>3</th>\n      <td>00000c289a1829a808ac09c00daf10bc3c4e223b</td>\n      <td>3d6bbeb7-f90e-4d10-b440-e153c0d10b53</td>\n      <td>elvenking</td>\n      <td>717</td>\n    </tr>\n    <tr>\n      <th>4</th>\n      <td>00000c289a1829a808ac09c00daf10bc3c4e223b</td>\n      <td>bbd2ffd7-17f4-4506-8572-c1ea58c3f9a8</td>\n      <td>juliette &amp; the licks</td>\n      <td>706</td>\n    </tr>\n    <tr>\n      <th>...</th>\n      <td>...</td>\n      <td>...</td>\n      <td>...</td>\n      <td>...</td>\n    </tr>\n    <tr>\n      <th>17535650</th>\n      <td>sep 20, 2008</td>\n      <td>7ffd711a-b34d-4739-8aab-25e045c246da</td>\n      <td>turbostaat</td>\n      <td>12</td>\n    </tr>\n    <tr>\n      <th>17535651</th>\n      <td>sep 20, 2008</td>\n      <td>9201190d-409f-426b-9339-9bd7492443e2</td>\n      <td>cuba missouri</td>\n      <td>11</td>\n    </tr>\n    <tr>\n      <th>17535652</th>\n      <td>sep 20, 2008</td>\n      <td>e7cf7ff9-ed2f-4315-aca8-bcbd3b2bfa71</td>\n      <td>little man tate</td>\n      <td>11</td>\n    </tr>\n    <tr>\n      <th>17535653</th>\n      <td>sep 20, 2008</td>\n      <td>f6f2326f-6b25-4170-b89d-e235b25508e8</td>\n      <td>sigur rós</td>\n      <td>10</td>\n    </tr>\n    <tr>\n      <th>17535654</th>\n      <td>sep 20, 2008</td>\n      <td>40f5d9e4-2de7-4f2d-ad41-e31a9a9fea27</td>\n      <td>the smiths</td>\n      <td>10</td>\n    </tr>\n  </tbody>\n</table>\n<p>17535655 rows × 4 columns</p>\n</div>"
     },
     "execution_count": 114,
     "metadata": {},
     "output_type": "execute_result"
    }
   ],
   "source": [
    "cols = ['user-mboxsha1', 'musicbrainz-artist-id', 'artist-name', 'plays']\n",
    "data_artists = pd.read_csv(\"lastfm-dataset-360K/usersha1-artmbid-artname-plays.tsv\", sep=\"\\t\", names=cols, header=None)\n",
    "data_artists"
   ],
   "metadata": {
    "collapsed": false
   }
  },
  {
   "cell_type": "code",
   "execution_count": 115,
   "outputs": [
    {
     "data": {
      "text/plain": "                                   user-mboxsha1 gender   age  \\\n0       00000c289a1829a808ac09c00daf10bc3c4e223b      f  22.0   \n1       00001411dc427966b17297bf4d69e7e193135d89      f   NaN   \n2       00004d2ac9316e22dc007ab2243d6fcb239e707d    NaN   NaN   \n3       000063d3fe1cf2ba248b9e3c3f0334845a27a6bf      m  19.0   \n4       00007a47085b9aab8af55f52ec8846ac479ac4fe      m  28.0   \n...                                          ...    ...   ...   \n359342  fffe7823f67b433b45f22056467db921c1d3d7d0      m  25.0   \n359343  fffe8637bd8234309e871409c7ebef99a720afc1      m  25.0   \n359344  fffe8c7f952d9b960a56ed4dcb40a415d924b224      m  20.0   \n359345  ffff9af9ae04d263dae91cb838b1f3a6725f5ffb      m  20.0   \n359346  ffff9ef87a7d9494ada2f9ade4b9ff637c0759ac      m  21.0   \n\n                   country        signup  \n0                  Germany   Feb 1, 2007  \n1                   Canada   Dec 4, 2007  \n2                  Germany   Sep 1, 2006  \n3                   Mexico  Apr 28, 2008  \n4            United States  Jan 27, 2006  \n...                    ...           ...  \n359342             Germany  Jun 24, 2006  \n359343              Brazil   Sep 9, 2007  \n359344       United States   Aug 8, 2007  \n359345  Russian Federation   Dec 3, 2005  \n359346             Belgium  Nov 25, 2008  \n\n[359347 rows x 5 columns]",
      "text/html": "<div>\n<style scoped>\n    .dataframe tbody tr th:only-of-type {\n        vertical-align: middle;\n    }\n\n    .dataframe tbody tr th {\n        vertical-align: top;\n    }\n\n    .dataframe thead th {\n        text-align: right;\n    }\n</style>\n<table border=\"1\" class=\"dataframe\">\n  <thead>\n    <tr style=\"text-align: right;\">\n      <th></th>\n      <th>user-mboxsha1</th>\n      <th>gender</th>\n      <th>age</th>\n      <th>country</th>\n      <th>signup</th>\n    </tr>\n  </thead>\n  <tbody>\n    <tr>\n      <th>0</th>\n      <td>00000c289a1829a808ac09c00daf10bc3c4e223b</td>\n      <td>f</td>\n      <td>22.0</td>\n      <td>Germany</td>\n      <td>Feb 1, 2007</td>\n    </tr>\n    <tr>\n      <th>1</th>\n      <td>00001411dc427966b17297bf4d69e7e193135d89</td>\n      <td>f</td>\n      <td>NaN</td>\n      <td>Canada</td>\n      <td>Dec 4, 2007</td>\n    </tr>\n    <tr>\n      <th>2</th>\n      <td>00004d2ac9316e22dc007ab2243d6fcb239e707d</td>\n      <td>NaN</td>\n      <td>NaN</td>\n      <td>Germany</td>\n      <td>Sep 1, 2006</td>\n    </tr>\n    <tr>\n      <th>3</th>\n      <td>000063d3fe1cf2ba248b9e3c3f0334845a27a6bf</td>\n      <td>m</td>\n      <td>19.0</td>\n      <td>Mexico</td>\n      <td>Apr 28, 2008</td>\n    </tr>\n    <tr>\n      <th>4</th>\n      <td>00007a47085b9aab8af55f52ec8846ac479ac4fe</td>\n      <td>m</td>\n      <td>28.0</td>\n      <td>United States</td>\n      <td>Jan 27, 2006</td>\n    </tr>\n    <tr>\n      <th>...</th>\n      <td>...</td>\n      <td>...</td>\n      <td>...</td>\n      <td>...</td>\n      <td>...</td>\n    </tr>\n    <tr>\n      <th>359342</th>\n      <td>fffe7823f67b433b45f22056467db921c1d3d7d0</td>\n      <td>m</td>\n      <td>25.0</td>\n      <td>Germany</td>\n      <td>Jun 24, 2006</td>\n    </tr>\n    <tr>\n      <th>359343</th>\n      <td>fffe8637bd8234309e871409c7ebef99a720afc1</td>\n      <td>m</td>\n      <td>25.0</td>\n      <td>Brazil</td>\n      <td>Sep 9, 2007</td>\n    </tr>\n    <tr>\n      <th>359344</th>\n      <td>fffe8c7f952d9b960a56ed4dcb40a415d924b224</td>\n      <td>m</td>\n      <td>20.0</td>\n      <td>United States</td>\n      <td>Aug 8, 2007</td>\n    </tr>\n    <tr>\n      <th>359345</th>\n      <td>ffff9af9ae04d263dae91cb838b1f3a6725f5ffb</td>\n      <td>m</td>\n      <td>20.0</td>\n      <td>Russian Federation</td>\n      <td>Dec 3, 2005</td>\n    </tr>\n    <tr>\n      <th>359346</th>\n      <td>ffff9ef87a7d9494ada2f9ade4b9ff637c0759ac</td>\n      <td>m</td>\n      <td>21.0</td>\n      <td>Belgium</td>\n      <td>Nov 25, 2008</td>\n    </tr>\n  </tbody>\n</table>\n<p>359347 rows × 5 columns</p>\n</div>"
     },
     "execution_count": 115,
     "metadata": {},
     "output_type": "execute_result"
    }
   ],
   "source": [
    "cols = ['user-mboxsha1', 'gender', 'age', 'country', 'signup']\n",
    "data_users = pd.read_csv(\"lastfm-dataset-360K/usersha1-profile.tsv\", sep=\"\\t\", names=cols, header=None)\n",
    "data_users"
   ],
   "metadata": {
    "collapsed": false
   }
  },
  {
   "cell_type": "code",
   "execution_count": 116,
   "outputs": [],
   "source": [
    "df = pd.merge(data_artists, data_users, on='user-mboxsha1')"
   ],
   "metadata": {
    "collapsed": false
   }
  },
  {
   "cell_type": "code",
   "execution_count": 8,
   "outputs": [
    {
     "data": {
      "text/plain": "<AxesSubplot: xlabel='gender', ylabel='count'>"
     },
     "execution_count": 8,
     "metadata": {},
     "output_type": "execute_result"
    },
    {
     "data": {
      "text/plain": "<Figure size 640x480 with 1 Axes>",
      "image/png": "[encoded data removed]"
     },
     "metadata": {},
     "output_type": "display_data"
    }
   ],
   "source": [
    "sns.countplot(x='gender', data=data_users)"
   ],
   "metadata": {
    "collapsed": false
   }
  },
  {
   "cell_type": "code",
   "execution_count": 9,
   "outputs": [],
   "source": [
    "from implicit.datasets.lastfm import get_lastfm\n",
    "import h5py\n",
    "\n",
    "artists, users, artist_user_plays = get_lastfm()"
   ],
   "metadata": {
    "collapsed": false
   }
  },
  {
   "cell_type": "code",
   "execution_count": 12,
   "outputs": [],
   "source": [
    "from implicit.nearest_neighbours import bm25_weight\n",
    "\n",
    "# weight the matrix, both to reduce impact of users that have played the same artist thousands of times\n",
    "# and to reduce the weight given to popular items\n",
    "artist_user_plays = bm25_weight(artist_user_plays, K1=100, B=0.8)\n",
    "\n",
    "# get the transpose since the most of the functions in implicit expect (user, item) sparse matrices instead of (item, user)\n",
    "user_plays = artist_user_plays.T.tocsr()"
   ],
   "metadata": {
    "collapsed": false
   }
  },
  {
   "cell_type": "code",
   "execution_count": 13,
   "outputs": [
    {
     "data": {
      "text/plain": "  0%|          | 0/15 [00:00<?, ?it/s]",
      "application/vnd.jupyter.widget-view+json": {
       "version_major": 2,
       "version_minor": 0,
       "model_id": "f501e1517821412f92118ce28a3f9692"
      }
     },
     "metadata": {},
     "output_type": "display_data"
    }
   ],
   "source": [
    "from implicit.als import AlternatingLeastSquares\n",
    "# on github it's mentioned to use params: factors=64, regularization=0.05, alpha=2.0\n",
    "model = AlternatingLeastSquares(factors=50, regularization=0.01, alpha=2.0)\n",
    "model.fit(user_plays)"
   ],
   "metadata": {
    "collapsed": false
   }
  },
  {
   "cell_type": "code",
   "execution_count": 14,
   "outputs": [],
   "source": [
    "userid = 12345\n",
    "ids, scores = model.recommend(userid, user_plays[userid], N=10, filter_already_liked_items=False)"
   ],
   "metadata": {
    "collapsed": false
   }
  },
  {
   "cell_type": "code",
   "execution_count": 18,
   "outputs": [
    {
     "data": {
      "text/plain": "                                     artist     score  already_liked\n0                                   laibach  1.047629          False\n1                                   mortiis  1.040169           True\n2                                 puissance  1.036751           True\n3                            von thronstahl  1.008010           True\n4                           spiritual front  1.002762          False\n5                         the coffinshakers  0.964411           True\n6                                      rome  0.956440           True\n7  sopor aeternus & the ensemble of shadows  0.948346          False\n8                                   triarii  0.947084           True\n9                  ordo rosarius equilibrio  0.943100          False",
      "text/html": "<div>\n<style scoped>\n    .dataframe tbody tr th:only-of-type {\n        vertical-align: middle;\n    }\n\n    .dataframe tbody tr th {\n        vertical-align: top;\n    }\n\n    .dataframe thead th {\n        text-align: right;\n    }\n</style>\n<table border=\"1\" class=\"dataframe\">\n  <thead>\n    <tr style=\"text-align: right;\">\n      <th></th>\n      <th>artist</th>\n      <th>score</th>\n      <th>already_liked</th>\n    </tr>\n  </thead>\n  <tbody>\n    <tr>\n      <th>0</th>\n      <td>laibach</td>\n      <td>1.047629</td>\n      <td>False</td>\n    </tr>\n    <tr>\n      <th>1</th>\n      <td>mortiis</td>\n      <td>1.040169</td>\n      <td>True</td>\n    </tr>\n    <tr>\n      <th>2</th>\n      <td>puissance</td>\n      <td>1.036751</td>\n      <td>True</td>\n    </tr>\n    <tr>\n      <th>3</th>\n      <td>von thronstahl</td>\n      <td>1.008010</td>\n      <td>True</td>\n    </tr>\n    <tr>\n      <th>4</th>\n      <td>spiritual front</td>\n      <td>1.002762</td>\n      <td>False</td>\n    </tr>\n    <tr>\n      <th>5</th>\n      <td>the coffinshakers</td>\n      <td>0.964411</td>\n      <td>True</td>\n    </tr>\n    <tr>\n      <th>6</th>\n      <td>rome</td>\n      <td>0.956440</td>\n      <td>True</td>\n    </tr>\n    <tr>\n      <th>7</th>\n      <td>sopor aeternus &amp; the ensemble of shadows</td>\n      <td>0.948346</td>\n      <td>False</td>\n    </tr>\n    <tr>\n      <th>8</th>\n      <td>triarii</td>\n      <td>0.947084</td>\n      <td>True</td>\n    </tr>\n    <tr>\n      <th>9</th>\n      <td>ordo rosarius equilibrio</td>\n      <td>0.943100</td>\n      <td>False</td>\n    </tr>\n  </tbody>\n</table>\n</div>"
     },
     "execution_count": 18,
     "metadata": {},
     "output_type": "execute_result"
    }
   ],
   "source": [
    "# Use pandas to display the output in a table, pandas isn't a dependency of implicit otherwise\n",
    "import numpy as np\n",
    "import pandas as pd\n",
    "pd.DataFrame({\n",
    "    \"artist\": artists[ids],\n",
    "    \"score\": scores,\n",
    "    \"already_liked\": np.in1d(ids, user_plays[userid].indices)\n",
    "})"
   ],
   "metadata": {
    "collapsed": false
   }
  },
  {
   "cell_type": "code",
   "execution_count": 19,
   "outputs": [
    {
     "data": {
      "text/plain": "               artist     score\n0         the beatles  1.000000\n1         john lennon  0.994683\n2      the beach boys  0.994366\n3  the rolling stones  0.994149\n4             the who  0.993516\n5           bob dylan  0.992757\n6         david bowie  0.992417\n7        led zeppelin  0.992205\n8   simon & garfunkel  0.992126\n9       frank sinatra  0.991550",
      "text/html": "<div>\n<style scoped>\n    .dataframe tbody tr th:only-of-type {\n        vertical-align: middle;\n    }\n\n    .dataframe tbody tr th {\n        vertical-align: top;\n    }\n\n    .dataframe thead th {\n        text-align: right;\n    }\n</style>\n<table border=\"1\" class=\"dataframe\">\n  <thead>\n    <tr style=\"text-align: right;\">\n      <th></th>\n      <th>artist</th>\n      <th>score</th>\n    </tr>\n  </thead>\n  <tbody>\n    <tr>\n      <th>0</th>\n      <td>the beatles</td>\n      <td>1.000000</td>\n    </tr>\n    <tr>\n      <th>1</th>\n      <td>john lennon</td>\n      <td>0.994683</td>\n    </tr>\n    <tr>\n      <th>2</th>\n      <td>the beach boys</td>\n      <td>0.994366</td>\n    </tr>\n    <tr>\n      <th>3</th>\n      <td>the rolling stones</td>\n      <td>0.994149</td>\n    </tr>\n    <tr>\n      <th>4</th>\n      <td>the who</td>\n      <td>0.993516</td>\n    </tr>\n    <tr>\n      <th>5</th>\n      <td>bob dylan</td>\n      <td>0.992757</td>\n    </tr>\n    <tr>\n      <th>6</th>\n      <td>david bowie</td>\n      <td>0.992417</td>\n    </tr>\n    <tr>\n      <th>7</th>\n      <td>led zeppelin</td>\n      <td>0.992205</td>\n    </tr>\n    <tr>\n      <th>8</th>\n      <td>simon &amp; garfunkel</td>\n      <td>0.992126</td>\n    </tr>\n    <tr>\n      <th>9</th>\n      <td>frank sinatra</td>\n      <td>0.991550</td>\n    </tr>\n  </tbody>\n</table>\n</div>"
     },
     "execution_count": 19,
     "metadata": {},
     "output_type": "execute_result"
    }
   ],
   "source": [
    "# get related items for the beatles (itemid = 25512)\n",
    "ids, scores= model.similar_items(252512)\n",
    "\n",
    "# display the results using pandas for nicer formatting\n",
    "pd.DataFrame({\"artist\": artists[ids], \"score\": scores})"
   ],
   "metadata": {
    "collapsed": false
   }
  },
  {
   "cell_type": "code",
   "execution_count": 20,
   "outputs": [
    {
     "data": {
      "text/plain": "(array([[161850, 107119,  76757, ...,  49951,  35195, 233271],\n        [111764, 128505, 262990, ..., 231352, 105910,  24596],\n        [186835, 113686, 142885, ..., 252552, 202702, 189745],\n        ...,\n        [116857, 196777, 116871, ..., 108393,  94510, 163745],\n        [179187,  50180, 108361, ..., 254541, 206691,  51658],\n        [102288,  50561, 261820, ..., 247100, 252077, 129365]], dtype=int32),\n (358868, 1000))"
     },
     "execution_count": 20,
     "metadata": {},
     "output_type": "execute_result"
    }
   ],
   "source": [
    "# Make recommendations for the first 1000 users in the dataset\n",
    "userids = np.arange(len(users))\n",
    "ids, scores = model.recommend(userids, user_plays[userids], N=1000)\n",
    "ids, ids.shape"
   ],
   "metadata": {
    "collapsed": false
   }
  },
  {
   "cell_type": "code",
   "execution_count": 117,
   "outputs": [
    {
     "data": {
      "text/plain": "                                   user-mboxsha1 gender   age  \\\n0       00000c289a1829a808ac09c00daf10bc3c4e223b      f  22.0   \n1       00001411dc427966b17297bf4d69e7e193135d89      f   NaN   \n2       00004d2ac9316e22dc007ab2243d6fcb239e707d    NaN   NaN   \n3       000063d3fe1cf2ba248b9e3c3f0334845a27a6bf      m  19.0   \n4       00007a47085b9aab8af55f52ec8846ac479ac4fe      m  28.0   \n...                                          ...    ...   ...   \n359342  fffe7823f67b433b45f22056467db921c1d3d7d0      m  25.0   \n359343  fffe8637bd8234309e871409c7ebef99a720afc1      m  25.0   \n359344  fffe8c7f952d9b960a56ed4dcb40a415d924b224      m  20.0   \n359345  ffff9af9ae04d263dae91cb838b1f3a6725f5ffb      m  20.0   \n359346  ffff9ef87a7d9494ada2f9ade4b9ff637c0759ac      m  21.0   \n\n                   country        signup  \n0                  Germany   Feb 1, 2007  \n1                   Canada   Dec 4, 2007  \n2                  Germany   Sep 1, 2006  \n3                   Mexico  Apr 28, 2008  \n4            United States  Jan 27, 2006  \n...                    ...           ...  \n359342             Germany  Jun 24, 2006  \n359343              Brazil   Sep 9, 2007  \n359344       United States   Aug 8, 2007  \n359345  Russian Federation   Dec 3, 2005  \n359346             Belgium  Nov 25, 2008  \n\n[358866 rows x 5 columns]",
      "text/html": "<div>\n<style scoped>\n    .dataframe tbody tr th:only-of-type {\n        vertical-align: middle;\n    }\n\n    .dataframe tbody tr th {\n        vertical-align: top;\n    }\n\n    .dataframe thead th {\n        text-align: right;\n    }\n</style>\n<table border=\"1\" class=\"dataframe\">\n  <thead>\n    <tr style=\"text-align: right;\">\n      <th></th>\n      <th>user-mboxsha1</th>\n      <th>gender</th>\n      <th>age</th>\n      <th>country</th>\n      <th>signup</th>\n    </tr>\n  </thead>\n  <tbody>\n    <tr>\n      <th>0</th>\n      <td>00000c289a1829a808ac09c00daf10bc3c4e223b</td>\n      <td>f</td>\n      <td>22.0</td>\n      <td>Germany</td>\n      <td>Feb 1, 2007</td>\n    </tr>\n    <tr>\n      <th>1</th>\n      <td>00001411dc427966b17297bf4d69e7e193135d89</td>\n      <td>f</td>\n      <td>NaN</td>\n      <td>Canada</td>\n      <td>Dec 4, 2007</td>\n    </tr>\n    <tr>\n      <th>2</th>\n      <td>00004d2ac9316e22dc007ab2243d6fcb239e707d</td>\n      <td>NaN</td>\n      <td>NaN</td>\n      <td>Germany</td>\n      <td>Sep 1, 2006</td>\n    </tr>\n    <tr>\n      <th>3</th>\n      <td>000063d3fe1cf2ba248b9e3c3f0334845a27a6bf</td>\n      <td>m</td>\n      <td>19.0</td>\n      <td>Mexico</td>\n      <td>Apr 28, 2008</td>\n    </tr>\n    <tr>\n      <th>4</th>\n      <td>00007a47085b9aab8af55f52ec8846ac479ac4fe</td>\n      <td>m</td>\n      <td>28.0</td>\n      <td>United States</td>\n      <td>Jan 27, 2006</td>\n    </tr>\n    <tr>\n      <th>...</th>\n      <td>...</td>\n      <td>...</td>\n      <td>...</td>\n      <td>...</td>\n      <td>...</td>\n    </tr>\n    <tr>\n      <th>359342</th>\n      <td>fffe7823f67b433b45f22056467db921c1d3d7d0</td>\n      <td>m</td>\n      <td>25.0</td>\n      <td>Germany</td>\n      <td>Jun 24, 2006</td>\n    </tr>\n    <tr>\n      <th>359343</th>\n      <td>fffe8637bd8234309e871409c7ebef99a720afc1</td>\n      <td>m</td>\n      <td>25.0</td>\n      <td>Brazil</td>\n      <td>Sep 9, 2007</td>\n    </tr>\n    <tr>\n      <th>359344</th>\n      <td>fffe8c7f952d9b960a56ed4dcb40a415d924b224</td>\n      <td>m</td>\n      <td>20.0</td>\n      <td>United States</td>\n      <td>Aug 8, 2007</td>\n    </tr>\n    <tr>\n      <th>359345</th>\n      <td>ffff9af9ae04d263dae91cb838b1f3a6725f5ffb</td>\n      <td>m</td>\n      <td>20.0</td>\n      <td>Russian Federation</td>\n      <td>Dec 3, 2005</td>\n    </tr>\n    <tr>\n      <th>359346</th>\n      <td>ffff9ef87a7d9494ada2f9ade4b9ff637c0759ac</td>\n      <td>m</td>\n      <td>21.0</td>\n      <td>Belgium</td>\n      <td>Nov 25, 2008</td>\n    </tr>\n  </tbody>\n</table>\n<p>358866 rows × 5 columns</p>\n</div>"
     },
     "execution_count": 117,
     "metadata": {},
     "output_type": "execute_result"
    }
   ],
   "source": [
    "rec_users = data_users[data_users['user-mboxsha1'].isin(users)]\n",
    "rec_users"
   ],
   "metadata": {
    "collapsed": false
   }
  },
  {
   "cell_type": "code",
   "execution_count": 118,
   "outputs": [
    {
     "data": {
      "text/plain": "               users\n312192  dec 27, 2008\n358867  sep 20, 2008",
      "text/html": "<div>\n<style scoped>\n    .dataframe tbody tr th:only-of-type {\n        vertical-align: middle;\n    }\n\n    .dataframe tbody tr th {\n        vertical-align: top;\n    }\n\n    .dataframe thead th {\n        text-align: right;\n    }\n</style>\n<table border=\"1\" class=\"dataframe\">\n  <thead>\n    <tr style=\"text-align: right;\">\n      <th></th>\n      <th>users</th>\n    </tr>\n  </thead>\n  <tbody>\n    <tr>\n      <th>312192</th>\n      <td>dec 27, 2008</td>\n    </tr>\n    <tr>\n      <th>358867</th>\n      <td>sep 20, 2008</td>\n    </tr>\n  </tbody>\n</table>\n</div>"
     },
     "execution_count": 118,
     "metadata": {},
     "output_type": "execute_result"
    }
   ],
   "source": [
    "df_id_users = pd.DataFrame(users, columns=['users'])\n",
    "df_id_users[~df_id_users[\"users\"].isin(rec_users['user-mboxsha1'])]"
   ],
   "metadata": {
    "collapsed": false
   }
  },
  {
   "cell_type": "code",
   "execution_count": 119,
   "outputs": [
    {
     "data": {
      "text/plain": "((358866, 1000), (358866,), (358866, 1000))"
     },
     "execution_count": 119,
     "metadata": {},
     "output_type": "execute_result"
    }
   ],
   "source": [
    "users_clean = np.delete(users, [312192, 358867])\n",
    "scores_clean = np.delete(scores, [312192, 358867], axis=0)\n",
    "ids_clean = np.delete(ids, [312192, 358867], axis=0)\n",
    "scores_clean.shape, users_clean.shape, ids_clean.shape"
   ],
   "metadata": {
    "collapsed": false
   }
  },
  {
   "cell_type": "code",
   "execution_count": 108,
   "outputs": [
    {
     "data": {
      "text/plain": "array(['00000c289a1829a808ac09c00daf10bc3c4e223b',\n       '00001411dc427966b17297bf4d69e7e193135d89',\n       '00004d2ac9316e22dc007ab2243d6fcb239e707d', ...,\n       'fffe8c7f952d9b960a56ed4dcb40a415d924b224',\n       'ffff9af9ae04d263dae91cb838b1f3a6725f5ffb',\n       'ffff9ef87a7d9494ada2f9ade4b9ff637c0759ac'], dtype=object)"
     },
     "execution_count": 108,
     "metadata": {},
     "output_type": "execute_result"
    }
   ],
   "source": [
    "users_clean"
   ],
   "metadata": {
    "collapsed": false
   }
  },
  {
   "cell_type": "code",
   "execution_count": 107,
   "outputs": [
    {
     "ename": "TypeError",
     "evalue": "Mismatch between array dtype ('object') and format specifier ('%.18e')",
     "output_type": "error",
     "traceback": [
      "\u001B[0;31m---------------------------------------------------------------------------\u001B[0m",
      "\u001B[0;31mTypeError\u001B[0m                                 Traceback (most recent call last)",
      "File \u001B[0;32m~/tuwien/eeds/edds-ws2022/venv/lib/python3.10/site-packages/numpy/lib/npyio.py:1600\u001B[0m, in \u001B[0;36msavetxt\u001B[0;34m(fname, X, fmt, delimiter, newline, header, footer, comments, encoding)\u001B[0m\n\u001B[1;32m   1599\u001B[0m \u001B[38;5;28;01mtry\u001B[39;00m:\n\u001B[0;32m-> 1600\u001B[0m     v \u001B[38;5;241m=\u001B[39m \u001B[38;5;28;43mformat\u001B[39;49m\u001B[43m \u001B[49m\u001B[38;5;241;43m%\u001B[39;49m\u001B[43m \u001B[49m\u001B[38;5;28;43mtuple\u001B[39;49m\u001B[43m(\u001B[49m\u001B[43mrow\u001B[49m\u001B[43m)\u001B[49m \u001B[38;5;241m+\u001B[39m newline\n\u001B[1;32m   1601\u001B[0m \u001B[38;5;28;01mexcept\u001B[39;00m \u001B[38;5;167;01mTypeError\u001B[39;00m \u001B[38;5;28;01mas\u001B[39;00m e:\n",
      "\u001B[0;31mTypeError\u001B[0m: must be real number, not str",
      "\nThe above exception was the direct cause of the following exception:\n",
      "\u001B[0;31mTypeError\u001B[0m                                 Traceback (most recent call last)",
      "Cell \u001B[0;32mIn[107], line 5\u001B[0m\n\u001B[1;32m      3\u001B[0m savetxt(\u001B[38;5;124m'\u001B[39m\u001B[38;5;124mdata_ids.csv\u001B[39m\u001B[38;5;124m'\u001B[39m, ids_clean, delimiter\u001B[38;5;241m=\u001B[39m\u001B[38;5;124m'\u001B[39m\u001B[38;5;124m \u001B[39m\u001B[38;5;124m'\u001B[39m)\n\u001B[1;32m      4\u001B[0m savetxt(\u001B[38;5;124m'\u001B[39m\u001B[38;5;124mdata_scores.csv\u001B[39m\u001B[38;5;124m'\u001B[39m, scores_clean, delimiter\u001B[38;5;241m=\u001B[39m\u001B[38;5;124m'\u001B[39m\u001B[38;5;124m \u001B[39m\u001B[38;5;124m'\u001B[39m)\n\u001B[0;32m----> 5\u001B[0m \u001B[43msavetxt\u001B[49m\u001B[43m(\u001B[49m\u001B[38;5;124;43m'\u001B[39;49m\u001B[38;5;124;43mdata_users.csv\u001B[39;49m\u001B[38;5;124;43m'\u001B[39;49m\u001B[43m,\u001B[49m\u001B[43m \u001B[49m\u001B[43musers_clean\u001B[49m\u001B[43m,\u001B[49m\u001B[43m \u001B[49m\u001B[43mdelimiter\u001B[49m\u001B[38;5;241;43m=\u001B[39;49m\u001B[38;5;124;43m'\u001B[39;49m\u001B[38;5;124;43m \u001B[39;49m\u001B[38;5;124;43m'\u001B[39;49m\u001B[43m)\u001B[49m\n\u001B[1;32m      6\u001B[0m rec_users\u001B[38;5;241m.\u001B[39mto_csv(\u001B[38;5;124m'\u001B[39m\u001B[38;5;124musers_data.csv\u001B[39m\u001B[38;5;124m'\u001B[39m)\n",
      "File \u001B[0;32m<__array_function__ internals>:200\u001B[0m, in \u001B[0;36msavetxt\u001B[0;34m(*args, **kwargs)\u001B[0m\n",
      "File \u001B[0;32m~/tuwien/eeds/edds-ws2022/venv/lib/python3.10/site-packages/numpy/lib/npyio.py:1602\u001B[0m, in \u001B[0;36msavetxt\u001B[0;34m(fname, X, fmt, delimiter, newline, header, footer, comments, encoding)\u001B[0m\n\u001B[1;32m   1600\u001B[0m             v \u001B[38;5;241m=\u001B[39m \u001B[38;5;28mformat\u001B[39m \u001B[38;5;241m%\u001B[39m \u001B[38;5;28mtuple\u001B[39m(row) \u001B[38;5;241m+\u001B[39m newline\n\u001B[1;32m   1601\u001B[0m         \u001B[38;5;28;01mexcept\u001B[39;00m \u001B[38;5;167;01mTypeError\u001B[39;00m \u001B[38;5;28;01mas\u001B[39;00m e:\n\u001B[0;32m-> 1602\u001B[0m             \u001B[38;5;28;01mraise\u001B[39;00m \u001B[38;5;167;01mTypeError\u001B[39;00m(\u001B[38;5;124m\"\u001B[39m\u001B[38;5;124mMismatch between array dtype (\u001B[39m\u001B[38;5;124m'\u001B[39m\u001B[38;5;132;01m%s\u001B[39;00m\u001B[38;5;124m'\u001B[39m\u001B[38;5;124m) and \u001B[39m\u001B[38;5;124m\"\u001B[39m\n\u001B[1;32m   1603\u001B[0m                             \u001B[38;5;124m\"\u001B[39m\u001B[38;5;124mformat specifier (\u001B[39m\u001B[38;5;124m'\u001B[39m\u001B[38;5;132;01m%s\u001B[39;00m\u001B[38;5;124m'\u001B[39m\u001B[38;5;124m)\u001B[39m\u001B[38;5;124m\"\u001B[39m\n\u001B[1;32m   1604\u001B[0m                             \u001B[38;5;241m%\u001B[39m (\u001B[38;5;28mstr\u001B[39m(X\u001B[38;5;241m.\u001B[39mdtype), \u001B[38;5;28mformat\u001B[39m)) \u001B[38;5;28;01mfrom\u001B[39;00m \u001B[38;5;21;01me\u001B[39;00m\n\u001B[1;32m   1605\u001B[0m         fh\u001B[38;5;241m.\u001B[39mwrite(v)\n\u001B[1;32m   1607\u001B[0m \u001B[38;5;28;01mif\u001B[39;00m \u001B[38;5;28mlen\u001B[39m(footer) \u001B[38;5;241m>\u001B[39m \u001B[38;5;241m0\u001B[39m:\n",
      "\u001B[0;31mTypeError\u001B[0m: Mismatch between array dtype ('object') and format specifier ('%.18e')"
     ]
    }
   ],
   "source": [
    "# from numpy import savetxt\n",
    "#\n",
    "# savetxt('data_ids.csv', ids_clean, delimiter=' ')\n",
    "# savetxt('data_scores.csv', scores_clean, delimiter=' ')\n",
    "# savetxt('data_users.csv', users_clean, delimiter=' ')\n",
    "# rec_users.to_csv('users_data.csv')"
   ],
   "metadata": {
    "collapsed": false
   }
  },
  {
   "cell_type": "code",
   "execution_count": null,
   "outputs": [],
   "source": [
    "# from numpy import loadtxt\n",
    "# data_ids = loadtxt('data_ids.csv', delimiter=' ', dtype='int32')\n",
    "# data_scores = loadtxt('data_scores.csv', delimiter=' ', dtype='int32')\n"
   ],
   "metadata": {
    "collapsed": false
   }
  },
  {
   "cell_type": "code",
   "execution_count": 120,
   "outputs": [
    {
     "data": {
      "text/plain": "                                   user-mboxsha1 gender   age  \\\n0       00000c289a1829a808ac09c00daf10bc3c4e223b      f  22.0   \n1       00001411dc427966b17297bf4d69e7e193135d89      f   NaN   \n2       00004d2ac9316e22dc007ab2243d6fcb239e707d    NaN   NaN   \n3       000063d3fe1cf2ba248b9e3c3f0334845a27a6bf      m  19.0   \n4       00007a47085b9aab8af55f52ec8846ac479ac4fe      m  28.0   \n...                                          ...    ...   ...   \n359342  fffe7823f67b433b45f22056467db921c1d3d7d0      m  25.0   \n359343  fffe8637bd8234309e871409c7ebef99a720afc1      m  25.0   \n359344  fffe8c7f952d9b960a56ed4dcb40a415d924b224      m  20.0   \n359345  ffff9af9ae04d263dae91cb838b1f3a6725f5ffb      m  20.0   \n359346  ffff9ef87a7d9494ada2f9ade4b9ff637c0759ac      m  21.0   \n\n                   country        signup  \n0                  Germany   Feb 1, 2007  \n1                   Canada   Dec 4, 2007  \n2                  Germany   Sep 1, 2006  \n3                   Mexico  Apr 28, 2008  \n4            United States  Jan 27, 2006  \n...                    ...           ...  \n359342             Germany  Jun 24, 2006  \n359343              Brazil   Sep 9, 2007  \n359344       United States   Aug 8, 2007  \n359345  Russian Federation   Dec 3, 2005  \n359346             Belgium  Nov 25, 2008  \n\n[358866 rows x 5 columns]",
      "text/html": "<div>\n<style scoped>\n    .dataframe tbody tr th:only-of-type {\n        vertical-align: middle;\n    }\n\n    .dataframe tbody tr th {\n        vertical-align: top;\n    }\n\n    .dataframe thead th {\n        text-align: right;\n    }\n</style>\n<table border=\"1\" class=\"dataframe\">\n  <thead>\n    <tr style=\"text-align: right;\">\n      <th></th>\n      <th>user-mboxsha1</th>\n      <th>gender</th>\n      <th>age</th>\n      <th>country</th>\n      <th>signup</th>\n    </tr>\n  </thead>\n  <tbody>\n    <tr>\n      <th>0</th>\n      <td>00000c289a1829a808ac09c00daf10bc3c4e223b</td>\n      <td>f</td>\n      <td>22.0</td>\n      <td>Germany</td>\n      <td>Feb 1, 2007</td>\n    </tr>\n    <tr>\n      <th>1</th>\n      <td>00001411dc427966b17297bf4d69e7e193135d89</td>\n      <td>f</td>\n      <td>NaN</td>\n      <td>Canada</td>\n      <td>Dec 4, 2007</td>\n    </tr>\n    <tr>\n      <th>2</th>\n      <td>00004d2ac9316e22dc007ab2243d6fcb239e707d</td>\n      <td>NaN</td>\n      <td>NaN</td>\n      <td>Germany</td>\n      <td>Sep 1, 2006</td>\n    </tr>\n    <tr>\n      <th>3</th>\n      <td>000063d3fe1cf2ba248b9e3c3f0334845a27a6bf</td>\n      <td>m</td>\n      <td>19.0</td>\n      <td>Mexico</td>\n      <td>Apr 28, 2008</td>\n    </tr>\n    <tr>\n      <th>4</th>\n      <td>00007a47085b9aab8af55f52ec8846ac479ac4fe</td>\n      <td>m</td>\n      <td>28.0</td>\n      <td>United States</td>\n      <td>Jan 27, 2006</td>\n    </tr>\n    <tr>\n      <th>...</th>\n      <td>...</td>\n      <td>...</td>\n      <td>...</td>\n      <td>...</td>\n      <td>...</td>\n    </tr>\n    <tr>\n      <th>359342</th>\n      <td>fffe7823f67b433b45f22056467db921c1d3d7d0</td>\n      <td>m</td>\n      <td>25.0</td>\n      <td>Germany</td>\n      <td>Jun 24, 2006</td>\n    </tr>\n    <tr>\n      <th>359343</th>\n      <td>fffe8637bd8234309e871409c7ebef99a720afc1</td>\n      <td>m</td>\n      <td>25.0</td>\n      <td>Brazil</td>\n      <td>Sep 9, 2007</td>\n    </tr>\n    <tr>\n      <th>359344</th>\n      <td>fffe8c7f952d9b960a56ed4dcb40a415d924b224</td>\n      <td>m</td>\n      <td>20.0</td>\n      <td>United States</td>\n      <td>Aug 8, 2007</td>\n    </tr>\n    <tr>\n      <th>359345</th>\n      <td>ffff9af9ae04d263dae91cb838b1f3a6725f5ffb</td>\n      <td>m</td>\n      <td>20.0</td>\n      <td>Russian Federation</td>\n      <td>Dec 3, 2005</td>\n    </tr>\n    <tr>\n      <th>359346</th>\n      <td>ffff9ef87a7d9494ada2f9ade4b9ff637c0759ac</td>\n      <td>m</td>\n      <td>21.0</td>\n      <td>Belgium</td>\n      <td>Nov 25, 2008</td>\n    </tr>\n  </tbody>\n</table>\n<p>358866 rows × 5 columns</p>\n</div>"
     },
     "execution_count": 120,
     "metadata": {},
     "output_type": "execute_result"
    }
   ],
   "source": [
    "rec_users"
   ],
   "metadata": {
    "collapsed": false
   }
  },
  {
   "cell_type": "markdown",
   "source": [
    "Age groups"
   ],
   "metadata": {
    "collapsed": false
   }
  },
  {
   "cell_type": "code",
   "execution_count": 123,
   "outputs": [],
   "source": [
    "def age_group(rec_users, min_age, max_age):\n",
    "    return rec_users.iloc[np.where((rec_users['age'] >= min_age) & (rec_users['age'] <= max_age))]"
   ],
   "metadata": {
    "collapsed": false
   }
  },
  {
   "cell_type": "code",
   "execution_count": 124,
   "outputs": [
    {
     "data": {
      "text/plain": "                                   user-mboxsha1 gender   age        country  \\\n24      0003848c96fb95f8d349c00de9f1760fe2777946      m  14.0        Finland   \n39      0006f849044a98f8db4ac7f83e2881de499b68db      m  16.0   South Africa   \n102     00113f7cbb77890bf766e921f0e62f1fdc4941c7      m  15.0          Spain   \n120     0013a259def94304f92096c51d8a087ce0c0ab77      m  16.0  United States   \n146     00180a9f260ab089a3b21be421e3ad6fbf7a8bd5      m  14.0        Germany   \n...                                          ...    ...   ...            ...   \n359169  ffddcbdde0004303836f30740d6d38238205a50d      m  16.0        Germany   \n359173  ffde52bcac7d962ef5a99c627605702aba8b84a0      m  16.0        Germany   \n359257  ffed7df8b37e4a97c4d245b2ac5926d9f089d327      m  15.0  United States   \n359282  fff421174f5aea458281f79c96f2334c0019161f      f  13.0     Kazakhstan   \n359283  fff473a2e681eb46255d9a7736eef6bb80f2ce14      m  14.0        Finland   \n\n              signup  \n24      Jan 15, 2008  \n39       Dec 6, 2008  \n102     Oct 19, 2008  \n120     Dec 24, 2007  \n146     Mar 13, 2008  \n...              ...  \n359169  May 16, 2009  \n359173  Sep 23, 2008  \n359257  Jul 14, 2008  \n359282   Jun 5, 2009  \n359283   Apr 8, 2009  \n\n[9693 rows x 5 columns]",
      "text/html": "<div>\n<style scoped>\n    .dataframe tbody tr th:only-of-type {\n        vertical-align: middle;\n    }\n\n    .dataframe tbody tr th {\n        vertical-align: top;\n    }\n\n    .dataframe thead th {\n        text-align: right;\n    }\n</style>\n<table border=\"1\" class=\"dataframe\">\n  <thead>\n    <tr style=\"text-align: right;\">\n      <th></th>\n      <th>user-mboxsha1</th>\n      <th>gender</th>\n      <th>age</th>\n      <th>country</th>\n      <th>signup</th>\n    </tr>\n  </thead>\n  <tbody>\n    <tr>\n      <th>24</th>\n      <td>0003848c96fb95f8d349c00de9f1760fe2777946</td>\n      <td>m</td>\n      <td>14.0</td>\n      <td>Finland</td>\n      <td>Jan 15, 2008</td>\n    </tr>\n    <tr>\n      <th>39</th>\n      <td>0006f849044a98f8db4ac7f83e2881de499b68db</td>\n      <td>m</td>\n      <td>16.0</td>\n      <td>South Africa</td>\n      <td>Dec 6, 2008</td>\n    </tr>\n    <tr>\n      <th>102</th>\n      <td>00113f7cbb77890bf766e921f0e62f1fdc4941c7</td>\n      <td>m</td>\n      <td>15.0</td>\n      <td>Spain</td>\n      <td>Oct 19, 2008</td>\n    </tr>\n    <tr>\n      <th>120</th>\n      <td>0013a259def94304f92096c51d8a087ce0c0ab77</td>\n      <td>m</td>\n      <td>16.0</td>\n      <td>United States</td>\n      <td>Dec 24, 2007</td>\n    </tr>\n    <tr>\n      <th>146</th>\n      <td>00180a9f260ab089a3b21be421e3ad6fbf7a8bd5</td>\n      <td>m</td>\n      <td>14.0</td>\n      <td>Germany</td>\n      <td>Mar 13, 2008</td>\n    </tr>\n    <tr>\n      <th>...</th>\n      <td>...</td>\n      <td>...</td>\n      <td>...</td>\n      <td>...</td>\n      <td>...</td>\n    </tr>\n    <tr>\n      <th>359169</th>\n      <td>ffddcbdde0004303836f30740d6d38238205a50d</td>\n      <td>m</td>\n      <td>16.0</td>\n      <td>Germany</td>\n      <td>May 16, 2009</td>\n    </tr>\n    <tr>\n      <th>359173</th>\n      <td>ffde52bcac7d962ef5a99c627605702aba8b84a0</td>\n      <td>m</td>\n      <td>16.0</td>\n      <td>Germany</td>\n      <td>Sep 23, 2008</td>\n    </tr>\n    <tr>\n      <th>359257</th>\n      <td>ffed7df8b37e4a97c4d245b2ac5926d9f089d327</td>\n      <td>m</td>\n      <td>15.0</td>\n      <td>United States</td>\n      <td>Jul 14, 2008</td>\n    </tr>\n    <tr>\n      <th>359282</th>\n      <td>fff421174f5aea458281f79c96f2334c0019161f</td>\n      <td>f</td>\n      <td>13.0</td>\n      <td>Kazakhstan</td>\n      <td>Jun 5, 2009</td>\n    </tr>\n    <tr>\n      <th>359283</th>\n      <td>fff473a2e681eb46255d9a7736eef6bb80f2ce14</td>\n      <td>m</td>\n      <td>14.0</td>\n      <td>Finland</td>\n      <td>Apr 8, 2009</td>\n    </tr>\n  </tbody>\n</table>\n<p>9693 rows × 5 columns</p>\n</div>"
     },
     "execution_count": 124,
     "metadata": {},
     "output_type": "execute_result"
    }
   ],
   "source": [
    "age_group(rec_users, 3, 16)"
   ],
   "metadata": {
    "collapsed": false
   }
  },
  {
   "cell_type": "markdown",
   "source": [
    "Gender binning"
   ],
   "metadata": {
    "collapsed": false
   }
  },
  {
   "cell_type": "code",
   "execution_count": 125,
   "outputs": [
    {
     "data": {
      "text/plain": "                                   user-mboxsha1 gender   age  \\\n3       000063d3fe1cf2ba248b9e3c3f0334845a27a6bf      m  19.0   \n4       00007a47085b9aab8af55f52ec8846ac479ac4fe      m  28.0   \n5       0000c176103e538d5c9828e695fed4f7ae42dd01      m  20.0   \n6       0000ee7dd906373efa37f4e1185bfe1e3f8695ae      m  17.0   \n9       0001399387da41d557219578fb08b12afa25ab67      m   NaN   \n...                                          ...    ...   ...   \n359342  fffe7823f67b433b45f22056467db921c1d3d7d0      m  25.0   \n359343  fffe8637bd8234309e871409c7ebef99a720afc1      m  25.0   \n359344  fffe8c7f952d9b960a56ed4dcb40a415d924b224      m  20.0   \n359345  ffff9af9ae04d263dae91cb838b1f3a6725f5ffb      m  20.0   \n359346  ffff9ef87a7d9494ada2f9ade4b9ff637c0759ac      m  21.0   \n\n                   country        signup  \n3                   Mexico  Apr 28, 2008  \n4            United States  Jan 27, 2006  \n5           United Kingdom  Jan 14, 2006  \n6                  Finland  Nov 17, 2007  \n9                  Ukraine  Aug 17, 2008  \n...                    ...           ...  \n359342             Germany  Jun 24, 2006  \n359343              Brazil   Sep 9, 2007  \n359344       United States   Aug 8, 2007  \n359345  Russian Federation   Dec 3, 2005  \n359346             Belgium  Nov 25, 2008  \n\n[241327 rows x 5 columns]",
      "text/html": "<div>\n<style scoped>\n    .dataframe tbody tr th:only-of-type {\n        vertical-align: middle;\n    }\n\n    .dataframe tbody tr th {\n        vertical-align: top;\n    }\n\n    .dataframe thead th {\n        text-align: right;\n    }\n</style>\n<table border=\"1\" class=\"dataframe\">\n  <thead>\n    <tr style=\"text-align: right;\">\n      <th></th>\n      <th>user-mboxsha1</th>\n      <th>gender</th>\n      <th>age</th>\n      <th>country</th>\n      <th>signup</th>\n    </tr>\n  </thead>\n  <tbody>\n    <tr>\n      <th>3</th>\n      <td>000063d3fe1cf2ba248b9e3c3f0334845a27a6bf</td>\n      <td>m</td>\n      <td>19.0</td>\n      <td>Mexico</td>\n      <td>Apr 28, 2008</td>\n    </tr>\n    <tr>\n      <th>4</th>\n      <td>00007a47085b9aab8af55f52ec8846ac479ac4fe</td>\n      <td>m</td>\n      <td>28.0</td>\n      <td>United States</td>\n      <td>Jan 27, 2006</td>\n    </tr>\n    <tr>\n      <th>5</th>\n      <td>0000c176103e538d5c9828e695fed4f7ae42dd01</td>\n      <td>m</td>\n      <td>20.0</td>\n      <td>United Kingdom</td>\n      <td>Jan 14, 2006</td>\n    </tr>\n    <tr>\n      <th>6</th>\n      <td>0000ee7dd906373efa37f4e1185bfe1e3f8695ae</td>\n      <td>m</td>\n      <td>17.0</td>\n      <td>Finland</td>\n      <td>Nov 17, 2007</td>\n    </tr>\n    <tr>\n      <th>9</th>\n      <td>0001399387da41d557219578fb08b12afa25ab67</td>\n      <td>m</td>\n      <td>NaN</td>\n      <td>Ukraine</td>\n      <td>Aug 17, 2008</td>\n    </tr>\n    <tr>\n      <th>...</th>\n      <td>...</td>\n      <td>...</td>\n      <td>...</td>\n      <td>...</td>\n      <td>...</td>\n    </tr>\n    <tr>\n      <th>359342</th>\n      <td>fffe7823f67b433b45f22056467db921c1d3d7d0</td>\n      <td>m</td>\n      <td>25.0</td>\n      <td>Germany</td>\n      <td>Jun 24, 2006</td>\n    </tr>\n    <tr>\n      <th>359343</th>\n      <td>fffe8637bd8234309e871409c7ebef99a720afc1</td>\n      <td>m</td>\n      <td>25.0</td>\n      <td>Brazil</td>\n      <td>Sep 9, 2007</td>\n    </tr>\n    <tr>\n      <th>359344</th>\n      <td>fffe8c7f952d9b960a56ed4dcb40a415d924b224</td>\n      <td>m</td>\n      <td>20.0</td>\n      <td>United States</td>\n      <td>Aug 8, 2007</td>\n    </tr>\n    <tr>\n      <th>359345</th>\n      <td>ffff9af9ae04d263dae91cb838b1f3a6725f5ffb</td>\n      <td>m</td>\n      <td>20.0</td>\n      <td>Russian Federation</td>\n      <td>Dec 3, 2005</td>\n    </tr>\n    <tr>\n      <th>359346</th>\n      <td>ffff9ef87a7d9494ada2f9ade4b9ff637c0759ac</td>\n      <td>m</td>\n      <td>21.0</td>\n      <td>Belgium</td>\n      <td>Nov 25, 2008</td>\n    </tr>\n  </tbody>\n</table>\n<p>241327 rows × 5 columns</p>\n</div>"
     },
     "execution_count": 125,
     "metadata": {},
     "output_type": "execute_result"
    }
   ],
   "source": [
    "rec_users.iloc[np.where(rec_users['gender'] == 'm')]"
   ],
   "metadata": {
    "collapsed": false
   }
  },
  {
   "cell_type": "code",
   "execution_count": 127,
   "outputs": [
    {
     "data": {
      "text/plain": "                                   user-mboxsha1 gender   age         country  \\\n0       00000c289a1829a808ac09c00daf10bc3c4e223b      f  22.0         Germany   \n1       00001411dc427966b17297bf4d69e7e193135d89      f   NaN          Canada   \n7       0000ef373bbd0d89ce796abae961f2705e8c1faf      f  22.0          Poland   \n8       0000f687d4fe9c1ed49620fbc5ed5b0d7798ea20      f  24.0           Spain   \n13      0001bd96207f323b53652bf400702719ad456d3c      f  18.0         Finland   \n...                                          ...    ...   ...             ...   \n359335  fffcf52d27aa7ea75f99d4bff654fa08fcedc4b6      f  25.0          Turkey   \n359336  fffd372d71d9ef015cc6f1dbf7a3e6f10e512910      f  20.0          France   \n359337  fffd3df081c03829a9ea4699e2d85e868d7a791b      f  17.0     New Zealand   \n359339  fffe356b9dab2fae1f887fabb1f08ab4976c91bb      f  23.0         Germany   \n359340  fffe3e8eb1b2db8dcb3f3fe753552d5803d085f1      f  19.0  United Kingdom   \n\n              signup  \n0        Feb 1, 2007  \n1        Dec 4, 2007  \n7       May 23, 2007  \n8        Nov 4, 2008  \n13      Mar 10, 2008  \n...              ...  \n359335  Aug 10, 2007  \n359336  Aug 26, 2007  \n359337   Sep 5, 2008  \n359339  Jul 24, 2006  \n359340   Jun 4, 2007  \n\n[84816 rows x 5 columns]",
      "text/html": "<div>\n<style scoped>\n    .dataframe tbody tr th:only-of-type {\n        vertical-align: middle;\n    }\n\n    .dataframe tbody tr th {\n        vertical-align: top;\n    }\n\n    .dataframe thead th {\n        text-align: right;\n    }\n</style>\n<table border=\"1\" class=\"dataframe\">\n  <thead>\n    <tr style=\"text-align: right;\">\n      <th></th>\n      <th>user-mboxsha1</th>\n      <th>gender</th>\n      <th>age</th>\n      <th>country</th>\n      <th>signup</th>\n    </tr>\n  </thead>\n  <tbody>\n    <tr>\n      <th>0</th>\n      <td>00000c289a1829a808ac09c00daf10bc3c4e223b</td>\n      <td>f</td>\n      <td>22.0</td>\n      <td>Germany</td>\n      <td>Feb 1, 2007</td>\n    </tr>\n    <tr>\n      <th>1</th>\n      <td>00001411dc427966b17297bf4d69e7e193135d89</td>\n      <td>f</td>\n      <td>NaN</td>\n      <td>Canada</td>\n      <td>Dec 4, 2007</td>\n    </tr>\n    <tr>\n      <th>7</th>\n      <td>0000ef373bbd0d89ce796abae961f2705e8c1faf</td>\n      <td>f</td>\n      <td>22.0</td>\n      <td>Poland</td>\n      <td>May 23, 2007</td>\n    </tr>\n    <tr>\n      <th>8</th>\n      <td>0000f687d4fe9c1ed49620fbc5ed5b0d7798ea20</td>\n      <td>f</td>\n      <td>24.0</td>\n      <td>Spain</td>\n      <td>Nov 4, 2008</td>\n    </tr>\n    <tr>\n      <th>13</th>\n      <td>0001bd96207f323b53652bf400702719ad456d3c</td>\n      <td>f</td>\n      <td>18.0</td>\n      <td>Finland</td>\n      <td>Mar 10, 2008</td>\n    </tr>\n    <tr>\n      <th>...</th>\n      <td>...</td>\n      <td>...</td>\n      <td>...</td>\n      <td>...</td>\n      <td>...</td>\n    </tr>\n    <tr>\n      <th>359335</th>\n      <td>fffcf52d27aa7ea75f99d4bff654fa08fcedc4b6</td>\n      <td>f</td>\n      <td>25.0</td>\n      <td>Turkey</td>\n      <td>Aug 10, 2007</td>\n    </tr>\n    <tr>\n      <th>359336</th>\n      <td>fffd372d71d9ef015cc6f1dbf7a3e6f10e512910</td>\n      <td>f</td>\n      <td>20.0</td>\n      <td>France</td>\n      <td>Aug 26, 2007</td>\n    </tr>\n    <tr>\n      <th>359337</th>\n      <td>fffd3df081c03829a9ea4699e2d85e868d7a791b</td>\n      <td>f</td>\n      <td>17.0</td>\n      <td>New Zealand</td>\n      <td>Sep 5, 2008</td>\n    </tr>\n    <tr>\n      <th>359339</th>\n      <td>fffe356b9dab2fae1f887fabb1f08ab4976c91bb</td>\n      <td>f</td>\n      <td>23.0</td>\n      <td>Germany</td>\n      <td>Jul 24, 2006</td>\n    </tr>\n    <tr>\n      <th>359340</th>\n      <td>fffe3e8eb1b2db8dcb3f3fe753552d5803d085f1</td>\n      <td>f</td>\n      <td>19.0</td>\n      <td>United Kingdom</td>\n      <td>Jun 4, 2007</td>\n    </tr>\n  </tbody>\n</table>\n<p>84816 rows × 5 columns</p>\n</div>"
     },
     "execution_count": 127,
     "metadata": {},
     "output_type": "execute_result"
    }
   ],
   "source": [
    "rec_users.iloc[np.where(rec_users['gender'] == 'f')]"
   ],
   "metadata": {
    "collapsed": false
   }
  },
  {
   "cell_type": "code",
   "execution_count": 130,
   "outputs": [
    {
     "data": {
      "text/plain": "                                   user-mboxsha1 gender   age         country  \\\n2       00004d2ac9316e22dc007ab2243d6fcb239e707d    NaN   NaN         Germany   \n11      0001a57568309b287363e72dc682e9a170ba6dc2    NaN  23.0   United States   \n12      0001a88a7092846abb1b70dbcced05f914976371    NaN   NaN           Japan   \n18      00029d80b8af94f2d5e3349ceb28b7304f80c1c4    NaN  27.0       Australia   \n26      000392e00cf41fbf48865109b72a92b3b72c2fed    NaN   NaN  United Kingdom   \n...                                          ...    ...   ...             ...   \n359235  ffea3c49ff695dbbcae8f37b84ff38c868012658    NaN   NaN           Japan   \n359242  ffeaeec5cb5c6a03a978765c8f929acc8af46013    NaN  21.0        Bulgaria   \n359243  ffeb1380d0a9d92bc4adaaf048d8326bd56b3692    NaN   NaN         Romania   \n359272  fff253ef6abb10530bd71ee967edaab3904d9d2d    NaN   NaN          Turkey   \n359287  fff508bfea0e1953ecfe4ec6c635fb9e2ee4b0cc    NaN   NaN     Switzerland   \n\n              signup  \n2        Sep 1, 2006  \n11      May 12, 2007  \n12      Oct 13, 2008  \n18      Mar 27, 2005  \n26       Apr 4, 2008  \n...              ...  \n359235  Nov 18, 2007  \n359242   Jul 7, 2008  \n359243   Sep 8, 2008  \n359272  Jan 15, 2006  \n359287   Jul 5, 2007  \n\n[32723 rows x 5 columns]",
      "text/html": "<div>\n<style scoped>\n    .dataframe tbody tr th:only-of-type {\n        vertical-align: middle;\n    }\n\n    .dataframe tbody tr th {\n        vertical-align: top;\n    }\n\n    .dataframe thead th {\n        text-align: right;\n    }\n</style>\n<table border=\"1\" class=\"dataframe\">\n  <thead>\n    <tr style=\"text-align: right;\">\n      <th></th>\n      <th>user-mboxsha1</th>\n      <th>gender</th>\n      <th>age</th>\n      <th>country</th>\n      <th>signup</th>\n    </tr>\n  </thead>\n  <tbody>\n    <tr>\n      <th>2</th>\n      <td>00004d2ac9316e22dc007ab2243d6fcb239e707d</td>\n      <td>NaN</td>\n      <td>NaN</td>\n      <td>Germany</td>\n      <td>Sep 1, 2006</td>\n    </tr>\n    <tr>\n      <th>11</th>\n      <td>0001a57568309b287363e72dc682e9a170ba6dc2</td>\n      <td>NaN</td>\n      <td>23.0</td>\n      <td>United States</td>\n      <td>May 12, 2007</td>\n    </tr>\n    <tr>\n      <th>12</th>\n      <td>0001a88a7092846abb1b70dbcced05f914976371</td>\n      <td>NaN</td>\n      <td>NaN</td>\n      <td>Japan</td>\n      <td>Oct 13, 2008</td>\n    </tr>\n    <tr>\n      <th>18</th>\n      <td>00029d80b8af94f2d5e3349ceb28b7304f80c1c4</td>\n      <td>NaN</td>\n      <td>27.0</td>\n      <td>Australia</td>\n      <td>Mar 27, 2005</td>\n    </tr>\n    <tr>\n      <th>26</th>\n      <td>000392e00cf41fbf48865109b72a92b3b72c2fed</td>\n      <td>NaN</td>\n      <td>NaN</td>\n      <td>United Kingdom</td>\n      <td>Apr 4, 2008</td>\n    </tr>\n    <tr>\n      <th>...</th>\n      <td>...</td>\n      <td>...</td>\n      <td>...</td>\n      <td>...</td>\n      <td>...</td>\n    </tr>\n    <tr>\n      <th>359235</th>\n      <td>ffea3c49ff695dbbcae8f37b84ff38c868012658</td>\n      <td>NaN</td>\n      <td>NaN</td>\n      <td>Japan</td>\n      <td>Nov 18, 2007</td>\n    </tr>\n    <tr>\n      <th>359242</th>\n      <td>ffeaeec5cb5c6a03a978765c8f929acc8af46013</td>\n      <td>NaN</td>\n      <td>21.0</td>\n      <td>Bulgaria</td>\n      <td>Jul 7, 2008</td>\n    </tr>\n    <tr>\n      <th>359243</th>\n      <td>ffeb1380d0a9d92bc4adaaf048d8326bd56b3692</td>\n      <td>NaN</td>\n      <td>NaN</td>\n      <td>Romania</td>\n      <td>Sep 8, 2008</td>\n    </tr>\n    <tr>\n      <th>359272</th>\n      <td>fff253ef6abb10530bd71ee967edaab3904d9d2d</td>\n      <td>NaN</td>\n      <td>NaN</td>\n      <td>Turkey</td>\n      <td>Jan 15, 2006</td>\n    </tr>\n    <tr>\n      <th>359287</th>\n      <td>fff508bfea0e1953ecfe4ec6c635fb9e2ee4b0cc</td>\n      <td>NaN</td>\n      <td>NaN</td>\n      <td>Switzerland</td>\n      <td>Jul 5, 2007</td>\n    </tr>\n  </tbody>\n</table>\n<p>32723 rows × 5 columns</p>\n</div>"
     },
     "execution_count": 130,
     "metadata": {},
     "output_type": "execute_result"
    }
   ],
   "source": [
    "rec_users.iloc[np.where((rec_users['gender'] != 'm') & (rec_users['gender'] != 'f'))]"
   ],
   "metadata": {
    "collapsed": false
   }
  },
  {
   "cell_type": "code",
   "execution_count": 131,
   "outputs": [
    {
     "data": {
      "text/plain": "<AxesSubplot: xlabel='gender', ylabel='Count'>"
     },
     "execution_count": 131,
     "metadata": {},
     "output_type": "execute_result"
    },
    {
     "data": {
      "text/plain": "<Figure size 640x480 with 1 Axes>",
      "image/png": "[encoded data removed]"
     },
     "metadata": {},
     "output_type": "display_data"
    }
   ],
   "source": [
    "sns.histplot(rec_users['gender'])"
   ],
   "metadata": {
    "collapsed": false
   }
  },
  {
   "cell_type": "code",
   "execution_count": null,
   "outputs": [],
   "source": [],
   "metadata": {
    "collapsed": false
   }
  }
 ],
 "metadata": {
  "kernelspec": {
   "display_name": "Python 3",
   "language": "python",
   "name": "python3"
  },
  "language_info": {
   "codemirror_mode": {
    "name": "ipython",
    "version": 2
   },
   "file_extension": ".py",
   "mimetype": "text/x-python",
   "name": "python",
   "nbconvert_exporter": "python",
   "pygments_lexer": "ipython2",
   "version": "2.7.6"
  }
 },
 "nbformat": 4,
 "nbformat_minor": 0
}
