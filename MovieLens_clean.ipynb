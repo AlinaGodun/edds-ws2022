{
 "cells": [
  {
   "cell_type": "code",
   "execution_count": 2,
   "metadata": {},
   "outputs": [],
   "source": [
    "import pandas as pd\n",
    "import numpy as np\n",
    "import matplotlib.pyplot as plt\n",
    "import seaborn as sns\n",
    "from scipy import stats\n",
    "from sklearn.model_selection import KFold\n",
    "\n",
    "import implicit\n",
    "from implicit.datasets.movielens import get_movielens\n",
    "from implicit.evaluation import leave_k_out_split\n",
    "from implicit.evaluation import ndcg_at_k\n",
    "from implicit.als import AlternatingLeastSquares\n"
   ]
  },
  {
   "cell_type": "markdown",
   "metadata": {},
   "source": [
    "# MovieLens Dataset"
   ]
  },
  {
   "cell_type": "code",
   "execution_count": 57,
   "metadata": {},
   "outputs": [],
   "source": [
    "def get_users_by_usage(ratings_df):\n",
    "    labels = list(range(1, 8))\n",
    "    popularity_cut = pd.qcut(ratings_df.groupby('user_id').movie_id.nunique(), 7)\n",
    "    popularity_cut = popularity_cut.cat.rename_categories(labels)\n",
    "    popularity_cut = pd.DataFrame(popularity_cut)\n",
    "    popularity_cut = popularity_cut.reset_index(drop=False)\n",
    "    popularity_cut.columns = ['user_id', 'usage']\n",
    "\n",
    "    popularity_cut_counts = pd.DataFrame(popularity_cut.groupby('usage').count())\n",
    "    popularity_cut_counts = popularity_cut_counts.reset_index(drop=False)\n",
    "    popularity_cut_counts['percentage'] = popularity_cut_counts.user_id / popularity_cut_counts.user_id.sum()\n",
    "\n",
    "    return popularity_cut, popularity_cut_counts"
   ]
  },
  {
   "cell_type": "code",
   "execution_count": 58,
   "metadata": {},
   "outputs": [],
   "source": [
    "def get_divided_test_fold(ratings_df, test_index, sampling_rate=.2):\n",
    "    test_fold_df = ratings_df[ratings_df.user_id.isin(test_index)].copy()\n",
    "    test_df = test_fold_df.groupby('user_id').sample(frac=.2)\n",
    "    test_fold_df.loc[test_fold_df.user_id.isin(test_df.user_id), 'rating'] = 0\n",
    "    \n",
    "    return test_fold_df, test_df"
   ]
  },
  {
   "cell_type": "code",
   "execution_count": 59,
   "metadata": {},
   "outputs": [],
   "source": [
    "def get_metric_dict(users, column, values=None):\n",
    "    metric_dict = {}\n",
    "    if not values:\n",
    "        values = users[column].unique()\n",
    "    for g in values:\n",
    "        metric_dict[g] = []\n",
    "    return metric_dict"
   ]
  },
  {
   "cell_type": "code",
   "execution_count": 60,
   "metadata": {},
   "outputs": [],
   "source": [
    "def get_age_bins():\n",
    "    age_bins = {}\n",
    "    age_bins[1] = '1-17'\n",
    "    age_bins[18] = '18-24'\n",
    "    age_bins[25] = '25-34'\n",
    "    age_bins[35] = '35-44'\n",
    "    age_bins[45] = '45-49'\n",
    "    age_bins[50] = '50-55'\n",
    "    age_bins[56] = '56+'\n",
    "\n",
    "    age_labels = list(age_bins.values())\n",
    "\n",
    "    return age_bins, age_labels"
   ]
  },
  {
   "cell_type": "markdown",
   "metadata": {},
   "source": [
    "## Preparation"
   ]
  },
  {
   "cell_type": "code",
   "execution_count": 72,
   "metadata": {},
   "outputs": [],
   "source": [
    "variant = \"1m\"\n",
    "\n",
    "titles, ratings = get_movielens(variant)\n",
    "ratings = ratings.T\n",
    "\n",
    "col_names = [\"user_id\", \"movie_id\", \"rating\", \"matrix_position\"]\n",
    "ratings_df = pd.read_csv('./ml-1m/ratings.dat', delimiter='::', names=col_names, engine='python')\n",
    "\n",
    "col_names = ['user_id', 'gender', 'age', 'occupation', 'zip-code']\n",
    "users = pd.read_csv('./ml-1m/users.dat', delimiter='::', names=col_names, engine='python')"
   ]
  },
  {
   "cell_type": "code",
   "execution_count": 73,
   "metadata": {},
   "outputs": [],
   "source": [
    "popularity_cut, popularity_cut_counts = get_users_by_usage(ratings_df)\n",
    "age_bins, age_labels = get_age_bins()"
   ]
  },
  {
   "cell_type": "code",
   "execution_count": 63,
   "metadata": {},
   "outputs": [],
   "source": [
    "# users = users.merge(popularity_cut, how='left', on='user_id')\n",
    "# users = users[users.columns.difference(['occupation', 'zip-code'])].copy()"
   ]
  },
  {
   "cell_type": "markdown",
   "metadata": {},
   "source": [
    "## CV"
   ]
  },
  {
   "cell_type": "code",
   "execution_count": 74,
   "metadata": {},
   "outputs": [],
   "source": [
    "ndcg_dict_age = get_metric_dict(users, 'age')\n",
    "ndcg_dict_gender = get_metric_dict(users, 'gender')\n",
    "ndcg_dict_usage = get_metric_dict(users, '', values=range(1, 8))"
   ]
  },
  {
   "cell_type": "code",
   "execution_count": 75,
   "metadata": {},
   "outputs": [],
   "source": [
    "ndcg_dicts = {}\n",
    "ebm_dicts = {}\n",
    "for d in [ndcg_dicts, ebm_dicts]:\n",
    "    d['age'] = get_metric_dict(users, 'age')\n",
    "    d['gender'] = get_metric_dict(users, 'gender')\n",
    "    d['usage'] = get_metric_dict(users, '', values=range(1, 8))"
   ]
  },
  {
   "cell_type": "code",
   "execution_count": 76,
   "metadata": {},
   "outputs": [],
   "source": [
    "random_state=12345\n",
    "n_splits=5"
   ]
  },
  {
   "cell_type": "code",
   "execution_count": 77,
   "metadata": {},
   "outputs": [
    {
     "name": "stdout",
     "output_type": "stream",
     "text": [
      "Starting training num. 0...\n"
     ]
    },
    {
     "data": {
      "application/vnd.jupyter.widget-view+json": {
       "model_id": "1f04bd3656e04a62b9ee0174578881ee",
       "version_major": 2,
       "version_minor": 0
      },
      "text/plain": [
       "  0%|          | 0/15 [00:00<?, ?it/s]"
      ]
     },
     "metadata": {},
     "output_type": "display_data"
    },
    {
     "name": "stdout",
     "output_type": "stream",
     "text": [
      "Model trained, starting evaluation...\n",
      "Starting evaluation by age groups...\n",
      "Evaluation by age finished...\n",
      "Starting evaluation by gender groups...\n",
      "Evaluation by gender finished...\n",
      "Starting evaluation by usage groups...\n",
      "Evaluation by usage finished...\n",
      "Starting training num. 1...\n"
     ]
    },
    {
     "data": {
      "application/vnd.jupyter.widget-view+json": {
       "model_id": "f6162c2c396549ce912f764732a2ed9e",
       "version_major": 2,
       "version_minor": 0
      },
      "text/plain": [
       "  0%|          | 0/15 [00:00<?, ?it/s]"
      ]
     },
     "metadata": {},
     "output_type": "display_data"
    },
    {
     "name": "stdout",
     "output_type": "stream",
     "text": [
      "Model trained, starting evaluation...\n",
      "Starting evaluation by age groups...\n",
      "Evaluation by age finished...\n",
      "Starting evaluation by gender groups...\n",
      "Evaluation by gender finished...\n",
      "Starting evaluation by usage groups...\n",
      "Evaluation by usage finished...\n",
      "Starting training num. 2...\n"
     ]
    },
    {
     "data": {
      "application/vnd.jupyter.widget-view+json": {
       "model_id": "ecb577876d5b443992615d3d84835114",
       "version_major": 2,
       "version_minor": 0
      },
      "text/plain": [
       "  0%|          | 0/15 [00:00<?, ?it/s]"
      ]
     },
     "metadata": {},
     "output_type": "display_data"
    },
    {
     "name": "stdout",
     "output_type": "stream",
     "text": [
      "Model trained, starting evaluation...\n",
      "Starting evaluation by age groups...\n",
      "Evaluation by age finished...\n",
      "Starting evaluation by gender groups...\n",
      "Evaluation by gender finished...\n",
      "Starting evaluation by usage groups...\n",
      "Evaluation by usage finished...\n",
      "Starting training num. 3...\n"
     ]
    },
    {
     "data": {
      "application/vnd.jupyter.widget-view+json": {
       "model_id": "e8130c16f6be40d9a4cc57b79528b20b",
       "version_major": 2,
       "version_minor": 0
      },
      "text/plain": [
       "  0%|          | 0/15 [00:00<?, ?it/s]"
      ]
     },
     "metadata": {},
     "output_type": "display_data"
    },
    {
     "name": "stdout",
     "output_type": "stream",
     "text": [
      "Model trained, starting evaluation...\n",
      "Starting evaluation by age groups...\n",
      "Evaluation by age finished...\n",
      "Starting evaluation by gender groups...\n",
      "Evaluation by gender finished...\n",
      "Starting evaluation by usage groups...\n",
      "Evaluation by usage finished...\n",
      "Starting training num. 4...\n"
     ]
    },
    {
     "data": {
      "application/vnd.jupyter.widget-view+json": {
       "model_id": "10c8be3f54994ec39ed364ba8590c361",
       "version_major": 2,
       "version_minor": 0
      },
      "text/plain": [
       "  0%|          | 0/15 [00:00<?, ?it/s]"
      ]
     },
     "metadata": {},
     "output_type": "display_data"
    },
    {
     "name": "stdout",
     "output_type": "stream",
     "text": [
      "Model trained, starting evaluation...\n",
      "Starting evaluation by age groups...\n",
      "Evaluation by age finished...\n",
      "Starting evaluation by gender groups...\n",
      "Evaluation by gender finished...\n",
      "Starting evaluation by usage groups...\n",
      "Evaluation by usage finished...\n"
     ]
    }
   ],
   "source": [
    "# divide ratings into 5 CV\n",
    "# 0th column is 0, since user ids start with 1\n",
    "kf = KFold(n_splits=n_splits, random_state=random_state, shuffle=True)\n",
    "\n",
    "for i, (train_index, test_index) in enumerate(kf.split(ratings)):\n",
    "    print(f'Starting training num. {i}...')\n",
    "    # train data is divided into two parts\n",
    "    # in train_index, full user data is used for training\n",
    "    # in test_index, 80% of user data is used for training and the rest 20% is used for testing\n",
    "    test_train_df, test_test_df = get_divided_test_fold(ratings_df, test_index)\n",
    "\n",
    "    train_data = ratings.copy()\n",
    "    # blend out the 20% of test users data for testing\n",
    "    # test data contains data used for training + 20% blended in train data\n",
    "    train_data[test_test_df.user_id, test_test_df.movie_id] = 0\n",
    "\n",
    "    model = AlternatingLeastSquares(factors=50, regularization=0.01)\n",
    "    model.fit(train_data)\n",
    "    print(f'Model trained, starting evaluation...')\n",
    "\n",
    "    test_test_df = test_test_df.merge(users, how='left', on='user_id')\n",
    "    test_test_df = test_test_df.merge(popularity_cut, how='left', on='user_id')\n",
    "\n",
    "    for col, ndcg_dict in ndcg_dicts.items():\n",
    "        print(f'Starting evaluation by {col} groups...')\n",
    "        for a in test_test_df[col].unique():\n",
    "            test_data = ratings[test_test_df[test_test_df[col] == a].user_id.unique()]\n",
    "            ndcg_dict[a].append(ndcg_at_k(model, train_data, test_data, K=1000, show_progress=False))\n",
    "        print(f'Evaluation by {col} finished...')\n",
    "        "
   ]
  },
  {
   "cell_type": "code",
   "execution_count": 24,
   "metadata": {},
   "outputs": [],
   "source": [
    "user_ids = []\n",
    "ndcgs = []\n",
    "col = 'user_id'\n",
    "for a in test_test_df[col].unique():\n",
    "    user_ids.append(a)\n",
    "    test_data = ratings[test_test_df[test_test_df[col] == a].user_id.unique()]\n",
    "    ndcgs.append(ndcg_at_k(model, train_data, test_data, K=1000, show_progress=False))"
   ]
  },
  {
   "cell_type": "code",
   "execution_count": 30,
   "metadata": {},
   "outputs": [],
   "source": [
    "ndcg_df = pd.DataFrame({'user_id': user_ids, 'ndcg': ndcgs})"
   ]
  },
  {
   "cell_type": "code",
   "execution_count": 44,
   "metadata": {},
   "outputs": [],
   "source": [
    "users_test_df = users[users.user_id.isin(user_ids)] "
   ]
  },
  {
   "cell_type": "code",
   "execution_count": 45,
   "metadata": {},
   "outputs": [],
   "source": [
    "users_test_df = users_test_df.merge(ndcg_df, how='right', on='user_id')"
   ]
  },
  {
   "cell_type": "code",
   "execution_count": 51,
   "metadata": {},
   "outputs": [],
   "source": [
    "users_test_df['last_digit'] = users_test_df.user_id.apply(lambda x: str(x)[-1])"
   ]
  },
  {
   "cell_type": "code",
   "execution_count": 53,
   "metadata": {},
   "outputs": [],
   "source": [
    "train_cols = users_test_df.columns.difference(['user_id', 'ndcg'])"
   ]
  },
  {
   "cell_type": "code",
   "execution_count": 52,
   "metadata": {},
   "outputs": [
    {
     "data": {
      "text/html": [
       "<div>\n",
       "<style scoped>\n",
       "    .dataframe tbody tr th:only-of-type {\n",
       "        vertical-align: middle;\n",
       "    }\n",
       "\n",
       "    .dataframe tbody tr th {\n",
       "        vertical-align: top;\n",
       "    }\n",
       "\n",
       "    .dataframe thead th {\n",
       "        text-align: right;\n",
       "    }\n",
       "</style>\n",
       "<table border=\"1\" class=\"dataframe\">\n",
       "  <thead>\n",
       "    <tr style=\"text-align: right;\">\n",
       "      <th></th>\n",
       "      <th>age</th>\n",
       "      <th>gender</th>\n",
       "      <th>usage</th>\n",
       "      <th>user_id</th>\n",
       "      <th>ndcg</th>\n",
       "      <th>last_digit</th>\n",
       "    </tr>\n",
       "  </thead>\n",
       "  <tbody>\n",
       "    <tr>\n",
       "      <th>0</th>\n",
       "      <td>45</td>\n",
       "      <td>M</td>\n",
       "      <td>1</td>\n",
       "      <td>4</td>\n",
       "      <td>0.029692</td>\n",
       "      <td>4</td>\n",
       "    </tr>\n",
       "    <tr>\n",
       "      <th>1</th>\n",
       "      <td>25</td>\n",
       "      <td>M</td>\n",
       "      <td>6</td>\n",
       "      <td>5</td>\n",
       "      <td>0.191440</td>\n",
       "      <td>5</td>\n",
       "    </tr>\n",
       "    <tr>\n",
       "      <th>2</th>\n",
       "      <td>45</td>\n",
       "      <td>M</td>\n",
       "      <td>4</td>\n",
       "      <td>13</td>\n",
       "      <td>0.167998</td>\n",
       "      <td>3</td>\n",
       "    </tr>\n",
       "    <tr>\n",
       "      <th>3</th>\n",
       "      <td>35</td>\n",
       "      <td>M</td>\n",
       "      <td>1</td>\n",
       "      <td>14</td>\n",
       "      <td>0.027266</td>\n",
       "      <td>4</td>\n",
       "    </tr>\n",
       "    <tr>\n",
       "      <th>4</th>\n",
       "      <td>18</td>\n",
       "      <td>F</td>\n",
       "      <td>6</td>\n",
       "      <td>18</td>\n",
       "      <td>0.186891</td>\n",
       "      <td>8</td>\n",
       "    </tr>\n",
       "    <tr>\n",
       "      <th>...</th>\n",
       "      <td>...</td>\n",
       "      <td>...</td>\n",
       "      <td>...</td>\n",
       "      <td>...</td>\n",
       "      <td>...</td>\n",
       "      <td>...</td>\n",
       "    </tr>\n",
       "    <tr>\n",
       "      <th>1203</th>\n",
       "      <td>25</td>\n",
       "      <td>F</td>\n",
       "      <td>3</td>\n",
       "      <td>6015</td>\n",
       "      <td>0.084846</td>\n",
       "      <td>5</td>\n",
       "    </tr>\n",
       "    <tr>\n",
       "      <th>1204</th>\n",
       "      <td>35</td>\n",
       "      <td>F</td>\n",
       "      <td>2</td>\n",
       "      <td>6017</td>\n",
       "      <td>0.104963</td>\n",
       "      <td>7</td>\n",
       "    </tr>\n",
       "    <tr>\n",
       "      <th>1205</th>\n",
       "      <td>25</td>\n",
       "      <td>M</td>\n",
       "      <td>2</td>\n",
       "      <td>6022</td>\n",
       "      <td>0.059343</td>\n",
       "      <td>2</td>\n",
       "    </tr>\n",
       "    <tr>\n",
       "      <th>1206</th>\n",
       "      <td>18</td>\n",
       "      <td>M</td>\n",
       "      <td>2</td>\n",
       "      <td>6027</td>\n",
       "      <td>0.071604</td>\n",
       "      <td>7</td>\n",
       "    </tr>\n",
       "    <tr>\n",
       "      <th>1207</th>\n",
       "      <td>25</td>\n",
       "      <td>F</td>\n",
       "      <td>1</td>\n",
       "      <td>6029</td>\n",
       "      <td>0.016009</td>\n",
       "      <td>9</td>\n",
       "    </tr>\n",
       "  </tbody>\n",
       "</table>\n",
       "<p>1208 rows × 6 columns</p>\n",
       "</div>"
      ],
      "text/plain": [
       "      age gender usage  user_id      ndcg last_digit\n",
       "0      45      M     1        4  0.029692          4\n",
       "1      25      M     6        5  0.191440          5\n",
       "2      45      M     4       13  0.167998          3\n",
       "3      35      M     1       14  0.027266          4\n",
       "4      18      F     6       18  0.186891          8\n",
       "...   ...    ...   ...      ...       ...        ...\n",
       "1203   25      F     3     6015  0.084846          5\n",
       "1204   35      F     2     6017  0.104963          7\n",
       "1205   25      M     2     6022  0.059343          2\n",
       "1206   18      M     2     6027  0.071604          7\n",
       "1207   25      F     1     6029  0.016009          9\n",
       "\n",
       "[1208 rows x 6 columns]"
      ]
     },
     "execution_count": 52,
     "metadata": {},
     "output_type": "execute_result"
    }
   ],
   "source": [
    "users_test_df"
   ]
  },
  {
   "cell_type": "code",
   "execution_count": 88,
   "metadata": {},
   "outputs": [],
   "source": [
    "from sklearn.model_selection import train_test_split"
   ]
  },
  {
   "cell_type": "code",
   "execution_count": 89,
   "metadata": {},
   "outputs": [],
   "source": [
    "X_train, X_test, y_train, y_test = train_test_split(users_test_df[train_cols], users_test_df['ndcg'], test_size=0.2, random_state=random_state)"
   ]
  },
  {
   "cell_type": "code",
   "execution_count": 90,
   "metadata": {},
   "outputs": [
    {
     "ename": "ModuleNotFoundError",
     "evalue": "No module named 'interpret'",
     "output_type": "error",
     "traceback": [
      "\u001b[0;31m---------------------------------------------------------------------------\u001b[0m",
      "\u001b[0;31mModuleNotFoundError\u001b[0m                       Traceback (most recent call last)",
      "Cell \u001b[0;32mIn[90], line 1\u001b[0m\n\u001b[0;32m----> 1\u001b[0m \u001b[39mfrom\u001b[39;00m \u001b[39minterpret\u001b[39;00m\u001b[39m.\u001b[39;00m\u001b[39mglassbox\u001b[39;00m \u001b[39mimport\u001b[39;00m ExplainableBoostingClassifier\n\u001b[1;32m      2\u001b[0m ebm \u001b[39m=\u001b[39m ExplainableBoostingClassifier(random_state\u001b[39m=\u001b[39mseed)\n\u001b[1;32m      3\u001b[0m ebm\u001b[39m.\u001b[39mfit(X_train, y_train)\n",
      "\u001b[0;31mModuleNotFoundError\u001b[0m: No module named 'interpret'"
     ]
    }
   ],
   "source": [
    "from interpret.glassbox import ExplainableBoostingClassifier\n",
    "ebm = ExplainableBoostingClassifier(random_state=random_state)\n",
    "ebm.fit(X_train, y_train)"
   ]
  },
  {
   "cell_type": "code",
   "execution_count": null,
   "metadata": {},
   "outputs": [],
   "source": [
    "ebm = ExplainableBoostingClassifier(random_state=seed)\n",
    "ebm.fit(X_train, y_train)"
   ]
  },
  {
   "cell_type": "markdown",
   "metadata": {},
   "source": [
    "## User distributions\n"
   ]
  },
  {
   "cell_type": "code",
   "execution_count": 17,
   "metadata": {},
   "outputs": [
    {
     "data": {
      "text/plain": [
       "<AxesSubplot: title={'center': 'Distribution of users per gender'}, xlabel='gender', ylabel='count'>"
      ]
     },
     "execution_count": 17,
     "metadata": {},
     "output_type": "execute_result"
    },
    {
     "data": {
      "image/png": "[encoded data removed]",
      "text/plain": [
       "<Figure size 2000x600 with 2 Axes>"
      ]
     },
     "metadata": {},
     "output_type": "display_data"
    }
   ],
   "source": [
    "_, ax = plt.subplots(1, 2, figsize=(20, 6))\n",
    "sns.despine()\n",
    "\n",
    "ax[0].set_title('Distribution of users per age')\n",
    "sns.countplot(data=users, x='age', color='grey', ax=ax[0])\n",
    "ax[0].set_xticks(list(range(0, len(age_bins))), labels=age_labels)\n",
    "\n",
    "ax[1].set_title('Distribution of users per gender')\n",
    "sns.countplot(data=users, x='gender', color='grey', ax=ax[1])"
   ]
  },
  {
   "cell_type": "markdown",
   "metadata": {},
   "source": [
    "## NDCG"
   ]
  },
  {
   "cell_type": "code",
   "execution_count": 78,
   "metadata": {},
   "outputs": [],
   "source": [
    "def get_kruskal(ndcg_dicts, key_col):\n",
    "    gender_list = list(ndcg_dicts[key_col].values())\n",
    "    return stats.kruskal(*gender_list)"
   ]
  },
  {
   "cell_type": "code",
   "execution_count": 79,
   "metadata": {},
   "outputs": [
    {
     "name": "stdout",
     "output_type": "stream",
     "text": [
      "Kruscal-Wallis test for age: KruskalResult(statistic=24.883809523809532, pvalue=0.00035878809622233443)\n",
      "Kruscal-Wallis test for gender: KruskalResult(statistic=6.818181818181813, pvalue=0.009023438818080334)\n",
      "Kruscal-Wallis test for usage: KruskalResult(statistic=33.33333333333334, pvalue=9.045386293179479e-06)\n"
     ]
    }
   ],
   "source": [
    "for c, ndcg_dict in ndcg_dicts.items():\n",
    "    kruskal_val = get_kruskal(ndcg_dicts, c)\n",
    "    print(f'Kruscal-Wallis test for {c}: {kruskal_val}')"
   ]
  },
  {
   "cell_type": "markdown",
   "metadata": {},
   "source": [
    "### By age and gender"
   ]
  },
  {
   "cell_type": "code",
   "execution_count": 80,
   "metadata": {},
   "outputs": [],
   "source": [
    "def get_df_from_ndcg_dict(ndcg_dicts, key_col):\n",
    "    df_ndcg = pd.DataFrame(ndcg_dicts[key_col])\n",
    "    df_ndcg = df_ndcg.melt()\n",
    "    df_ndcg.columns = [key_col, 'ndcg']\n",
    "    return df_ndcg"
   ]
  },
  {
   "cell_type": "code",
   "execution_count": 81,
   "metadata": {},
   "outputs": [],
   "source": [
    "df_ndcg_age = get_df_from_ndcg_dict(ndcg_dicts, 'age')\n",
    "df_ndcg_gender = get_df_from_ndcg_dict(ndcg_dicts, 'gender')"
   ]
  },
  {
   "cell_type": "code",
   "execution_count": 83,
   "metadata": {},
   "outputs": [
    {
     "data": {
      "text/plain": [
       "<AxesSubplot: title={'center': 'NDCG distribution for users grouped by gender'}, xlabel='gender', ylabel='ndcg'>"
      ]
     },
     "execution_count": 83,
     "metadata": {},
     "output_type": "execute_result"
    },
    {
     "data": {
      "image/png": "[encoded data removed]",
      "text/plain": [
       "<Figure size 2000x600 with 2 Axes>"
      ]
     },
     "metadata": {},
     "output_type": "display_data"
    }
   ],
   "source": [
    "_, ax = plt.subplots(1, 2, figsize=(20, 6))\n",
    "sns.despine()\n",
    "\n",
    "ax[0].set_title('NDCG distribution for users grouped by age')\n",
    "ax[0].set_ylim((0, 0.5))\n",
    "sns.barplot(data=df_ndcg_age, x='age', y='ndcg', color='grey', ax=ax[0])\n",
    "ax[0].set_xticks(list(range(0, len(age_bins))), labels=age_labels)\n",
    "\n",
    "ax[1].set_title('NDCG distribution for users grouped by gender')\n",
    "ax[1].set_ylim((0, 0.5))\n",
    "sns.barplot(data=df_ndcg_gender, x='gender', y='ndcg', color='grey', ax=ax[1])"
   ]
  },
  {
   "cell_type": "markdown",
   "metadata": {},
   "source": [
    "### By usage"
   ]
  },
  {
   "cell_type": "code",
   "execution_count": 84,
   "metadata": {},
   "outputs": [],
   "source": [
    "df_ndcg_usage = get_df_from_ndcg_dict(ndcg_dicts, 'usage')"
   ]
  },
  {
   "cell_type": "code",
   "execution_count": 85,
   "metadata": {},
   "outputs": [
    {
     "data": {
      "text/plain": [
       "<AxesSubplot: title={'center': 'NDCG distribution for users grouped by usage'}, xlabel='usage', ylabel='ndcg'>"
      ]
     },
     "execution_count": 85,
     "metadata": {},
     "output_type": "execute_result"
    },
    {
     "data": {
      "image/png": "[encoded data removed]",
      "text/plain": [
       "<Figure size 2000x600 with 2 Axes>"
      ]
     },
     "metadata": {},
     "output_type": "display_data"
    }
   ],
   "source": [
    "_, ax = plt.subplots(1, 2, figsize=(20, 6))\n",
    "sns.despine()\n",
    "\n",
    "ax[0].set_title('Distribution of users per usage group')\n",
    "sns.barplot(data=popularity_cut_counts, x='usage', y='percentage', color='grey', ax=ax[0], )\n",
    "\n",
    "ax[1].set_title('NDCG distribution for users grouped by usage')\n",
    "sns.barplot(data=df_ndcg_usage, x='usage', y='ndcg', color='grey', ax=ax[1])"
   ]
  }
 ],
 "metadata": {
  "kernelspec": {
   "display_name": "Python 3.10.8 ('edds')",
   "language": "python",
   "name": "python3"
  },
  "language_info": {
   "codemirror_mode": {
    "name": "ipython",
    "version": 3
   },
   "file_extension": ".py",
   "mimetype": "text/x-python",
   "name": "python",
   "nbconvert_exporter": "python",
   "pygments_lexer": "ipython3",
   "version": "3.10.8"
  },
  "orig_nbformat": 4,
  "vscode": {
   "interpreter": {
    "hash": "0b75d337cea0903403ec14692cc4384eaba5e54498267bae03593c34c5c94718"
   }
  }
 },
 "nbformat": 4,
 "nbformat_minor": 2
}
