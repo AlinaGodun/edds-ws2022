{
  "cells": [
    {
      "cell_type": "code",
      "execution_count": 1,
      "metadata": {
        "collapsed": true,
        "id": "8zK8I93JlDvn"
      },
      "outputs": [],
      "source": [
        "import pandas as pd\n",
        "import seaborn as sns\n",
        "import numpy as np\n"
      ]
    },
    {
      "cell_type": "code",
      "source": [
        "!wget http://mtg.upf.edu/static/datasets/last.fm/lastfm-dataset-360K.tar.gz"
      ],
      "metadata": {
        "colab": {
          "base_uri": "https://localhost:8080/"
        },
        "id": "Ov69ZbKxlLv2",
        "outputId": "63b3e266-0f82-4076-da75-bbfe339eecd4"
      },
      "execution_count": 3,
      "outputs": [
        {
          "output_type": "stream",
          "name": "stdout",
          "text": [
            "--2023-01-28 18:18:29--  http://mtg.upf.edu/static/datasets/last.fm/lastfm-dataset-360K.tar.gz\n",
            "Resolving mtg.upf.edu (mtg.upf.edu)... 84.89.139.55\n",
            "Connecting to mtg.upf.edu (mtg.upf.edu)|84.89.139.55|:80... connected.\n",
            "HTTP request sent, awaiting response... 200 OK\n",
            "Length: 569202935 (543M) [application/octet-stream]\n",
            "Saving to: ‘lastfm-dataset-360K.tar.gz’\n",
            "\n",
            "            lastfm-   8%[>                   ]  45.03M   789KB/s    eta 12m 4s ^C\n"
          ]
        }
      ]
    },
    {
      "cell_type": "code",
      "execution_count": null,
      "outputs": [
        {
          "data": {
            "text/plain": "                                     user-mboxsha1  \\\n0         00000c289a1829a808ac09c00daf10bc3c4e223b   \n1         00000c289a1829a808ac09c00daf10bc3c4e223b   \n2         00000c289a1829a808ac09c00daf10bc3c4e223b   \n3         00000c289a1829a808ac09c00daf10bc3c4e223b   \n4         00000c289a1829a808ac09c00daf10bc3c4e223b   \n...                                            ...   \n17535650                              sep 20, 2008   \n17535651                              sep 20, 2008   \n17535652                              sep 20, 2008   \n17535653                              sep 20, 2008   \n17535654                              sep 20, 2008   \n\n                         musicbrainz-artist-id           artist-name  plays  \n0         3bd73256-3905-4f3a-97e2-8b341527f805       betty blowtorch   2137  \n1         f2fb0ff0-5679-42ec-a55c-15109ce6e320             die Ärzte   1099  \n2         b3ae82c2-e60b-4551-a76d-6620f1b456aa     melissa etheridge    897  \n3         3d6bbeb7-f90e-4d10-b440-e153c0d10b53             elvenking    717  \n4         bbd2ffd7-17f4-4506-8572-c1ea58c3f9a8  juliette & the licks    706  \n...                                        ...                   ...    ...  \n17535650  7ffd711a-b34d-4739-8aab-25e045c246da            turbostaat     12  \n17535651  9201190d-409f-426b-9339-9bd7492443e2         cuba missouri     11  \n17535652  e7cf7ff9-ed2f-4315-aca8-bcbd3b2bfa71       little man tate     11  \n17535653  f6f2326f-6b25-4170-b89d-e235b25508e8             sigur rós     10  \n17535654  40f5d9e4-2de7-4f2d-ad41-e31a9a9fea27            the smiths     10  \n\n[17535655 rows x 4 columns]",
            "text/html": "<div>\n<style scoped>\n    .dataframe tbody tr th:only-of-type {\n        vertical-align: middle;\n    }\n\n    .dataframe tbody tr th {\n        vertical-align: top;\n    }\n\n    .dataframe thead th {\n        text-align: right;\n    }\n</style>\n<table border=\"1\" class=\"dataframe\">\n  <thead>\n    <tr style=\"text-align: right;\">\n      <th></th>\n      <th>user-mboxsha1</th>\n      <th>musicbrainz-artist-id</th>\n      <th>artist-name</th>\n      <th>plays</th>\n    </tr>\n  </thead>\n  <tbody>\n    <tr>\n      <th>0</th>\n      <td>00000c289a1829a808ac09c00daf10bc3c4e223b</td>\n      <td>3bd73256-3905-4f3a-97e2-8b341527f805</td>\n      <td>betty blowtorch</td>\n      <td>2137</td>\n    </tr>\n    <tr>\n      <th>1</th>\n      <td>00000c289a1829a808ac09c00daf10bc3c4e223b</td>\n      <td>f2fb0ff0-5679-42ec-a55c-15109ce6e320</td>\n      <td>die Ärzte</td>\n      <td>1099</td>\n    </tr>\n    <tr>\n      <th>2</th>\n      <td>00000c289a1829a808ac09c00daf10bc3c4e223b</td>\n      <td>b3ae82c2-e60b-4551-a76d-6620f1b456aa</td>\n      <td>melissa etheridge</td>\n      <td>897</td>\n    </tr>\n    <tr>\n      <th>3</th>\n      <td>00000c289a1829a808ac09c00daf10bc3c4e223b</td>\n      <td>3d6bbeb7-f90e-4d10-b440-e153c0d10b53</td>\n      <td>elvenking</td>\n      <td>717</td>\n    </tr>\n    <tr>\n      <th>4</th>\n      <td>00000c289a1829a808ac09c00daf10bc3c4e223b</td>\n      <td>bbd2ffd7-17f4-4506-8572-c1ea58c3f9a8</td>\n      <td>juliette &amp; the licks</td>\n      <td>706</td>\n    </tr>\n    <tr>\n      <th>...</th>\n      <td>...</td>\n      <td>...</td>\n      <td>...</td>\n      <td>...</td>\n    </tr>\n    <tr>\n      <th>17535650</th>\n      <td>sep 20, 2008</td>\n      <td>7ffd711a-b34d-4739-8aab-25e045c246da</td>\n      <td>turbostaat</td>\n      <td>12</td>\n    </tr>\n    <tr>\n      <th>17535651</th>\n      <td>sep 20, 2008</td>\n      <td>9201190d-409f-426b-9339-9bd7492443e2</td>\n      <td>cuba missouri</td>\n      <td>11</td>\n    </tr>\n    <tr>\n      <th>17535652</th>\n      <td>sep 20, 2008</td>\n      <td>e7cf7ff9-ed2f-4315-aca8-bcbd3b2bfa71</td>\n      <td>little man tate</td>\n      <td>11</td>\n    </tr>\n    <tr>\n      <th>17535653</th>\n      <td>sep 20, 2008</td>\n      <td>f6f2326f-6b25-4170-b89d-e235b25508e8</td>\n      <td>sigur rós</td>\n      <td>10</td>\n    </tr>\n    <tr>\n      <th>17535654</th>\n      <td>sep 20, 2008</td>\n      <td>40f5d9e4-2de7-4f2d-ad41-e31a9a9fea27</td>\n      <td>the smiths</td>\n      <td>10</td>\n    </tr>\n  </tbody>\n</table>\n<p>17535655 rows × 4 columns</p>\n</div>"
          },
          "execution_count": 8,
          "metadata": {},
          "output_type": "execute_result"
        }
      ],
      "source": [
        "cols = ['user-mboxsha1', 'musicbrainz-artist-id', 'artist-name', 'plays']\n",
        "data_artists = pd.read_csv(\"lastfm-dataset-360K/usersha1-artmbid-artname-plays.tsv\", sep=\"\\t\", names=cols, header=None)\n",
        "data_artists"
      ],
      "metadata": {
        "id": "amwAqW6AlDvp",
        "outputId": "535dac89-4f69-43c6-c8f5-6355fc5a430e"
      }
    },
    {
      "cell_type": "code",
      "execution_count": null,
      "outputs": [
        {
          "data": {
            "text/plain": "                                   user-mboxsha1 gender   age  \\\n0       00000c289a1829a808ac09c00daf10bc3c4e223b      f  22.0   \n1       00001411dc427966b17297bf4d69e7e193135d89      f   NaN   \n2       00004d2ac9316e22dc007ab2243d6fcb239e707d    NaN   NaN   \n3       000063d3fe1cf2ba248b9e3c3f0334845a27a6bf      m  19.0   \n4       00007a47085b9aab8af55f52ec8846ac479ac4fe      m  28.0   \n...                                          ...    ...   ...   \n359342  fffe7823f67b433b45f22056467db921c1d3d7d0      m  25.0   \n359343  fffe8637bd8234309e871409c7ebef99a720afc1      m  25.0   \n359344  fffe8c7f952d9b960a56ed4dcb40a415d924b224      m  20.0   \n359345  ffff9af9ae04d263dae91cb838b1f3a6725f5ffb      m  20.0   \n359346  ffff9ef87a7d9494ada2f9ade4b9ff637c0759ac      m  21.0   \n\n                   country        signup  \n0                  Germany   Feb 1, 2007  \n1                   Canada   Dec 4, 2007  \n2                  Germany   Sep 1, 2006  \n3                   Mexico  Apr 28, 2008  \n4            United States  Jan 27, 2006  \n...                    ...           ...  \n359342             Germany  Jun 24, 2006  \n359343              Brazil   Sep 9, 2007  \n359344       United States   Aug 8, 2007  \n359345  Russian Federation   Dec 3, 2005  \n359346             Belgium  Nov 25, 2008  \n\n[359347 rows x 5 columns]",
            "text/html": "<div>\n<style scoped>\n    .dataframe tbody tr th:only-of-type {\n        vertical-align: middle;\n    }\n\n    .dataframe tbody tr th {\n        vertical-align: top;\n    }\n\n    .dataframe thead th {\n        text-align: right;\n    }\n</style>\n<table border=\"1\" class=\"dataframe\">\n  <thead>\n    <tr style=\"text-align: right;\">\n      <th></th>\n      <th>user-mboxsha1</th>\n      <th>gender</th>\n      <th>age</th>\n      <th>country</th>\n      <th>signup</th>\n    </tr>\n  </thead>\n  <tbody>\n    <tr>\n      <th>0</th>\n      <td>00000c289a1829a808ac09c00daf10bc3c4e223b</td>\n      <td>f</td>\n      <td>22.0</td>\n      <td>Germany</td>\n      <td>Feb 1, 2007</td>\n    </tr>\n    <tr>\n      <th>1</th>\n      <td>00001411dc427966b17297bf4d69e7e193135d89</td>\n      <td>f</td>\n      <td>NaN</td>\n      <td>Canada</td>\n      <td>Dec 4, 2007</td>\n    </tr>\n    <tr>\n      <th>2</th>\n      <td>00004d2ac9316e22dc007ab2243d6fcb239e707d</td>\n      <td>NaN</td>\n      <td>NaN</td>\n      <td>Germany</td>\n      <td>Sep 1, 2006</td>\n    </tr>\n    <tr>\n      <th>3</th>\n      <td>000063d3fe1cf2ba248b9e3c3f0334845a27a6bf</td>\n      <td>m</td>\n      <td>19.0</td>\n      <td>Mexico</td>\n      <td>Apr 28, 2008</td>\n    </tr>\n    <tr>\n      <th>4</th>\n      <td>00007a47085b9aab8af55f52ec8846ac479ac4fe</td>\n      <td>m</td>\n      <td>28.0</td>\n      <td>United States</td>\n      <td>Jan 27, 2006</td>\n    </tr>\n    <tr>\n      <th>...</th>\n      <td>...</td>\n      <td>...</td>\n      <td>...</td>\n      <td>...</td>\n      <td>...</td>\n    </tr>\n    <tr>\n      <th>359342</th>\n      <td>fffe7823f67b433b45f22056467db921c1d3d7d0</td>\n      <td>m</td>\n      <td>25.0</td>\n      <td>Germany</td>\n      <td>Jun 24, 2006</td>\n    </tr>\n    <tr>\n      <th>359343</th>\n      <td>fffe8637bd8234309e871409c7ebef99a720afc1</td>\n      <td>m</td>\n      <td>25.0</td>\n      <td>Brazil</td>\n      <td>Sep 9, 2007</td>\n    </tr>\n    <tr>\n      <th>359344</th>\n      <td>fffe8c7f952d9b960a56ed4dcb40a415d924b224</td>\n      <td>m</td>\n      <td>20.0</td>\n      <td>United States</td>\n      <td>Aug 8, 2007</td>\n    </tr>\n    <tr>\n      <th>359345</th>\n      <td>ffff9af9ae04d263dae91cb838b1f3a6725f5ffb</td>\n      <td>m</td>\n      <td>20.0</td>\n      <td>Russian Federation</td>\n      <td>Dec 3, 2005</td>\n    </tr>\n    <tr>\n      <th>359346</th>\n      <td>ffff9ef87a7d9494ada2f9ade4b9ff637c0759ac</td>\n      <td>m</td>\n      <td>21.0</td>\n      <td>Belgium</td>\n      <td>Nov 25, 2008</td>\n    </tr>\n  </tbody>\n</table>\n<p>359347 rows × 5 columns</p>\n</div>"
          },
          "execution_count": 9,
          "metadata": {},
          "output_type": "execute_result"
        }
      ],
      "source": [
        "cols = ['user-mboxsha1', 'gender', 'age', 'country', 'signup']\n",
        "data_users = pd.read_csv(\"lastfm-dataset-360K/usersha1-profile.tsv\", sep=\"\\t\", names=cols, header=None)\n",
        "data_users"
      ],
      "metadata": {
        "id": "hv1kDz9klDvr",
        "outputId": "30cd0696-c468-41cd-8ce0-a3578f2b1f35"
      }
    },
    {
      "cell_type": "code",
      "execution_count": null,
      "outputs": [],
      "source": [
        "df = pd.merge(data_artists, data_users, on='user-mboxsha1')"
      ],
      "metadata": {
        "id": "hk19T2s0lDvs"
      }
    },
    {
      "cell_type": "code",
      "execution_count": null,
      "outputs": [
        {
          "data": {
            "text/plain": "                                     user-mboxsha1  \\\n0         00000c289a1829a808ac09c00daf10bc3c4e223b   \n1         00000c289a1829a808ac09c00daf10bc3c4e223b   \n2         00000c289a1829a808ac09c00daf10bc3c4e223b   \n3         00000c289a1829a808ac09c00daf10bc3c4e223b   \n4         00000c289a1829a808ac09c00daf10bc3c4e223b   \n...                                            ...   \n17535564  ffff9ef87a7d9494ada2f9ade4b9ff637c0759ac   \n17535565  ffff9ef87a7d9494ada2f9ade4b9ff637c0759ac   \n17535566  ffff9ef87a7d9494ada2f9ade4b9ff637c0759ac   \n17535567  ffff9ef87a7d9494ada2f9ade4b9ff637c0759ac   \n17535568  ffff9ef87a7d9494ada2f9ade4b9ff637c0759ac   \n\n                         musicbrainz-artist-id           artist-name  plays  \\\n0         3bd73256-3905-4f3a-97e2-8b341527f805       betty blowtorch   2137   \n1         f2fb0ff0-5679-42ec-a55c-15109ce6e320             die Ärzte   1099   \n2         b3ae82c2-e60b-4551-a76d-6620f1b456aa     melissa etheridge    897   \n3         3d6bbeb7-f90e-4d10-b440-e153c0d10b53             elvenking    717   \n4         bbd2ffd7-17f4-4506-8572-c1ea58c3f9a8  juliette & the licks    706   \n...                                        ...                   ...    ...   \n17535564  7e482754-d3f6-49e5-b351-235849754e26             tristania     61   \n17535565  656a0800-3a2b-47ed-a3ff-1e2908fdd2ff               xandria     61   \n17535566  4d7928cd-7ed2-4282-8c29-c0c9f966f1bd          alice cooper     59   \n17535567  298909e4-ebcb-47b8-95e9-cc53b087fc65           lamb of god     58   \n17535568  ef58d4c9-0d40-42ba-bfab-9186c1483edd           dragonforce     57   \n\n         gender   age  country        signup  \n0             f  22.0  Germany   Feb 1, 2007  \n1             f  22.0  Germany   Feb 1, 2007  \n2             f  22.0  Germany   Feb 1, 2007  \n3             f  22.0  Germany   Feb 1, 2007  \n4             f  22.0  Germany   Feb 1, 2007  \n...         ...   ...      ...           ...  \n17535564      m  21.0  Belgium  Nov 25, 2008  \n17535565      m  21.0  Belgium  Nov 25, 2008  \n17535566      m  21.0  Belgium  Nov 25, 2008  \n17535567      m  21.0  Belgium  Nov 25, 2008  \n17535568      m  21.0  Belgium  Nov 25, 2008  \n\n[17535569 rows x 8 columns]",
            "text/html": "<div>\n<style scoped>\n    .dataframe tbody tr th:only-of-type {\n        vertical-align: middle;\n    }\n\n    .dataframe tbody tr th {\n        vertical-align: top;\n    }\n\n    .dataframe thead th {\n        text-align: right;\n    }\n</style>\n<table border=\"1\" class=\"dataframe\">\n  <thead>\n    <tr style=\"text-align: right;\">\n      <th></th>\n      <th>user-mboxsha1</th>\n      <th>musicbrainz-artist-id</th>\n      <th>artist-name</th>\n      <th>plays</th>\n      <th>gender</th>\n      <th>age</th>\n      <th>country</th>\n      <th>signup</th>\n    </tr>\n  </thead>\n  <tbody>\n    <tr>\n      <th>0</th>\n      <td>00000c289a1829a808ac09c00daf10bc3c4e223b</td>\n      <td>3bd73256-3905-4f3a-97e2-8b341527f805</td>\n      <td>betty blowtorch</td>\n      <td>2137</td>\n      <td>f</td>\n      <td>22.0</td>\n      <td>Germany</td>\n      <td>Feb 1, 2007</td>\n    </tr>\n    <tr>\n      <th>1</th>\n      <td>00000c289a1829a808ac09c00daf10bc3c4e223b</td>\n      <td>f2fb0ff0-5679-42ec-a55c-15109ce6e320</td>\n      <td>die Ärzte</td>\n      <td>1099</td>\n      <td>f</td>\n      <td>22.0</td>\n      <td>Germany</td>\n      <td>Feb 1, 2007</td>\n    </tr>\n    <tr>\n      <th>2</th>\n      <td>00000c289a1829a808ac09c00daf10bc3c4e223b</td>\n      <td>b3ae82c2-e60b-4551-a76d-6620f1b456aa</td>\n      <td>melissa etheridge</td>\n      <td>897</td>\n      <td>f</td>\n      <td>22.0</td>\n      <td>Germany</td>\n      <td>Feb 1, 2007</td>\n    </tr>\n    <tr>\n      <th>3</th>\n      <td>00000c289a1829a808ac09c00daf10bc3c4e223b</td>\n      <td>3d6bbeb7-f90e-4d10-b440-e153c0d10b53</td>\n      <td>elvenking</td>\n      <td>717</td>\n      <td>f</td>\n      <td>22.0</td>\n      <td>Germany</td>\n      <td>Feb 1, 2007</td>\n    </tr>\n    <tr>\n      <th>4</th>\n      <td>00000c289a1829a808ac09c00daf10bc3c4e223b</td>\n      <td>bbd2ffd7-17f4-4506-8572-c1ea58c3f9a8</td>\n      <td>juliette &amp; the licks</td>\n      <td>706</td>\n      <td>f</td>\n      <td>22.0</td>\n      <td>Germany</td>\n      <td>Feb 1, 2007</td>\n    </tr>\n    <tr>\n      <th>...</th>\n      <td>...</td>\n      <td>...</td>\n      <td>...</td>\n      <td>...</td>\n      <td>...</td>\n      <td>...</td>\n      <td>...</td>\n      <td>...</td>\n    </tr>\n    <tr>\n      <th>17535564</th>\n      <td>ffff9ef87a7d9494ada2f9ade4b9ff637c0759ac</td>\n      <td>7e482754-d3f6-49e5-b351-235849754e26</td>\n      <td>tristania</td>\n      <td>61</td>\n      <td>m</td>\n      <td>21.0</td>\n      <td>Belgium</td>\n      <td>Nov 25, 2008</td>\n    </tr>\n    <tr>\n      <th>17535565</th>\n      <td>ffff9ef87a7d9494ada2f9ade4b9ff637c0759ac</td>\n      <td>656a0800-3a2b-47ed-a3ff-1e2908fdd2ff</td>\n      <td>xandria</td>\n      <td>61</td>\n      <td>m</td>\n      <td>21.0</td>\n      <td>Belgium</td>\n      <td>Nov 25, 2008</td>\n    </tr>\n    <tr>\n      <th>17535566</th>\n      <td>ffff9ef87a7d9494ada2f9ade4b9ff637c0759ac</td>\n      <td>4d7928cd-7ed2-4282-8c29-c0c9f966f1bd</td>\n      <td>alice cooper</td>\n      <td>59</td>\n      <td>m</td>\n      <td>21.0</td>\n      <td>Belgium</td>\n      <td>Nov 25, 2008</td>\n    </tr>\n    <tr>\n      <th>17535567</th>\n      <td>ffff9ef87a7d9494ada2f9ade4b9ff637c0759ac</td>\n      <td>298909e4-ebcb-47b8-95e9-cc53b087fc65</td>\n      <td>lamb of god</td>\n      <td>58</td>\n      <td>m</td>\n      <td>21.0</td>\n      <td>Belgium</td>\n      <td>Nov 25, 2008</td>\n    </tr>\n    <tr>\n      <th>17535568</th>\n      <td>ffff9ef87a7d9494ada2f9ade4b9ff637c0759ac</td>\n      <td>ef58d4c9-0d40-42ba-bfab-9186c1483edd</td>\n      <td>dragonforce</td>\n      <td>57</td>\n      <td>m</td>\n      <td>21.0</td>\n      <td>Belgium</td>\n      <td>Nov 25, 2008</td>\n    </tr>\n  </tbody>\n</table>\n<p>17535569 rows × 8 columns</p>\n</div>"
          },
          "execution_count": 13,
          "metadata": {},
          "output_type": "execute_result"
        }
      ],
      "source": [
        "df"
      ],
      "metadata": {
        "id": "pSddAE9ElDvu",
        "outputId": "ff8b65f4-0d52-4baf-89e7-3aeb4e22a979"
      }
    },
    {
      "cell_type": "code",
      "execution_count": null,
      "outputs": [
        {
          "data": {
            "text/plain": "<AxesSubplot: xlabel='gender', ylabel='count'>"
          },
          "execution_count": 11,
          "metadata": {},
          "output_type": "execute_result"
        },
        {
          "data": {
            "text/plain": "<Figure size 640x480 with 1 Axes>",
            "image/png": "[encoded data removed]"
          },
          "metadata": {},
          "output_type": "display_data"
        }
      ],
      "source": [
        "sns.countplot(x='gender', data=data_users)"
      ],
      "metadata": {
        "id": "VYcrIlKblDvu",
        "outputId": "690b72f9-a017-4944-c649-93b4b30163fb"
      }
    },
    {
      "cell_type": "code",
      "execution_count": null,
      "outputs": [
        {
          "data": {
            "text/plain": "                                   user-mboxsha1 gender  age        country  \\\n1       00001411dc427966b17297bf4d69e7e193135d89      f  NaN         Canada   \n2       00004d2ac9316e22dc007ab2243d6fcb239e707d    NaN  NaN        Germany   \n9       0001399387da41d557219578fb08b12afa25ab67      m  NaN        Ukraine   \n12      0001a88a7092846abb1b70dbcced05f914976371    NaN  NaN          Japan   \n14      000215d3060a5b0ab7b3c415d49ec579100d4c87      f  NaN      Australia   \n...                                          ...    ...  ...            ...   \n359287  fff508bfea0e1953ecfe4ec6c635fb9e2ee4b0cc    NaN  NaN    Switzerland   \n359297  fff6c0fff0e0bc03f7b5a3aa8a538dc9d887fa4a      m  NaN         Poland   \n359304  fff89b6b5332f0f38996f11c88f908a3924926fe      m  NaN  United States   \n359312  fffa4c6989304128f53a1643c0515277435f81dd      m  NaN          Japan   \n359321  fffb63874b7ca9ae472fe2e1eaa28fa32f2dc35d      f  NaN          China   \n\n              signup  \n1        Dec 4, 2007  \n2        Sep 1, 2006  \n9       Aug 17, 2008  \n12      Oct 13, 2008  \n14      Jul 26, 2008  \n...              ...  \n359287   Jul 5, 2007  \n359297  Mar 25, 2008  \n359304   Jun 6, 2009  \n359312  Dec 23, 2008  \n359321   Sep 5, 2007  \n\n[74900 rows x 5 columns]",
            "text/html": "<div>\n<style scoped>\n    .dataframe tbody tr th:only-of-type {\n        vertical-align: middle;\n    }\n\n    .dataframe tbody tr th {\n        vertical-align: top;\n    }\n\n    .dataframe thead th {\n        text-align: right;\n    }\n</style>\n<table border=\"1\" class=\"dataframe\">\n  <thead>\n    <tr style=\"text-align: right;\">\n      <th></th>\n      <th>user-mboxsha1</th>\n      <th>gender</th>\n      <th>age</th>\n      <th>country</th>\n      <th>signup</th>\n    </tr>\n  </thead>\n  <tbody>\n    <tr>\n      <th>1</th>\n      <td>00001411dc427966b17297bf4d69e7e193135d89</td>\n      <td>f</td>\n      <td>NaN</td>\n      <td>Canada</td>\n      <td>Dec 4, 2007</td>\n    </tr>\n    <tr>\n      <th>2</th>\n      <td>00004d2ac9316e22dc007ab2243d6fcb239e707d</td>\n      <td>NaN</td>\n      <td>NaN</td>\n      <td>Germany</td>\n      <td>Sep 1, 2006</td>\n    </tr>\n    <tr>\n      <th>9</th>\n      <td>0001399387da41d557219578fb08b12afa25ab67</td>\n      <td>m</td>\n      <td>NaN</td>\n      <td>Ukraine</td>\n      <td>Aug 17, 2008</td>\n    </tr>\n    <tr>\n      <th>12</th>\n      <td>0001a88a7092846abb1b70dbcced05f914976371</td>\n      <td>NaN</td>\n      <td>NaN</td>\n      <td>Japan</td>\n      <td>Oct 13, 2008</td>\n    </tr>\n    <tr>\n      <th>14</th>\n      <td>000215d3060a5b0ab7b3c415d49ec579100d4c87</td>\n      <td>f</td>\n      <td>NaN</td>\n      <td>Australia</td>\n      <td>Jul 26, 2008</td>\n    </tr>\n    <tr>\n      <th>...</th>\n      <td>...</td>\n      <td>...</td>\n      <td>...</td>\n      <td>...</td>\n      <td>...</td>\n    </tr>\n    <tr>\n      <th>359287</th>\n      <td>fff508bfea0e1953ecfe4ec6c635fb9e2ee4b0cc</td>\n      <td>NaN</td>\n      <td>NaN</td>\n      <td>Switzerland</td>\n      <td>Jul 5, 2007</td>\n    </tr>\n    <tr>\n      <th>359297</th>\n      <td>fff6c0fff0e0bc03f7b5a3aa8a538dc9d887fa4a</td>\n      <td>m</td>\n      <td>NaN</td>\n      <td>Poland</td>\n      <td>Mar 25, 2008</td>\n    </tr>\n    <tr>\n      <th>359304</th>\n      <td>fff89b6b5332f0f38996f11c88f908a3924926fe</td>\n      <td>m</td>\n      <td>NaN</td>\n      <td>United States</td>\n      <td>Jun 6, 2009</td>\n    </tr>\n    <tr>\n      <th>359312</th>\n      <td>fffa4c6989304128f53a1643c0515277435f81dd</td>\n      <td>m</td>\n      <td>NaN</td>\n      <td>Japan</td>\n      <td>Dec 23, 2008</td>\n    </tr>\n    <tr>\n      <th>359321</th>\n      <td>fffb63874b7ca9ae472fe2e1eaa28fa32f2dc35d</td>\n      <td>f</td>\n      <td>NaN</td>\n      <td>China</td>\n      <td>Sep 5, 2007</td>\n    </tr>\n  </tbody>\n</table>\n<p>74900 rows × 5 columns</p>\n</div>"
          },
          "execution_count": 34,
          "metadata": {},
          "output_type": "execute_result"
        }
      ],
      "source": [
        "data_users[data_users['age'].isna()]"
      ],
      "metadata": {
        "id": "ze_1Ds40lDvv",
        "outputId": "b277ee31-60d0-4cc0-e2e4-583c5afa938d"
      }
    },
    {
      "cell_type": "code",
      "execution_count": null,
      "outputs": [
        {
          "data": {
            "text/plain": "<AxesSubplot: xlabel='age', ylabel='count'>"
          },
          "execution_count": 37,
          "metadata": {},
          "output_type": "execute_result"
        },
        {
          "data": {
            "text/plain": "<Figure size 640x480 with 1 Axes>",
            "image/png": "[encoded data removed]"
          },
          "metadata": {},
          "output_type": "display_data"
        }
      ],
      "source": [
        "\n"
      ],
      "metadata": {
        "id": "PTvHQSGFlDvw",
        "outputId": "682d95cd-305c-4692-b858-a5d01abb3eb0"
      }
    },
    {
      "cell_type": "code",
      "execution_count": null,
      "outputs": [
        {
          "data": {
            "text/plain": "2040b3d3cb47caace19e728090a88d6b1087aa8e    166\n13c0df8a58cd3ca9e37d8e90662d2ad3c062eaa5    166\n52bf0682648b44e6cc27ebe512dd4fa3455a11c2    150\n7679da839e1a6c2d299c7fd6834fb9bf6e229224    139\n8d8643cded0ac18e66a3c5a2b74de21fbca0e6b7    132\n                                           ... \ne38523c5c54de0eb62bcad8e2f3fb01f1fa41b7f      1\nc1cb4c8a0aa87b8198a4c8ef795e2b7b67ba5933      1\n23cce0df9623cd6cbef59ac70a5e4fe541fb21e8      1\n64b0bfaf1dd3fd6f4b4ecaa1a98becd15c83b89d      1\n0b4688de02bb80f602914deae0b65eac1f311fe0      1\nName: user-mboxsha1, Length: 358866, dtype: int64"
          },
          "execution_count": 29,
          "metadata": {},
          "output_type": "execute_result"
        }
      ],
      "source": [
        "df['user-mboxsha1'].value_counts()"
      ],
      "metadata": {
        "id": "Tc48mpz5lDvx",
        "outputId": "f2edddb8-00de-4e38-dbbd-000d24edef26"
      }
    },
    {
      "cell_type": "code",
      "execution_count": null,
      "outputs": [
        {
          "ename": "ValueError",
          "evalue": "Could not interpret input 'gender'",
          "output_type": "error",
          "traceback": [
            "\u001b[0;31m---------------------------------------------------------------------------\u001b[0m",
            "\u001b[0;31mValueError\u001b[0m                                Traceback (most recent call last)",
            "Cell \u001b[0;32mIn[27], line 1\u001b[0m\n\u001b[0;32m----> 1\u001b[0m \u001b[43msns\u001b[49m\u001b[38;5;241;43m.\u001b[39;49m\u001b[43mboxplot\u001b[49m\u001b[43m(\u001b[49m\u001b[43mx\u001b[49m\u001b[38;5;241;43m=\u001b[39;49m\u001b[38;5;124;43m'\u001b[39;49m\u001b[38;5;124;43mgender\u001b[39;49m\u001b[38;5;124;43m'\u001b[39;49m\u001b[43m,\u001b[49m\u001b[43m \u001b[49m\u001b[43mdata\u001b[49m\u001b[38;5;241;43m=\u001b[39;49m\u001b[43mdata_users\u001b[49m\u001b[38;5;241;43m.\u001b[39;49m\u001b[43mvalue_counts\u001b[49m\u001b[43m(\u001b[49m\u001b[43m)\u001b[49m\u001b[43m)\u001b[49m\n",
            "File \u001b[0;32m~/tuwien/eeds/edds-ws2022/venv/lib/python3.10/site-packages/seaborn/categorical.py:2231\u001b[0m, in \u001b[0;36mboxplot\u001b[0;34m(data, x, y, hue, order, hue_order, orient, color, palette, saturation, width, dodge, fliersize, linewidth, whis, ax, **kwargs)\u001b[0m\n\u001b[1;32m   2224\u001b[0m \u001b[38;5;28;01mdef\u001b[39;00m \u001b[38;5;21mboxplot\u001b[39m(\n\u001b[1;32m   2225\u001b[0m     data\u001b[38;5;241m=\u001b[39m\u001b[38;5;28;01mNone\u001b[39;00m, \u001b[38;5;241m*\u001b[39m, x\u001b[38;5;241m=\u001b[39m\u001b[38;5;28;01mNone\u001b[39;00m, y\u001b[38;5;241m=\u001b[39m\u001b[38;5;28;01mNone\u001b[39;00m, hue\u001b[38;5;241m=\u001b[39m\u001b[38;5;28;01mNone\u001b[39;00m, order\u001b[38;5;241m=\u001b[39m\u001b[38;5;28;01mNone\u001b[39;00m, hue_order\u001b[38;5;241m=\u001b[39m\u001b[38;5;28;01mNone\u001b[39;00m,\n\u001b[1;32m   2226\u001b[0m     orient\u001b[38;5;241m=\u001b[39m\u001b[38;5;28;01mNone\u001b[39;00m, color\u001b[38;5;241m=\u001b[39m\u001b[38;5;28;01mNone\u001b[39;00m, palette\u001b[38;5;241m=\u001b[39m\u001b[38;5;28;01mNone\u001b[39;00m, saturation\u001b[38;5;241m=\u001b[39m\u001b[38;5;241m.75\u001b[39m, width\u001b[38;5;241m=\u001b[39m\u001b[38;5;241m.8\u001b[39m,\n\u001b[1;32m   2227\u001b[0m     dodge\u001b[38;5;241m=\u001b[39m\u001b[38;5;28;01mTrue\u001b[39;00m, fliersize\u001b[38;5;241m=\u001b[39m\u001b[38;5;241m5\u001b[39m, linewidth\u001b[38;5;241m=\u001b[39m\u001b[38;5;28;01mNone\u001b[39;00m, whis\u001b[38;5;241m=\u001b[39m\u001b[38;5;241m1.5\u001b[39m, ax\u001b[38;5;241m=\u001b[39m\u001b[38;5;28;01mNone\u001b[39;00m,\n\u001b[1;32m   2228\u001b[0m     \u001b[38;5;241m*\u001b[39m\u001b[38;5;241m*\u001b[39mkwargs\n\u001b[1;32m   2229\u001b[0m ):\n\u001b[0;32m-> 2231\u001b[0m     plotter \u001b[38;5;241m=\u001b[39m \u001b[43m_BoxPlotter\u001b[49m\u001b[43m(\u001b[49m\u001b[43mx\u001b[49m\u001b[43m,\u001b[49m\u001b[43m \u001b[49m\u001b[43my\u001b[49m\u001b[43m,\u001b[49m\u001b[43m \u001b[49m\u001b[43mhue\u001b[49m\u001b[43m,\u001b[49m\u001b[43m \u001b[49m\u001b[43mdata\u001b[49m\u001b[43m,\u001b[49m\u001b[43m \u001b[49m\u001b[43morder\u001b[49m\u001b[43m,\u001b[49m\u001b[43m \u001b[49m\u001b[43mhue_order\u001b[49m\u001b[43m,\u001b[49m\n\u001b[1;32m   2232\u001b[0m \u001b[43m                          \u001b[49m\u001b[43morient\u001b[49m\u001b[43m,\u001b[49m\u001b[43m \u001b[49m\u001b[43mcolor\u001b[49m\u001b[43m,\u001b[49m\u001b[43m \u001b[49m\u001b[43mpalette\u001b[49m\u001b[43m,\u001b[49m\u001b[43m \u001b[49m\u001b[43msaturation\u001b[49m\u001b[43m,\u001b[49m\n\u001b[1;32m   2233\u001b[0m \u001b[43m                          \u001b[49m\u001b[43mwidth\u001b[49m\u001b[43m,\u001b[49m\u001b[43m \u001b[49m\u001b[43mdodge\u001b[49m\u001b[43m,\u001b[49m\u001b[43m \u001b[49m\u001b[43mfliersize\u001b[49m\u001b[43m,\u001b[49m\u001b[43m \u001b[49m\u001b[43mlinewidth\u001b[49m\u001b[43m)\u001b[49m\n\u001b[1;32m   2235\u001b[0m     \u001b[38;5;28;01mif\u001b[39;00m ax \u001b[38;5;129;01mis\u001b[39;00m \u001b[38;5;28;01mNone\u001b[39;00m:\n\u001b[1;32m   2236\u001b[0m         ax \u001b[38;5;241m=\u001b[39m plt\u001b[38;5;241m.\u001b[39mgca()\n",
            "File \u001b[0;32m~/tuwien/eeds/edds-ws2022/venv/lib/python3.10/site-packages/seaborn/categorical.py:785\u001b[0m, in \u001b[0;36m_BoxPlotter.__init__\u001b[0;34m(self, x, y, hue, data, order, hue_order, orient, color, palette, saturation, width, dodge, fliersize, linewidth)\u001b[0m\n\u001b[1;32m    781\u001b[0m \u001b[38;5;28;01mdef\u001b[39;00m \u001b[38;5;21m__init__\u001b[39m(\u001b[38;5;28mself\u001b[39m, x, y, hue, data, order, hue_order,\n\u001b[1;32m    782\u001b[0m              orient, color, palette, saturation,\n\u001b[1;32m    783\u001b[0m              width, dodge, fliersize, linewidth):\n\u001b[0;32m--> 785\u001b[0m     \u001b[38;5;28;43mself\u001b[39;49m\u001b[38;5;241;43m.\u001b[39;49m\u001b[43mestablish_variables\u001b[49m\u001b[43m(\u001b[49m\u001b[43mx\u001b[49m\u001b[43m,\u001b[49m\u001b[43m \u001b[49m\u001b[43my\u001b[49m\u001b[43m,\u001b[49m\u001b[43m \u001b[49m\u001b[43mhue\u001b[49m\u001b[43m,\u001b[49m\u001b[43m \u001b[49m\u001b[43mdata\u001b[49m\u001b[43m,\u001b[49m\u001b[43m \u001b[49m\u001b[43morient\u001b[49m\u001b[43m,\u001b[49m\u001b[43m \u001b[49m\u001b[43morder\u001b[49m\u001b[43m,\u001b[49m\u001b[43m \u001b[49m\u001b[43mhue_order\u001b[49m\u001b[43m)\u001b[49m\n\u001b[1;32m    786\u001b[0m     \u001b[38;5;28mself\u001b[39m\u001b[38;5;241m.\u001b[39mestablish_colors(color, palette, saturation)\n\u001b[1;32m    788\u001b[0m     \u001b[38;5;28mself\u001b[39m\u001b[38;5;241m.\u001b[39mdodge \u001b[38;5;241m=\u001b[39m dodge\n",
            "File \u001b[0;32m~/tuwien/eeds/edds-ws2022/venv/lib/python3.10/site-packages/seaborn/categorical.py:541\u001b[0m, in \u001b[0;36m_CategoricalPlotter.establish_variables\u001b[0;34m(self, x, y, hue, data, orient, order, hue_order, units)\u001b[0m\n\u001b[1;32m    539\u001b[0m     \u001b[38;5;28;01mif\u001b[39;00m \u001b[38;5;28misinstance\u001b[39m(var, \u001b[38;5;28mstr\u001b[39m):\n\u001b[1;32m    540\u001b[0m         err \u001b[38;5;241m=\u001b[39m \u001b[38;5;124mf\u001b[39m\u001b[38;5;124m\"\u001b[39m\u001b[38;5;124mCould not interpret input \u001b[39m\u001b[38;5;124m'\u001b[39m\u001b[38;5;132;01m{\u001b[39;00mvar\u001b[38;5;132;01m}\u001b[39;00m\u001b[38;5;124m'\u001b[39m\u001b[38;5;124m\"\u001b[39m\n\u001b[0;32m--> 541\u001b[0m         \u001b[38;5;28;01mraise\u001b[39;00m \u001b[38;5;167;01mValueError\u001b[39;00m(err)\n\u001b[1;32m    543\u001b[0m \u001b[38;5;66;03m# Figure out the plotting orientation\u001b[39;00m\n\u001b[1;32m    544\u001b[0m orient \u001b[38;5;241m=\u001b[39m infer_orient(\n\u001b[1;32m    545\u001b[0m     x, y, orient, require_numeric\u001b[38;5;241m=\u001b[39m\u001b[38;5;28mself\u001b[39m\u001b[38;5;241m.\u001b[39mrequire_numeric\n\u001b[1;32m    546\u001b[0m )\n",
            "\u001b[0;31mValueError\u001b[0m: Could not interpret input 'gender'"
          ]
        }
      ],
      "source": [
        "sns.boxplot(x='gender', data=data_users.value_counts())"
      ],
      "metadata": {
        "id": "qwsYa4oBlDvy",
        "outputId": "192d2b6b-4a20-4c55-edee-99407b358197"
      }
    },
    {
      "cell_type": "code",
      "source": [
        "!pip install implicit"
      ],
      "metadata": {
        "colab": {
          "base_uri": "https://localhost:8080/"
        },
        "id": "Ulhxeleqm4N9",
        "outputId": "0e173bfb-9e88-4075-bf5e-9613f9e0ea2a"
      },
      "execution_count": 2,
      "outputs": [
        {
          "output_type": "stream",
          "name": "stdout",
          "text": [
            "Looking in indexes: https://pypi.org/simple, https://us-python.pkg.dev/colab-wheels/public/simple/\n",
            "Requirement already satisfied: implicit in /usr/local/lib/python3.8/dist-packages (0.6.2)\n",
            "Requirement already satisfied: scipy>=0.16 in /usr/local/lib/python3.8/dist-packages (from implicit) (1.7.3)\n",
            "Requirement already satisfied: tqdm>=4.27 in /usr/local/lib/python3.8/dist-packages (from implicit) (4.64.1)\n",
            "Requirement already satisfied: numpy in /usr/local/lib/python3.8/dist-packages (from implicit) (1.21.6)\n"
          ]
        }
      ]
    },
    {
      "cell_type": "code",
      "execution_count": 3,
      "outputs": [
        {
          "output_type": "stream",
          "name": "stderr",
          "text": [
            "/usr/local/lib/python3.8/dist-packages/implicit/gpu/__init__.py:13: UserWarning: CUDA extension is built, but disabling GPU support because of 'Cuda Error: no CUDA-capable device is detected (/project/./implicit/gpu/utils.h:71)'\n",
            "  warnings.warn(\n"
          ]
        }
      ],
      "source": [
        "from implicit.datasets.lastfm import get_lastfm\n",
        "import h5py\n",
        "\n",
        "artists, users, artist_user_plays = get_lastfm()"
      ],
      "metadata": {
        "colab": {
          "base_uri": "https://localhost:8080/"
        },
        "id": "emRHsCUXlDvz",
        "outputId": "3ccf4359-ec53-4195-8705-893474c01ed2"
      }
    },
    {
      "cell_type": "code",
      "execution_count": 4,
      "outputs": [],
      "source": [
        "from implicit.nearest_neighbours import bm25_weight\n",
        "\n",
        "# weight the matrix, both to reduce impact of users that have played the same artist thousands of times\n",
        "# and to reduce the weight given to popular items\n",
        "artist_user_plays = bm25_weight(artist_user_plays, K1=100, B=0.8)\n",
        "\n",
        "# get the transpose since the most of the functions in implicit expect (user, item) sparse matrices instead of (item, user)\n",
        "user_plays = artist_user_plays.T.tocsr()"
      ],
      "metadata": {
        "id": "BXmMyiDHlDv0"
      }
    },
    {
      "cell_type": "code",
      "source": [
        "user_plays"
      ],
      "metadata": {
        "colab": {
          "base_uri": "https://localhost:8080/"
        },
        "id": "bnLKuTxPnLrG",
        "outputId": "b9332bf4-24f2-46d9-8992-4d7b99ca20ab"
      },
      "execution_count": 5,
      "outputs": [
        {
          "output_type": "execute_result",
          "data": {
            "text/plain": [
              "<358868x292385 sparse matrix of type '<class 'numpy.float64'>'\n",
              "\twith 17535606 stored elements in Compressed Sparse Row format>"
            ]
          },
          "metadata": {},
          "execution_count": 5
        }
      ]
    },
    {
      "cell_type": "code",
      "source": [
        "print(user_plays)"
      ],
      "metadata": {
        "colab": {
          "base_uri": "https://localhost:8080/"
        },
        "id": "kFyzPtR8npKX",
        "outputId": "91046cba-5aac-4e2c-b73a-9f44dfb74f6f"
      },
      "execution_count": 7,
      "outputs": [
        {
          "output_type": "stream",
          "name": "stdout",
          "text": [
            "  (0, 19370)\t352.9751779640889\n",
            "  (0, 19606)\t434.397274202691\n",
            "  (0, 37529)\t305.27620607761054\n",
            "  (0, 45568)\t585.4341693344771\n",
            "  (0, 45575)\t808.3451406668643\n",
            "  (0, 46258)\t142.2391605697496\n",
            "  (0, 51099)\t48.74467472041867\n",
            "  (0, 90948)\t39.97596241359612\n",
            "  (0, 92187)\t113.34032335425246\n",
            "  (0, 100655)\t13.24056433503626\n",
            "  (0, 103727)\t21.558948808986425\n",
            "  (0, 106705)\t28.653924454702246\n",
            "  (0, 106720)\t191.3328220153283\n",
            "  (0, 125500)\t241.32859292780725\n",
            "  (0, 126706)\t19.335073524300682\n",
            "  (0, 129399)\t13.089673010275645\n",
            "  (0, 137079)\t89.54607771892809\n",
            "  (0, 144255)\t4.720524922651388\n",
            "  (0, 144310)\t102.37990343980374\n",
            "  (0, 151783)\t7.391922803698345\n",
            "  (0, 154701)\t9.001361851612097\n",
            "  (0, 155258)\t480.5849215582812\n",
            "  (0, 165137)\t93.71950862504329\n",
            "  (0, 168001)\t53.10572249143597\n",
            "  (0, 169923)\t118.06681082623732\n",
            "  :\t:\n",
            "  (358867, 160660)\t19.37550850128334\n",
            "  (358867, 161432)\t0.6741345116204547\n",
            "  (358867, 161741)\t324.0004173981808\n",
            "  (358867, 162114)\t3.2343995062094835\n",
            "  (358867, 167160)\t37.28155036431806\n",
            "  (358867, 171801)\t13.74889482497994\n",
            "  (358867, 178292)\t13.721489132469031\n",
            "  (358867, 186566)\t1.018949811582253\n",
            "  (358867, 217901)\t0.06196971397319739\n",
            "  (358867, 218109)\t0.7404930177370931\n",
            "  (358867, 235136)\t0.17232661596118906\n",
            "  (358867, 251176)\t18.037281996251696\n",
            "  (358867, 254324)\t11.549068502307916\n",
            "  (358867, 254550)\t0.19824355936458124\n",
            "  (358867, 258362)\t0.4358681300865253\n",
            "  (358867, 262845)\t0.2208757424646128\n",
            "  (358867, 263257)\t9.05029077454676\n",
            "  (358867, 263348)\t0.850144353730126\n",
            "  (358867, 263700)\t6.984073809955754\n",
            "  (358867, 263849)\t3.8720645633350403\n",
            "  (358867, 265456)\t14.24871006753662\n",
            "  (358867, 267949)\t4.4260084582454775\n",
            "  (358867, 268690)\t11.316823317658208\n",
            "  (358867, 271758)\t11.934419920866471\n",
            "  (358867, 274818)\t3.626144774502295\n"
          ]
        }
      ]
    },
    {
      "cell_type": "code",
      "source": [
        "c = user_plays.tocoo()                                                                                        \n",
        "\n",
        "t_df = pd.DataFrame({'node1': c.row, 'node2': c.col, 'edge_weight': c.data}) "
      ],
      "metadata": {
        "id": "Mczr5t8InzJN"
      },
      "execution_count": 8,
      "outputs": []
    },
    {
      "cell_type": "code",
      "source": [
        "c.row"
      ],
      "metadata": {
        "colab": {
          "base_uri": "https://localhost:8080/"
        },
        "id": "qcWY0iG4vL0C",
        "outputId": "c6c67f2f-aa4b-4c69-cdac-2d8646bfe30b"
      },
      "execution_count": 31,
      "outputs": [
        {
          "output_type": "execute_result",
          "data": {
            "text/plain": [
              "array([     0,      0,      0, ..., 358867, 358867, 358867], dtype=int32)"
            ]
          },
          "metadata": {},
          "execution_count": 31
        }
      ]
    },
    {
      "cell_type": "code",
      "source": [
        "c.col"
      ],
      "metadata": {
        "colab": {
          "base_uri": "https://localhost:8080/"
        },
        "id": "kqEnqGGuwhZq",
        "outputId": "dd518b5d-4a34-4117-97ed-b7776587215a"
      },
      "execution_count": 28,
      "outputs": [
        {
          "output_type": "execute_result",
          "data": {
            "text/plain": [
              "array([ 19370,  19606,  37529, ..., 268690, 271758, 274818], dtype=int32)"
            ]
          },
          "metadata": {},
          "execution_count": 28
        }
      ]
    },
    {
      "cell_type": "code",
      "source": [
        "t_df"
      ],
      "metadata": {
        "colab": {
          "base_uri": "https://localhost:8080/",
          "height": 424
        },
        "id": "C8tDpxOXoS8_",
        "outputId": "131e2131-d559-45b9-e1ec-75626ef40d5d"
      },
      "execution_count": 10,
      "outputs": [
        {
          "output_type": "execute_result",
          "data": {
            "text/plain": [
              "           node1   node2  edge_weight\n",
              "0              0   19370   352.975178\n",
              "1              0   19606   434.397274\n",
              "2              0   37529   305.276206\n",
              "3              0   45568   585.434169\n",
              "4              0   45575   808.345141\n",
              "...          ...     ...          ...\n",
              "17535601  358867  265456    14.248710\n",
              "17535602  358867  267949     4.426008\n",
              "17535603  358867  268690    11.316823\n",
              "17535604  358867  271758    11.934420\n",
              "17535605  358867  274818     3.626145\n",
              "\n",
              "[17535606 rows x 3 columns]"
            ],
            "text/html": [
              "\n",
              "  <div id=\"df-8dff399b-7f46-41f0-9f55-8a4b48e38d7c\">\n",
              "    <div class=\"colab-df-container\">\n",
              "      <div>\n",
              "<style scoped>\n",
              "    .dataframe tbody tr th:only-of-type {\n",
              "        vertical-align: middle;\n",
              "    }\n",
              "\n",
              "    .dataframe tbody tr th {\n",
              "        vertical-align: top;\n",
              "    }\n",
              "\n",
              "    .dataframe thead th {\n",
              "        text-align: right;\n",
              "    }\n",
              "</style>\n",
              "<table border=\"1\" class=\"dataframe\">\n",
              "  <thead>\n",
              "    <tr style=\"text-align: right;\">\n",
              "      <th></th>\n",
              "      <th>node1</th>\n",
              "      <th>node2</th>\n",
              "      <th>edge_weight</th>\n",
              "    </tr>\n",
              "  </thead>\n",
              "  <tbody>\n",
              "    <tr>\n",
              "      <th>0</th>\n",
              "      <td>0</td>\n",
              "      <td>19370</td>\n",
              "      <td>352.975178</td>\n",
              "    </tr>\n",
              "    <tr>\n",
              "      <th>1</th>\n",
              "      <td>0</td>\n",
              "      <td>19606</td>\n",
              "      <td>434.397274</td>\n",
              "    </tr>\n",
              "    <tr>\n",
              "      <th>2</th>\n",
              "      <td>0</td>\n",
              "      <td>37529</td>\n",
              "      <td>305.276206</td>\n",
              "    </tr>\n",
              "    <tr>\n",
              "      <th>3</th>\n",
              "      <td>0</td>\n",
              "      <td>45568</td>\n",
              "      <td>585.434169</td>\n",
              "    </tr>\n",
              "    <tr>\n",
              "      <th>4</th>\n",
              "      <td>0</td>\n",
              "      <td>45575</td>\n",
              "      <td>808.345141</td>\n",
              "    </tr>\n",
              "    <tr>\n",
              "      <th>...</th>\n",
              "      <td>...</td>\n",
              "      <td>...</td>\n",
              "      <td>...</td>\n",
              "    </tr>\n",
              "    <tr>\n",
              "      <th>17535601</th>\n",
              "      <td>358867</td>\n",
              "      <td>265456</td>\n",
              "      <td>14.248710</td>\n",
              "    </tr>\n",
              "    <tr>\n",
              "      <th>17535602</th>\n",
              "      <td>358867</td>\n",
              "      <td>267949</td>\n",
              "      <td>4.426008</td>\n",
              "    </tr>\n",
              "    <tr>\n",
              "      <th>17535603</th>\n",
              "      <td>358867</td>\n",
              "      <td>268690</td>\n",
              "      <td>11.316823</td>\n",
              "    </tr>\n",
              "    <tr>\n",
              "      <th>17535604</th>\n",
              "      <td>358867</td>\n",
              "      <td>271758</td>\n",
              "      <td>11.934420</td>\n",
              "    </tr>\n",
              "    <tr>\n",
              "      <th>17535605</th>\n",
              "      <td>358867</td>\n",
              "      <td>274818</td>\n",
              "      <td>3.626145</td>\n",
              "    </tr>\n",
              "  </tbody>\n",
              "</table>\n",
              "<p>17535606 rows × 3 columns</p>\n",
              "</div>\n",
              "      <button class=\"colab-df-convert\" onclick=\"convertToInteractive('df-8dff399b-7f46-41f0-9f55-8a4b48e38d7c')\"\n",
              "              title=\"Convert this dataframe to an interactive table.\"\n",
              "              style=\"display:none;\">\n",
              "        \n",
              "  <svg xmlns=\"http://www.w3.org/2000/svg\" height=\"24px\"viewBox=\"0 0 24 24\"\n",
              "       width=\"24px\">\n",
              "    <path d=\"M0 0h24v24H0V0z\" fill=\"none\"/>\n",
              "    <path d=\"M18.56 5.44l.94 2.06.94-2.06 2.06-.94-2.06-.94-.94-2.06-.94 2.06-2.06.94zm-11 1L8.5 8.5l.94-2.06 2.06-.94-2.06-.94L8.5 2.5l-.94 2.06-2.06.94zm10 10l.94 2.06.94-2.06 2.06-.94-2.06-.94-.94-2.06-.94 2.06-2.06.94z\"/><path d=\"M17.41 7.96l-1.37-1.37c-.4-.4-.92-.59-1.43-.59-.52 0-1.04.2-1.43.59L10.3 9.45l-7.72 7.72c-.78.78-.78 2.05 0 2.83L4 21.41c.39.39.9.59 1.41.59.51 0 1.02-.2 1.41-.59l7.78-7.78 2.81-2.81c.8-.78.8-2.07 0-2.86zM5.41 20L4 18.59l7.72-7.72 1.47 1.35L5.41 20z\"/>\n",
              "  </svg>\n",
              "      </button>\n",
              "      \n",
              "  <style>\n",
              "    .colab-df-container {\n",
              "      display:flex;\n",
              "      flex-wrap:wrap;\n",
              "      gap: 12px;\n",
              "    }\n",
              "\n",
              "    .colab-df-convert {\n",
              "      background-color: #E8F0FE;\n",
              "      border: none;\n",
              "      border-radius: 50%;\n",
              "      cursor: pointer;\n",
              "      display: none;\n",
              "      fill: #1967D2;\n",
              "      height: 32px;\n",
              "      padding: 0 0 0 0;\n",
              "      width: 32px;\n",
              "    }\n",
              "\n",
              "    .colab-df-convert:hover {\n",
              "      background-color: #E2EBFA;\n",
              "      box-shadow: 0px 1px 2px rgba(60, 64, 67, 0.3), 0px 1px 3px 1px rgba(60, 64, 67, 0.15);\n",
              "      fill: #174EA6;\n",
              "    }\n",
              "\n",
              "    [theme=dark] .colab-df-convert {\n",
              "      background-color: #3B4455;\n",
              "      fill: #D2E3FC;\n",
              "    }\n",
              "\n",
              "    [theme=dark] .colab-df-convert:hover {\n",
              "      background-color: #434B5C;\n",
              "      box-shadow: 0px 1px 3px 1px rgba(0, 0, 0, 0.15);\n",
              "      filter: drop-shadow(0px 1px 2px rgba(0, 0, 0, 0.3));\n",
              "      fill: #FFFFFF;\n",
              "    }\n",
              "  </style>\n",
              "\n",
              "      <script>\n",
              "        const buttonEl =\n",
              "          document.querySelector('#df-8dff399b-7f46-41f0-9f55-8a4b48e38d7c button.colab-df-convert');\n",
              "        buttonEl.style.display =\n",
              "          google.colab.kernel.accessAllowed ? 'block' : 'none';\n",
              "\n",
              "        async function convertToInteractive(key) {\n",
              "          const element = document.querySelector('#df-8dff399b-7f46-41f0-9f55-8a4b48e38d7c');\n",
              "          const dataTable =\n",
              "            await google.colab.kernel.invokeFunction('convertToInteractive',\n",
              "                                                     [key], {});\n",
              "          if (!dataTable) return;\n",
              "\n",
              "          const docLinkHtml = 'Like what you see? Visit the ' +\n",
              "            '<a target=\"_blank\" href=https://colab.research.google.com/notebooks/data_table.ipynb>data table notebook</a>'\n",
              "            + ' to learn more about interactive tables.';\n",
              "          element.innerHTML = '';\n",
              "          dataTable['output_type'] = 'display_data';\n",
              "          await google.colab.output.renderOutput(dataTable, element);\n",
              "          const docLink = document.createElement('div');\n",
              "          docLink.innerHTML = docLinkHtml;\n",
              "          element.appendChild(docLink);\n",
              "        }\n",
              "      </script>\n",
              "    </div>\n",
              "  </div>\n",
              "  "
            ]
          },
          "metadata": {},
          "execution_count": 10
        }
      ]
    },
    {
      "cell_type": "code",
      "source": [
        "t_df['node1'].value_counts()"
      ],
      "metadata": {
        "colab": {
          "base_uri": "https://localhost:8080/"
        },
        "id": "KVPrHVhL9bOc",
        "outputId": "dbd3f048-2bcc-402c-c955-78205fdc540d"
      },
      "execution_count": 19,
      "outputs": [
        {
          "output_type": "execute_result",
          "data": {
            "text/plain": [
              "27761     166\n",
              "45302     166\n",
              "115708    150\n",
              "165765    139\n",
              "198252    132\n",
              "         ... \n",
              "77308       1\n",
              "227632      1\n",
              "231065      1\n",
              "352282      1\n",
              "125307      1\n",
              "Name: node1, Length: 358868, dtype: int64"
            ]
          },
          "metadata": {},
          "execution_count": 19
        }
      ]
    },
    {
      "cell_type": "code",
      "source": [
        "counts = t_df['node1'].value_counts()\n",
        "\n",
        "res = t_df[~t_df['node1'].isin(counts[counts < 41].index)]"
      ],
      "metadata": {
        "id": "rwUWyJ4793dC"
      },
      "execution_count": 24,
      "outputs": []
    },
    {
      "cell_type": "code",
      "source": [
        "res"
      ],
      "metadata": {
        "colab": {
          "base_uri": "https://localhost:8080/",
          "height": 424
        },
        "id": "tL4fLmrb-Z_c",
        "outputId": "b8ccde9c-a7d5-4ce0-f4a2-ae20af6bfab3"
      },
      "execution_count": 26,
      "outputs": [
        {
          "output_type": "execute_result",
          "data": {
            "text/plain": [
              "           node1   node2  edge_weight\n",
              "0              0   19370   352.975178\n",
              "1              0   19606   434.397274\n",
              "2              0   37529   305.276206\n",
              "3              0   45568   585.434169\n",
              "4              0   45575   808.345141\n",
              "...          ...     ...          ...\n",
              "17535601  358867  265456    14.248710\n",
              "17535602  358867  267949     4.426008\n",
              "17535603  358867  268690    11.316823\n",
              "17535604  358867  271758    11.934420\n",
              "17535605  358867  274818     3.626145\n",
              "\n",
              "[16431301 rows x 3 columns]"
            ],
            "text/html": [
              "\n",
              "  <div id=\"df-946ad609-99c9-436d-a37c-236623783c53\">\n",
              "    <div class=\"colab-df-container\">\n",
              "      <div>\n",
              "<style scoped>\n",
              "    .dataframe tbody tr th:only-of-type {\n",
              "        vertical-align: middle;\n",
              "    }\n",
              "\n",
              "    .dataframe tbody tr th {\n",
              "        vertical-align: top;\n",
              "    }\n",
              "\n",
              "    .dataframe thead th {\n",
              "        text-align: right;\n",
              "    }\n",
              "</style>\n",
              "<table border=\"1\" class=\"dataframe\">\n",
              "  <thead>\n",
              "    <tr style=\"text-align: right;\">\n",
              "      <th></th>\n",
              "      <th>node1</th>\n",
              "      <th>node2</th>\n",
              "      <th>edge_weight</th>\n",
              "    </tr>\n",
              "  </thead>\n",
              "  <tbody>\n",
              "    <tr>\n",
              "      <th>0</th>\n",
              "      <td>0</td>\n",
              "      <td>19370</td>\n",
              "      <td>352.975178</td>\n",
              "    </tr>\n",
              "    <tr>\n",
              "      <th>1</th>\n",
              "      <td>0</td>\n",
              "      <td>19606</td>\n",
              "      <td>434.397274</td>\n",
              "    </tr>\n",
              "    <tr>\n",
              "      <th>2</th>\n",
              "      <td>0</td>\n",
              "      <td>37529</td>\n",
              "      <td>305.276206</td>\n",
              "    </tr>\n",
              "    <tr>\n",
              "      <th>3</th>\n",
              "      <td>0</td>\n",
              "      <td>45568</td>\n",
              "      <td>585.434169</td>\n",
              "    </tr>\n",
              "    <tr>\n",
              "      <th>4</th>\n",
              "      <td>0</td>\n",
              "      <td>45575</td>\n",
              "      <td>808.345141</td>\n",
              "    </tr>\n",
              "    <tr>\n",
              "      <th>...</th>\n",
              "      <td>...</td>\n",
              "      <td>...</td>\n",
              "      <td>...</td>\n",
              "    </tr>\n",
              "    <tr>\n",
              "      <th>17535601</th>\n",
              "      <td>358867</td>\n",
              "      <td>265456</td>\n",
              "      <td>14.248710</td>\n",
              "    </tr>\n",
              "    <tr>\n",
              "      <th>17535602</th>\n",
              "      <td>358867</td>\n",
              "      <td>267949</td>\n",
              "      <td>4.426008</td>\n",
              "    </tr>\n",
              "    <tr>\n",
              "      <th>17535603</th>\n",
              "      <td>358867</td>\n",
              "      <td>268690</td>\n",
              "      <td>11.316823</td>\n",
              "    </tr>\n",
              "    <tr>\n",
              "      <th>17535604</th>\n",
              "      <td>358867</td>\n",
              "      <td>271758</td>\n",
              "      <td>11.934420</td>\n",
              "    </tr>\n",
              "    <tr>\n",
              "      <th>17535605</th>\n",
              "      <td>358867</td>\n",
              "      <td>274818</td>\n",
              "      <td>3.626145</td>\n",
              "    </tr>\n",
              "  </tbody>\n",
              "</table>\n",
              "<p>16431301 rows × 3 columns</p>\n",
              "</div>\n",
              "      <button class=\"colab-df-convert\" onclick=\"convertToInteractive('df-946ad609-99c9-436d-a37c-236623783c53')\"\n",
              "              title=\"Convert this dataframe to an interactive table.\"\n",
              "              style=\"display:none;\">\n",
              "        \n",
              "  <svg xmlns=\"http://www.w3.org/2000/svg\" height=\"24px\"viewBox=\"0 0 24 24\"\n",
              "       width=\"24px\">\n",
              "    <path d=\"M0 0h24v24H0V0z\" fill=\"none\"/>\n",
              "    <path d=\"M18.56 5.44l.94 2.06.94-2.06 2.06-.94-2.06-.94-.94-2.06-.94 2.06-2.06.94zm-11 1L8.5 8.5l.94-2.06 2.06-.94-2.06-.94L8.5 2.5l-.94 2.06-2.06.94zm10 10l.94 2.06.94-2.06 2.06-.94-2.06-.94-.94-2.06-.94 2.06-2.06.94z\"/><path d=\"M17.41 7.96l-1.37-1.37c-.4-.4-.92-.59-1.43-.59-.52 0-1.04.2-1.43.59L10.3 9.45l-7.72 7.72c-.78.78-.78 2.05 0 2.83L4 21.41c.39.39.9.59 1.41.59.51 0 1.02-.2 1.41-.59l7.78-7.78 2.81-2.81c.8-.78.8-2.07 0-2.86zM5.41 20L4 18.59l7.72-7.72 1.47 1.35L5.41 20z\"/>\n",
              "  </svg>\n",
              "      </button>\n",
              "      \n",
              "  <style>\n",
              "    .colab-df-container {\n",
              "      display:flex;\n",
              "      flex-wrap:wrap;\n",
              "      gap: 12px;\n",
              "    }\n",
              "\n",
              "    .colab-df-convert {\n",
              "      background-color: #E8F0FE;\n",
              "      border: none;\n",
              "      border-radius: 50%;\n",
              "      cursor: pointer;\n",
              "      display: none;\n",
              "      fill: #1967D2;\n",
              "      height: 32px;\n",
              "      padding: 0 0 0 0;\n",
              "      width: 32px;\n",
              "    }\n",
              "\n",
              "    .colab-df-convert:hover {\n",
              "      background-color: #E2EBFA;\n",
              "      box-shadow: 0px 1px 2px rgba(60, 64, 67, 0.3), 0px 1px 3px 1px rgba(60, 64, 67, 0.15);\n",
              "      fill: #174EA6;\n",
              "    }\n",
              "\n",
              "    [theme=dark] .colab-df-convert {\n",
              "      background-color: #3B4455;\n",
              "      fill: #D2E3FC;\n",
              "    }\n",
              "\n",
              "    [theme=dark] .colab-df-convert:hover {\n",
              "      background-color: #434B5C;\n",
              "      box-shadow: 0px 1px 3px 1px rgba(0, 0, 0, 0.15);\n",
              "      filter: drop-shadow(0px 1px 2px rgba(0, 0, 0, 0.3));\n",
              "      fill: #FFFFFF;\n",
              "    }\n",
              "  </style>\n",
              "\n",
              "      <script>\n",
              "        const buttonEl =\n",
              "          document.querySelector('#df-946ad609-99c9-436d-a37c-236623783c53 button.colab-df-convert');\n",
              "        buttonEl.style.display =\n",
              "          google.colab.kernel.accessAllowed ? 'block' : 'none';\n",
              "\n",
              "        async function convertToInteractive(key) {\n",
              "          const element = document.querySelector('#df-946ad609-99c9-436d-a37c-236623783c53');\n",
              "          const dataTable =\n",
              "            await google.colab.kernel.invokeFunction('convertToInteractive',\n",
              "                                                     [key], {});\n",
              "          if (!dataTable) return;\n",
              "\n",
              "          const docLinkHtml = 'Like what you see? Visit the ' +\n",
              "            '<a target=\"_blank\" href=https://colab.research.google.com/notebooks/data_table.ipynb>data table notebook</a>'\n",
              "            + ' to learn more about interactive tables.';\n",
              "          element.innerHTML = '';\n",
              "          dataTable['output_type'] = 'display_data';\n",
              "          await google.colab.output.renderOutput(dataTable, element);\n",
              "          const docLink = document.createElement('div');\n",
              "          docLink.innerHTML = docLinkHtml;\n",
              "          element.appendChild(docLink);\n",
              "        }\n",
              "      </script>\n",
              "    </div>\n",
              "  </div>\n",
              "  "
            ]
          },
          "metadata": {},
          "execution_count": 26
        }
      ]
    },
    {
      "cell_type": "code",
      "source": [
        "list1 = res['node1'].tolist()\n",
        "list2 = res['node2'].tolist()\n",
        "list3 = res['edge_weight'].tolist()"
      ],
      "metadata": {
        "id": "3qpXvg-Dx-4E"
      },
      "execution_count": 27,
      "outputs": []
    },
    {
      "cell_type": "code",
      "source": [
        "c.row = np.array(list1)\n",
        "c.col = np.array(list2)\n",
        "c.data = np.array(list3)"
      ],
      "metadata": {
        "id": "vt0SKQ130N7B"
      },
      "execution_count": 28,
      "outputs": []
    },
    {
      "cell_type": "code",
      "source": [
        "import scipy\n",
        "new_matrix = scipy.sparse.csr_matrix(c)"
      ],
      "metadata": {
        "id": "i5pWEhFu0kB5"
      },
      "execution_count": 30,
      "outputs": []
    },
    {
      "cell_type": "code",
      "source": [
        "new_matrix"
      ],
      "metadata": {
        "colab": {
          "base_uri": "https://localhost:8080/"
        },
        "id": "Fts6VsJl0CgS",
        "outputId": "fed2ef36-826c-448a-93c7-20edb6cf31d8"
      },
      "execution_count": 31,
      "outputs": [
        {
          "output_type": "execute_result",
          "data": {
            "text/plain": [
              "<358868x292385 sparse matrix of type '<class 'numpy.float64'>'\n",
              "\twith 16431301 stored elements in Compressed Sparse Row format>"
            ]
          },
          "metadata": {},
          "execution_count": 31
        }
      ]
    },
    {
      "cell_type": "code",
      "execution_count": null,
      "outputs": [],
      "source": [
        "def get_divided_test_fold(df, test_index, sampling_rate=.2):\n",
        "    test_fold_df = df[df[\"user-mboxsha1\"].isin(test_index)].copy()\n",
        "    test_df = test_fold_df.groupby('user-mboxsha1').sample(frac=.2)\n",
        "    # test_fold_df.loc[test_fold_df.matrix_position.isin(test_df.matrix_position), 'rating'] = 0\n",
        "\n",
        "    return test_fold_df, test_df"
      ],
      "metadata": {
        "id": "8-aqQJVhlDv1"
      }
    },
    {
      "cell_type": "code",
      "execution_count": null,
      "outputs": [
        {
          "name": "stdout",
          "output_type": "stream",
          "text": [
            "Fold 0:\n",
            "  Train: index=(287094,)\n",
            "  Test:  index=(71774,)\n"
          ]
        },
        {
          "data": {
            "text/plain": "  0%|          | 0/15 [00:00<?, ?it/s]",
            "application/vnd.jupyter.widget-view+json": {
              "version_major": 2,
              "version_minor": 0,
              "model_id": "1970b0fcf3284983b0afd7cc21e4b022"
            }
          },
          "metadata": {},
          "output_type": "display_data"
        },
        {
          "data": {
            "text/plain": "  0%|          | 0/71774 [00:00<?, ?it/s]",
            "application/vnd.jupyter.widget-view+json": {
              "version_major": 2,
              "version_minor": 0,
              "model_id": "53ab720230d548b285993002844f4ceb"
            }
          },
          "metadata": {},
          "output_type": "display_data"
        },
        {
          "name": "stdout",
          "output_type": "stream",
          "text": [
            "ndcg: 0.009594199246002166\n",
            "Fold 1:\n",
            "  Train: index=(287094,)\n",
            "  Test:  index=(71774,)\n"
          ]
        },
        {
          "data": {
            "text/plain": "  0%|          | 0/15 [00:00<?, ?it/s]",
            "application/vnd.jupyter.widget-view+json": {
              "version_major": 2,
              "version_minor": 0,
              "model_id": "ace041ed2ce84ea9bebeff3625ca3785"
            }
          },
          "metadata": {},
          "output_type": "display_data"
        },
        {
          "data": {
            "text/plain": "  0%|          | 0/71774 [00:00<?, ?it/s]",
            "application/vnd.jupyter.widget-view+json": {
              "version_major": 2,
              "version_minor": 0,
              "model_id": "5368c47b513841358af72d1d7ffc75df"
            }
          },
          "metadata": {},
          "output_type": "display_data"
        },
        {
          "name": "stdout",
          "output_type": "stream",
          "text": [
            "ndcg: 0.009834637855796684\n",
            "Fold 2:\n",
            "  Train: index=(287094,)\n",
            "  Test:  index=(71774,)\n"
          ]
        },
        {
          "data": {
            "text/plain": "  0%|          | 0/15 [00:00<?, ?it/s]",
            "application/vnd.jupyter.widget-view+json": {
              "version_major": 2,
              "version_minor": 0,
              "model_id": "8e9dcb5283c94acbbe069d9130e5d335"
            }
          },
          "metadata": {},
          "output_type": "display_data"
        },
        {
          "data": {
            "text/plain": "  0%|          | 0/71774 [00:00<?, ?it/s]",
            "application/vnd.jupyter.widget-view+json": {
              "version_major": 2,
              "version_minor": 0,
              "model_id": "5b9321e40b6847f1b18099403094dfe2"
            }
          },
          "metadata": {},
          "output_type": "display_data"
        },
        {
          "name": "stdout",
          "output_type": "stream",
          "text": [
            "ndcg: 0.010134458577788533\n",
            "Fold 3:\n",
            "  Train: index=(287095,)\n",
            "  Test:  index=(71773,)\n"
          ]
        },
        {
          "data": {
            "text/plain": "  0%|          | 0/15 [00:00<?, ?it/s]",
            "application/vnd.jupyter.widget-view+json": {
              "version_major": 2,
              "version_minor": 0,
              "model_id": "67bac82997b54cec84797ce50d72dd59"
            }
          },
          "metadata": {},
          "output_type": "display_data"
        },
        {
          "data": {
            "text/plain": "  0%|          | 0/71773 [00:00<?, ?it/s]",
            "application/vnd.jupyter.widget-view+json": {
              "version_major": 2,
              "version_minor": 0,
              "model_id": "572a915e7f1745639f0b7fdcbfbfbe97"
            }
          },
          "metadata": {},
          "output_type": "display_data"
        },
        {
          "name": "stdout",
          "output_type": "stream",
          "text": [
            "ndcg: 0.009869185845097222\n",
            "Fold 4:\n",
            "  Train: index=(287095,)\n",
            "  Test:  index=(71773,)\n"
          ]
        },
        {
          "data": {
            "text/plain": "  0%|          | 0/15 [00:00<?, ?it/s]",
            "application/vnd.jupyter.widget-view+json": {
              "version_major": 2,
              "version_minor": 0,
              "model_id": "3b7b9689fd354fdd8ec5a5d42235a69b"
            }
          },
          "metadata": {},
          "output_type": "display_data"
        },
        {
          "data": {
            "text/plain": "  0%|          | 0/71773 [00:00<?, ?it/s]",
            "application/vnd.jupyter.widget-view+json": {
              "version_major": 2,
              "version_minor": 0,
              "model_id": "b8ebcb88511144709cfe6ad078054a2a"
            }
          },
          "metadata": {},
          "output_type": "display_data"
        },
        {
          "name": "stdout",
          "output_type": "stream",
          "text": [
            "ndcg: 0.009593725520915246\n"
          ]
        }
      ],
      "source": [
        "# divide ratings into 5 CV, still question about test data - see paper\n",
        "# 0th column is 0, since user ids start with 1\n",
        "from sklearn.model_selection import KFold\n",
        "from implicit.evaluation import ndcg_at_k\n",
        "from implicit.evaluation import train_test_split\n",
        "from implicit.als import AlternatingLeastSquares\n",
        "\n",
        "\n",
        "kf = KFold(n_splits=5, random_state=12345, shuffle=True)\n",
        "\n",
        "for i, (train_index, test_index) in enumerate(kf.split(user_plays)):\n",
        "    print(f\"Fold {i}:\")\n",
        "    print(f\"  Train: index={train_index.shape}\")\n",
        "    print(f\"  Test:  index={test_index.shape}\")\n",
        "\n",
        "    train_data = user_plays[train_index, ].copy()\n",
        "    test_data = user_plays[test_index,].copy()\n",
        "\n",
        "    model = AlternatingLeastSquares(factors=50, regularization=0.01)\n",
        "    model.fit(train_data)\n",
        "\n",
        "    ndcg = ndcg_at_k(model, train_data, test_data, K=10)\n",
        "    print(f'ndcg: {ndcg}')"
      ],
      "metadata": {
        "colab": {
          "referenced_widgets": [
            "1970b0fcf3284983b0afd7cc21e4b022",
            "53ab720230d548b285993002844f4ceb",
            "ace041ed2ce84ea9bebeff3625ca3785",
            "5368c47b513841358af72d1d7ffc75df",
            "8e9dcb5283c94acbbe069d9130e5d335",
            "5b9321e40b6847f1b18099403094dfe2",
            "67bac82997b54cec84797ce50d72dd59",
            "572a915e7f1745639f0b7fdcbfbfbe97",
            "3b7b9689fd354fdd8ec5a5d42235a69b",
            "b8ebcb88511144709cfe6ad078054a2a"
          ]
        },
        "id": "4pBShNbllDv1",
        "outputId": "f9390afa-344c-480a-95d7-b766106daca0"
      }
    },
    {
      "cell_type": "code",
      "execution_count": null,
      "outputs": [],
      "source": [
        "userid = 12345\n",
        "ids, scores = model.recommend(userid, user_plays[userid], N=10, filter_already_liked_items=False)"
      ],
      "metadata": {
        "id": "jpiGXLh-lDv2"
      }
    },
    {
      "cell_type": "code",
      "execution_count": null,
      "outputs": [],
      "source": [
        "# Use pandas to display the output in a table, pandas isn't a dependency of implicit otherwise\n",
        "import numpy as np\n",
        "import pandas as pd\n",
        "pd.DataFrame({\n",
        "    \"artist\": artists[ids],\n",
        "    \"score\": scores,\n",
        "    \"already_liked\": np.in1d(ids, user_plays[userid].indices)\n",
        "})"
      ],
      "metadata": {
        "id": "PH6Ye9urlDv2"
      }
    },
    {
      "cell_type": "code",
      "execution_count": null,
      "outputs": [],
      "source": [
        "# get related items for the beatles (itemid = 25512)\n",
        "ids, scores= model.similar_items(252512)\n",
        "\n",
        "# display the results using pandas for nicer formatting\n",
        "pd.DataFrame({\"artist\": artists[ids], \"score\": scores})"
      ],
      "metadata": {
        "id": "ANKC_lhXlDv3"
      }
    },
    {
      "cell_type": "code",
      "execution_count": null,
      "outputs": [],
      "source": [
        "# Make 1000 recommendations for each user in the dataset\n",
        "userids = np.arange(len(users))\n",
        "ids, scores = model.recommend(userids, user_plays[userids], N=1000)\n",
        "ids, ids.shape"
      ],
      "metadata": {
        "id": "4kv_hQ3_lDv3"
      }
    },
    {
      "cell_type": "code",
      "execution_count": null,
      "outputs": [],
      "source": [
        "rec_users = data_users[data_users['user-mboxsha1'].isin(users)]\n",
        "rec_users"
      ],
      "metadata": {
        "id": "Vv68nAtNlDv4"
      }
    },
    {
      "cell_type": "code",
      "execution_count": null,
      "outputs": [],
      "source": [
        "df_id_users = pd.DataFrame(users, columns=['users'])\n",
        "df_id_users[~df_id_users[\"users\"].isin(rec_users['user-mboxsha1'])]"
      ],
      "metadata": {
        "id": "cWeZO9dClDv5"
      }
    },
    {
      "cell_type": "code",
      "execution_count": null,
      "outputs": [],
      "source": [
        "users_clean = np.delete(users, [312192, 358867])\n",
        "scores_clean = np.delete(scores, [312192, 358867], axis=0)\n",
        "ids_clean = np.delete(ids, [312192, 358867], axis=0)\n",
        "scores_clean.shape, users_clean.shape, ids_clean.shape"
      ],
      "metadata": {
        "id": "Ux1We3DRlDv5"
      }
    },
    {
      "cell_type": "code",
      "execution_count": null,
      "outputs": [],
      "source": [
        "users_clean"
      ],
      "metadata": {
        "id": "7hcTBHmVlDv6"
      }
    },
    {
      "cell_type": "code",
      "execution_count": null,
      "outputs": [],
      "source": [
        "# from numpy import savetxt\n",
        "#\n",
        "# savetxt('data_ids.csv', ids_clean, delimiter=' ')\n",
        "# savetxt('data_scores.csv', scores_clean, delimiter=' ')\n",
        "# savetxt('data_users.csv', users_clean, delimiter=' ')\n",
        "# rec_users.to_csv('users_data.csv')"
      ],
      "metadata": {
        "id": "h2my3yGrlDv6"
      }
    },
    {
      "cell_type": "code",
      "execution_count": null,
      "outputs": [],
      "source": [
        "# from numpy import loadtxt\n",
        "# data_ids = loadtxt('data_ids.csv', delimiter=' ', dtype='int32')\n",
        "# data_scores = loadtxt('data_scores.csv', delimiter=' ', dtype='int32')\n"
      ],
      "metadata": {
        "id": "ppH7XlDPlDv6"
      }
    },
    {
      "cell_type": "code",
      "execution_count": null,
      "outputs": [],
      "source": [
        "rec_users"
      ],
      "metadata": {
        "id": "CTPH_uV_lDv7"
      }
    },
    {
      "cell_type": "markdown",
      "source": [
        "Age groups"
      ],
      "metadata": {
        "collapsed": false,
        "id": "1js5WX6olDv7"
      }
    },
    {
      "cell_type": "code",
      "execution_count": null,
      "outputs": [
        {
          "data": {
            "text/plain": "array([ 2.200e+01,        nan,  1.900e+01,  2.800e+01,  2.000e+01,\n        1.700e+01,  2.400e+01,  2.700e+01,  2.300e+01,  1.800e+01,\n        3.000e+01,  2.600e+01,  1.400e+01,  3.400e+01,  3.100e+01,\n        2.100e+01,  3.200e+01,  1.600e+01,  4.700e+01,  2.900e+01,\n        5.400e+01,  3.300e+01,  5.700e+01,  3.600e+01,  2.500e+01,\n        4.500e+01,  1.500e+01,  3.800e+01,  4.300e+01,  4.100e+01,\n        3.900e+01,  3.500e+01,  2.000e+00,  4.000e+01,  3.700e+01,\n        5.000e+01,  4.400e+01, -1.337e+03,  4.200e+01,  1.100e+01,\n        5.900e+01,  6.000e+01,  1.000e+02,  8.000e+00,  4.600e+01,\n        4.800e+01,  1.300e+01,  5.100e+01,  3.000e+00,  1.000e+00,\n        6.200e+01,  1.010e+02,  6.000e+00,  4.900e+01,  5.600e+01,\n        1.090e+02,  7.000e+01,  5.200e+01,  6.100e+01,  1.080e+02,\n        9.000e+00,  5.000e+00,  5.300e+01,  9.900e+01,  5.800e+01,\n        1.070e+02,  7.700e+01,  5.500e+01,  1.000e+01,  6.500e+01,\n        8.800e+01,  7.800e+01,  6.300e+01,  6.700e+01,  6.900e+01,\n        1.200e+01,  9.200e+01,  1.030e+02,  6.600e+01,  9.100e+01,\n        9.500e+01,  6.400e+01,  7.600e+01,  1.060e+02,  1.020e+02,\n        7.200e+01,  9.600e+01,  9.800e+01,  1.040e+02,  4.000e+00,\n        8.000e+01,  7.900e+01,  7.100e+01,  7.000e+00,  8.900e+01,\n        6.800e+01,  8.700e+01,  7.500e+01,  9.700e+01,  7.300e+01,\n        8.200e+01,  8.300e+01,  9.300e+01,  7.400e+01,  1.050e+02,\n        6.660e+02,  9.400e+01,  9.000e+01,  8.600e+01,  8.100e+01,\n        8.500e+01,  8.400e+01,  1.210e+02,  1.002e+03])"
          },
          "execution_count": 42,
          "metadata": {},
          "output_type": "execute_result"
        }
      ],
      "source": [
        "data_users.age.unique()"
      ],
      "metadata": {
        "id": "vfh3DQcElDv9",
        "outputId": "e6e945f7-2a1a-48ed-fa2e-1a46ea379154"
      }
    },
    {
      "cell_type": "code",
      "execution_count": null,
      "outputs": [],
      "source": [
        "def age_group(rec_users, min_age, max_age):\n",
        "    return rec_users.iloc[np.where((rec_users['age'] >= min_age) & (rec_users['age'] <= max_age))]"
      ],
      "metadata": {
        "id": "7_2bhMHTlDv-"
      }
    },
    {
      "cell_type": "code",
      "execution_count": null,
      "outputs": [],
      "source": [
        "age_bins = {}\n",
        "age_bins['1'] = '1-17'\n",
        "age_bins['18'] = '18-24'\n",
        "age_bins['25'] = '25-34'\n",
        "age_bins['35'] = '35-44'\n",
        "age_bins['45'] = '45-49'\n",
        "age_bins['50'] = '50-55'\n",
        "age_bins['56'] = '56+'\n",
        "age_bins['NaN'] = 'NaN'\n",
        "\n",
        "age_labels = list(age_bins.values())"
      ],
      "metadata": {
        "id": "mWcnBK0WlDv_"
      }
    },
    {
      "cell_type": "code",
      "execution_count": null,
      "outputs": [
        {
          "data": {
            "text/plain": "                                   user-mboxsha1 gender   age  \\\n0       00000c289a1829a808ac09c00daf10bc3c4e223b      f  22.0   \n1       00001411dc427966b17297bf4d69e7e193135d89      f   NaN   \n2       00004d2ac9316e22dc007ab2243d6fcb239e707d    NaN   NaN   \n3       000063d3fe1cf2ba248b9e3c3f0334845a27a6bf      m  19.0   \n4       00007a47085b9aab8af55f52ec8846ac479ac4fe      m  28.0   \n...                                          ...    ...   ...   \n359342  fffe7823f67b433b45f22056467db921c1d3d7d0      m  25.0   \n359343  fffe8637bd8234309e871409c7ebef99a720afc1      m  25.0   \n359344  fffe8c7f952d9b960a56ed4dcb40a415d924b224      m  20.0   \n359345  ffff9af9ae04d263dae91cb838b1f3a6725f5ffb      m  20.0   \n359346  ffff9ef87a7d9494ada2f9ade4b9ff637c0759ac      m  21.0   \n\n                   country        signup  \n0                  Germany   Feb 1, 2007  \n1                   Canada   Dec 4, 2007  \n2                  Germany   Sep 1, 2006  \n3                   Mexico  Apr 28, 2008  \n4            United States  Jan 27, 2006  \n...                    ...           ...  \n359342             Germany  Jun 24, 2006  \n359343              Brazil   Sep 9, 2007  \n359344       United States   Aug 8, 2007  \n359345  Russian Federation   Dec 3, 2005  \n359346             Belgium  Nov 25, 2008  \n\n[359347 rows x 5 columns]",
            "text/html": "<div>\n<style scoped>\n    .dataframe tbody tr th:only-of-type {\n        vertical-align: middle;\n    }\n\n    .dataframe tbody tr th {\n        vertical-align: top;\n    }\n\n    .dataframe thead th {\n        text-align: right;\n    }\n</style>\n<table border=\"1\" class=\"dataframe\">\n  <thead>\n    <tr style=\"text-align: right;\">\n      <th></th>\n      <th>user-mboxsha1</th>\n      <th>gender</th>\n      <th>age</th>\n      <th>country</th>\n      <th>signup</th>\n    </tr>\n  </thead>\n  <tbody>\n    <tr>\n      <th>0</th>\n      <td>00000c289a1829a808ac09c00daf10bc3c4e223b</td>\n      <td>f</td>\n      <td>22.0</td>\n      <td>Germany</td>\n      <td>Feb 1, 2007</td>\n    </tr>\n    <tr>\n      <th>1</th>\n      <td>00001411dc427966b17297bf4d69e7e193135d89</td>\n      <td>f</td>\n      <td>NaN</td>\n      <td>Canada</td>\n      <td>Dec 4, 2007</td>\n    </tr>\n    <tr>\n      <th>2</th>\n      <td>00004d2ac9316e22dc007ab2243d6fcb239e707d</td>\n      <td>NaN</td>\n      <td>NaN</td>\n      <td>Germany</td>\n      <td>Sep 1, 2006</td>\n    </tr>\n    <tr>\n      <th>3</th>\n      <td>000063d3fe1cf2ba248b9e3c3f0334845a27a6bf</td>\n      <td>m</td>\n      <td>19.0</td>\n      <td>Mexico</td>\n      <td>Apr 28, 2008</td>\n    </tr>\n    <tr>\n      <th>4</th>\n      <td>00007a47085b9aab8af55f52ec8846ac479ac4fe</td>\n      <td>m</td>\n      <td>28.0</td>\n      <td>United States</td>\n      <td>Jan 27, 2006</td>\n    </tr>\n    <tr>\n      <th>...</th>\n      <td>...</td>\n      <td>...</td>\n      <td>...</td>\n      <td>...</td>\n      <td>...</td>\n    </tr>\n    <tr>\n      <th>359342</th>\n      <td>fffe7823f67b433b45f22056467db921c1d3d7d0</td>\n      <td>m</td>\n      <td>25.0</td>\n      <td>Germany</td>\n      <td>Jun 24, 2006</td>\n    </tr>\n    <tr>\n      <th>359343</th>\n      <td>fffe8637bd8234309e871409c7ebef99a720afc1</td>\n      <td>m</td>\n      <td>25.0</td>\n      <td>Brazil</td>\n      <td>Sep 9, 2007</td>\n    </tr>\n    <tr>\n      <th>359344</th>\n      <td>fffe8c7f952d9b960a56ed4dcb40a415d924b224</td>\n      <td>m</td>\n      <td>20.0</td>\n      <td>United States</td>\n      <td>Aug 8, 2007</td>\n    </tr>\n    <tr>\n      <th>359345</th>\n      <td>ffff9af9ae04d263dae91cb838b1f3a6725f5ffb</td>\n      <td>m</td>\n      <td>20.0</td>\n      <td>Russian Federation</td>\n      <td>Dec 3, 2005</td>\n    </tr>\n    <tr>\n      <th>359346</th>\n      <td>ffff9ef87a7d9494ada2f9ade4b9ff637c0759ac</td>\n      <td>m</td>\n      <td>21.0</td>\n      <td>Belgium</td>\n      <td>Nov 25, 2008</td>\n    </tr>\n  </tbody>\n</table>\n<p>359347 rows × 5 columns</p>\n</div>"
          },
          "execution_count": 53,
          "metadata": {},
          "output_type": "execute_result"
        }
      ],
      "source": [
        "data_users"
      ],
      "metadata": {
        "id": "aQ8hN2U_lDv_",
        "outputId": "7a2fe9e2-f6d3-4e5c-ba81-c4daed545339"
      }
    },
    {
      "cell_type": "code",
      "execution_count": null,
      "outputs": [
        {
          "data": {
            "text/plain": "                                   user-mboxsha1 gender   age  \\\n0       00000c289a1829a808ac09c00daf10bc3c4e223b      f  22.0   \n1       00001411dc427966b17297bf4d69e7e193135d89      f   NaN   \n2       00004d2ac9316e22dc007ab2243d6fcb239e707d    NaN   NaN   \n3       000063d3fe1cf2ba248b9e3c3f0334845a27a6bf      m  19.0   \n4       00007a47085b9aab8af55f52ec8846ac479ac4fe      m  28.0   \n...                                          ...    ...   ...   \n359342  fffe7823f67b433b45f22056467db921c1d3d7d0      m  25.0   \n359343  fffe8637bd8234309e871409c7ebef99a720afc1      m  25.0   \n359344  fffe8c7f952d9b960a56ed4dcb40a415d924b224      m  20.0   \n359345  ffff9af9ae04d263dae91cb838b1f3a6725f5ffb      m  20.0   \n359346  ffff9ef87a7d9494ada2f9ade4b9ff637c0759ac      m  21.0   \n\n                   country        signup AgeRange  \n0                  Germany   Feb 1, 2007       18  \n1                   Canada   Dec 4, 2007      NaN  \n2                  Germany   Sep 1, 2006      NaN  \n3                   Mexico  Apr 28, 2008       18  \n4            United States  Jan 27, 2006       25  \n...                    ...           ...      ...  \n359342             Germany  Jun 24, 2006       25  \n359343              Brazil   Sep 9, 2007       25  \n359344       United States   Aug 8, 2007       18  \n359345  Russian Federation   Dec 3, 2005       18  \n359346             Belgium  Nov 25, 2008       18  \n\n[359347 rows x 6 columns]",
            "text/html": "<div>\n<style scoped>\n    .dataframe tbody tr th:only-of-type {\n        vertical-align: middle;\n    }\n\n    .dataframe tbody tr th {\n        vertical-align: top;\n    }\n\n    .dataframe thead th {\n        text-align: right;\n    }\n</style>\n<table border=\"1\" class=\"dataframe\">\n  <thead>\n    <tr style=\"text-align: right;\">\n      <th></th>\n      <th>user-mboxsha1</th>\n      <th>gender</th>\n      <th>age</th>\n      <th>country</th>\n      <th>signup</th>\n      <th>AgeRange</th>\n    </tr>\n  </thead>\n  <tbody>\n    <tr>\n      <th>0</th>\n      <td>00000c289a1829a808ac09c00daf10bc3c4e223b</td>\n      <td>f</td>\n      <td>22.0</td>\n      <td>Germany</td>\n      <td>Feb 1, 2007</td>\n      <td>18</td>\n    </tr>\n    <tr>\n      <th>1</th>\n      <td>00001411dc427966b17297bf4d69e7e193135d89</td>\n      <td>f</td>\n      <td>NaN</td>\n      <td>Canada</td>\n      <td>Dec 4, 2007</td>\n      <td>NaN</td>\n    </tr>\n    <tr>\n      <th>2</th>\n      <td>00004d2ac9316e22dc007ab2243d6fcb239e707d</td>\n      <td>NaN</td>\n      <td>NaN</td>\n      <td>Germany</td>\n      <td>Sep 1, 2006</td>\n      <td>NaN</td>\n    </tr>\n    <tr>\n      <th>3</th>\n      <td>000063d3fe1cf2ba248b9e3c3f0334845a27a6bf</td>\n      <td>m</td>\n      <td>19.0</td>\n      <td>Mexico</td>\n      <td>Apr 28, 2008</td>\n      <td>18</td>\n    </tr>\n    <tr>\n      <th>4</th>\n      <td>00007a47085b9aab8af55f52ec8846ac479ac4fe</td>\n      <td>m</td>\n      <td>28.0</td>\n      <td>United States</td>\n      <td>Jan 27, 2006</td>\n      <td>25</td>\n    </tr>\n    <tr>\n      <th>...</th>\n      <td>...</td>\n      <td>...</td>\n      <td>...</td>\n      <td>...</td>\n      <td>...</td>\n      <td>...</td>\n    </tr>\n    <tr>\n      <th>359342</th>\n      <td>fffe7823f67b433b45f22056467db921c1d3d7d0</td>\n      <td>m</td>\n      <td>25.0</td>\n      <td>Germany</td>\n      <td>Jun 24, 2006</td>\n      <td>25</td>\n    </tr>\n    <tr>\n      <th>359343</th>\n      <td>fffe8637bd8234309e871409c7ebef99a720afc1</td>\n      <td>m</td>\n      <td>25.0</td>\n      <td>Brazil</td>\n      <td>Sep 9, 2007</td>\n      <td>25</td>\n    </tr>\n    <tr>\n      <th>359344</th>\n      <td>fffe8c7f952d9b960a56ed4dcb40a415d924b224</td>\n      <td>m</td>\n      <td>20.0</td>\n      <td>United States</td>\n      <td>Aug 8, 2007</td>\n      <td>18</td>\n    </tr>\n    <tr>\n      <th>359345</th>\n      <td>ffff9af9ae04d263dae91cb838b1f3a6725f5ffb</td>\n      <td>m</td>\n      <td>20.0</td>\n      <td>Russian Federation</td>\n      <td>Dec 3, 2005</td>\n      <td>18</td>\n    </tr>\n    <tr>\n      <th>359346</th>\n      <td>ffff9ef87a7d9494ada2f9ade4b9ff637c0759ac</td>\n      <td>m</td>\n      <td>21.0</td>\n      <td>Belgium</td>\n      <td>Nov 25, 2008</td>\n      <td>18</td>\n    </tr>\n  </tbody>\n</table>\n<p>359347 rows × 6 columns</p>\n</div>"
          },
          "execution_count": 72,
          "metadata": {},
          "output_type": "execute_result"
        }
      ],
      "source": [
        "plot_data = data_users.copy()\n",
        "bins = [0, 18, 25, 35, 45, 50, 56, np.inf, 'NaN']\n",
        "names = ['1', '18','25', '35', '45', '50','55+', 'NaN']\n",
        "\n",
        "plot_data['AgeRange'] = pd.cut(plot_data['age'], bins, labels=names)\n",
        "plot_data[\"AgeRange\"] = plot_data[\"AgeRange\"].fillna('NaN')\n",
        "plot_data[\"gender\"] = plot_data[\"gender\"].fillna('NaN')\n",
        "\n",
        "plot_data"
      ],
      "metadata": {
        "id": "_-SSrwl4lDwA",
        "outputId": "c66e3a9c-f189-47f8-afcb-815822fb1f54"
      }
    },
    {
      "cell_type": "code",
      "execution_count": null,
      "outputs": [
        {
          "data": {
            "text/plain": "<AxesSubplot: title={'center': 'Distribution of users per gender'}, xlabel='gender', ylabel='count'>"
          },
          "execution_count": 73,
          "metadata": {},
          "output_type": "execute_result"
        },
        {
          "data": {
            "text/plain": "<Figure size 2000x600 with 2 Axes>",
            "image/png": "[encoded data removed]"
          },
          "metadata": {},
          "output_type": "display_data"
        }
      ],
      "source": [
        "from matplotlib import pyplot as plt\n",
        "\n",
        "_, ax = plt.subplots(1, 2, figsize=(20, 6))\n",
        "sns.despine()\n",
        "\n",
        "ax[0].set_title('Distribution of users per age')\n",
        "sns.countplot(data=plot_data, x='AgeRange', color='grey', ax=ax[0])\n",
        "ax[0].set_xticks(list(range(0, len(age_bins))), labels=age_labels)\n",
        "\n",
        "ax[1].set_title('Distribution of users per gender')\n",
        "sns.countplot(data=plot_data, x='gender', color='grey', ax=ax[1])"
      ],
      "metadata": {
        "id": "WUnNHYMElDwA",
        "outputId": "930c6dc3-1674-4677-8306-bd07ab6935b3"
      }
    },
    {
      "cell_type": "code",
      "execution_count": null,
      "outputs": [
        {
          "name": "stdout",
          "output_type": "stream",
          "text": [
            "1-17 bin\n",
            "ratings shape:  (21971, 6)\n",
            "18-24 bin\n",
            "ratings shape:  (147262, 6)\n",
            "25-34 bin\n",
            "ratings shape:  (85741, 6)\n",
            "35-44 bin\n",
            "ratings shape:  (20852, 6)\n",
            "45-49 bin\n",
            "ratings shape:  (3631, 6)\n",
            "50-55 bin\n",
            "ratings shape:  (2365, 6)\n",
            "56+ bin\n",
            "ratings shape:  (0, 6)\n",
            "NaN bin\n",
            "ratings shape:  (74957, 6)\n"
          ]
        }
      ],
      "source": [
        "for age in age_bins.keys():\n",
        "    print(f'{age_bins[age]} bin')\n",
        "    users_curr_age = plot_data[plot_data[\"AgeRange\"] == age]\n",
        "    # ratings_curr_age = plot_data[:, age]\n",
        "\n",
        "    print('ratings shape: ', users_curr_age.shape)"
      ],
      "metadata": {
        "id": "MSaQf4uglDwA",
        "outputId": "90999ae4-00fc-43b3-e2b1-a0b71b03720e"
      }
    },
    {
      "cell_type": "code",
      "execution_count": null,
      "outputs": [
        {
          "data": {
            "text/plain": "<AxesSubplot: xlabel='age', ylabel='count'>"
          },
          "execution_count": 41,
          "metadata": {},
          "output_type": "execute_result"
        },
        {
          "data": {
            "text/plain": "<Figure size 640x480 with 1 Axes>",
            "image/png": "[encoded data removed]"
          },
          "metadata": {},
          "output_type": "display_data"
        }
      ],
      "source": [
        "age_plot = pd.concat([data_users[data_users['age'].isna()], data_users[~data_users['age'].isna()]])\n",
        "sns.countplot(x='age', data=age_plot)"
      ],
      "metadata": {
        "id": "9sV3TcrhlDwB",
        "outputId": "2c0748db-03a3-4b6a-ab42-4d11870c4755"
      }
    },
    {
      "cell_type": "code",
      "execution_count": null,
      "outputs": [],
      "source": [
        "def age_group(rec_users, min_age, max_age):\n",
        "    return rec_users.iloc[np.where((rec_users['age'] >= min_age) & (rec_users['age'] <= max_age))]"
      ],
      "metadata": {
        "id": "Z2mekuW_lDwB"
      }
    },
    {
      "cell_type": "code",
      "execution_count": null,
      "outputs": [
        {
          "data": {
            "text/plain": "                                   user-mboxsha1 gender   age        country  \\\n24      0003848c96fb95f8d349c00de9f1760fe2777946      m  14.0        Finland   \n39      0006f849044a98f8db4ac7f83e2881de499b68db      m  16.0   South Africa   \n102     00113f7cbb77890bf766e921f0e62f1fdc4941c7      m  15.0          Spain   \n120     0013a259def94304f92096c51d8a087ce0c0ab77      m  16.0  United States   \n146     00180a9f260ab089a3b21be421e3ad6fbf7a8bd5      m  14.0        Germany   \n...                                          ...    ...   ...            ...   \n359169  ffddcbdde0004303836f30740d6d38238205a50d      m  16.0        Germany   \n359173  ffde52bcac7d962ef5a99c627605702aba8b84a0      m  16.0        Germany   \n359257  ffed7df8b37e4a97c4d245b2ac5926d9f089d327      m  15.0  United States   \n359282  fff421174f5aea458281f79c96f2334c0019161f      f  13.0     Kazakhstan   \n359283  fff473a2e681eb46255d9a7736eef6bb80f2ce14      m  14.0        Finland   \n\n              signup  \n24      Jan 15, 2008  \n39       Dec 6, 2008  \n102     Oct 19, 2008  \n120     Dec 24, 2007  \n146     Mar 13, 2008  \n...              ...  \n359169  May 16, 2009  \n359173  Sep 23, 2008  \n359257  Jul 14, 2008  \n359282   Jun 5, 2009  \n359283   Apr 8, 2009  \n\n[9706 rows x 5 columns]",
            "text/html": "<div>\n<style scoped>\n    .dataframe tbody tr th:only-of-type {\n        vertical-align: middle;\n    }\n\n    .dataframe tbody tr th {\n        vertical-align: top;\n    }\n\n    .dataframe thead th {\n        text-align: right;\n    }\n</style>\n<table border=\"1\" class=\"dataframe\">\n  <thead>\n    <tr style=\"text-align: right;\">\n      <th></th>\n      <th>user-mboxsha1</th>\n      <th>gender</th>\n      <th>age</th>\n      <th>country</th>\n      <th>signup</th>\n    </tr>\n  </thead>\n  <tbody>\n    <tr>\n      <th>24</th>\n      <td>0003848c96fb95f8d349c00de9f1760fe2777946</td>\n      <td>m</td>\n      <td>14.0</td>\n      <td>Finland</td>\n      <td>Jan 15, 2008</td>\n    </tr>\n    <tr>\n      <th>39</th>\n      <td>0006f849044a98f8db4ac7f83e2881de499b68db</td>\n      <td>m</td>\n      <td>16.0</td>\n      <td>South Africa</td>\n      <td>Dec 6, 2008</td>\n    </tr>\n    <tr>\n      <th>102</th>\n      <td>00113f7cbb77890bf766e921f0e62f1fdc4941c7</td>\n      <td>m</td>\n      <td>15.0</td>\n      <td>Spain</td>\n      <td>Oct 19, 2008</td>\n    </tr>\n    <tr>\n      <th>120</th>\n      <td>0013a259def94304f92096c51d8a087ce0c0ab77</td>\n      <td>m</td>\n      <td>16.0</td>\n      <td>United States</td>\n      <td>Dec 24, 2007</td>\n    </tr>\n    <tr>\n      <th>146</th>\n      <td>00180a9f260ab089a3b21be421e3ad6fbf7a8bd5</td>\n      <td>m</td>\n      <td>14.0</td>\n      <td>Germany</td>\n      <td>Mar 13, 2008</td>\n    </tr>\n    <tr>\n      <th>...</th>\n      <td>...</td>\n      <td>...</td>\n      <td>...</td>\n      <td>...</td>\n      <td>...</td>\n    </tr>\n    <tr>\n      <th>359169</th>\n      <td>ffddcbdde0004303836f30740d6d38238205a50d</td>\n      <td>m</td>\n      <td>16.0</td>\n      <td>Germany</td>\n      <td>May 16, 2009</td>\n    </tr>\n    <tr>\n      <th>359173</th>\n      <td>ffde52bcac7d962ef5a99c627605702aba8b84a0</td>\n      <td>m</td>\n      <td>16.0</td>\n      <td>Germany</td>\n      <td>Sep 23, 2008</td>\n    </tr>\n    <tr>\n      <th>359257</th>\n      <td>ffed7df8b37e4a97c4d245b2ac5926d9f089d327</td>\n      <td>m</td>\n      <td>15.0</td>\n      <td>United States</td>\n      <td>Jul 14, 2008</td>\n    </tr>\n    <tr>\n      <th>359282</th>\n      <td>fff421174f5aea458281f79c96f2334c0019161f</td>\n      <td>f</td>\n      <td>13.0</td>\n      <td>Kazakhstan</td>\n      <td>Jun 5, 2009</td>\n    </tr>\n    <tr>\n      <th>359283</th>\n      <td>fff473a2e681eb46255d9a7736eef6bb80f2ce14</td>\n      <td>m</td>\n      <td>14.0</td>\n      <td>Finland</td>\n      <td>Apr 8, 2009</td>\n    </tr>\n  </tbody>\n</table>\n<p>9706 rows × 5 columns</p>\n</div>"
          },
          "execution_count": 49,
          "metadata": {},
          "output_type": "execute_result"
        }
      ],
      "source": [
        "age_group(data_users, 3, 16)"
      ],
      "metadata": {
        "id": "3kHProTdlDwC",
        "outputId": "47d5ee16-0ad9-44e7-aa5e-99282478af73"
      }
    },
    {
      "cell_type": "markdown",
      "source": [
        "Gender binning"
      ],
      "metadata": {
        "collapsed": false,
        "id": "n0mrubMvlDwC"
      }
    },
    {
      "cell_type": "code",
      "execution_count": null,
      "outputs": [],
      "source": [
        "rec_users.iloc[np.where(rec_users['gender'] == 'm')]"
      ],
      "metadata": {
        "id": "M49P5iyLlDwC"
      }
    },
    {
      "cell_type": "code",
      "execution_count": null,
      "outputs": [],
      "source": [
        "rec_users.iloc[np.where(rec_users['gender'] == 'f')]"
      ],
      "metadata": {
        "id": "EpwzC-DklDwD"
      }
    },
    {
      "cell_type": "code",
      "execution_count": null,
      "outputs": [],
      "source": [
        "rec_users.iloc[np.where((rec_users['gender'] != 'm') & (rec_users['gender'] != 'f'))]"
      ],
      "metadata": {
        "id": "bEU9MsFblDwD"
      }
    },
    {
      "cell_type": "code",
      "execution_count": null,
      "outputs": [],
      "source": [],
      "metadata": {
        "id": "MSIraNa7lDwD"
      }
    },
    {
      "cell_type": "code",
      "execution_count": null,
      "outputs": [
        {
          "data": {
            "text/plain": "array([ 2.200e+01,        nan,  1.900e+01,  2.800e+01,  2.000e+01,\n        1.700e+01,  2.400e+01,  2.700e+01,  2.300e+01,  1.800e+01,\n        3.000e+01,  2.600e+01,  1.400e+01,  3.400e+01,  3.100e+01,\n        2.100e+01,  3.200e+01,  1.600e+01,  4.700e+01,  2.900e+01,\n        5.400e+01,  3.300e+01,  5.700e+01,  3.600e+01,  2.500e+01,\n        4.500e+01,  1.500e+01,  3.800e+01,  4.300e+01,  4.100e+01,\n        3.900e+01,  3.500e+01,  2.000e+00,  4.000e+01,  3.700e+01,\n        5.000e+01,  4.400e+01, -1.337e+03,  4.200e+01,  1.100e+01,\n        5.900e+01,  6.000e+01,  1.000e+02,  8.000e+00,  4.600e+01,\n        4.800e+01,  1.300e+01,  5.100e+01,  3.000e+00,  1.000e+00,\n        6.200e+01,  1.010e+02,  6.000e+00,  4.900e+01,  5.600e+01,\n        1.090e+02,  7.000e+01,  5.200e+01,  6.100e+01,  1.080e+02,\n        9.000e+00,  5.000e+00,  5.300e+01,  9.900e+01,  5.800e+01,\n        1.070e+02,  7.700e+01,  5.500e+01,  1.000e+01,  6.500e+01,\n        8.800e+01,  7.800e+01,  6.300e+01,  6.700e+01,  6.900e+01,\n        1.200e+01,  9.200e+01,  1.030e+02,  6.600e+01,  9.100e+01,\n        9.500e+01,  6.400e+01,  7.600e+01,  1.060e+02,  1.020e+02,\n        7.200e+01,  9.600e+01,  9.800e+01,  1.040e+02,  4.000e+00,\n        8.000e+01,  7.900e+01,  7.100e+01,  7.000e+00,  8.900e+01,\n        6.800e+01,  8.700e+01,  7.500e+01,  9.700e+01,  7.300e+01,\n        8.200e+01,  8.300e+01,  9.300e+01,  7.400e+01,  1.050e+02,\n        6.660e+02,  9.400e+01,  9.000e+01,  8.600e+01,  8.100e+01,\n        8.500e+01,  8.400e+01,  1.210e+02,  1.002e+03])"
          },
          "execution_count": 38,
          "metadata": {},
          "output_type": "execute_result"
        }
      ],
      "source": [],
      "metadata": {
        "id": "drCJIO7WlDwE",
        "outputId": "8d76c655-81d7-401b-caff-5bae2d084f8e"
      }
    },
    {
      "cell_type": "code",
      "execution_count": null,
      "outputs": [],
      "source": [],
      "metadata": {
        "id": "bZkVVa_6lDwE"
      }
    }
  ],
  "metadata": {
    "kernelspec": {
      "display_name": "Python 3",
      "language": "python",
      "name": "python3"
    },
    "language_info": {
      "codemirror_mode": {
        "name": "ipython",
        "version": 2
      },
      "file_extension": ".py",
      "mimetype": "text/x-python",
      "name": "python",
      "nbconvert_exporter": "python",
      "pygments_lexer": "ipython2",
      "version": "2.7.6"
    },
    "colab": {
      "provenance": []
    },
    "widgets": {
      "application/vnd.jupyter.widget-state+json": {}
    }
  },
  "nbformat": 4,
  "nbformat_minor": 0
}